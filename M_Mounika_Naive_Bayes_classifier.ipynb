{
  "metadata": {
    "kernelspec": {
      "display_name": "Python 3",
      "language": "python",
      "name": "python3"
    },
    "language_info": {
      "name": "python",
      "version": "3.6.6",
      "mimetype": "text/x-python",
      "codemirror_mode": {
        "name": "ipython",
        "version": 3
      },
      "pygments_lexer": "ipython3",
      "nbconvert_exporter": "python",
      "file_extension": ".py"
    },
    "colab": {
      "provenance": []
    }
  },
  "nbformat_minor": 0,
  "nbformat": 4,
  "cells": [
    {
      "cell_type": "markdown",
      "source": [
        "**This is my first Kaggle for the Titanic competition.**\n",
        "\n",
        "The notebooks explores the basic use of Pandas and scikit-learn for this Classifcation problem.  \n",
        "For more advanced approaches like using Seaborn plots, Feature Engineering, GridSearch CV  \n",
        "and ML models based on stacking and voting have a look at [my second Titanic kernel](https://www.kaggle.com/dejavu23/titanic-survival-my-2nd-titanic-kernel)\n",
        "\n",
        "\n",
        "\n",
        "**My goals for this notebook:**\n",
        "\n",
        "* **[Part 1: Exploratory Data Analysis](#Part-1:-Exploratory-Data-Analysis)**  \n",
        "understand the data by EDA and derive simple models with Pandas as baseline\n",
        "\n",
        "\n",
        "* **[Part 2: Data wrangling](#Part-2:-Data-wrangling)**  \n",
        "fill nan, convert categorical to numerical,  \n",
        "create train and test data for ML algorithms\n",
        "\n",
        "\n",
        "\n",
        "* **[Part 3: Comparison of Model  results](#Part-3:-Scikit-learn-basic-ML-algorithms-and-comparison-of-model-results)**  \n",
        "use metrics like confusion_matrix, classification_report, accuracy_score  \n",
        "and implement k fold cross validation for comparison of test score\n",
        " \n",
        "\n"
      ],
      "metadata": {
        "_uuid": "08895c5c643bab33e61205b8340a7ba7b88f8ed2",
        "_cell_guid": "12528ba7-230e-407a-a312-ef8f6ca9a99e",
        "id": "PJs1LKEVvkOo"
      }
    },
    {
      "cell_type": "markdown",
      "source": [
        "## Some Background Information\n",
        "\n",
        "\n",
        "**The sinking of the RMS Titanic in the early morning of 15 April 1912, four days into the ship's maiden voyage from Southampton to New York City, was one of the deadliest peacetime maritime disasters in history, killing more than 1,500 people. The largest passenger liner in service at the time, Titanic had an estimated 2,224 people on board when she struck an iceberg in the North Atlantic. The ship had received six warnings of sea ice but was travelling at near maximum speed when the lookouts sighted the iceberg. Unable to turn quickly enough, the ship suffered a glancing blow that buckled the starboard (right) side and opened five of sixteen compartments to the sea. The disaster caused widespread outrage over the lack of lifeboats, lax regulations, and the unequal treatment of the three passenger classes during the evacuation. Inquiries recommended sweeping changes to maritime regulations, leading to the International Convention for the Safety of Life at Sea (1914), which continues to govern maritime safety.**  \n",
        "*from Wikipedia*"
      ],
      "metadata": {
        "_uuid": "ca91678a9dc8cc103a7fbf799a5d903a011334ef",
        "_cell_guid": "e4a1cf77-b695-4ca0-9653-6c41ce2393d8",
        "id": "9jhvQV8nvkOr"
      }
    },
    {
      "cell_type": "markdown",
      "source": [
        "**Imports**"
      ],
      "metadata": {
        "_uuid": "d3086cb02907affe5a674b54e4baaedd632482c7",
        "_cell_guid": "998b2a03-c60e-4fd6-9f69-784de6e6c9b8",
        "id": "bS9FB9w5vkOs"
      }
    },
    {
      "cell_type": "code",
      "source": [
        "import numpy as np\n",
        "import pandas as pd\n",
        "import matplotlib.pyplot as plt\n",
        "import seaborn as sns\n",
        "%matplotlib inline\n",
        "sns.set()\n",
        "\n",
        "import warnings\n",
        "warnings.filterwarnings(\"ignore\", category=FutureWarning)\n",
        "#warnings.filterwarnings(\"ignore\", category=DeprecationWarning)\n",
        "#warnings.filterwarnings(\"ignore\")\n",
        "\n",
        "\n"
      ],
      "metadata": {
        "_uuid": "efb595c75201cdb2a53388dc152a8e526e1b921a",
        "_cell_guid": "872b97b2-56fe-4644-a11f-afb00f422169",
        "execution": {
          "iopub.status.busy": "2023-02-23T10:02:57.139084Z",
          "iopub.execute_input": "2023-02-23T10:02:57.139400Z",
          "iopub.status.idle": "2023-02-23T10:02:57.161788Z",
          "shell.execute_reply.started": "2023-02-23T10:02:57.139354Z",
          "shell.execute_reply": "2023-02-23T10:02:57.160722Z"
        },
        "trusted": true,
        "id": "FJal8oMHvkOs"
      },
      "execution_count": 3,
      "outputs": []
    },
    {
      "cell_type": "code",
      "source": [
        "sns.__version__"
      ],
      "metadata": {
        "_uuid": "0dabb93c5c6480e69cbc93616932445e614f506f",
        "execution": {
          "iopub.status.busy": "2023-02-23T10:02:57.163409Z",
          "iopub.execute_input": "2023-02-23T10:02:57.163711Z",
          "iopub.status.idle": "2023-02-23T10:02:57.171403Z",
          "shell.execute_reply.started": "2023-02-23T10:02:57.163648Z",
          "shell.execute_reply": "2023-02-23T10:02:57.170303Z"
        },
        "trusted": true,
        "colab": {
          "base_uri": "https://localhost:8080/",
          "height": 36
        },
        "id": "zG6MuCilvkOt",
        "outputId": "7012f985-3565-4637-a209-66db58ebe252"
      },
      "execution_count": 4,
      "outputs": [
        {
          "output_type": "execute_result",
          "data": {
            "text/plain": [
              "'0.11.2'"
            ],
            "application/vnd.google.colaboratory.intrinsic+json": {
              "type": "string"
            }
          },
          "metadata": {},
          "execution_count": 4
        }
      ]
    },
    {
      "cell_type": "code",
      "source": [
        "df_train = pd.read_csv(\"/content/train.csv\")\n",
        "df_test = pd.read_csv(\"/content/test.csv\")\n"
      ],
      "metadata": {
        "_uuid": "0333d5086a63e3870708e7ba7a540d036c53544e",
        "_cell_guid": "080fb327-390d-4124-b287-a561d050fe7e",
        "execution": {
          "iopub.status.busy": "2023-02-23T10:02:57.172853Z",
          "iopub.execute_input": "2023-02-23T10:02:57.173147Z",
          "iopub.status.idle": "2023-02-23T10:02:57.197462Z",
          "shell.execute_reply.started": "2023-02-23T10:02:57.173083Z",
          "shell.execute_reply": "2023-02-23T10:02:57.196724Z"
        },
        "trusted": true,
        "id": "Z-8WQoRtvkOt"
      },
      "execution_count": 5,
      "outputs": []
    },
    {
      "cell_type": "markdown",
      "source": [
        "## Part 1: Exploratory Data Analysis"
      ],
      "metadata": {
        "_uuid": "13fd8422db7a1ceae9ebb002df452e8293a9ab0c",
        "_cell_guid": "6c7d2500-95b1-4057-98f7-39100e8a6d7f",
        "id": "c-LBwx_FvkOu"
      }
    },
    {
      "cell_type": "code",
      "source": [
        "df_train.head()"
      ],
      "metadata": {
        "_uuid": "48a2091edbeacc9c23dad6bc0c64d0302d01b87b",
        "_cell_guid": "17a3c0a2-3aad-47f4-be6f-e8756bddf080",
        "execution": {
          "iopub.status.busy": "2023-02-23T10:02:57.198879Z",
          "iopub.execute_input": "2023-02-23T10:02:57.199228Z",
          "iopub.status.idle": "2023-02-23T10:02:57.239184Z",
          "shell.execute_reply.started": "2023-02-23T10:02:57.199139Z",
          "shell.execute_reply": "2023-02-23T10:02:57.238405Z"
        },
        "trusted": true,
        "colab": {
          "base_uri": "https://localhost:8080/",
          "height": 285
        },
        "id": "0tjQPJejvkOu",
        "outputId": "577fdfb1-e070-414f-b6a6-40c2fd64baa6"
      },
      "execution_count": 6,
      "outputs": [
        {
          "output_type": "execute_result",
          "data": {
            "text/plain": [
              "   PassengerId  Survived  Pclass  \\\n",
              "0            1         0       3   \n",
              "1            2         1       1   \n",
              "2            3         1       3   \n",
              "3            4         1       1   \n",
              "4            5         0       3   \n",
              "\n",
              "                                                Name     Sex   Age  SibSp  \\\n",
              "0                            Braund, Mr. Owen Harris    male  22.0      1   \n",
              "1  Cumings, Mrs. John Bradley (Florence Briggs Th...  female  38.0      1   \n",
              "2                             Heikkinen, Miss. Laina  female  26.0      0   \n",
              "3       Futrelle, Mrs. Jacques Heath (Lily May Peel)  female  35.0      1   \n",
              "4                           Allen, Mr. William Henry    male  35.0      0   \n",
              "\n",
              "   Parch            Ticket     Fare Cabin Embarked  \n",
              "0      0         A/5 21171   7.2500   NaN        S  \n",
              "1      0          PC 17599  71.2833   C85        C  \n",
              "2      0  STON/O2. 3101282   7.9250   NaN        S  \n",
              "3      0            113803  53.1000  C123        S  \n",
              "4      0            373450   8.0500   NaN        S  "
            ],
            "text/html": [
              "\n",
              "  <div id=\"df-e5d9b6a9-431f-408e-aced-1d3756ed620d\">\n",
              "    <div class=\"colab-df-container\">\n",
              "      <div>\n",
              "<style scoped>\n",
              "    .dataframe tbody tr th:only-of-type {\n",
              "        vertical-align: middle;\n",
              "    }\n",
              "\n",
              "    .dataframe tbody tr th {\n",
              "        vertical-align: top;\n",
              "    }\n",
              "\n",
              "    .dataframe thead th {\n",
              "        text-align: right;\n",
              "    }\n",
              "</style>\n",
              "<table border=\"1\" class=\"dataframe\">\n",
              "  <thead>\n",
              "    <tr style=\"text-align: right;\">\n",
              "      <th></th>\n",
              "      <th>PassengerId</th>\n",
              "      <th>Survived</th>\n",
              "      <th>Pclass</th>\n",
              "      <th>Name</th>\n",
              "      <th>Sex</th>\n",
              "      <th>Age</th>\n",
              "      <th>SibSp</th>\n",
              "      <th>Parch</th>\n",
              "      <th>Ticket</th>\n",
              "      <th>Fare</th>\n",
              "      <th>Cabin</th>\n",
              "      <th>Embarked</th>\n",
              "    </tr>\n",
              "  </thead>\n",
              "  <tbody>\n",
              "    <tr>\n",
              "      <th>0</th>\n",
              "      <td>1</td>\n",
              "      <td>0</td>\n",
              "      <td>3</td>\n",
              "      <td>Braund, Mr. Owen Harris</td>\n",
              "      <td>male</td>\n",
              "      <td>22.0</td>\n",
              "      <td>1</td>\n",
              "      <td>0</td>\n",
              "      <td>A/5 21171</td>\n",
              "      <td>7.2500</td>\n",
              "      <td>NaN</td>\n",
              "      <td>S</td>\n",
              "    </tr>\n",
              "    <tr>\n",
              "      <th>1</th>\n",
              "      <td>2</td>\n",
              "      <td>1</td>\n",
              "      <td>1</td>\n",
              "      <td>Cumings, Mrs. John Bradley (Florence Briggs Th...</td>\n",
              "      <td>female</td>\n",
              "      <td>38.0</td>\n",
              "      <td>1</td>\n",
              "      <td>0</td>\n",
              "      <td>PC 17599</td>\n",
              "      <td>71.2833</td>\n",
              "      <td>C85</td>\n",
              "      <td>C</td>\n",
              "    </tr>\n",
              "    <tr>\n",
              "      <th>2</th>\n",
              "      <td>3</td>\n",
              "      <td>1</td>\n",
              "      <td>3</td>\n",
              "      <td>Heikkinen, Miss. Laina</td>\n",
              "      <td>female</td>\n",
              "      <td>26.0</td>\n",
              "      <td>0</td>\n",
              "      <td>0</td>\n",
              "      <td>STON/O2. 3101282</td>\n",
              "      <td>7.9250</td>\n",
              "      <td>NaN</td>\n",
              "      <td>S</td>\n",
              "    </tr>\n",
              "    <tr>\n",
              "      <th>3</th>\n",
              "      <td>4</td>\n",
              "      <td>1</td>\n",
              "      <td>1</td>\n",
              "      <td>Futrelle, Mrs. Jacques Heath (Lily May Peel)</td>\n",
              "      <td>female</td>\n",
              "      <td>35.0</td>\n",
              "      <td>1</td>\n",
              "      <td>0</td>\n",
              "      <td>113803</td>\n",
              "      <td>53.1000</td>\n",
              "      <td>C123</td>\n",
              "      <td>S</td>\n",
              "    </tr>\n",
              "    <tr>\n",
              "      <th>4</th>\n",
              "      <td>5</td>\n",
              "      <td>0</td>\n",
              "      <td>3</td>\n",
              "      <td>Allen, Mr. William Henry</td>\n",
              "      <td>male</td>\n",
              "      <td>35.0</td>\n",
              "      <td>0</td>\n",
              "      <td>0</td>\n",
              "      <td>373450</td>\n",
              "      <td>8.0500</td>\n",
              "      <td>NaN</td>\n",
              "      <td>S</td>\n",
              "    </tr>\n",
              "  </tbody>\n",
              "</table>\n",
              "</div>\n",
              "      <button class=\"colab-df-convert\" onclick=\"convertToInteractive('df-e5d9b6a9-431f-408e-aced-1d3756ed620d')\"\n",
              "              title=\"Convert this dataframe to an interactive table.\"\n",
              "              style=\"display:none;\">\n",
              "        \n",
              "  <svg xmlns=\"http://www.w3.org/2000/svg\" height=\"24px\"viewBox=\"0 0 24 24\"\n",
              "       width=\"24px\">\n",
              "    <path d=\"M0 0h24v24H0V0z\" fill=\"none\"/>\n",
              "    <path d=\"M18.56 5.44l.94 2.06.94-2.06 2.06-.94-2.06-.94-.94-2.06-.94 2.06-2.06.94zm-11 1L8.5 8.5l.94-2.06 2.06-.94-2.06-.94L8.5 2.5l-.94 2.06-2.06.94zm10 10l.94 2.06.94-2.06 2.06-.94-2.06-.94-.94-2.06-.94 2.06-2.06.94z\"/><path d=\"M17.41 7.96l-1.37-1.37c-.4-.4-.92-.59-1.43-.59-.52 0-1.04.2-1.43.59L10.3 9.45l-7.72 7.72c-.78.78-.78 2.05 0 2.83L4 21.41c.39.39.9.59 1.41.59.51 0 1.02-.2 1.41-.59l7.78-7.78 2.81-2.81c.8-.78.8-2.07 0-2.86zM5.41 20L4 18.59l7.72-7.72 1.47 1.35L5.41 20z\"/>\n",
              "  </svg>\n",
              "      </button>\n",
              "      \n",
              "  <style>\n",
              "    .colab-df-container {\n",
              "      display:flex;\n",
              "      flex-wrap:wrap;\n",
              "      gap: 12px;\n",
              "    }\n",
              "\n",
              "    .colab-df-convert {\n",
              "      background-color: #E8F0FE;\n",
              "      border: none;\n",
              "      border-radius: 50%;\n",
              "      cursor: pointer;\n",
              "      display: none;\n",
              "      fill: #1967D2;\n",
              "      height: 32px;\n",
              "      padding: 0 0 0 0;\n",
              "      width: 32px;\n",
              "    }\n",
              "\n",
              "    .colab-df-convert:hover {\n",
              "      background-color: #E2EBFA;\n",
              "      box-shadow: 0px 1px 2px rgba(60, 64, 67, 0.3), 0px 1px 3px 1px rgba(60, 64, 67, 0.15);\n",
              "      fill: #174EA6;\n",
              "    }\n",
              "\n",
              "    [theme=dark] .colab-df-convert {\n",
              "      background-color: #3B4455;\n",
              "      fill: #D2E3FC;\n",
              "    }\n",
              "\n",
              "    [theme=dark] .colab-df-convert:hover {\n",
              "      background-color: #434B5C;\n",
              "      box-shadow: 0px 1px 3px 1px rgba(0, 0, 0, 0.15);\n",
              "      filter: drop-shadow(0px 1px 2px rgba(0, 0, 0, 0.3));\n",
              "      fill: #FFFFFF;\n",
              "    }\n",
              "  </style>\n",
              "\n",
              "      <script>\n",
              "        const buttonEl =\n",
              "          document.querySelector('#df-e5d9b6a9-431f-408e-aced-1d3756ed620d button.colab-df-convert');\n",
              "        buttonEl.style.display =\n",
              "          google.colab.kernel.accessAllowed ? 'block' : 'none';\n",
              "\n",
              "        async function convertToInteractive(key) {\n",
              "          const element = document.querySelector('#df-e5d9b6a9-431f-408e-aced-1d3756ed620d');\n",
              "          const dataTable =\n",
              "            await google.colab.kernel.invokeFunction('convertToInteractive',\n",
              "                                                     [key], {});\n",
              "          if (!dataTable) return;\n",
              "\n",
              "          const docLinkHtml = 'Like what you see? Visit the ' +\n",
              "            '<a target=\"_blank\" href=https://colab.research.google.com/notebooks/data_table.ipynb>data table notebook</a>'\n",
              "            + ' to learn more about interactive tables.';\n",
              "          element.innerHTML = '';\n",
              "          dataTable['output_type'] = 'display_data';\n",
              "          await google.colab.output.renderOutput(dataTable, element);\n",
              "          const docLink = document.createElement('div');\n",
              "          docLink.innerHTML = docLinkHtml;\n",
              "          element.appendChild(docLink);\n",
              "        }\n",
              "      </script>\n",
              "    </div>\n",
              "  </div>\n",
              "  "
            ]
          },
          "metadata": {},
          "execution_count": 6
        }
      ]
    },
    {
      "cell_type": "markdown",
      "source": [
        "df_train has 891 entries, some values for Cabin and Age are missing"
      ],
      "metadata": {
        "_uuid": "5f7bf32c6766cffd95125d01d24ccb7204611f45",
        "_cell_guid": "4e0c12ed-f9a7-4a2d-b33c-8e139c6387d1",
        "id": "ghSp0Z1ivkOu"
      }
    },
    {
      "cell_type": "code",
      "source": [
        "df_train.info()"
      ],
      "metadata": {
        "_uuid": "d3edd77b588d7589154499820fa571a5d7b62035",
        "_cell_guid": "60e47bc5-0749-41ee-979e-58ba2e1d5ce8",
        "execution": {
          "iopub.status.busy": "2023-02-23T10:02:57.241054Z",
          "iopub.execute_input": "2023-02-23T10:02:57.241433Z",
          "iopub.status.idle": "2023-02-23T10:02:57.254283Z",
          "shell.execute_reply.started": "2023-02-23T10:02:57.241366Z",
          "shell.execute_reply": "2023-02-23T10:02:57.253303Z"
        },
        "trusted": true,
        "colab": {
          "base_uri": "https://localhost:8080/"
        },
        "id": "dkAbWxU2vkOu",
        "outputId": "9e059731-af3a-471f-af35-d54d6025db9d"
      },
      "execution_count": 7,
      "outputs": [
        {
          "output_type": "stream",
          "name": "stdout",
          "text": [
            "<class 'pandas.core.frame.DataFrame'>\n",
            "RangeIndex: 891 entries, 0 to 890\n",
            "Data columns (total 12 columns):\n",
            " #   Column       Non-Null Count  Dtype  \n",
            "---  ------       --------------  -----  \n",
            " 0   PassengerId  891 non-null    int64  \n",
            " 1   Survived     891 non-null    int64  \n",
            " 2   Pclass       891 non-null    int64  \n",
            " 3   Name         891 non-null    object \n",
            " 4   Sex          891 non-null    object \n",
            " 5   Age          714 non-null    float64\n",
            " 6   SibSp        891 non-null    int64  \n",
            " 7   Parch        891 non-null    int64  \n",
            " 8   Ticket       891 non-null    object \n",
            " 9   Fare         891 non-null    float64\n",
            " 10  Cabin        204 non-null    object \n",
            " 11  Embarked     889 non-null    object \n",
            "dtypes: float64(2), int64(5), object(5)\n",
            "memory usage: 83.7+ KB\n"
          ]
        }
      ]
    },
    {
      "cell_type": "code",
      "source": [
        "df_test.head()"
      ],
      "metadata": {
        "_uuid": "e3c717b8911229098b77175804a0c05c4e8b5828",
        "_cell_guid": "cf04a11c-fada-476a-bf82-437f8f302ca6",
        "execution": {
          "iopub.status.busy": "2023-02-23T10:02:57.255427Z",
          "iopub.execute_input": "2023-02-23T10:02:57.255728Z",
          "iopub.status.idle": "2023-02-23T10:02:57.284847Z",
          "shell.execute_reply.started": "2023-02-23T10:02:57.255656Z",
          "shell.execute_reply": "2023-02-23T10:02:57.283819Z"
        },
        "trusted": true,
        "colab": {
          "base_uri": "https://localhost:8080/",
          "height": 206
        },
        "id": "2u_gJIGOvkOv",
        "outputId": "2b11c575-87dc-4314-cd0d-c4c2fba643f3"
      },
      "execution_count": 8,
      "outputs": [
        {
          "output_type": "execute_result",
          "data": {
            "text/plain": [
              "   PassengerId  Pclass                                          Name     Sex  \\\n",
              "0          892       3                              Kelly, Mr. James    male   \n",
              "1          893       3              Wilkes, Mrs. James (Ellen Needs)  female   \n",
              "2          894       2                     Myles, Mr. Thomas Francis    male   \n",
              "3          895       3                              Wirz, Mr. Albert    male   \n",
              "4          896       3  Hirvonen, Mrs. Alexander (Helga E Lindqvist)  female   \n",
              "\n",
              "    Age  SibSp  Parch   Ticket     Fare Cabin Embarked  \n",
              "0  34.5      0      0   330911   7.8292   NaN        Q  \n",
              "1  47.0      1      0   363272   7.0000   NaN        S  \n",
              "2  62.0      0      0   240276   9.6875   NaN        Q  \n",
              "3  27.0      0      0   315154   8.6625   NaN        S  \n",
              "4  22.0      1      1  3101298  12.2875   NaN        S  "
            ],
            "text/html": [
              "\n",
              "  <div id=\"df-e7334e72-c063-40cd-a617-1ecb44ce9162\">\n",
              "    <div class=\"colab-df-container\">\n",
              "      <div>\n",
              "<style scoped>\n",
              "    .dataframe tbody tr th:only-of-type {\n",
              "        vertical-align: middle;\n",
              "    }\n",
              "\n",
              "    .dataframe tbody tr th {\n",
              "        vertical-align: top;\n",
              "    }\n",
              "\n",
              "    .dataframe thead th {\n",
              "        text-align: right;\n",
              "    }\n",
              "</style>\n",
              "<table border=\"1\" class=\"dataframe\">\n",
              "  <thead>\n",
              "    <tr style=\"text-align: right;\">\n",
              "      <th></th>\n",
              "      <th>PassengerId</th>\n",
              "      <th>Pclass</th>\n",
              "      <th>Name</th>\n",
              "      <th>Sex</th>\n",
              "      <th>Age</th>\n",
              "      <th>SibSp</th>\n",
              "      <th>Parch</th>\n",
              "      <th>Ticket</th>\n",
              "      <th>Fare</th>\n",
              "      <th>Cabin</th>\n",
              "      <th>Embarked</th>\n",
              "    </tr>\n",
              "  </thead>\n",
              "  <tbody>\n",
              "    <tr>\n",
              "      <th>0</th>\n",
              "      <td>892</td>\n",
              "      <td>3</td>\n",
              "      <td>Kelly, Mr. James</td>\n",
              "      <td>male</td>\n",
              "      <td>34.5</td>\n",
              "      <td>0</td>\n",
              "      <td>0</td>\n",
              "      <td>330911</td>\n",
              "      <td>7.8292</td>\n",
              "      <td>NaN</td>\n",
              "      <td>Q</td>\n",
              "    </tr>\n",
              "    <tr>\n",
              "      <th>1</th>\n",
              "      <td>893</td>\n",
              "      <td>3</td>\n",
              "      <td>Wilkes, Mrs. James (Ellen Needs)</td>\n",
              "      <td>female</td>\n",
              "      <td>47.0</td>\n",
              "      <td>1</td>\n",
              "      <td>0</td>\n",
              "      <td>363272</td>\n",
              "      <td>7.0000</td>\n",
              "      <td>NaN</td>\n",
              "      <td>S</td>\n",
              "    </tr>\n",
              "    <tr>\n",
              "      <th>2</th>\n",
              "      <td>894</td>\n",
              "      <td>2</td>\n",
              "      <td>Myles, Mr. Thomas Francis</td>\n",
              "      <td>male</td>\n",
              "      <td>62.0</td>\n",
              "      <td>0</td>\n",
              "      <td>0</td>\n",
              "      <td>240276</td>\n",
              "      <td>9.6875</td>\n",
              "      <td>NaN</td>\n",
              "      <td>Q</td>\n",
              "    </tr>\n",
              "    <tr>\n",
              "      <th>3</th>\n",
              "      <td>895</td>\n",
              "      <td>3</td>\n",
              "      <td>Wirz, Mr. Albert</td>\n",
              "      <td>male</td>\n",
              "      <td>27.0</td>\n",
              "      <td>0</td>\n",
              "      <td>0</td>\n",
              "      <td>315154</td>\n",
              "      <td>8.6625</td>\n",
              "      <td>NaN</td>\n",
              "      <td>S</td>\n",
              "    </tr>\n",
              "    <tr>\n",
              "      <th>4</th>\n",
              "      <td>896</td>\n",
              "      <td>3</td>\n",
              "      <td>Hirvonen, Mrs. Alexander (Helga E Lindqvist)</td>\n",
              "      <td>female</td>\n",
              "      <td>22.0</td>\n",
              "      <td>1</td>\n",
              "      <td>1</td>\n",
              "      <td>3101298</td>\n",
              "      <td>12.2875</td>\n",
              "      <td>NaN</td>\n",
              "      <td>S</td>\n",
              "    </tr>\n",
              "  </tbody>\n",
              "</table>\n",
              "</div>\n",
              "      <button class=\"colab-df-convert\" onclick=\"convertToInteractive('df-e7334e72-c063-40cd-a617-1ecb44ce9162')\"\n",
              "              title=\"Convert this dataframe to an interactive table.\"\n",
              "              style=\"display:none;\">\n",
              "        \n",
              "  <svg xmlns=\"http://www.w3.org/2000/svg\" height=\"24px\"viewBox=\"0 0 24 24\"\n",
              "       width=\"24px\">\n",
              "    <path d=\"M0 0h24v24H0V0z\" fill=\"none\"/>\n",
              "    <path d=\"M18.56 5.44l.94 2.06.94-2.06 2.06-.94-2.06-.94-.94-2.06-.94 2.06-2.06.94zm-11 1L8.5 8.5l.94-2.06 2.06-.94-2.06-.94L8.5 2.5l-.94 2.06-2.06.94zm10 10l.94 2.06.94-2.06 2.06-.94-2.06-.94-.94-2.06-.94 2.06-2.06.94z\"/><path d=\"M17.41 7.96l-1.37-1.37c-.4-.4-.92-.59-1.43-.59-.52 0-1.04.2-1.43.59L10.3 9.45l-7.72 7.72c-.78.78-.78 2.05 0 2.83L4 21.41c.39.39.9.59 1.41.59.51 0 1.02-.2 1.41-.59l7.78-7.78 2.81-2.81c.8-.78.8-2.07 0-2.86zM5.41 20L4 18.59l7.72-7.72 1.47 1.35L5.41 20z\"/>\n",
              "  </svg>\n",
              "      </button>\n",
              "      \n",
              "  <style>\n",
              "    .colab-df-container {\n",
              "      display:flex;\n",
              "      flex-wrap:wrap;\n",
              "      gap: 12px;\n",
              "    }\n",
              "\n",
              "    .colab-df-convert {\n",
              "      background-color: #E8F0FE;\n",
              "      border: none;\n",
              "      border-radius: 50%;\n",
              "      cursor: pointer;\n",
              "      display: none;\n",
              "      fill: #1967D2;\n",
              "      height: 32px;\n",
              "      padding: 0 0 0 0;\n",
              "      width: 32px;\n",
              "    }\n",
              "\n",
              "    .colab-df-convert:hover {\n",
              "      background-color: #E2EBFA;\n",
              "      box-shadow: 0px 1px 2px rgba(60, 64, 67, 0.3), 0px 1px 3px 1px rgba(60, 64, 67, 0.15);\n",
              "      fill: #174EA6;\n",
              "    }\n",
              "\n",
              "    [theme=dark] .colab-df-convert {\n",
              "      background-color: #3B4455;\n",
              "      fill: #D2E3FC;\n",
              "    }\n",
              "\n",
              "    [theme=dark] .colab-df-convert:hover {\n",
              "      background-color: #434B5C;\n",
              "      box-shadow: 0px 1px 3px 1px rgba(0, 0, 0, 0.15);\n",
              "      filter: drop-shadow(0px 1px 2px rgba(0, 0, 0, 0.3));\n",
              "      fill: #FFFFFF;\n",
              "    }\n",
              "  </style>\n",
              "\n",
              "      <script>\n",
              "        const buttonEl =\n",
              "          document.querySelector('#df-e7334e72-c063-40cd-a617-1ecb44ce9162 button.colab-df-convert');\n",
              "        buttonEl.style.display =\n",
              "          google.colab.kernel.accessAllowed ? 'block' : 'none';\n",
              "\n",
              "        async function convertToInteractive(key) {\n",
              "          const element = document.querySelector('#df-e7334e72-c063-40cd-a617-1ecb44ce9162');\n",
              "          const dataTable =\n",
              "            await google.colab.kernel.invokeFunction('convertToInteractive',\n",
              "                                                     [key], {});\n",
              "          if (!dataTable) return;\n",
              "\n",
              "          const docLinkHtml = 'Like what you see? Visit the ' +\n",
              "            '<a target=\"_blank\" href=https://colab.research.google.com/notebooks/data_table.ipynb>data table notebook</a>'\n",
              "            + ' to learn more about interactive tables.';\n",
              "          element.innerHTML = '';\n",
              "          dataTable['output_type'] = 'display_data';\n",
              "          await google.colab.output.renderOutput(dataTable, element);\n",
              "          const docLink = document.createElement('div');\n",
              "          docLink.innerHTML = docLinkHtml;\n",
              "          element.appendChild(docLink);\n",
              "        }\n",
              "      </script>\n",
              "    </div>\n",
              "  </div>\n",
              "  "
            ]
          },
          "metadata": {},
          "execution_count": 8
        }
      ]
    },
    {
      "cell_type": "code",
      "source": [
        "df_test.info()"
      ],
      "metadata": {
        "_uuid": "5d34539fd29d18787e98dfae48ac154efd73d55a",
        "_cell_guid": "f0e70763-8b81-401a-92fe-f195ef37b4bc",
        "execution": {
          "iopub.status.busy": "2023-02-23T10:02:57.286308Z",
          "iopub.execute_input": "2023-02-23T10:02:57.286604Z",
          "iopub.status.idle": "2023-02-23T10:02:57.302901Z",
          "shell.execute_reply.started": "2023-02-23T10:02:57.286536Z",
          "shell.execute_reply": "2023-02-23T10:02:57.302049Z"
        },
        "trusted": true,
        "colab": {
          "base_uri": "https://localhost:8080/"
        },
        "id": "1pJgAhK8vkOv",
        "outputId": "db2f6aa2-d9df-448a-87f4-5d610477095a"
      },
      "execution_count": 9,
      "outputs": [
        {
          "output_type": "stream",
          "name": "stdout",
          "text": [
            "<class 'pandas.core.frame.DataFrame'>\n",
            "RangeIndex: 418 entries, 0 to 417\n",
            "Data columns (total 11 columns):\n",
            " #   Column       Non-Null Count  Dtype  \n",
            "---  ------       --------------  -----  \n",
            " 0   PassengerId  418 non-null    int64  \n",
            " 1   Pclass       418 non-null    int64  \n",
            " 2   Name         418 non-null    object \n",
            " 3   Sex          418 non-null    object \n",
            " 4   Age          332 non-null    float64\n",
            " 5   SibSp        418 non-null    int64  \n",
            " 6   Parch        418 non-null    int64  \n",
            " 7   Ticket       418 non-null    object \n",
            " 8   Fare         417 non-null    float64\n",
            " 9   Cabin        91 non-null     object \n",
            " 10  Embarked     418 non-null    object \n",
            "dtypes: float64(2), int64(4), object(5)\n",
            "memory usage: 36.0+ KB\n"
          ]
        }
      ]
    },
    {
      "cell_type": "markdown",
      "source": [
        "Also in df_test some values for Age and many values for Cabin are missing"
      ],
      "metadata": {
        "_uuid": "b6062b11e45d9f45663bcdbb136eb2a4aa525742",
        "_cell_guid": "bb18628a-d896-4907-9761-aab93999b0b6",
        "id": "BCbXY-ZcvkOv"
      }
    },
    {
      "cell_type": "code",
      "source": [
        "df_train.describe()"
      ],
      "metadata": {
        "_uuid": "b0c4e63035e9517722d8dbf8b2bc984410456181",
        "_cell_guid": "0e3973cb-3dee-4dab-9c7f-f4902f62c360",
        "execution": {
          "iopub.status.busy": "2023-02-23T10:02:57.304452Z",
          "iopub.execute_input": "2023-02-23T10:02:57.304739Z",
          "iopub.status.idle": "2023-02-23T10:02:57.355119Z",
          "shell.execute_reply.started": "2023-02-23T10:02:57.304684Z",
          "shell.execute_reply": "2023-02-23T10:02:57.354004Z"
        },
        "trusted": true,
        "colab": {
          "base_uri": "https://localhost:8080/",
          "height": 300
        },
        "id": "gCS0_TRlvkOv",
        "outputId": "24740c07-8c8c-4edb-c768-51d8710e8cda"
      },
      "execution_count": 10,
      "outputs": [
        {
          "output_type": "execute_result",
          "data": {
            "text/plain": [
              "       PassengerId    Survived      Pclass         Age       SibSp  \\\n",
              "count   891.000000  891.000000  891.000000  714.000000  891.000000   \n",
              "mean    446.000000    0.383838    2.308642   29.699118    0.523008   \n",
              "std     257.353842    0.486592    0.836071   14.526497    1.102743   \n",
              "min       1.000000    0.000000    1.000000    0.420000    0.000000   \n",
              "25%     223.500000    0.000000    2.000000   20.125000    0.000000   \n",
              "50%     446.000000    0.000000    3.000000   28.000000    0.000000   \n",
              "75%     668.500000    1.000000    3.000000   38.000000    1.000000   \n",
              "max     891.000000    1.000000    3.000000   80.000000    8.000000   \n",
              "\n",
              "            Parch        Fare  \n",
              "count  891.000000  891.000000  \n",
              "mean     0.381594   32.204208  \n",
              "std      0.806057   49.693429  \n",
              "min      0.000000    0.000000  \n",
              "25%      0.000000    7.910400  \n",
              "50%      0.000000   14.454200  \n",
              "75%      0.000000   31.000000  \n",
              "max      6.000000  512.329200  "
            ],
            "text/html": [
              "\n",
              "  <div id=\"df-86e83197-db46-4925-9c56-de80df8010e5\">\n",
              "    <div class=\"colab-df-container\">\n",
              "      <div>\n",
              "<style scoped>\n",
              "    .dataframe tbody tr th:only-of-type {\n",
              "        vertical-align: middle;\n",
              "    }\n",
              "\n",
              "    .dataframe tbody tr th {\n",
              "        vertical-align: top;\n",
              "    }\n",
              "\n",
              "    .dataframe thead th {\n",
              "        text-align: right;\n",
              "    }\n",
              "</style>\n",
              "<table border=\"1\" class=\"dataframe\">\n",
              "  <thead>\n",
              "    <tr style=\"text-align: right;\">\n",
              "      <th></th>\n",
              "      <th>PassengerId</th>\n",
              "      <th>Survived</th>\n",
              "      <th>Pclass</th>\n",
              "      <th>Age</th>\n",
              "      <th>SibSp</th>\n",
              "      <th>Parch</th>\n",
              "      <th>Fare</th>\n",
              "    </tr>\n",
              "  </thead>\n",
              "  <tbody>\n",
              "    <tr>\n",
              "      <th>count</th>\n",
              "      <td>891.000000</td>\n",
              "      <td>891.000000</td>\n",
              "      <td>891.000000</td>\n",
              "      <td>714.000000</td>\n",
              "      <td>891.000000</td>\n",
              "      <td>891.000000</td>\n",
              "      <td>891.000000</td>\n",
              "    </tr>\n",
              "    <tr>\n",
              "      <th>mean</th>\n",
              "      <td>446.000000</td>\n",
              "      <td>0.383838</td>\n",
              "      <td>2.308642</td>\n",
              "      <td>29.699118</td>\n",
              "      <td>0.523008</td>\n",
              "      <td>0.381594</td>\n",
              "      <td>32.204208</td>\n",
              "    </tr>\n",
              "    <tr>\n",
              "      <th>std</th>\n",
              "      <td>257.353842</td>\n",
              "      <td>0.486592</td>\n",
              "      <td>0.836071</td>\n",
              "      <td>14.526497</td>\n",
              "      <td>1.102743</td>\n",
              "      <td>0.806057</td>\n",
              "      <td>49.693429</td>\n",
              "    </tr>\n",
              "    <tr>\n",
              "      <th>min</th>\n",
              "      <td>1.000000</td>\n",
              "      <td>0.000000</td>\n",
              "      <td>1.000000</td>\n",
              "      <td>0.420000</td>\n",
              "      <td>0.000000</td>\n",
              "      <td>0.000000</td>\n",
              "      <td>0.000000</td>\n",
              "    </tr>\n",
              "    <tr>\n",
              "      <th>25%</th>\n",
              "      <td>223.500000</td>\n",
              "      <td>0.000000</td>\n",
              "      <td>2.000000</td>\n",
              "      <td>20.125000</td>\n",
              "      <td>0.000000</td>\n",
              "      <td>0.000000</td>\n",
              "      <td>7.910400</td>\n",
              "    </tr>\n",
              "    <tr>\n",
              "      <th>50%</th>\n",
              "      <td>446.000000</td>\n",
              "      <td>0.000000</td>\n",
              "      <td>3.000000</td>\n",
              "      <td>28.000000</td>\n",
              "      <td>0.000000</td>\n",
              "      <td>0.000000</td>\n",
              "      <td>14.454200</td>\n",
              "    </tr>\n",
              "    <tr>\n",
              "      <th>75%</th>\n",
              "      <td>668.500000</td>\n",
              "      <td>1.000000</td>\n",
              "      <td>3.000000</td>\n",
              "      <td>38.000000</td>\n",
              "      <td>1.000000</td>\n",
              "      <td>0.000000</td>\n",
              "      <td>31.000000</td>\n",
              "    </tr>\n",
              "    <tr>\n",
              "      <th>max</th>\n",
              "      <td>891.000000</td>\n",
              "      <td>1.000000</td>\n",
              "      <td>3.000000</td>\n",
              "      <td>80.000000</td>\n",
              "      <td>8.000000</td>\n",
              "      <td>6.000000</td>\n",
              "      <td>512.329200</td>\n",
              "    </tr>\n",
              "  </tbody>\n",
              "</table>\n",
              "</div>\n",
              "      <button class=\"colab-df-convert\" onclick=\"convertToInteractive('df-86e83197-db46-4925-9c56-de80df8010e5')\"\n",
              "              title=\"Convert this dataframe to an interactive table.\"\n",
              "              style=\"display:none;\">\n",
              "        \n",
              "  <svg xmlns=\"http://www.w3.org/2000/svg\" height=\"24px\"viewBox=\"0 0 24 24\"\n",
              "       width=\"24px\">\n",
              "    <path d=\"M0 0h24v24H0V0z\" fill=\"none\"/>\n",
              "    <path d=\"M18.56 5.44l.94 2.06.94-2.06 2.06-.94-2.06-.94-.94-2.06-.94 2.06-2.06.94zm-11 1L8.5 8.5l.94-2.06 2.06-.94-2.06-.94L8.5 2.5l-.94 2.06-2.06.94zm10 10l.94 2.06.94-2.06 2.06-.94-2.06-.94-.94-2.06-.94 2.06-2.06.94z\"/><path d=\"M17.41 7.96l-1.37-1.37c-.4-.4-.92-.59-1.43-.59-.52 0-1.04.2-1.43.59L10.3 9.45l-7.72 7.72c-.78.78-.78 2.05 0 2.83L4 21.41c.39.39.9.59 1.41.59.51 0 1.02-.2 1.41-.59l7.78-7.78 2.81-2.81c.8-.78.8-2.07 0-2.86zM5.41 20L4 18.59l7.72-7.72 1.47 1.35L5.41 20z\"/>\n",
              "  </svg>\n",
              "      </button>\n",
              "      \n",
              "  <style>\n",
              "    .colab-df-container {\n",
              "      display:flex;\n",
              "      flex-wrap:wrap;\n",
              "      gap: 12px;\n",
              "    }\n",
              "\n",
              "    .colab-df-convert {\n",
              "      background-color: #E8F0FE;\n",
              "      border: none;\n",
              "      border-radius: 50%;\n",
              "      cursor: pointer;\n",
              "      display: none;\n",
              "      fill: #1967D2;\n",
              "      height: 32px;\n",
              "      padding: 0 0 0 0;\n",
              "      width: 32px;\n",
              "    }\n",
              "\n",
              "    .colab-df-convert:hover {\n",
              "      background-color: #E2EBFA;\n",
              "      box-shadow: 0px 1px 2px rgba(60, 64, 67, 0.3), 0px 1px 3px 1px rgba(60, 64, 67, 0.15);\n",
              "      fill: #174EA6;\n",
              "    }\n",
              "\n",
              "    [theme=dark] .colab-df-convert {\n",
              "      background-color: #3B4455;\n",
              "      fill: #D2E3FC;\n",
              "    }\n",
              "\n",
              "    [theme=dark] .colab-df-convert:hover {\n",
              "      background-color: #434B5C;\n",
              "      box-shadow: 0px 1px 3px 1px rgba(0, 0, 0, 0.15);\n",
              "      filter: drop-shadow(0px 1px 2px rgba(0, 0, 0, 0.3));\n",
              "      fill: #FFFFFF;\n",
              "    }\n",
              "  </style>\n",
              "\n",
              "      <script>\n",
              "        const buttonEl =\n",
              "          document.querySelector('#df-86e83197-db46-4925-9c56-de80df8010e5 button.colab-df-convert');\n",
              "        buttonEl.style.display =\n",
              "          google.colab.kernel.accessAllowed ? 'block' : 'none';\n",
              "\n",
              "        async function convertToInteractive(key) {\n",
              "          const element = document.querySelector('#df-86e83197-db46-4925-9c56-de80df8010e5');\n",
              "          const dataTable =\n",
              "            await google.colab.kernel.invokeFunction('convertToInteractive',\n",
              "                                                     [key], {});\n",
              "          if (!dataTable) return;\n",
              "\n",
              "          const docLinkHtml = 'Like what you see? Visit the ' +\n",
              "            '<a target=\"_blank\" href=https://colab.research.google.com/notebooks/data_table.ipynb>data table notebook</a>'\n",
              "            + ' to learn more about interactive tables.';\n",
              "          element.innerHTML = '';\n",
              "          dataTable['output_type'] = 'display_data';\n",
              "          await google.colab.output.renderOutput(dataTable, element);\n",
              "          const docLink = document.createElement('div');\n",
              "          docLink.innerHTML = docLinkHtml;\n",
              "          element.appendChild(docLink);\n",
              "        }\n",
              "      </script>\n",
              "    </div>\n",
              "  </div>\n",
              "  "
            ]
          },
          "metadata": {},
          "execution_count": 10
        }
      ]
    },
    {
      "cell_type": "markdown",
      "source": [
        "Comparing distribution of features in df_train and df_test, Pclass and Age seem very similar, distributions for SibSo, Parch and Fare only slightly different"
      ],
      "metadata": {
        "_uuid": "10e0b721ca4d05176207e5bfaab3932555271f2b",
        "_cell_guid": "e0e5b43e-3949-420e-960f-697abbec91fb",
        "id": "27FxU95dvkOv"
      }
    },
    {
      "cell_type": "code",
      "source": [
        "df_test.describe()"
      ],
      "metadata": {
        "_uuid": "485bc69da85d5596708f385ca477783581df5231",
        "_cell_guid": "0dc4a65f-3460-4fa0-8d0a-0649b679ed01",
        "execution": {
          "iopub.status.busy": "2023-02-23T10:02:57.356259Z",
          "iopub.execute_input": "2023-02-23T10:02:57.356487Z",
          "iopub.status.idle": "2023-02-23T10:02:57.396540Z",
          "shell.execute_reply.started": "2023-02-23T10:02:57.356446Z",
          "shell.execute_reply": "2023-02-23T10:02:57.395720Z"
        },
        "trusted": true,
        "colab": {
          "base_uri": "https://localhost:8080/",
          "height": 300
        },
        "id": "1OwoEHH5vkOw",
        "outputId": "ba775025-47ee-48cb-fc23-21a8b2486b3b"
      },
      "execution_count": 11,
      "outputs": [
        {
          "output_type": "execute_result",
          "data": {
            "text/plain": [
              "       PassengerId      Pclass         Age       SibSp       Parch        Fare\n",
              "count   418.000000  418.000000  332.000000  418.000000  418.000000  417.000000\n",
              "mean   1100.500000    2.265550   30.272590    0.447368    0.392344   35.627188\n",
              "std     120.810458    0.841838   14.181209    0.896760    0.981429   55.907576\n",
              "min     892.000000    1.000000    0.170000    0.000000    0.000000    0.000000\n",
              "25%     996.250000    1.000000   21.000000    0.000000    0.000000    7.895800\n",
              "50%    1100.500000    3.000000   27.000000    0.000000    0.000000   14.454200\n",
              "75%    1204.750000    3.000000   39.000000    1.000000    0.000000   31.500000\n",
              "max    1309.000000    3.000000   76.000000    8.000000    9.000000  512.329200"
            ],
            "text/html": [
              "\n",
              "  <div id=\"df-706b8b9e-2a90-467e-933b-12ad42f736c4\">\n",
              "    <div class=\"colab-df-container\">\n",
              "      <div>\n",
              "<style scoped>\n",
              "    .dataframe tbody tr th:only-of-type {\n",
              "        vertical-align: middle;\n",
              "    }\n",
              "\n",
              "    .dataframe tbody tr th {\n",
              "        vertical-align: top;\n",
              "    }\n",
              "\n",
              "    .dataframe thead th {\n",
              "        text-align: right;\n",
              "    }\n",
              "</style>\n",
              "<table border=\"1\" class=\"dataframe\">\n",
              "  <thead>\n",
              "    <tr style=\"text-align: right;\">\n",
              "      <th></th>\n",
              "      <th>PassengerId</th>\n",
              "      <th>Pclass</th>\n",
              "      <th>Age</th>\n",
              "      <th>SibSp</th>\n",
              "      <th>Parch</th>\n",
              "      <th>Fare</th>\n",
              "    </tr>\n",
              "  </thead>\n",
              "  <tbody>\n",
              "    <tr>\n",
              "      <th>count</th>\n",
              "      <td>418.000000</td>\n",
              "      <td>418.000000</td>\n",
              "      <td>332.000000</td>\n",
              "      <td>418.000000</td>\n",
              "      <td>418.000000</td>\n",
              "      <td>417.000000</td>\n",
              "    </tr>\n",
              "    <tr>\n",
              "      <th>mean</th>\n",
              "      <td>1100.500000</td>\n",
              "      <td>2.265550</td>\n",
              "      <td>30.272590</td>\n",
              "      <td>0.447368</td>\n",
              "      <td>0.392344</td>\n",
              "      <td>35.627188</td>\n",
              "    </tr>\n",
              "    <tr>\n",
              "      <th>std</th>\n",
              "      <td>120.810458</td>\n",
              "      <td>0.841838</td>\n",
              "      <td>14.181209</td>\n",
              "      <td>0.896760</td>\n",
              "      <td>0.981429</td>\n",
              "      <td>55.907576</td>\n",
              "    </tr>\n",
              "    <tr>\n",
              "      <th>min</th>\n",
              "      <td>892.000000</td>\n",
              "      <td>1.000000</td>\n",
              "      <td>0.170000</td>\n",
              "      <td>0.000000</td>\n",
              "      <td>0.000000</td>\n",
              "      <td>0.000000</td>\n",
              "    </tr>\n",
              "    <tr>\n",
              "      <th>25%</th>\n",
              "      <td>996.250000</td>\n",
              "      <td>1.000000</td>\n",
              "      <td>21.000000</td>\n",
              "      <td>0.000000</td>\n",
              "      <td>0.000000</td>\n",
              "      <td>7.895800</td>\n",
              "    </tr>\n",
              "    <tr>\n",
              "      <th>50%</th>\n",
              "      <td>1100.500000</td>\n",
              "      <td>3.000000</td>\n",
              "      <td>27.000000</td>\n",
              "      <td>0.000000</td>\n",
              "      <td>0.000000</td>\n",
              "      <td>14.454200</td>\n",
              "    </tr>\n",
              "    <tr>\n",
              "      <th>75%</th>\n",
              "      <td>1204.750000</td>\n",
              "      <td>3.000000</td>\n",
              "      <td>39.000000</td>\n",
              "      <td>1.000000</td>\n",
              "      <td>0.000000</td>\n",
              "      <td>31.500000</td>\n",
              "    </tr>\n",
              "    <tr>\n",
              "      <th>max</th>\n",
              "      <td>1309.000000</td>\n",
              "      <td>3.000000</td>\n",
              "      <td>76.000000</td>\n",
              "      <td>8.000000</td>\n",
              "      <td>9.000000</td>\n",
              "      <td>512.329200</td>\n",
              "    </tr>\n",
              "  </tbody>\n",
              "</table>\n",
              "</div>\n",
              "      <button class=\"colab-df-convert\" onclick=\"convertToInteractive('df-706b8b9e-2a90-467e-933b-12ad42f736c4')\"\n",
              "              title=\"Convert this dataframe to an interactive table.\"\n",
              "              style=\"display:none;\">\n",
              "        \n",
              "  <svg xmlns=\"http://www.w3.org/2000/svg\" height=\"24px\"viewBox=\"0 0 24 24\"\n",
              "       width=\"24px\">\n",
              "    <path d=\"M0 0h24v24H0V0z\" fill=\"none\"/>\n",
              "    <path d=\"M18.56 5.44l.94 2.06.94-2.06 2.06-.94-2.06-.94-.94-2.06-.94 2.06-2.06.94zm-11 1L8.5 8.5l.94-2.06 2.06-.94-2.06-.94L8.5 2.5l-.94 2.06-2.06.94zm10 10l.94 2.06.94-2.06 2.06-.94-2.06-.94-.94-2.06-.94 2.06-2.06.94z\"/><path d=\"M17.41 7.96l-1.37-1.37c-.4-.4-.92-.59-1.43-.59-.52 0-1.04.2-1.43.59L10.3 9.45l-7.72 7.72c-.78.78-.78 2.05 0 2.83L4 21.41c.39.39.9.59 1.41.59.51 0 1.02-.2 1.41-.59l7.78-7.78 2.81-2.81c.8-.78.8-2.07 0-2.86zM5.41 20L4 18.59l7.72-7.72 1.47 1.35L5.41 20z\"/>\n",
              "  </svg>\n",
              "      </button>\n",
              "      \n",
              "  <style>\n",
              "    .colab-df-container {\n",
              "      display:flex;\n",
              "      flex-wrap:wrap;\n",
              "      gap: 12px;\n",
              "    }\n",
              "\n",
              "    .colab-df-convert {\n",
              "      background-color: #E8F0FE;\n",
              "      border: none;\n",
              "      border-radius: 50%;\n",
              "      cursor: pointer;\n",
              "      display: none;\n",
              "      fill: #1967D2;\n",
              "      height: 32px;\n",
              "      padding: 0 0 0 0;\n",
              "      width: 32px;\n",
              "    }\n",
              "\n",
              "    .colab-df-convert:hover {\n",
              "      background-color: #E2EBFA;\n",
              "      box-shadow: 0px 1px 2px rgba(60, 64, 67, 0.3), 0px 1px 3px 1px rgba(60, 64, 67, 0.15);\n",
              "      fill: #174EA6;\n",
              "    }\n",
              "\n",
              "    [theme=dark] .colab-df-convert {\n",
              "      background-color: #3B4455;\n",
              "      fill: #D2E3FC;\n",
              "    }\n",
              "\n",
              "    [theme=dark] .colab-df-convert:hover {\n",
              "      background-color: #434B5C;\n",
              "      box-shadow: 0px 1px 3px 1px rgba(0, 0, 0, 0.15);\n",
              "      filter: drop-shadow(0px 1px 2px rgba(0, 0, 0, 0.3));\n",
              "      fill: #FFFFFF;\n",
              "    }\n",
              "  </style>\n",
              "\n",
              "      <script>\n",
              "        const buttonEl =\n",
              "          document.querySelector('#df-706b8b9e-2a90-467e-933b-12ad42f736c4 button.colab-df-convert');\n",
              "        buttonEl.style.display =\n",
              "          google.colab.kernel.accessAllowed ? 'block' : 'none';\n",
              "\n",
              "        async function convertToInteractive(key) {\n",
              "          const element = document.querySelector('#df-706b8b9e-2a90-467e-933b-12ad42f736c4');\n",
              "          const dataTable =\n",
              "            await google.colab.kernel.invokeFunction('convertToInteractive',\n",
              "                                                     [key], {});\n",
              "          if (!dataTable) return;\n",
              "\n",
              "          const docLinkHtml = 'Like what you see? Visit the ' +\n",
              "            '<a target=\"_blank\" href=https://colab.research.google.com/notebooks/data_table.ipynb>data table notebook</a>'\n",
              "            + ' to learn more about interactive tables.';\n",
              "          element.innerHTML = '';\n",
              "          dataTable['output_type'] = 'display_data';\n",
              "          await google.colab.output.renderOutput(dataTable, element);\n",
              "          const docLink = document.createElement('div');\n",
              "          docLink.innerHTML = docLinkHtml;\n",
              "          element.appendChild(docLink);\n",
              "        }\n",
              "      </script>\n",
              "    </div>\n",
              "  </div>\n",
              "  "
            ]
          },
          "metadata": {},
          "execution_count": 11
        }
      ]
    },
    {
      "cell_type": "code",
      "source": [
        "df.isnull().sum()"
      ],
      "metadata": {
        "colab": {
          "base_uri": "https://localhost:8080/"
        },
        "id": "LAew6REYMbNQ",
        "outputId": "d67a39f4-202f-4a73-e21a-bf9e0f565e69"
      },
      "execution_count": 71,
      "outputs": [
        {
          "output_type": "execute_result",
          "data": {
            "text/plain": [
              "PassengerId      0\n",
              "Pclass           0\n",
              "Name             0\n",
              "Sex              0\n",
              "Age             86\n",
              "SibSp            0\n",
              "Parch            0\n",
              "Ticket           0\n",
              "Fare             1\n",
              "Cabin          327\n",
              "Embarked         0\n",
              "Age_bin         86\n",
              "Fare_bin         1\n",
              "dtype: int64"
            ]
          },
          "metadata": {},
          "execution_count": 71
        }
      ]
    },
    {
      "cell_type": "code",
      "source": [
        "df.drop(['Cabin'],axis = 1,inplace=True)"
      ],
      "metadata": {
        "id": "axwpa81wMrAM"
      },
      "execution_count": 72,
      "outputs": []
    },
    {
      "cell_type": "markdown",
      "source": [
        "**Of all passengers in df_train, how many survived, how many died ?** "
      ],
      "metadata": {
        "_uuid": "20287febf1b25ddf9eccfbb88e363bdb80f3d958",
        "_cell_guid": "94c7f3de-746d-44cb-9a9d-43f32527948c",
        "id": "D3OGilTRvkOw"
      }
    },
    {
      "cell_type": "code",
      "source": [
        "sns.countplot(x='Survived', data=df_train);"
      ],
      "metadata": {
        "_uuid": "3fe99f565401dae73cfecd3fb2cf8dc201119b36",
        "_cell_guid": "d2bd2723-3a68-4e94-a629-7a0fca99cb2a",
        "execution": {
          "iopub.status.busy": "2023-02-23T10:02:57.398155Z",
          "iopub.execute_input": "2023-02-23T10:02:57.398542Z",
          "iopub.status.idle": "2023-02-23T10:02:57.677914Z",
          "shell.execute_reply.started": "2023-02-23T10:02:57.398463Z",
          "shell.execute_reply": "2023-02-23T10:02:57.676847Z"
        },
        "trusted": true,
        "colab": {
          "base_uri": "https://localhost:8080/",
          "height": 285
        },
        "id": "eWL7vb3_vkOw",
        "outputId": "b0f54969-6ddd-4397-b8b7-5226a3acd5a1"
      },
      "execution_count": 12,
      "outputs": [
        {
          "output_type": "display_data",
          "data": {
            "text/plain": [
              "<Figure size 432x288 with 1 Axes>"
            ],
            "image/png": "[encoded data removed]"
          },
          "metadata": {}
        }
      ]
    },
    {
      "cell_type": "code",
      "source": [
        "sns.countplot(x='Pclass', data=df_train);"
      ],
      "metadata": {
        "colab": {
          "base_uri": "https://localhost:8080/",
          "height": 285
        },
        "id": "RKO-4NGF6iHQ",
        "outputId": "97319a95-2608-459f-9738-bd8cfc24301b"
      },
      "execution_count": 14,
      "outputs": [
        {
          "output_type": "display_data",
          "data": {
            "text/plain": [
              "<Figure size 432x288 with 1 Axes>"
            ],
            "image/png": "[encoded data removed]"
          },
          "metadata": {}
        }
      ]
    },
    {
      "cell_type": "code",
      "source": [
        "sns.countplot(x='Sex', data=df_train);"
      ],
      "metadata": {
        "colab": {
          "base_uri": "https://localhost:8080/",
          "height": 287
        },
        "id": "s6RvR39jJU3r",
        "outputId": "a4fa88b8-f682-4b59-8537-9f32692c6b61"
      },
      "execution_count": 15,
      "outputs": [
        {
          "output_type": "display_data",
          "data": {
            "text/plain": [
              "<Figure size 432x288 with 1 Axes>"
            ],
            "image/png": "[encoded data removed]"
          },
          "metadata": {}
        }
      ]
    },
    {
      "cell_type": "code",
      "source": [
        "sns.countplot(x='SibSp', data=df_train);"
      ],
      "metadata": {
        "colab": {
          "base_uri": "https://localhost:8080/",
          "height": 285
        },
        "id": "KEpcBNRWKM2f",
        "outputId": "de52f21b-13d8-480d-a930-1a732e251980"
      },
      "execution_count": 17,
      "outputs": [
        {
          "output_type": "display_data",
          "data": {
            "text/plain": [
              "<Figure size 432x288 with 1 Axes>"
            ],
            "image/png": "[encoded data removed]"
          },
          "metadata": {}
        }
      ]
    },
    {
      "cell_type": "code",
      "source": [
        "sns.countplot(x='Parch', data=df_train);"
      ],
      "metadata": {
        "colab": {
          "base_uri": "https://localhost:8080/",
          "height": 285
        },
        "id": "1CIhrvGpKaGG",
        "outputId": "976650e0-6dab-4ce2-8598-f859273b21bf"
      },
      "execution_count": 18,
      "outputs": [
        {
          "output_type": "display_data",
          "data": {
            "text/plain": [
              "<Figure size 432x288 with 1 Axes>"
            ],
            "image/png": "[encoded data removed]"
          },
          "metadata": {}
        }
      ]
    },
    {
      "cell_type": "code",
      "source": [
        "sns.countplot(x='Embarked', data=df_train);"
      ],
      "metadata": {
        "colab": {
          "base_uri": "https://localhost:8080/",
          "height": 285
        },
        "id": "-UaYoTdQKm_M",
        "outputId": "42c901dc-e5ba-4509-ddb3-966dab3023cc"
      },
      "execution_count": 19,
      "outputs": [
        {
          "output_type": "display_data",
          "data": {
            "text/plain": [
              "<Figure size 432x288 with 1 Axes>"
            ],
            "image/png": "[encoded data removed]"
          },
          "metadata": {}
        }
      ]
    },
    {
      "cell_type": "code",
      "source": [
        "print(df_train.Survived.sum()/df_train.Survived.count())"
      ],
      "metadata": {
        "_uuid": "26277b12d89958ad5d03a8636786b920c7d4ba08",
        "_cell_guid": "b6aabfa1-fd1b-4ad5-9f95-14a7a703d7ee",
        "execution": {
          "iopub.status.busy": "2023-02-23T10:02:57.679577Z",
          "iopub.execute_input": "2023-02-23T10:02:57.680204Z",
          "iopub.status.idle": "2023-02-23T10:02:57.686695Z",
          "shell.execute_reply.started": "2023-02-23T10:02:57.680128Z",
          "shell.execute_reply": "2023-02-23T10:02:57.685786Z"
        },
        "trusted": true,
        "colab": {
          "base_uri": "https://localhost:8080/"
        },
        "id": "YCyu5LnbvkOw",
        "outputId": "61caa753-96e3-4168-80e6-77e6d328da1c"
      },
      "execution_count": 13,
      "outputs": [
        {
          "output_type": "stream",
          "name": "stdout",
          "text": [
            "0.3838383838383838\n"
          ]
        }
      ]
    },
    {
      "cell_type": "markdown",
      "source": [
        "more people died than survived (38% survived)\n",
        "\n",
        "-> base model : no survivors\n",
        "\n",
        "submission : 0.627 accuracy"
      ],
      "metadata": {
        "_uuid": "efa6e3dbb66ca31c8aa1a2e4ec934c00bbf2e411",
        "_cell_guid": "1babbbf7-085d-4141-b29a-f9fd8f388e46",
        "id": "5YstoPjPvkOw"
      }
    },
    {
      "cell_type": "markdown",
      "source": [
        "**Uncomment  if you want to check this submission**"
      ],
      "metadata": {
        "_uuid": "4d22aef19faa0e9754f27ef26f3b31ec2099f54c",
        "id": "opovOw4dvkOx"
      }
    },
    {
      "cell_type": "code",
      "source": [
        "#df_test['Survived'] = 0\n",
        "#df_test[['PassengerId', 'Survived']].to_csv('no_survivors.csv', index=False)"
      ],
      "metadata": {
        "_uuid": "8b4ce14f870115759569ca8d8e60c71907fe2095",
        "_cell_guid": "c830a8ca-2bb1-496c-807a-c9913dd5d3f2",
        "execution": {
          "iopub.status.busy": "2023-02-23T10:02:57.688192Z",
          "iopub.execute_input": "2023-02-23T10:02:57.688763Z",
          "iopub.status.idle": "2023-02-23T10:02:57.699565Z",
          "shell.execute_reply.started": "2023-02-23T10:02:57.688703Z",
          "shell.execute_reply": "2023-02-23T10:02:57.698508Z"
        },
        "trusted": true,
        "id": "PWaaQ9nmvkOx"
      },
      "execution_count": 20,
      "outputs": []
    },
    {
      "cell_type": "markdown",
      "source": [
        "**Sex: Female more likely to survive than male**"
      ],
      "metadata": {
        "_uuid": "fdc97f58b646df5993d1e90ff28abfa2b41b1425",
        "_cell_guid": "d9cd643d-14a4-43e6-8eeb-53fca5e2ffb1",
        "id": "Y9Yf-gS0vkOx"
      }
    },
    {
      "cell_type": "code",
      "source": [
        "\n",
        "df_train.groupby(['Survived','Sex'])['Survived'].count()"
      ],
      "metadata": {
        "_uuid": "1b7ef6637506ba053434c3e0b0b3f0bc0cf4d01d",
        "_cell_guid": "d6dd2033-80b8-44c6-8d91-95a7353552fd",
        "execution": {
          "iopub.status.busy": "2023-02-23T10:02:57.701292Z",
          "iopub.execute_input": "2023-02-23T10:02:57.701940Z",
          "iopub.status.idle": "2023-02-23T10:02:57.719609Z",
          "shell.execute_reply.started": "2023-02-23T10:02:57.701734Z",
          "shell.execute_reply": "2023-02-23T10:02:57.718462Z"
        },
        "trusted": true,
        "colab": {
          "base_uri": "https://localhost:8080/"
        },
        "id": "lWd-hKAsvkOx",
        "outputId": "e8608acf-c80c-4871-dd9e-9c685a61e456"
      },
      "execution_count": 21,
      "outputs": [
        {
          "output_type": "execute_result",
          "data": {
            "text/plain": [
              "Survived  Sex   \n",
              "0         female     81\n",
              "          male      468\n",
              "1         female    233\n",
              "          male      109\n",
              "Name: Survived, dtype: int64"
            ]
          },
          "metadata": {},
          "execution_count": 21
        }
      ]
    },
    {
      "cell_type": "code",
      "source": [
        "sns.catplot(x='Sex', col='Survived', kind='count', data=df_train);"
      ],
      "metadata": {
        "_uuid": "1e13eaa5a0070378fc59f3a87c3862b1eb0a804a",
        "_cell_guid": "b1f97218-9ef5-43b3-b946-e067827a6693",
        "execution": {
          "iopub.status.busy": "2023-02-23T10:02:57.721323Z",
          "iopub.execute_input": "2023-02-23T10:02:57.721924Z",
          "iopub.status.idle": "2023-02-23T10:02:58.343794Z",
          "shell.execute_reply.started": "2023-02-23T10:02:57.721775Z",
          "shell.execute_reply": "2023-02-23T10:02:58.343133Z"
        },
        "trusted": true,
        "colab": {
          "base_uri": "https://localhost:8080/",
          "height": 365
        },
        "id": "gtUsT4bYvkOx",
        "outputId": "639cfbba-6ec8-4772-b592-b2f49d3c3f21"
      },
      "execution_count": 22,
      "outputs": [
        {
          "output_type": "display_data",
          "data": {
            "text/plain": [
              "<Figure size 720x360 with 2 Axes>"
            ],
            "image/png": "[encoded data removed]"
          },
          "metadata": {}
        }
      ]
    },
    {
      "cell_type": "code",
      "source": [
        "print(\"% of women survived: \" , df_train[df_train.Sex == 'female'].Survived.sum()/df_train[df_train.Sex == 'female'].Survived.count())\n",
        "print(\"% of men survived:   \" , df_train[df_train.Sex == 'male'].Survived.sum()/df_train[df_train.Sex == 'male'].Survived.count())"
      ],
      "metadata": {
        "_uuid": "11444fc10bb62ac315a6ab2114b9ff54dde3d45e",
        "_cell_guid": "4a6f8e4e-c58f-4f6f-9287-9f9a741431da",
        "execution": {
          "iopub.status.busy": "2023-02-23T10:02:58.345224Z",
          "iopub.execute_input": "2023-02-23T10:02:58.345876Z",
          "iopub.status.idle": "2023-02-23T10:02:58.359109Z",
          "shell.execute_reply.started": "2023-02-23T10:02:58.345815Z",
          "shell.execute_reply": "2023-02-23T10:02:58.358185Z"
        },
        "trusted": true,
        "colab": {
          "base_uri": "https://localhost:8080/"
        },
        "id": "8iTd8jBpvkOy",
        "outputId": "80d474d6-69f4-4abc-f06c-f2eb9bc16ff6"
      },
      "execution_count": 23,
      "outputs": [
        {
          "output_type": "stream",
          "name": "stdout",
          "text": [
            "% of women survived:  0.7420382165605095\n",
            "% of men survived:    0.18890814558058924\n"
          ]
        }
      ]
    },
    {
      "cell_type": "code",
      "source": [
        "f,ax=plt.subplots(1,2,figsize=(16,7))\n",
        "df_train['Survived'][df_train['Sex']=='male'].value_counts().plot.pie(explode=[0,0.2],autopct='%1.1f%%',ax=ax[0],shadow=True)\n",
        "df_train['Survived'][df_train['Sex']=='female'].value_counts().plot.pie(explode=[0,0.2],autopct='%1.1f%%',ax=ax[1],shadow=True)\n",
        "ax[0].set_title('Survived (male)')\n",
        "ax[1].set_title('Survived (female)')\n",
        "\n",
        "plt.show()"
      ],
      "metadata": {
        "_uuid": "3994bc6102c107006edc0854ea7663eea2c030d2",
        "_cell_guid": "fbbf541c-ae16-4f7e-a462-fdd6f9898440",
        "execution": {
          "iopub.status.busy": "2023-02-23T10:02:58.360655Z",
          "iopub.execute_input": "2023-02-23T10:02:58.361312Z",
          "iopub.status.idle": "2023-02-23T10:02:58.656136Z",
          "shell.execute_reply.started": "2023-02-23T10:02:58.361251Z",
          "shell.execute_reply": "2023-02-23T10:02:58.655156Z"
        },
        "trusted": true,
        "colab": {
          "base_uri": "https://localhost:8080/",
          "height": 427
        },
        "id": "EEvgdilivkOy",
        "outputId": "2ad2ff59-e04f-4619-d1a2-3dfc5f6a375c"
      },
      "execution_count": 24,
      "outputs": [
        {
          "output_type": "display_data",
          "data": {
            "text/plain": [
              "<Figure size 1152x504 with 2 Axes>"
            ],
            "image/png": "[encoded data removed]"
          },
          "metadata": {}
        }
      ]
    },
    {
      "cell_type": "markdown",
      "source": [
        "Women were more likely to survive than men \n",
        "\n",
        "74 % of women survived\n",
        "but only 19% of men\n",
        "(in training set)\n",
        "\n",
        "-> second model :\n",
        "all women survived and all men died\n",
        "\n",
        "submission : 0.766 accuracy\n"
      ],
      "metadata": {
        "_uuid": "76959c99bc83db9fc2896d3c7cea2eeef8ec4527",
        "_cell_guid": "ff42aba4-3b8d-4e63-a086-9f6bcc82c0ae",
        "id": "x2TyehuuvkOy"
      }
    },
    {
      "cell_type": "markdown",
      "source": [
        "**Uncomment  if you want to check this submission**"
      ],
      "metadata": {
        "_uuid": "0ecbd7c1fb7a7f8facb218dc6abd1ac238e4bf68",
        "id": "v3LddAhFvkOy"
      }
    },
    {
      "cell_type": "code",
      "source": [
        "#df_test['Survived'] = df_test.Sex == 'female'\n",
        "#df_test['Survived'] = df_test.Survived.apply(lambda x: int(x))\n",
        "#df_test[['PassengerId', 'Survived']].to_csv('women_survive.csv', index=False)"
      ],
      "metadata": {
        "_uuid": "5a2d99bfb866df607fcf7d598d30d11815e1a9a2",
        "_cell_guid": "b879916b-19c7-48cf-a4ba-905f123e96f8",
        "execution": {
          "iopub.status.busy": "2023-02-23T10:02:58.657754Z",
          "iopub.execute_input": "2023-02-23T10:02:58.658425Z",
          "iopub.status.idle": "2023-02-23T10:02:58.662681Z",
          "shell.execute_reply.started": "2023-02-23T10:02:58.658364Z",
          "shell.execute_reply": "2023-02-23T10:02:58.661828Z"
        },
        "trusted": true,
        "id": "BJnR-H4CvkOy"
      },
      "execution_count": 25,
      "outputs": []
    },
    {
      "cell_type": "markdown",
      "source": [
        "**Passenger Class : Survival rate decreases with Pclass**"
      ],
      "metadata": {
        "_uuid": "0bb33fe29a3977709a691c74fea426010d120a3c",
        "_cell_guid": "91aabc83-9f92-4e59-936c-e90fdddb0160",
        "id": "hGcSIh82vkOz"
      }
    },
    {
      "cell_type": "code",
      "source": [
        "pd.crosstab(df_train.Pclass, df_train.Survived, margins=True).style.background_gradient(cmap='autumn_r')"
      ],
      "metadata": {
        "_uuid": "b48eb33382fbc5ee059c5c851fac9cf010858508",
        "_cell_guid": "b7182fb8-22cf-4adc-aebb-fb5842a753d6",
        "execution": {
          "iopub.status.busy": "2023-02-23T10:02:58.664195Z",
          "iopub.execute_input": "2023-02-23T10:02:58.664780Z",
          "iopub.status.idle": "2023-02-23T10:02:58.803011Z",
          "shell.execute_reply.started": "2023-02-23T10:02:58.664718Z",
          "shell.execute_reply": "2023-02-23T10:02:58.802149Z"
        },
        "trusted": true,
        "colab": {
          "base_uri": "https://localhost:8080/",
          "height": 206
        },
        "id": "FJVisGHuvkOz",
        "outputId": "e1d4a6aa-0aca-4c7b-d2a0-a8eba036b965"
      },
      "execution_count": 26,
      "outputs": [
        {
          "output_type": "execute_result",
          "data": {
            "text/plain": [
              "<pandas.io.formats.style.Styler at 0x7fae42851460>"
            ],
            "text/html": [
              "<style type=\"text/css\">\n",
              "#T_6e9fd_row0_col0, #T_6e9fd_row1_col1, #T_6e9fd_row1_col2 {\n",
              "  background-color: #ffff00;\n",
              "  color: #000000;\n",
              "}\n",
              "#T_6e9fd_row0_col1 {\n",
              "  background-color: #ffce00;\n",
              "  color: #000000;\n",
              "}\n",
              "#T_6e9fd_row0_col2 {\n",
              "  background-color: #fff400;\n",
              "  color: #000000;\n",
              "}\n",
              "#T_6e9fd_row1_col0 {\n",
              "  background-color: #fff600;\n",
              "  color: #000000;\n",
              "}\n",
              "#T_6e9fd_row2_col0 {\n",
              "  background-color: #ff6000;\n",
              "  color: #f1f1f1;\n",
              "}\n",
              "#T_6e9fd_row2_col1 {\n",
              "  background-color: #ffdf00;\n",
              "  color: #000000;\n",
              "}\n",
              "#T_6e9fd_row2_col2 {\n",
              "  background-color: #ff9000;\n",
              "  color: #000000;\n",
              "}\n",
              "#T_6e9fd_row3_col0, #T_6e9fd_row3_col1, #T_6e9fd_row3_col2 {\n",
              "  background-color: #ff0000;\n",
              "  color: #f1f1f1;\n",
              "}\n",
              "</style>\n",
              "<table id=\"T_6e9fd_\" class=\"dataframe\">\n",
              "  <thead>\n",
              "    <tr>\n",
              "      <th class=\"index_name level0\" >Survived</th>\n",
              "      <th class=\"col_heading level0 col0\" >0</th>\n",
              "      <th class=\"col_heading level0 col1\" >1</th>\n",
              "      <th class=\"col_heading level0 col2\" >All</th>\n",
              "    </tr>\n",
              "    <tr>\n",
              "      <th class=\"index_name level0\" >Pclass</th>\n",
              "      <th class=\"blank col0\" >&nbsp;</th>\n",
              "      <th class=\"blank col1\" >&nbsp;</th>\n",
              "      <th class=\"blank col2\" >&nbsp;</th>\n",
              "    </tr>\n",
              "  </thead>\n",
              "  <tbody>\n",
              "    <tr>\n",
              "      <th id=\"T_6e9fd_level0_row0\" class=\"row_heading level0 row0\" >1</th>\n",
              "      <td id=\"T_6e9fd_row0_col0\" class=\"data row0 col0\" >80</td>\n",
              "      <td id=\"T_6e9fd_row0_col1\" class=\"data row0 col1\" >136</td>\n",
              "      <td id=\"T_6e9fd_row0_col2\" class=\"data row0 col2\" >216</td>\n",
              "    </tr>\n",
              "    <tr>\n",
              "      <th id=\"T_6e9fd_level0_row1\" class=\"row_heading level0 row1\" >2</th>\n",
              "      <td id=\"T_6e9fd_row1_col0\" class=\"data row1 col0\" >97</td>\n",
              "      <td id=\"T_6e9fd_row1_col1\" class=\"data row1 col1\" >87</td>\n",
              "      <td id=\"T_6e9fd_row1_col2\" class=\"data row1 col2\" >184</td>\n",
              "    </tr>\n",
              "    <tr>\n",
              "      <th id=\"T_6e9fd_level0_row2\" class=\"row_heading level0 row2\" >3</th>\n",
              "      <td id=\"T_6e9fd_row2_col0\" class=\"data row2 col0\" >372</td>\n",
              "      <td id=\"T_6e9fd_row2_col1\" class=\"data row2 col1\" >119</td>\n",
              "      <td id=\"T_6e9fd_row2_col2\" class=\"data row2 col2\" >491</td>\n",
              "    </tr>\n",
              "    <tr>\n",
              "      <th id=\"T_6e9fd_level0_row3\" class=\"row_heading level0 row3\" >All</th>\n",
              "      <td id=\"T_6e9fd_row3_col0\" class=\"data row3 col0\" >549</td>\n",
              "      <td id=\"T_6e9fd_row3_col1\" class=\"data row3 col1\" >342</td>\n",
              "      <td id=\"T_6e9fd_row3_col2\" class=\"data row3 col2\" >891</td>\n",
              "    </tr>\n",
              "  </tbody>\n",
              "</table>\n"
            ]
          },
          "metadata": {},
          "execution_count": 26
        }
      ]
    },
    {
      "cell_type": "code",
      "source": [
        "print(\"% of survivals in\") \n",
        "print(\"Pclass=1 : \", df_train.Survived[df_train.Pclass == 1].sum()/df_train[df_train.Pclass == 1].Survived.count())\n",
        "print(\"Pclass=2 : \", df_train.Survived[df_train.Pclass == 2].sum()/df_train[df_train.Pclass == 2].Survived.count())\n",
        "print(\"Pclass=3 : \", df_train.Survived[df_train.Pclass == 3].sum()/df_train[df_train.Pclass == 3].Survived.count())"
      ],
      "metadata": {
        "_uuid": "a943c91ea1ce0dd40e8d53c696432e346d6605ab",
        "_cell_guid": "051feaa9-c5b0-4035-b002-4b9f2ff7e880",
        "execution": {
          "iopub.status.busy": "2023-02-23T10:02:58.804154Z",
          "iopub.execute_input": "2023-02-23T10:02:58.804427Z",
          "iopub.status.idle": "2023-02-23T10:02:58.821099Z",
          "shell.execute_reply.started": "2023-02-23T10:02:58.804381Z",
          "shell.execute_reply": "2023-02-23T10:02:58.820198Z"
        },
        "trusted": true,
        "colab": {
          "base_uri": "https://localhost:8080/"
        },
        "id": "8lN2YqzxvkOz",
        "outputId": "18dace4a-ecf5-4ea3-f163-4366aa82e9ff"
      },
      "execution_count": 27,
      "outputs": [
        {
          "output_type": "stream",
          "name": "stdout",
          "text": [
            "% of survivals in\n",
            "Pclass=1 :  0.6296296296296297\n",
            "Pclass=2 :  0.47282608695652173\n",
            "Pclass=3 :  0.24236252545824846\n"
          ]
        }
      ]
    },
    {
      "cell_type": "code",
      "source": [
        "sns.catplot('Pclass','Survived', kind='point', data=df_train);"
      ],
      "metadata": {
        "_uuid": "8849e5a5a82f6a1dda18104bb649d304d1925fcd",
        "_cell_guid": "fc517397-1dc7-421e-bc8b-2e287e94ae75",
        "execution": {
          "iopub.status.busy": "2023-02-23T10:02:58.822926Z",
          "iopub.execute_input": "2023-02-23T10:02:58.823251Z",
          "iopub.status.idle": "2023-02-23T10:02:59.099906Z",
          "shell.execute_reply.started": "2023-02-23T10:02:58.823195Z",
          "shell.execute_reply": "2023-02-23T10:02:59.099255Z"
        },
        "trusted": true,
        "colab": {
          "base_uri": "https://localhost:8080/",
          "height": 365
        },
        "id": "CUlfR36RvkOz",
        "outputId": "d3bd72c3-731b-47e0-c51b-6c9d7507ec02"
      },
      "execution_count": 29,
      "outputs": [
        {
          "output_type": "display_data",
          "data": {
            "text/plain": [
              "<Figure size 360x360 with 1 Axes>"
            ],
            "image/png": "[encoded data removed]"
          },
          "metadata": {}
        }
      ]
    },
    {
      "cell_type": "markdown",
      "source": [
        "**Passenger Class and Sex :**\n",
        "\n",
        "**Almost all women in Pclass 1 and 2 survived and nearly all men in Pclass 2 and 3 died**"
      ],
      "metadata": {
        "_uuid": "5dce35a66e5506d07a18cabb0f3440897d459aa7",
        "_cell_guid": "aaccbc96-a530-47df-88d4-0f2e3a6abcf0",
        "id": "KP3sFX-qvkOz"
      }
    },
    {
      "cell_type": "code",
      "source": [
        "pd.crosstab([df_train.Sex, df_train.Survived], df_train.Pclass, margins=True).style.background_gradient(cmap='autumn_r')"
      ],
      "metadata": {
        "_uuid": "e6bf54da5ad3bf4951330540a5671a2129990b52",
        "_cell_guid": "620eed70-7c9e-408d-b401-30ee97efd139",
        "execution": {
          "iopub.status.busy": "2023-02-23T10:02:59.101072Z",
          "iopub.execute_input": "2023-02-23T10:02:59.101812Z",
          "iopub.status.idle": "2023-02-23T10:02:59.246373Z",
          "shell.execute_reply.started": "2023-02-23T10:02:59.101726Z",
          "shell.execute_reply": "2023-02-23T10:02:59.245490Z"
        },
        "trusted": true,
        "colab": {
          "base_uri": "https://localhost:8080/",
          "height": 237
        },
        "id": "l4HYIxPZvkOz",
        "outputId": "dbf9ded8-d387-4f05-a994-c8efa0e51aed"
      },
      "execution_count": 30,
      "outputs": [
        {
          "output_type": "execute_result",
          "data": {
            "text/plain": [
              "<pandas.io.formats.style.Styler at 0x7fae450794c0>"
            ],
            "text/html": [
              "<style type=\"text/css\">\n",
              "#T_c6888_row0_col0, #T_c6888_row0_col1, #T_c6888_row0_col3, #T_c6888_row3_col2 {\n",
              "  background-color: #ffff00;\n",
              "  color: #000000;\n",
              "}\n",
              "#T_c6888_row0_col2, #T_c6888_row1_col2 {\n",
              "  background-color: #fff100;\n",
              "  color: #000000;\n",
              "}\n",
              "#T_c6888_row1_col0 {\n",
              "  background-color: #ff9600;\n",
              "  color: #000000;\n",
              "}\n",
              "#T_c6888_row1_col1 {\n",
              "  background-color: #ffa300;\n",
              "  color: #000000;\n",
              "}\n",
              "#T_c6888_row1_col3 {\n",
              "  background-color: #ffcf00;\n",
              "  color: #000000;\n",
              "}\n",
              "#T_c6888_row2_col0 {\n",
              "  background-color: #ffa700;\n",
              "  color: #000000;\n",
              "}\n",
              "#T_c6888_row2_col1, #T_c6888_row2_col3 {\n",
              "  background-color: #ff8500;\n",
              "  color: #f1f1f1;\n",
              "}\n",
              "#T_c6888_row2_col2 {\n",
              "  background-color: #ff6e00;\n",
              "  color: #f1f1f1;\n",
              "}\n",
              "#T_c6888_row3_col0 {\n",
              "  background-color: #ffcd00;\n",
              "  color: #000000;\n",
              "}\n",
              "#T_c6888_row3_col1 {\n",
              "  background-color: #fff000;\n",
              "  color: #000000;\n",
              "}\n",
              "#T_c6888_row3_col3 {\n",
              "  background-color: #fff700;\n",
              "  color: #000000;\n",
              "}\n",
              "#T_c6888_row4_col0, #T_c6888_row4_col1, #T_c6888_row4_col2, #T_c6888_row4_col3 {\n",
              "  background-color: #ff0000;\n",
              "  color: #f1f1f1;\n",
              "}\n",
              "</style>\n",
              "<table id=\"T_c6888_\" class=\"dataframe\">\n",
              "  <thead>\n",
              "    <tr>\n",
              "      <th class=\"blank\" >&nbsp;</th>\n",
              "      <th class=\"index_name level0\" >Pclass</th>\n",
              "      <th class=\"col_heading level0 col0\" >1</th>\n",
              "      <th class=\"col_heading level0 col1\" >2</th>\n",
              "      <th class=\"col_heading level0 col2\" >3</th>\n",
              "      <th class=\"col_heading level0 col3\" >All</th>\n",
              "    </tr>\n",
              "    <tr>\n",
              "      <th class=\"index_name level0\" >Sex</th>\n",
              "      <th class=\"index_name level1\" >Survived</th>\n",
              "      <th class=\"blank col0\" >&nbsp;</th>\n",
              "      <th class=\"blank col1\" >&nbsp;</th>\n",
              "      <th class=\"blank col2\" >&nbsp;</th>\n",
              "      <th class=\"blank col3\" >&nbsp;</th>\n",
              "    </tr>\n",
              "  </thead>\n",
              "  <tbody>\n",
              "    <tr>\n",
              "      <th id=\"T_c6888_level0_row0\" class=\"row_heading level0 row0\" rowspan=\"2\">female</th>\n",
              "      <th id=\"T_c6888_level1_row0\" class=\"row_heading level1 row0\" >0</th>\n",
              "      <td id=\"T_c6888_row0_col0\" class=\"data row0 col0\" >3</td>\n",
              "      <td id=\"T_c6888_row0_col1\" class=\"data row0 col1\" >6</td>\n",
              "      <td id=\"T_c6888_row0_col2\" class=\"data row0 col2\" >72</td>\n",
              "      <td id=\"T_c6888_row0_col3\" class=\"data row0 col3\" >81</td>\n",
              "    </tr>\n",
              "    <tr>\n",
              "      <th id=\"T_c6888_level1_row1\" class=\"row_heading level1 row1\" >1</th>\n",
              "      <td id=\"T_c6888_row1_col0\" class=\"data row1 col0\" >91</td>\n",
              "      <td id=\"T_c6888_row1_col1\" class=\"data row1 col1\" >70</td>\n",
              "      <td id=\"T_c6888_row1_col2\" class=\"data row1 col2\" >72</td>\n",
              "      <td id=\"T_c6888_row1_col3\" class=\"data row1 col3\" >233</td>\n",
              "    </tr>\n",
              "    <tr>\n",
              "      <th id=\"T_c6888_level0_row2\" class=\"row_heading level0 row2\" rowspan=\"2\">male</th>\n",
              "      <th id=\"T_c6888_level1_row2\" class=\"row_heading level1 row2\" >0</th>\n",
              "      <td id=\"T_c6888_row2_col0\" class=\"data row2 col0\" >77</td>\n",
              "      <td id=\"T_c6888_row2_col1\" class=\"data row2 col1\" >91</td>\n",
              "      <td id=\"T_c6888_row2_col2\" class=\"data row2 col2\" >300</td>\n",
              "      <td id=\"T_c6888_row2_col3\" class=\"data row2 col3\" >468</td>\n",
              "    </tr>\n",
              "    <tr>\n",
              "      <th id=\"T_c6888_level1_row3\" class=\"row_heading level1 row3\" >1</th>\n",
              "      <td id=\"T_c6888_row3_col0\" class=\"data row3 col0\" >45</td>\n",
              "      <td id=\"T_c6888_row3_col1\" class=\"data row3 col1\" >17</td>\n",
              "      <td id=\"T_c6888_row3_col2\" class=\"data row3 col2\" >47</td>\n",
              "      <td id=\"T_c6888_row3_col3\" class=\"data row3 col3\" >109</td>\n",
              "    </tr>\n",
              "    <tr>\n",
              "      <th id=\"T_c6888_level0_row4\" class=\"row_heading level0 row4\" >All</th>\n",
              "      <th id=\"T_c6888_level1_row4\" class=\"row_heading level1 row4\" ></th>\n",
              "      <td id=\"T_c6888_row4_col0\" class=\"data row4 col0\" >216</td>\n",
              "      <td id=\"T_c6888_row4_col1\" class=\"data row4 col1\" >184</td>\n",
              "      <td id=\"T_c6888_row4_col2\" class=\"data row4 col2\" >491</td>\n",
              "      <td id=\"T_c6888_row4_col3\" class=\"data row4 col3\" >891</td>\n",
              "    </tr>\n",
              "  </tbody>\n",
              "</table>\n"
            ]
          },
          "metadata": {},
          "execution_count": 30
        }
      ]
    },
    {
      "cell_type": "code",
      "source": [
        "sns.catplot('Pclass','Survived',hue='Sex', kind='point', data=df_train);"
      ],
      "metadata": {
        "_uuid": "5377daafd312ed7e33376c2599d52d4c4db3ce5b",
        "_cell_guid": "d716de50-8e5f-4a26-9cb9-e95c76e526a3",
        "execution": {
          "iopub.status.busy": "2023-02-23T10:02:59.247882Z",
          "iopub.execute_input": "2023-02-23T10:02:59.248227Z",
          "iopub.status.idle": "2023-02-23T10:02:59.977253Z",
          "shell.execute_reply.started": "2023-02-23T10:02:59.248146Z",
          "shell.execute_reply": "2023-02-23T10:02:59.976036Z"
        },
        "trusted": true,
        "colab": {
          "base_uri": "https://localhost:8080/",
          "height": 365
        },
        "id": "snpttBqJvkO0",
        "outputId": "df57b21d-66d4-4c88-b549-a2344e27b357"
      },
      "execution_count": 31,
      "outputs": [
        {
          "output_type": "display_data",
          "data": {
            "text/plain": [
              "<Figure size 437.975x360 with 1 Axes>"
            ],
            "image/png": "[encoded data removed]"
          },
          "metadata": {}
        }
      ]
    },
    {
      "cell_type": "markdown",
      "source": [
        "**Embarked : Survival rate lowest for S and highest for C**"
      ],
      "metadata": {
        "_uuid": "f042a3bdb18e289edfd62688d308f6c8f6bcd27e",
        "_cell_guid": "8c90fa09-97fc-4143-b364-ff0dabd43292",
        "id": "2dyguJH5vkO0"
      }
    },
    {
      "cell_type": "code",
      "source": [
        "sns.catplot(x='Survived', col='Embarked', kind='count', data=df_train);"
      ],
      "metadata": {
        "_uuid": "59a813d6b0bf1d1427475ebf92d5791a300f34a8",
        "_cell_guid": "5dc3dccf-9b61-424e-b251-56ce33d1e1b4",
        "execution": {
          "iopub.status.busy": "2023-02-23T10:02:59.979393Z",
          "iopub.execute_input": "2023-02-23T10:02:59.980274Z",
          "iopub.status.idle": "2023-02-23T10:03:01.051830Z",
          "shell.execute_reply.started": "2023-02-23T10:02:59.980188Z",
          "shell.execute_reply": "2023-02-23T10:03:01.050721Z"
        },
        "trusted": true,
        "colab": {
          "base_uri": "https://localhost:8080/",
          "height": 365
        },
        "id": "o0YmqisVvkO0",
        "outputId": "9d4fe843-f920-4d8e-9276-471e5599e9bd"
      },
      "execution_count": 32,
      "outputs": [
        {
          "output_type": "display_data",
          "data": {
            "text/plain": [
              "<Figure size 1080x360 with 3 Axes>"
            ],
            "image/png": "[encoded data removed]"
          },
          "metadata": {}
        }
      ]
    },
    {
      "cell_type": "code",
      "source": [
        "sns.catplot('Embarked','Survived', kind='point', data=df_train);"
      ],
      "metadata": {
        "_uuid": "805776505e93b1fd06f25f43e6400c6377131320",
        "_cell_guid": "9c55a6cd-cb3e-490b-b272-489252eaf55e",
        "execution": {
          "iopub.status.busy": "2023-02-23T10:03:01.053483Z",
          "iopub.execute_input": "2023-02-23T10:03:01.053977Z",
          "iopub.status.idle": "2023-02-23T10:03:01.615178Z",
          "shell.execute_reply.started": "2023-02-23T10:03:01.053903Z",
          "shell.execute_reply": "2023-02-23T10:03:01.613783Z"
        },
        "trusted": true,
        "colab": {
          "base_uri": "https://localhost:8080/",
          "height": 365
        },
        "id": "7xGmovYKvkO0",
        "outputId": "24c89fd4-ceb6-4741-8ea6-4cd6b8caaec1"
      },
      "execution_count": 33,
      "outputs": [
        {
          "output_type": "display_data",
          "data": {
            "text/plain": [
              "<Figure size 360x360 with 1 Axes>"
            ],
            "image/png": "[encoded data removed]"
          },
          "metadata": {}
        }
      ]
    },
    {
      "cell_type": "markdown",
      "source": [
        "**Embarked and Sex**"
      ],
      "metadata": {
        "_uuid": "a2257cddd2784ac55fa3bc40673ef99a7b311aa4",
        "_cell_guid": "5d41c75f-d13a-441e-b8bf-e2605ce42b6b",
        "id": "XW4YzR5LvkO0"
      }
    },
    {
      "cell_type": "code",
      "source": [
        "sns.catplot('Embarked','Survived', hue= 'Sex', kind='point', data=df_train);"
      ],
      "metadata": {
        "_uuid": "f9d1d2137f0ce7a8ac1ef9d3bf1f3225dbcbdaf4",
        "_cell_guid": "259c13c1-5d2c-4549-95ed-61baa9d2a6c1",
        "execution": {
          "iopub.status.busy": "2023-02-23T10:03:01.617226Z",
          "iopub.execute_input": "2023-02-23T10:03:01.617658Z",
          "iopub.status.idle": "2023-02-23T10:03:02.365352Z",
          "shell.execute_reply.started": "2023-02-23T10:03:01.617590Z",
          "shell.execute_reply": "2023-02-23T10:03:02.363798Z"
        },
        "trusted": true,
        "colab": {
          "base_uri": "https://localhost:8080/",
          "height": 365
        },
        "id": "iuRpEyjLvkO0",
        "outputId": "1c34387f-0704-45ca-d2f1-bba3514b60ec"
      },
      "execution_count": 34,
      "outputs": [
        {
          "output_type": "display_data",
          "data": {
            "text/plain": [
              "<Figure size 437.975x360 with 1 Axes>"
            ],
            "image/png": "[encoded data removed]"
          },
          "metadata": {}
        }
      ]
    },
    {
      "cell_type": "markdown",
      "source": [
        "**Embarked, Pclass and Sex :**\n",
        "\n",
        "** Practically all women of Pclass 2 that embarked in C and Q survived, also nearly all women of Pclass 1 survived. **\n",
        "\n",
        "** All men of Pclass 1 and 2 embarked in Q died, survival rate for men in Pclass 2 and 3 is always below 0.2 **\n",
        "\n",
        "** For the remaining men in Pclass 1 that embarked in S and Q, survival rate is approx. 0.4 **"
      ],
      "metadata": {
        "_uuid": "b4a4775d5992483cbca12f98dcff676a3804310c",
        "_cell_guid": "6891d2dc-0121-442b-809e-b236c6d52ca2",
        "id": "GHtR-nEEvkO1"
      }
    },
    {
      "cell_type": "code",
      "source": [
        "sns.catplot('Embarked','Survived', col='Pclass', hue= 'Sex', kind='point', data=df_train);"
      ],
      "metadata": {
        "_uuid": "a1f54e702d6fe53ef1f60032469d24d956cb366a",
        "_cell_guid": "dc3d169f-b2e8-4df8-b4e6-dced76b43bee",
        "execution": {
          "iopub.status.busy": "2023-02-23T10:03:02.367610Z",
          "iopub.execute_input": "2023-02-23T10:03:02.368257Z",
          "iopub.status.idle": "2023-02-23T10:03:03.880980Z",
          "shell.execute_reply.started": "2023-02-23T10:03:02.367980Z",
          "shell.execute_reply": "2023-02-23T10:03:03.880306Z"
        },
        "trusted": true,
        "colab": {
          "base_uri": "https://localhost:8080/",
          "height": 354
        },
        "id": "ERJtUHpBvkO1",
        "outputId": "ef00c50a-56af-47df-a3ce-93edda0932a9"
      },
      "execution_count": 35,
      "outputs": [
        {
          "output_type": "display_data",
          "data": {
            "text/plain": [
              "<Figure size 1157.97x360 with 3 Axes>"
            ],
            "image/png": "[encoded data removed]"
          },
          "metadata": {}
        }
      ]
    },
    {
      "cell_type": "code",
      "source": [
        "pd.crosstab([df_train.Survived], [df_train.Sex, df_train.Pclass, df_train.Embarked], margins=True)"
      ],
      "metadata": {
        "_uuid": "3a79d321096144428ad92c82829f6a5c3daee183",
        "_cell_guid": "e2b0c14d-cef5-423e-a433-786c09fdcfa6",
        "execution": {
          "iopub.status.busy": "2023-02-23T10:03:03.881912Z",
          "iopub.execute_input": "2023-02-23T10:03:03.882262Z",
          "iopub.status.idle": "2023-02-23T10:03:04.003325Z",
          "shell.execute_reply.started": "2023-02-23T10:03:03.882220Z",
          "shell.execute_reply": "2023-02-23T10:03:04.002589Z"
        },
        "trusted": true,
        "colab": {
          "base_uri": "https://localhost:8080/",
          "height": 237
        },
        "id": "6KqWJWqfvkO1",
        "outputId": "50e6808a-f9b6-4a72-ef70-75bc8009433c"
      },
      "execution_count": 36,
      "outputs": [
        {
          "output_type": "execute_result",
          "data": {
            "text/plain": [
              "Sex      female                              male                            \\\n",
              "Pclass        1         2          3            1          2          3       \n",
              "Embarked      C  Q   S  C  Q   S   C   Q   S    C  Q   S   C  Q   S   C   Q   \n",
              "Survived                                                                      \n",
              "0             1  0   2  0  0   6   8   9  55   25  1  51   8  1  82  33  36   \n",
              "1            42  1  46  7  2  61  15  24  33   17  0  28   2  0  15  10   3   \n",
              "All          43  1  48  7  2  67  23  33  88   42  1  79  10  1  97  43  39   \n",
              "\n",
              "Sex            All  \n",
              "Pclass              \n",
              "Embarked    S       \n",
              "Survived            \n",
              "0         231  549  \n",
              "1          34  340  \n",
              "All       265  889  "
            ],
            "text/html": [
              "\n",
              "  <div id=\"df-70a154ef-40cb-4a7a-a11b-22c6c6ca663c\">\n",
              "    <div class=\"colab-df-container\">\n",
              "      <div>\n",
              "<style scoped>\n",
              "    .dataframe tbody tr th:only-of-type {\n",
              "        vertical-align: middle;\n",
              "    }\n",
              "\n",
              "    .dataframe tbody tr th {\n",
              "        vertical-align: top;\n",
              "    }\n",
              "\n",
              "    .dataframe thead tr th {\n",
              "        text-align: left;\n",
              "    }\n",
              "\n",
              "    .dataframe thead tr:last-of-type th {\n",
              "        text-align: right;\n",
              "    }\n",
              "</style>\n",
              "<table border=\"1\" class=\"dataframe\">\n",
              "  <thead>\n",
              "    <tr>\n",
              "      <th>Sex</th>\n",
              "      <th colspan=\"9\" halign=\"left\">female</th>\n",
              "      <th colspan=\"9\" halign=\"left\">male</th>\n",
              "      <th>All</th>\n",
              "    </tr>\n",
              "    <tr>\n",
              "      <th>Pclass</th>\n",
              "      <th colspan=\"3\" halign=\"left\">1</th>\n",
              "      <th colspan=\"3\" halign=\"left\">2</th>\n",
              "      <th colspan=\"3\" halign=\"left\">3</th>\n",
              "      <th colspan=\"3\" halign=\"left\">1</th>\n",
              "      <th colspan=\"3\" halign=\"left\">2</th>\n",
              "      <th colspan=\"3\" halign=\"left\">3</th>\n",
              "      <th></th>\n",
              "    </tr>\n",
              "    <tr>\n",
              "      <th>Embarked</th>\n",
              "      <th>C</th>\n",
              "      <th>Q</th>\n",
              "      <th>S</th>\n",
              "      <th>C</th>\n",
              "      <th>Q</th>\n",
              "      <th>S</th>\n",
              "      <th>C</th>\n",
              "      <th>Q</th>\n",
              "      <th>S</th>\n",
              "      <th>C</th>\n",
              "      <th>Q</th>\n",
              "      <th>S</th>\n",
              "      <th>C</th>\n",
              "      <th>Q</th>\n",
              "      <th>S</th>\n",
              "      <th>C</th>\n",
              "      <th>Q</th>\n",
              "      <th>S</th>\n",
              "      <th></th>\n",
              "    </tr>\n",
              "    <tr>\n",
              "      <th>Survived</th>\n",
              "      <th></th>\n",
              "      <th></th>\n",
              "      <th></th>\n",
              "      <th></th>\n",
              "      <th></th>\n",
              "      <th></th>\n",
              "      <th></th>\n",
              "      <th></th>\n",
              "      <th></th>\n",
              "      <th></th>\n",
              "      <th></th>\n",
              "      <th></th>\n",
              "      <th></th>\n",
              "      <th></th>\n",
              "      <th></th>\n",
              "      <th></th>\n",
              "      <th></th>\n",
              "      <th></th>\n",
              "      <th></th>\n",
              "    </tr>\n",
              "  </thead>\n",
              "  <tbody>\n",
              "    <tr>\n",
              "      <th>0</th>\n",
              "      <td>1</td>\n",
              "      <td>0</td>\n",
              "      <td>2</td>\n",
              "      <td>0</td>\n",
              "      <td>0</td>\n",
              "      <td>6</td>\n",
              "      <td>8</td>\n",
              "      <td>9</td>\n",
              "      <td>55</td>\n",
              "      <td>25</td>\n",
              "      <td>1</td>\n",
              "      <td>51</td>\n",
              "      <td>8</td>\n",
              "      <td>1</td>\n",
              "      <td>82</td>\n",
              "      <td>33</td>\n",
              "      <td>36</td>\n",
              "      <td>231</td>\n",
              "      <td>549</td>\n",
              "    </tr>\n",
              "    <tr>\n",
              "      <th>1</th>\n",
              "      <td>42</td>\n",
              "      <td>1</td>\n",
              "      <td>46</td>\n",
              "      <td>7</td>\n",
              "      <td>2</td>\n",
              "      <td>61</td>\n",
              "      <td>15</td>\n",
              "      <td>24</td>\n",
              "      <td>33</td>\n",
              "      <td>17</td>\n",
              "      <td>0</td>\n",
              "      <td>28</td>\n",
              "      <td>2</td>\n",
              "      <td>0</td>\n",
              "      <td>15</td>\n",
              "      <td>10</td>\n",
              "      <td>3</td>\n",
              "      <td>34</td>\n",
              "      <td>340</td>\n",
              "    </tr>\n",
              "    <tr>\n",
              "      <th>All</th>\n",
              "      <td>43</td>\n",
              "      <td>1</td>\n",
              "      <td>48</td>\n",
              "      <td>7</td>\n",
              "      <td>2</td>\n",
              "      <td>67</td>\n",
              "      <td>23</td>\n",
              "      <td>33</td>\n",
              "      <td>88</td>\n",
              "      <td>42</td>\n",
              "      <td>1</td>\n",
              "      <td>79</td>\n",
              "      <td>10</td>\n",
              "      <td>1</td>\n",
              "      <td>97</td>\n",
              "      <td>43</td>\n",
              "      <td>39</td>\n",
              "      <td>265</td>\n",
              "      <td>889</td>\n",
              "    </tr>\n",
              "  </tbody>\n",
              "</table>\n",
              "</div>\n",
              "      <button class=\"colab-df-convert\" onclick=\"convertToInteractive('df-70a154ef-40cb-4a7a-a11b-22c6c6ca663c')\"\n",
              "              title=\"Convert this dataframe to an interactive table.\"\n",
              "              style=\"display:none;\">\n",
              "        \n",
              "  <svg xmlns=\"http://www.w3.org/2000/svg\" height=\"24px\"viewBox=\"0 0 24 24\"\n",
              "       width=\"24px\">\n",
              "    <path d=\"M0 0h24v24H0V0z\" fill=\"none\"/>\n",
              "    <path d=\"M18.56 5.44l.94 2.06.94-2.06 2.06-.94-2.06-.94-.94-2.06-.94 2.06-2.06.94zm-11 1L8.5 8.5l.94-2.06 2.06-.94-2.06-.94L8.5 2.5l-.94 2.06-2.06.94zm10 10l.94 2.06.94-2.06 2.06-.94-2.06-.94-.94-2.06-.94 2.06-2.06.94z\"/><path d=\"M17.41 7.96l-1.37-1.37c-.4-.4-.92-.59-1.43-.59-.52 0-1.04.2-1.43.59L10.3 9.45l-7.72 7.72c-.78.78-.78 2.05 0 2.83L4 21.41c.39.39.9.59 1.41.59.51 0 1.02-.2 1.41-.59l7.78-7.78 2.81-2.81c.8-.78.8-2.07 0-2.86zM5.41 20L4 18.59l7.72-7.72 1.47 1.35L5.41 20z\"/>\n",
              "  </svg>\n",
              "      </button>\n",
              "      \n",
              "  <style>\n",
              "    .colab-df-container {\n",
              "      display:flex;\n",
              "      flex-wrap:wrap;\n",
              "      gap: 12px;\n",
              "    }\n",
              "\n",
              "    .colab-df-convert {\n",
              "      background-color: #E8F0FE;\n",
              "      border: none;\n",
              "      border-radius: 50%;\n",
              "      cursor: pointer;\n",
              "      display: none;\n",
              "      fill: #1967D2;\n",
              "      height: 32px;\n",
              "      padding: 0 0 0 0;\n",
              "      width: 32px;\n",
              "    }\n",
              "\n",
              "    .colab-df-convert:hover {\n",
              "      background-color: #E2EBFA;\n",
              "      box-shadow: 0px 1px 2px rgba(60, 64, 67, 0.3), 0px 1px 3px 1px rgba(60, 64, 67, 0.15);\n",
              "      fill: #174EA6;\n",
              "    }\n",
              "\n",
              "    [theme=dark] .colab-df-convert {\n",
              "      background-color: #3B4455;\n",
              "      fill: #D2E3FC;\n",
              "    }\n",
              "\n",
              "    [theme=dark] .colab-df-convert:hover {\n",
              "      background-color: #434B5C;\n",
              "      box-shadow: 0px 1px 3px 1px rgba(0, 0, 0, 0.15);\n",
              "      filter: drop-shadow(0px 1px 2px rgba(0, 0, 0, 0.3));\n",
              "      fill: #FFFFFF;\n",
              "    }\n",
              "  </style>\n",
              "\n",
              "      <script>\n",
              "        const buttonEl =\n",
              "          document.querySelector('#df-70a154ef-40cb-4a7a-a11b-22c6c6ca663c button.colab-df-convert');\n",
              "        buttonEl.style.display =\n",
              "          google.colab.kernel.accessAllowed ? 'block' : 'none';\n",
              "\n",
              "        async function convertToInteractive(key) {\n",
              "          const element = document.querySelector('#df-70a154ef-40cb-4a7a-a11b-22c6c6ca663c');\n",
              "          const dataTable =\n",
              "            await google.colab.kernel.invokeFunction('convertToInteractive',\n",
              "                                                     [key], {});\n",
              "          if (!dataTable) return;\n",
              "\n",
              "          const docLinkHtml = 'Like what you see? Visit the ' +\n",
              "            '<a target=\"_blank\" href=https://colab.research.google.com/notebooks/data_table.ipynb>data table notebook</a>'\n",
              "            + ' to learn more about interactive tables.';\n",
              "          element.innerHTML = '';\n",
              "          dataTable['output_type'] = 'display_data';\n",
              "          await google.colab.output.renderOutput(dataTable, element);\n",
              "          const docLink = document.createElement('div');\n",
              "          docLink.innerHTML = docLinkHtml;\n",
              "          element.appendChild(docLink);\n",
              "        }\n",
              "      </script>\n",
              "    </div>\n",
              "  </div>\n",
              "  "
            ]
          },
          "metadata": {},
          "execution_count": 36
        }
      ]
    },
    {
      "cell_type": "markdown",
      "source": [
        "third model :\n",
        "based on PClass, Sex and Embarked ,\n",
        "submission : 0.779 accuracy"
      ],
      "metadata": {
        "_uuid": "a53b6d009d7862a454baec4dcac787e22cc6f4d5",
        "_cell_guid": "6b69a722-4335-44cd-baac-5ae3fb02065d",
        "id": "Nwku5LnDvkO1"
      }
    },
    {
      "cell_type": "code",
      "source": [
        "# model 3\n",
        "df_test['Survived'] = 0\n",
        "# all women survived\n",
        "df_test.loc[ (df_test.Sex == 'female'), 'Survived'] = 1\n",
        "# except for those in Pclass 3 and embarked in S\n",
        "df_test.loc[ (df_test.Sex == 'female') & (df_test.Pclass == 3) & (df_test.Embarked == 'S') , 'Survived'] = 0\n",
        "#df_test[['PassengerId', 'Survived']].to_csv('embarked_pclass_sex.csv', index=False)"
      ],
      "metadata": {
        "_uuid": "82f6e7102aee58b2d9673ecabb85a6d5b9df91e6",
        "_cell_guid": "c842cd85-5bd1-4b38-914f-99affb2c69b1",
        "execution": {
          "iopub.status.busy": "2023-02-23T10:03:04.004243Z",
          "iopub.execute_input": "2023-02-23T10:03:04.004588Z",
          "iopub.status.idle": "2023-02-23T10:03:04.017801Z",
          "shell.execute_reply.started": "2023-02-23T10:03:04.004550Z",
          "shell.execute_reply": "2023-02-23T10:03:04.016914Z"
        },
        "trusted": true,
        "id": "YTkJC6DhvkO1"
      },
      "execution_count": 37,
      "outputs": []
    },
    {
      "cell_type": "markdown",
      "source": [
        "**Age:  continuous numerical  to  8 bins **"
      ],
      "metadata": {
        "_uuid": "449bb1e89a1d99b85dc03f76034f293db349e42e",
        "_cell_guid": "8e635867-d4a4-4ceb-b7a8-f8260cc01254",
        "id": "-TVNPTHQvkO1"
      }
    },
    {
      "cell_type": "code",
      "source": [
        "for df in [df_train, df_test]:\n",
        "    df['Age_bin']=np.nan\n",
        "    for i in range(8,0,-1):\n",
        "        df.loc[ df['Age'] <= i*10, 'Age_bin'] = i"
      ],
      "metadata": {
        "_uuid": "08da3a287de8af95a4ca012c42fd14dc02554815",
        "_cell_guid": "4f536aeb-8f8b-4b6d-8020-adef0f25b22c",
        "execution": {
          "iopub.status.busy": "2023-02-23T10:03:04.018855Z",
          "iopub.execute_input": "2023-02-23T10:03:04.019083Z",
          "iopub.status.idle": "2023-02-23T10:03:04.077884Z",
          "shell.execute_reply.started": "2023-02-23T10:03:04.019042Z",
          "shell.execute_reply": "2023-02-23T10:03:04.076968Z"
        },
        "trusted": true,
        "id": "JL1ReV0zvkO2"
      },
      "execution_count": 38,
      "outputs": []
    },
    {
      "cell_type": "code",
      "source": [
        "print(df_train[['Age' , 'Age_bin']].head(10))"
      ],
      "metadata": {
        "_uuid": "4b41dd56f41faff7a762cf1fb0d180f4b113ad26",
        "_cell_guid": "5afbb91b-4407-45b4-81e3-7cf112ddb489",
        "execution": {
          "iopub.status.busy": "2023-02-23T10:03:04.078962Z",
          "iopub.execute_input": "2023-02-23T10:03:04.079238Z",
          "iopub.status.idle": "2023-02-23T10:03:04.101954Z",
          "shell.execute_reply.started": "2023-02-23T10:03:04.079176Z",
          "shell.execute_reply": "2023-02-23T10:03:04.100936Z"
        },
        "trusted": true,
        "colab": {
          "base_uri": "https://localhost:8080/"
        },
        "id": "kTeSMia1vkO2",
        "outputId": "1e24ce9c-9c9e-4891-f3e5-af675f2228b5"
      },
      "execution_count": 39,
      "outputs": [
        {
          "output_type": "stream",
          "name": "stdout",
          "text": [
            "    Age  Age_bin\n",
            "0  22.0      3.0\n",
            "1  38.0      4.0\n",
            "2  26.0      3.0\n",
            "3  35.0      4.0\n",
            "4  35.0      4.0\n",
            "5   NaN      NaN\n",
            "6  54.0      6.0\n",
            "7   2.0      1.0\n",
            "8  27.0      3.0\n",
            "9  14.0      2.0\n"
          ]
        }
      ]
    },
    {
      "cell_type": "code",
      "source": [
        "sns.catplot('Age_bin','Survived',hue='Sex',kind='point',data=df_train);"
      ],
      "metadata": {
        "_uuid": "546efacb21995beea817894c7616bc24950d1f8e",
        "_cell_guid": "d0d60033-5a87-44ec-89d1-45f48bea213e",
        "execution": {
          "iopub.status.busy": "2023-02-23T10:03:04.103282Z",
          "iopub.execute_input": "2023-02-23T10:03:04.103519Z",
          "iopub.status.idle": "2023-02-23T10:03:05.084206Z",
          "shell.execute_reply.started": "2023-02-23T10:03:04.103477Z",
          "shell.execute_reply": "2023-02-23T10:03:05.082933Z"
        },
        "trusted": true,
        "colab": {
          "base_uri": "https://localhost:8080/",
          "height": 365
        },
        "id": "55SVG-i_vkO2",
        "outputId": "6e4e385d-44b1-452f-fafb-a81396938e1b"
      },
      "execution_count": 40,
      "outputs": [
        {
          "output_type": "display_data",
          "data": {
            "text/plain": [
              "<Figure size 437.975x360 with 1 Axes>"
            ],
            "image/png": "[encoded data removed]"
          },
          "metadata": {}
        }
      ]
    },
    {
      "cell_type": "code",
      "source": [
        "sns.catplot('Age_bin','Survived', col='Pclass' , row = 'Sex', kind='point', data=df_train);"
      ],
      "metadata": {
        "_uuid": "a234b585b5826c2cb32631c105e841fc5e6e8362",
        "_cell_guid": "472167a5-72cf-4ba9-be0b-7ff17e161702",
        "execution": {
          "iopub.status.busy": "2023-02-23T10:03:05.086123Z",
          "iopub.execute_input": "2023-02-23T10:03:05.086805Z",
          "iopub.status.idle": "2023-02-23T10:03:08.058100Z",
          "shell.execute_reply.started": "2023-02-23T10:03:05.086721Z",
          "shell.execute_reply": "2023-02-23T10:03:08.057371Z"
        },
        "trusted": true,
        "colab": {
          "base_uri": "https://localhost:8080/",
          "height": 725
        },
        "id": "6XQra2XRvkO2",
        "outputId": "644b1c40-c7d7-4a8d-f8ec-9242866360bc"
      },
      "execution_count": 41,
      "outputs": [
        {
          "output_type": "display_data",
          "data": {
            "text/plain": [
              "<Figure size 1080x720 with 6 Axes>"
            ],
            "image/png": "[encoded data removed]"
          },
          "metadata": {}
        }
      ]
    },
    {
      "cell_type": "code",
      "source": [
        "pd.crosstab([df_train.Sex, df_train.Survived], [df_train.Age_bin, df_train.Pclass], margins=True).style.background_gradient(cmap='autumn_r')"
      ],
      "metadata": {
        "_uuid": "02f16d15f9223c10e3db1f80f6b138275b66ec75",
        "_cell_guid": "63acf86d-0a8f-4ac7-a1a5-ecac2fb7b4c6",
        "execution": {
          "iopub.status.busy": "2023-02-23T10:03:08.059102Z",
          "iopub.execute_input": "2023-02-23T10:03:08.059502Z",
          "iopub.status.idle": "2023-02-23T10:03:08.651021Z",
          "shell.execute_reply.started": "2023-02-23T10:03:08.059457Z",
          "shell.execute_reply": "2023-02-23T10:03:08.649642Z"
        },
        "trusted": true,
        "colab": {
          "base_uri": "https://localhost:8080/",
          "height": 269
        },
        "id": "NSuXWykavkO2",
        "outputId": "c1ccded8-5176-4019-b29c-5b98bf0d1b69"
      },
      "execution_count": 42,
      "outputs": [
        {
          "output_type": "execute_result",
          "data": {
            "text/plain": [
              "<pandas.io.formats.style.Styler at 0x7fae451cf160>"
            ],
            "text/html": [
              "<style type=\"text/css\">\n",
              "#T_b046c_row0_col0, #T_b046c_row1_col20, #T_b046c_row3_col19, #T_b046c_row3_col21 {\n",
              "  background-color: #ffaa00;\n",
              "  color: #000000;\n",
              "}\n",
              "#T_b046c_row0_col1, #T_b046c_row0_col3, #T_b046c_row0_col4, #T_b046c_row0_col6, #T_b046c_row0_col9, #T_b046c_row0_col10, #T_b046c_row0_col12, #T_b046c_row0_col13, #T_b046c_row0_col15, #T_b046c_row0_col17, #T_b046c_row0_col18, #T_b046c_row0_col19, #T_b046c_row0_col20, #T_b046c_row0_col21, #T_b046c_row0_col22, #T_b046c_row0_col23, #T_b046c_row1_col0, #T_b046c_row1_col11, #T_b046c_row1_col14, #T_b046c_row1_col17, #T_b046c_row1_col19, #T_b046c_row1_col21, #T_b046c_row1_col22, #T_b046c_row2_col0, #T_b046c_row2_col1, #T_b046c_row3_col2, #T_b046c_row3_col5, #T_b046c_row3_col7, #T_b046c_row3_col8, #T_b046c_row3_col13, #T_b046c_row3_col16, #T_b046c_row3_col17, #T_b046c_row3_col18, #T_b046c_row3_col20, #T_b046c_row3_col22 {\n",
              "  background-color: #ffff00;\n",
              "  color: #000000;\n",
              "}\n",
              "#T_b046c_row0_col2, #T_b046c_row0_col16, #T_b046c_row1_col2, #T_b046c_row1_col5 {\n",
              "  background-color: #ffea00;\n",
              "  color: #000000;\n",
              "}\n",
              "#T_b046c_row0_col5, #T_b046c_row3_col14 {\n",
              "  background-color: #ffee00;\n",
              "  color: #000000;\n",
              "}\n",
              "#T_b046c_row0_col7, #T_b046c_row3_col10 {\n",
              "  background-color: #fff300;\n",
              "  color: #000000;\n",
              "}\n",
              "#T_b046c_row0_col8, #T_b046c_row1_col8, #T_b046c_row3_col11 {\n",
              "  background-color: #fffb00;\n",
              "  color: #000000;\n",
              "}\n",
              "#T_b046c_row0_col11 {\n",
              "  background-color: #fff700;\n",
              "  color: #000000;\n",
              "}\n",
              "#T_b046c_row0_col14 {\n",
              "  background-color: #ffbb00;\n",
              "  color: #000000;\n",
              "}\n",
              "#T_b046c_row1_col1 {\n",
              "  background-color: #ff8700;\n",
              "  color: #f1f1f1;\n",
              "}\n",
              "#T_b046c_row1_col3 {\n",
              "  background-color: #ff4700;\n",
              "  color: #f1f1f1;\n",
              "}\n",
              "#T_b046c_row1_col4, #T_b046c_row1_col13 {\n",
              "  background-color: #ff8e00;\n",
              "  color: #f1f1f1;\n",
              "}\n",
              "#T_b046c_row1_col6 {\n",
              "  background-color: #ff8300;\n",
              "  color: #f1f1f1;\n",
              "}\n",
              "#T_b046c_row1_col7 {\n",
              "  background-color: #ff9700;\n",
              "  color: #000000;\n",
              "}\n",
              "#T_b046c_row1_col9 {\n",
              "  background-color: #ff8200;\n",
              "  color: #f1f1f1;\n",
              "}\n",
              "#T_b046c_row1_col10 {\n",
              "  background-color: #ffa400;\n",
              "  color: #000000;\n",
              "}\n",
              "#T_b046c_row1_col12 {\n",
              "  background-color: #ffb100;\n",
              "  color: #000000;\n",
              "}\n",
              "#T_b046c_row1_col15 {\n",
              "  background-color: #ff8f00;\n",
              "  color: #000000;\n",
              "}\n",
              "#T_b046c_row1_col16, #T_b046c_row2_col2, #T_b046c_row2_col3 {\n",
              "  background-color: #ffd500;\n",
              "  color: #000000;\n",
              "}\n",
              "#T_b046c_row1_col18 {\n",
              "  background-color: #ffd100;\n",
              "  color: #000000;\n",
              "}\n",
              "#T_b046c_row1_col23, #T_b046c_row3_col6 {\n",
              "  background-color: #ffcb00;\n",
              "  color: #000000;\n",
              "}\n",
              "#T_b046c_row2_col4 {\n",
              "  background-color: #ff7f00;\n",
              "  color: #f1f1f1;\n",
              "}\n",
              "#T_b046c_row2_col5 {\n",
              "  background-color: #ff7100;\n",
              "  color: #f1f1f1;\n",
              "}\n",
              "#T_b046c_row2_col6 {\n",
              "  background-color: #ffc400;\n",
              "  color: #000000;\n",
              "}\n",
              "#T_b046c_row2_col7 {\n",
              "  background-color: #ff7500;\n",
              "  color: #f1f1f1;\n",
              "}\n",
              "#T_b046c_row2_col8 {\n",
              "  background-color: #ff6600;\n",
              "  color: #f1f1f1;\n",
              "}\n",
              "#T_b046c_row2_col9 {\n",
              "  background-color: #ffc100;\n",
              "  color: #000000;\n",
              "}\n",
              "#T_b046c_row2_col10 {\n",
              "  background-color: #ff7900;\n",
              "  color: #f1f1f1;\n",
              "}\n",
              "#T_b046c_row2_col11 {\n",
              "  background-color: #ff5e00;\n",
              "  color: #f1f1f1;\n",
              "}\n",
              "#T_b046c_row2_col12, #T_b046c_row2_col13 {\n",
              "  background-color: #ff9c00;\n",
              "  color: #000000;\n",
              "}\n",
              "#T_b046c_row2_col14, #T_b046c_row2_col19, #T_b046c_row2_col20, #T_b046c_row2_col21, #T_b046c_row3_col0 {\n",
              "  background-color: #ff5500;\n",
              "  color: #f1f1f1;\n",
              "}\n",
              "#T_b046c_row2_col15 {\n",
              "  background-color: #ff9900;\n",
              "  color: #000000;\n",
              "}\n",
              "#T_b046c_row2_col16 {\n",
              "  background-color: #ff3f00;\n",
              "  color: #f1f1f1;\n",
              "}\n",
              "#T_b046c_row2_col17, #T_b046c_row2_col22, #T_b046c_row4_col0, #T_b046c_row4_col1, #T_b046c_row4_col2, #T_b046c_row4_col3, #T_b046c_row4_col4, #T_b046c_row4_col5, #T_b046c_row4_col6, #T_b046c_row4_col7, #T_b046c_row4_col8, #T_b046c_row4_col9, #T_b046c_row4_col10, #T_b046c_row4_col11, #T_b046c_row4_col12, #T_b046c_row4_col13, #T_b046c_row4_col14, #T_b046c_row4_col15, #T_b046c_row4_col16, #T_b046c_row4_col17, #T_b046c_row4_col18, #T_b046c_row4_col19, #T_b046c_row4_col20, #T_b046c_row4_col21, #T_b046c_row4_col22, #T_b046c_row4_col23 {\n",
              "  background-color: #ff0000;\n",
              "  color: #f1f1f1;\n",
              "}\n",
              "#T_b046c_row2_col18 {\n",
              "  background-color: #ff2e00;\n",
              "  color: #f1f1f1;\n",
              "}\n",
              "#T_b046c_row2_col23 {\n",
              "  background-color: #ff8b00;\n",
              "  color: #f1f1f1;\n",
              "}\n",
              "#T_b046c_row3_col1 {\n",
              "  background-color: #ff7800;\n",
              "  color: #f1f1f1;\n",
              "}\n",
              "#T_b046c_row3_col3 {\n",
              "  background-color: #ffe300;\n",
              "  color: #000000;\n",
              "}\n",
              "#T_b046c_row3_col4 {\n",
              "  background-color: #fff100;\n",
              "  color: #000000;\n",
              "}\n",
              "#T_b046c_row3_col9 {\n",
              "  background-color: #ffbc00;\n",
              "  color: #000000;\n",
              "}\n",
              "#T_b046c_row3_col12 {\n",
              "  background-color: #ffc700;\n",
              "  color: #000000;\n",
              "}\n",
              "#T_b046c_row3_col15 {\n",
              "  background-color: #ffd700;\n",
              "  color: #000000;\n",
              "}\n",
              "#T_b046c_row3_col23 {\n",
              "  background-color: #fff400;\n",
              "  color: #000000;\n",
              "}\n",
              "</style>\n",
              "<table id=\"T_b046c_\" class=\"dataframe\">\n",
              "  <thead>\n",
              "    <tr>\n",
              "      <th class=\"blank\" >&nbsp;</th>\n",
              "      <th class=\"index_name level0\" >Age_bin</th>\n",
              "      <th class=\"col_heading level0 col0\" colspan=\"3\">1.0</th>\n",
              "      <th class=\"col_heading level0 col3\" colspan=\"3\">2.0</th>\n",
              "      <th class=\"col_heading level0 col6\" colspan=\"3\">3.0</th>\n",
              "      <th class=\"col_heading level0 col9\" colspan=\"3\">4.0</th>\n",
              "      <th class=\"col_heading level0 col12\" colspan=\"3\">5.0</th>\n",
              "      <th class=\"col_heading level0 col15\" colspan=\"3\">6.0</th>\n",
              "      <th class=\"col_heading level0 col18\" colspan=\"3\">7.0</th>\n",
              "      <th class=\"col_heading level0 col21\" colspan=\"2\">8.0</th>\n",
              "      <th class=\"col_heading level0 col23\" >All</th>\n",
              "    </tr>\n",
              "    <tr>\n",
              "      <th class=\"blank\" >&nbsp;</th>\n",
              "      <th class=\"index_name level1\" >Pclass</th>\n",
              "      <th class=\"col_heading level1 col0\" >1</th>\n",
              "      <th class=\"col_heading level1 col1\" >2</th>\n",
              "      <th class=\"col_heading level1 col2\" >3</th>\n",
              "      <th class=\"col_heading level1 col3\" >1</th>\n",
              "      <th class=\"col_heading level1 col4\" >2</th>\n",
              "      <th class=\"col_heading level1 col5\" >3</th>\n",
              "      <th class=\"col_heading level1 col6\" >1</th>\n",
              "      <th class=\"col_heading level1 col7\" >2</th>\n",
              "      <th class=\"col_heading level1 col8\" >3</th>\n",
              "      <th class=\"col_heading level1 col9\" >1</th>\n",
              "      <th class=\"col_heading level1 col10\" >2</th>\n",
              "      <th class=\"col_heading level1 col11\" >3</th>\n",
              "      <th class=\"col_heading level1 col12\" >1</th>\n",
              "      <th class=\"col_heading level1 col13\" >2</th>\n",
              "      <th class=\"col_heading level1 col14\" >3</th>\n",
              "      <th class=\"col_heading level1 col15\" >1</th>\n",
              "      <th class=\"col_heading level1 col16\" >2</th>\n",
              "      <th class=\"col_heading level1 col17\" >3</th>\n",
              "      <th class=\"col_heading level1 col18\" >1</th>\n",
              "      <th class=\"col_heading level1 col19\" >2</th>\n",
              "      <th class=\"col_heading level1 col20\" >3</th>\n",
              "      <th class=\"col_heading level1 col21\" >1</th>\n",
              "      <th class=\"col_heading level1 col22\" >3</th>\n",
              "      <th class=\"col_heading level1 col23\" ></th>\n",
              "    </tr>\n",
              "    <tr>\n",
              "      <th class=\"index_name level0\" >Sex</th>\n",
              "      <th class=\"index_name level1\" >Survived</th>\n",
              "      <th class=\"blank col0\" >&nbsp;</th>\n",
              "      <th class=\"blank col1\" >&nbsp;</th>\n",
              "      <th class=\"blank col2\" >&nbsp;</th>\n",
              "      <th class=\"blank col3\" >&nbsp;</th>\n",
              "      <th class=\"blank col4\" >&nbsp;</th>\n",
              "      <th class=\"blank col5\" >&nbsp;</th>\n",
              "      <th class=\"blank col6\" >&nbsp;</th>\n",
              "      <th class=\"blank col7\" >&nbsp;</th>\n",
              "      <th class=\"blank col8\" >&nbsp;</th>\n",
              "      <th class=\"blank col9\" >&nbsp;</th>\n",
              "      <th class=\"blank col10\" >&nbsp;</th>\n",
              "      <th class=\"blank col11\" >&nbsp;</th>\n",
              "      <th class=\"blank col12\" >&nbsp;</th>\n",
              "      <th class=\"blank col13\" >&nbsp;</th>\n",
              "      <th class=\"blank col14\" >&nbsp;</th>\n",
              "      <th class=\"blank col15\" >&nbsp;</th>\n",
              "      <th class=\"blank col16\" >&nbsp;</th>\n",
              "      <th class=\"blank col17\" >&nbsp;</th>\n",
              "      <th class=\"blank col18\" >&nbsp;</th>\n",
              "      <th class=\"blank col19\" >&nbsp;</th>\n",
              "      <th class=\"blank col20\" >&nbsp;</th>\n",
              "      <th class=\"blank col21\" >&nbsp;</th>\n",
              "      <th class=\"blank col22\" >&nbsp;</th>\n",
              "      <th class=\"blank col23\" >&nbsp;</th>\n",
              "    </tr>\n",
              "  </thead>\n",
              "  <tbody>\n",
              "    <tr>\n",
              "      <th id=\"T_b046c_level0_row0\" class=\"row_heading level0 row0\" rowspan=\"2\">female</th>\n",
              "      <th id=\"T_b046c_level1_row0\" class=\"row_heading level1 row0\" >0</th>\n",
              "      <td id=\"T_b046c_row0_col0\" class=\"data row0 col0\" >1</td>\n",
              "      <td id=\"T_b046c_row0_col1\" class=\"data row0 col1\" >0</td>\n",
              "      <td id=\"T_b046c_row0_col2\" class=\"data row0 col2\" >11</td>\n",
              "      <td id=\"T_b046c_row0_col3\" class=\"data row0 col3\" >0</td>\n",
              "      <td id=\"T_b046c_row0_col4\" class=\"data row0 col4\" >0</td>\n",
              "      <td id=\"T_b046c_row0_col5\" class=\"data row0 col5\" >12</td>\n",
              "      <td id=\"T_b046c_row0_col6\" class=\"data row0 col6\" >1</td>\n",
              "      <td id=\"T_b046c_row0_col7\" class=\"data row0 col7\" >3</td>\n",
              "      <td id=\"T_b046c_row0_col8\" class=\"data row0 col8\" >16</td>\n",
              "      <td id=\"T_b046c_row0_col9\" class=\"data row0 col9\" >0</td>\n",
              "      <td id=\"T_b046c_row0_col10\" class=\"data row0 col10\" >1</td>\n",
              "      <td id=\"T_b046c_row0_col11\" class=\"data row0 col11\" >8</td>\n",
              "      <td id=\"T_b046c_row0_col12\" class=\"data row0 col12\" >1</td>\n",
              "      <td id=\"T_b046c_row0_col13\" class=\"data row0 col13\" >1</td>\n",
              "      <td id=\"T_b046c_row0_col14\" class=\"data row0 col14\" >8</td>\n",
              "      <td id=\"T_b046c_row0_col15\" class=\"data row0 col15\" >0</td>\n",
              "      <td id=\"T_b046c_row0_col16\" class=\"data row0 col16\" >1</td>\n",
              "      <td id=\"T_b046c_row0_col17\" class=\"data row0 col17\" >0</td>\n",
              "      <td id=\"T_b046c_row0_col18\" class=\"data row0 col18\" >0</td>\n",
              "      <td id=\"T_b046c_row0_col19\" class=\"data row0 col19\" >0</td>\n",
              "      <td id=\"T_b046c_row0_col20\" class=\"data row0 col20\" >0</td>\n",
              "      <td id=\"T_b046c_row0_col21\" class=\"data row0 col21\" >0</td>\n",
              "      <td id=\"T_b046c_row0_col22\" class=\"data row0 col22\" >0</td>\n",
              "      <td id=\"T_b046c_row0_col23\" class=\"data row0 col23\" >64</td>\n",
              "    </tr>\n",
              "    <tr>\n",
              "      <th id=\"T_b046c_level1_row1\" class=\"row_heading level1 row1\" >1</th>\n",
              "      <td id=\"T_b046c_row1_col0\" class=\"data row1 col0\" >0</td>\n",
              "      <td id=\"T_b046c_row1_col1\" class=\"data row1 col1\" >8</td>\n",
              "      <td id=\"T_b046c_row1_col2\" class=\"data row1 col2\" >11</td>\n",
              "      <td id=\"T_b046c_row1_col3\" class=\"data row1 col3\" >13</td>\n",
              "      <td id=\"T_b046c_row1_col4\" class=\"data row1 col4\" >8</td>\n",
              "      <td id=\"T_b046c_row1_col5\" class=\"data row1 col5\" >13</td>\n",
              "      <td id=\"T_b046c_row1_col6\" class=\"data row1 col6\" >20</td>\n",
              "      <td id=\"T_b046c_row1_col7\" class=\"data row1 col7\" >25</td>\n",
              "      <td id=\"T_b046c_row1_col8\" class=\"data row1 col8\" >16</td>\n",
              "      <td id=\"T_b046c_row1_col9\" class=\"data row1 col9\" >24</td>\n",
              "      <td id=\"T_b046c_row1_col10\" class=\"data row1 col10\" >16</td>\n",
              "      <td id=\"T_b046c_row1_col11\" class=\"data row1 col11\" >6</td>\n",
              "      <td id=\"T_b046c_row1_col12\" class=\"data row1 col12\" >12</td>\n",
              "      <td id=\"T_b046c_row1_col13\" class=\"data row1 col13\" >9</td>\n",
              "      <td id=\"T_b046c_row1_col14\" class=\"data row1 col14\" >0</td>\n",
              "      <td id=\"T_b046c_row1_col15\" class=\"data row1 col15\" >11</td>\n",
              "      <td id=\"T_b046c_row1_col16\" class=\"data row1 col16\" >2</td>\n",
              "      <td id=\"T_b046c_row1_col17\" class=\"data row1 col17\" >0</td>\n",
              "      <td id=\"T_b046c_row1_col18\" class=\"data row1 col18\" >2</td>\n",
              "      <td id=\"T_b046c_row1_col19\" class=\"data row1 col19\" >0</td>\n",
              "      <td id=\"T_b046c_row1_col20\" class=\"data row1 col20\" >1</td>\n",
              "      <td id=\"T_b046c_row1_col21\" class=\"data row1 col21\" >0</td>\n",
              "      <td id=\"T_b046c_row1_col22\" class=\"data row1 col22\" >0</td>\n",
              "      <td id=\"T_b046c_row1_col23\" class=\"data row1 col23\" >197</td>\n",
              "    </tr>\n",
              "    <tr>\n",
              "      <th id=\"T_b046c_level0_row2\" class=\"row_heading level0 row2\" rowspan=\"2\">male</th>\n",
              "      <th id=\"T_b046c_level1_row2\" class=\"row_heading level1 row2\" >0</th>\n",
              "      <td id=\"T_b046c_row2_col0\" class=\"data row2 col0\" >0</td>\n",
              "      <td id=\"T_b046c_row2_col1\" class=\"data row2 col1\" >0</td>\n",
              "      <td id=\"T_b046c_row2_col2\" class=\"data row2 col2\" >14</td>\n",
              "      <td id=\"T_b046c_row2_col3\" class=\"data row2 col3\" >3</td>\n",
              "      <td id=\"T_b046c_row2_col4\" class=\"data row2 col4\" >9</td>\n",
              "      <td id=\"T_b046c_row2_col5\" class=\"data row2 col5\" >47</td>\n",
              "      <td id=\"T_b046c_row2_col6\" class=\"data row2 col6\" >10</td>\n",
              "      <td id=\"T_b046c_row2_col7\" class=\"data row2 col7\" >33</td>\n",
              "      <td id=\"T_b046c_row2_col8\" class=\"data row2 col8\" >83</td>\n",
              "      <td id=\"T_b046c_row2_col9\" class=\"data row2 col9\" >12</td>\n",
              "      <td id=\"T_b046c_row2_col10\" class=\"data row2 col10\" >23</td>\n",
              "      <td id=\"T_b046c_row2_col11\" class=\"data row2 col11\" >42</td>\n",
              "      <td id=\"T_b046c_row2_col12\" class=\"data row2 col12\" >15</td>\n",
              "      <td id=\"T_b046c_row2_col13\" class=\"data row2 col13\" >8</td>\n",
              "      <td id=\"T_b046c_row2_col14\" class=\"data row2 col14\" >20</td>\n",
              "      <td id=\"T_b046c_row2_col15\" class=\"data row2 col15\" >10</td>\n",
              "      <td id=\"T_b046c_row2_col16\" class=\"data row2 col16\" >9</td>\n",
              "      <td id=\"T_b046c_row2_col17\" class=\"data row2 col17\" >5</td>\n",
              "      <td id=\"T_b046c_row2_col18\" class=\"data row2 col18\" >9</td>\n",
              "      <td id=\"T_b046c_row2_col19\" class=\"data row2 col19\" >2</td>\n",
              "      <td id=\"T_b046c_row2_col20\" class=\"data row2 col20\" >2</td>\n",
              "      <td id=\"T_b046c_row2_col21\" class=\"data row2 col21\" >2</td>\n",
              "      <td id=\"T_b046c_row2_col22\" class=\"data row2 col22\" >2</td>\n",
              "      <td id=\"T_b046c_row2_col23\" class=\"data row2 col23\" >360</td>\n",
              "    </tr>\n",
              "    <tr>\n",
              "      <th id=\"T_b046c_level1_row3\" class=\"row_heading level1 row3\" >1</th>\n",
              "      <td id=\"T_b046c_row3_col0\" class=\"data row3 col0\" >2</td>\n",
              "      <td id=\"T_b046c_row3_col1\" class=\"data row3 col1\" >9</td>\n",
              "      <td id=\"T_b046c_row3_col2\" class=\"data row3 col2\" >8</td>\n",
              "      <td id=\"T_b046c_row3_col3\" class=\"data row3 col3\" >2</td>\n",
              "      <td id=\"T_b046c_row3_col4\" class=\"data row3 col4\" >1</td>\n",
              "      <td id=\"T_b046c_row3_col5\" class=\"data row3 col5\" >7</td>\n",
              "      <td id=\"T_b046c_row3_col6\" class=\"data row3 col6\" >9</td>\n",
              "      <td id=\"T_b046c_row3_col7\" class=\"data row3 col7\" >0</td>\n",
              "      <td id=\"T_b046c_row3_col8\" class=\"data row3 col8\" >14</td>\n",
              "      <td id=\"T_b046c_row3_col9\" class=\"data row3 col9\" >13</td>\n",
              "      <td id=\"T_b046c_row3_col10\" class=\"data row3 col10\" >3</td>\n",
              "      <td id=\"T_b046c_row3_col11\" class=\"data row3 col11\" >7</td>\n",
              "      <td id=\"T_b046c_row3_col12\" class=\"data row3 col12\" >9</td>\n",
              "      <td id=\"T_b046c_row3_col13\" class=\"data row3 col13\" >1</td>\n",
              "      <td id=\"T_b046c_row3_col14\" class=\"data row3 col14\" >2</td>\n",
              "      <td id=\"T_b046c_row3_col15\" class=\"data row3 col15\" >4</td>\n",
              "      <td id=\"T_b046c_row3_col16\" class=\"data row3 col16\" >0</td>\n",
              "      <td id=\"T_b046c_row3_col17\" class=\"data row3 col17\" >0</td>\n",
              "      <td id=\"T_b046c_row3_col18\" class=\"data row3 col18\" >0</td>\n",
              "      <td id=\"T_b046c_row3_col19\" class=\"data row3 col19\" >1</td>\n",
              "      <td id=\"T_b046c_row3_col20\" class=\"data row3 col20\" >0</td>\n",
              "      <td id=\"T_b046c_row3_col21\" class=\"data row3 col21\" >1</td>\n",
              "      <td id=\"T_b046c_row3_col22\" class=\"data row3 col22\" >0</td>\n",
              "      <td id=\"T_b046c_row3_col23\" class=\"data row3 col23\" >93</td>\n",
              "    </tr>\n",
              "    <tr>\n",
              "      <th id=\"T_b046c_level0_row4\" class=\"row_heading level0 row4\" >All</th>\n",
              "      <th id=\"T_b046c_level1_row4\" class=\"row_heading level1 row4\" ></th>\n",
              "      <td id=\"T_b046c_row4_col0\" class=\"data row4 col0\" >3</td>\n",
              "      <td id=\"T_b046c_row4_col1\" class=\"data row4 col1\" >17</td>\n",
              "      <td id=\"T_b046c_row4_col2\" class=\"data row4 col2\" >44</td>\n",
              "      <td id=\"T_b046c_row4_col3\" class=\"data row4 col3\" >18</td>\n",
              "      <td id=\"T_b046c_row4_col4\" class=\"data row4 col4\" >18</td>\n",
              "      <td id=\"T_b046c_row4_col5\" class=\"data row4 col5\" >79</td>\n",
              "      <td id=\"T_b046c_row4_col6\" class=\"data row4 col6\" >40</td>\n",
              "      <td id=\"T_b046c_row4_col7\" class=\"data row4 col7\" >61</td>\n",
              "      <td id=\"T_b046c_row4_col8\" class=\"data row4 col8\" >129</td>\n",
              "      <td id=\"T_b046c_row4_col9\" class=\"data row4 col9\" >49</td>\n",
              "      <td id=\"T_b046c_row4_col10\" class=\"data row4 col10\" >43</td>\n",
              "      <td id=\"T_b046c_row4_col11\" class=\"data row4 col11\" >63</td>\n",
              "      <td id=\"T_b046c_row4_col12\" class=\"data row4 col12\" >37</td>\n",
              "      <td id=\"T_b046c_row4_col13\" class=\"data row4 col13\" >19</td>\n",
              "      <td id=\"T_b046c_row4_col14\" class=\"data row4 col14\" >30</td>\n",
              "      <td id=\"T_b046c_row4_col15\" class=\"data row4 col15\" >25</td>\n",
              "      <td id=\"T_b046c_row4_col16\" class=\"data row4 col16\" >12</td>\n",
              "      <td id=\"T_b046c_row4_col17\" class=\"data row4 col17\" >5</td>\n",
              "      <td id=\"T_b046c_row4_col18\" class=\"data row4 col18\" >11</td>\n",
              "      <td id=\"T_b046c_row4_col19\" class=\"data row4 col19\" >3</td>\n",
              "      <td id=\"T_b046c_row4_col20\" class=\"data row4 col20\" >3</td>\n",
              "      <td id=\"T_b046c_row4_col21\" class=\"data row4 col21\" >3</td>\n",
              "      <td id=\"T_b046c_row4_col22\" class=\"data row4 col22\" >2</td>\n",
              "      <td id=\"T_b046c_row4_col23\" class=\"data row4 col23\" >714</td>\n",
              "    </tr>\n",
              "  </tbody>\n",
              "</table>\n"
            ]
          },
          "metadata": {},
          "execution_count": 42
        }
      ]
    },
    {
      "cell_type": "markdown",
      "source": [
        "For passengers in Age_bin = 1 (younger than 10) : All male in Pclass 1 and 2 survived\n",
        "\n",
        "All female in Pclass 3 and Age_bin = 5 died. \n",
        "\n",
        "(Survival rate for female in Pclass 3 and Age_bin = 4 is below 50%)\n",
        "\n",
        "(Survival rate for male in Pclass 1 and Age_bin = 4 is above 50%)\n",
        "\n"
      ],
      "metadata": {
        "_uuid": "57605b4aefcee3d5ff35c530fdff83c6ffccb3db",
        "_cell_guid": "8af62a6c-65e4-4383-9ea9-daae642f0427",
        "id": "onoUTsWnvkO2"
      }
    },
    {
      "cell_type": "code",
      "source": [
        "# in Pclass 1 and 2 all men in Age_bin = 1 survived\n",
        "df_test.loc[ (df_test.Sex == 'male') & (df_test.Pclass == 1) & (df_test.Age_bin == 1), 'Survived'] = 1\n",
        "df_test.loc[ (df_test.Sex == 'male') & (df_test.Pclass == 2) & (df_test.Age_bin == 1), 'Survived'] = 1"
      ],
      "metadata": {
        "_uuid": "bc2d2102e698e2e1d02b3b50d6eecd7b5ce4f3fa",
        "_cell_guid": "44cc892a-5f66-4768-947d-029ec46f8b6f",
        "execution": {
          "iopub.status.busy": "2023-02-23T10:03:08.652472Z",
          "iopub.execute_input": "2023-02-23T10:03:08.652738Z",
          "iopub.status.idle": "2023-02-23T10:03:08.666851Z",
          "shell.execute_reply.started": "2023-02-23T10:03:08.652686Z",
          "shell.execute_reply": "2023-02-23T10:03:08.665869Z"
        },
        "trusted": true,
        "id": "_X3QGW27vkO3"
      },
      "execution_count": 43,
      "outputs": []
    },
    {
      "cell_type": "markdown",
      "source": [
        "**SibSp and Parch**"
      ],
      "metadata": {
        "_uuid": "747b94caf67dd939f761453c7d53e187bbf7d815",
        "_cell_guid": "6027c753-0a2a-4fe0-b9a8-b151aba7db7e",
        "id": "esyvyWxLvkO3"
      }
    },
    {
      "cell_type": "code",
      "source": [
        "sns.catplot('SibSp','Survived', col='Pclass' , row = 'Sex', kind='point', data=df_train);"
      ],
      "metadata": {
        "_uuid": "118acf7db03474aa7bb41588f1e1b7475ab6abb8",
        "_cell_guid": "7664f482-0caa-4614-8fe1-419d5b25eeb4",
        "execution": {
          "iopub.status.busy": "2023-02-23T10:03:08.668671Z",
          "iopub.execute_input": "2023-02-23T10:03:08.668964Z",
          "iopub.status.idle": "2023-02-23T10:03:11.566040Z",
          "shell.execute_reply.started": "2023-02-23T10:03:08.668915Z",
          "shell.execute_reply": "2023-02-23T10:03:11.565269Z"
        },
        "trusted": true,
        "colab": {
          "base_uri": "https://localhost:8080/",
          "height": 725
        },
        "id": "RCcOGY5kvkO3",
        "outputId": "06c59383-a8d3-421b-8048-09f712fdc26b"
      },
      "execution_count": 44,
      "outputs": [
        {
          "output_type": "display_data",
          "data": {
            "text/plain": [
              "<Figure size 1080x720 with 6 Axes>"
            ],
            "image/png": "[encoded data removed]"
          },
          "metadata": {}
        }
      ]
    },
    {
      "cell_type": "code",
      "source": [
        "pd.crosstab([df_train.Sex, df_train.Survived], [df_train.SibSp, df_train.Pclass], margins=True).style.background_gradient(cmap='autumn_r')"
      ],
      "metadata": {
        "_uuid": "9aaf8e3e51e52aac54cd0818b7284ff9e3ea876e",
        "_cell_guid": "9a22dfd7-5f7a-42d5-9e0f-ba72238f9f40",
        "execution": {
          "iopub.status.busy": "2023-02-23T10:03:11.567067Z",
          "iopub.execute_input": "2023-02-23T10:03:11.567313Z",
          "iopub.status.idle": "2023-02-23T10:03:11.969306Z",
          "shell.execute_reply.started": "2023-02-23T10:03:11.567267Z",
          "shell.execute_reply": "2023-02-23T10:03:11.968467Z"
        },
        "trusted": true,
        "colab": {
          "base_uri": "https://localhost:8080/",
          "height": 269
        },
        "id": "nNtBj5IpvkO3",
        "outputId": "e85872b7-7e9c-4a17-9a46-39dadbaa1c7d"
      },
      "execution_count": 45,
      "outputs": [
        {
          "output_type": "execute_result",
          "data": {
            "text/plain": [
              "<pandas.io.formats.style.Styler at 0x7fae3bcb49d0>"
            ],
            "text/html": [
              "<style type=\"text/css\">\n",
              "#T_60e97_row0_col0, #T_60e97_row0_col1, #T_60e97_row0_col2, #T_60e97_row0_col3, #T_60e97_row0_col4, #T_60e97_row0_col6, #T_60e97_row0_col7, #T_60e97_row0_col9, #T_60e97_row0_col10, #T_60e97_row0_col15, #T_60e97_row1_col13, #T_60e97_row1_col14, #T_60e97_row2_col10, #T_60e97_row3_col5, #T_60e97_row3_col8, #T_60e97_row3_col9, #T_60e97_row3_col10, #T_60e97_row3_col11, #T_60e97_row3_col12, #T_60e97_row3_col13, #T_60e97_row3_col14 {\n",
              "  background-color: #ffff00;\n",
              "  color: #000000;\n",
              "}\n",
              "#T_60e97_row0_col5 {\n",
              "  background-color: #ffd900;\n",
              "  color: #000000;\n",
              "}\n",
              "#T_60e97_row0_col8 {\n",
              "  background-color: #ffdb00;\n",
              "  color: #000000;\n",
              "}\n",
              "#T_60e97_row0_col11 {\n",
              "  background-color: #ff6a00;\n",
              "  color: #f1f1f1;\n",
              "}\n",
              "#T_60e97_row0_col12 {\n",
              "  background-color: #ffd200;\n",
              "  color: #000000;\n",
              "}\n",
              "#T_60e97_row0_col13, #T_60e97_row2_col3, #T_60e97_row2_col6, #T_60e97_row3_col6 {\n",
              "  background-color: #ffcc00;\n",
              "  color: #000000;\n",
              "}\n",
              "#T_60e97_row0_col14, #T_60e97_row2_col0, #T_60e97_row2_col8 {\n",
              "  background-color: #ff9200;\n",
              "  color: #000000;\n",
              "}\n",
              "#T_60e97_row1_col0 {\n",
              "  background-color: #ffa700;\n",
              "  color: #000000;\n",
              "}\n",
              "#T_60e97_row1_col1, #T_60e97_row2_col4 {\n",
              "  background-color: #ffac00;\n",
              "  color: #000000;\n",
              "}\n",
              "#T_60e97_row1_col2 {\n",
              "  background-color: #fff300;\n",
              "  color: #000000;\n",
              "}\n",
              "#T_60e97_row1_col3 {\n",
              "  background-color: #ff7a00;\n",
              "  color: #f1f1f1;\n",
              "}\n",
              "#T_60e97_row1_col4 {\n",
              "  background-color: #ff9300;\n",
              "  color: #000000;\n",
              "}\n",
              "#T_60e97_row1_col5 {\n",
              "  background-color: #ffe700;\n",
              "  color: #000000;\n",
              "}\n",
              "#T_60e97_row1_col6 {\n",
              "  background-color: #ff6600;\n",
              "  color: #f1f1f1;\n",
              "}\n",
              "#T_60e97_row1_col7 {\n",
              "  background-color: #ff9f00;\n",
              "  color: #000000;\n",
              "}\n",
              "#T_60e97_row1_col8 {\n",
              "  background-color: #ffc900;\n",
              "  color: #000000;\n",
              "}\n",
              "#T_60e97_row1_col9 {\n",
              "  background-color: #ff5500;\n",
              "  color: #f1f1f1;\n",
              "}\n",
              "#T_60e97_row1_col10, #T_60e97_row4_col0, #T_60e97_row4_col1, #T_60e97_row4_col2, #T_60e97_row4_col3, #T_60e97_row4_col4, #T_60e97_row4_col5, #T_60e97_row4_col6, #T_60e97_row4_col7, #T_60e97_row4_col8, #T_60e97_row4_col9, #T_60e97_row4_col10, #T_60e97_row4_col11, #T_60e97_row4_col12, #T_60e97_row4_col13, #T_60e97_row4_col14, #T_60e97_row4_col15 {\n",
              "  background-color: #ff0000;\n",
              "  color: #f1f1f1;\n",
              "}\n",
              "#T_60e97_row1_col11 {\n",
              "  background-color: #ffea00;\n",
              "  color: #000000;\n",
              "}\n",
              "#T_60e97_row1_col12 {\n",
              "  background-color: #fff000;\n",
              "  color: #000000;\n",
              "}\n",
              "#T_60e97_row1_col15, #T_60e97_row3_col3 {\n",
              "  background-color: #ffcf00;\n",
              "  color: #000000;\n",
              "}\n",
              "#T_60e97_row2_col1 {\n",
              "  background-color: #ff7300;\n",
              "  color: #f1f1f1;\n",
              "}\n",
              "#T_60e97_row2_col2 {\n",
              "  background-color: #ff5d00;\n",
              "  color: #f1f1f1;\n",
              "}\n",
              "#T_60e97_row2_col5 {\n",
              "  background-color: #ffa800;\n",
              "  color: #000000;\n",
              "}\n",
              "#T_60e97_row2_col7 {\n",
              "  background-color: #ff7f00;\n",
              "  color: #f1f1f1;\n",
              "}\n",
              "#T_60e97_row2_col9, #T_60e97_row2_col11 {\n",
              "  background-color: #ffaa00;\n",
              "  color: #000000;\n",
              "}\n",
              "#T_60e97_row2_col12 {\n",
              "  background-color: #ff6900;\n",
              "  color: #f1f1f1;\n",
              "}\n",
              "#T_60e97_row2_col13 {\n",
              "  background-color: #ff3300;\n",
              "  color: #f1f1f1;\n",
              "}\n",
              "#T_60e97_row2_col14 {\n",
              "  background-color: #ff6d00;\n",
              "  color: #f1f1f1;\n",
              "}\n",
              "#T_60e97_row2_col15 {\n",
              "  background-color: #ff8500;\n",
              "  color: #f1f1f1;\n",
              "}\n",
              "#T_60e97_row3_col0 {\n",
              "  background-color: #ffcb00;\n",
              "  color: #000000;\n",
              "}\n",
              "#T_60e97_row3_col1 {\n",
              "  background-color: #fff200;\n",
              "  color: #000000;\n",
              "}\n",
              "#T_60e97_row3_col2 {\n",
              "  background-color: #fffe00;\n",
              "  color: #000000;\n",
              "}\n",
              "#T_60e97_row3_col4 {\n",
              "  background-color: #ffec00;\n",
              "  color: #000000;\n",
              "}\n",
              "#T_60e97_row3_col7 {\n",
              "  background-color: #ffdf00;\n",
              "  color: #000000;\n",
              "}\n",
              "#T_60e97_row3_col15 {\n",
              "  background-color: #fff700;\n",
              "  color: #000000;\n",
              "}\n",
              "</style>\n",
              "<table id=\"T_60e97_\" class=\"dataframe\">\n",
              "  <thead>\n",
              "    <tr>\n",
              "      <th class=\"blank\" >&nbsp;</th>\n",
              "      <th class=\"index_name level0\" >SibSp</th>\n",
              "      <th class=\"col_heading level0 col0\" colspan=\"3\">0</th>\n",
              "      <th class=\"col_heading level0 col3\" colspan=\"3\">1</th>\n",
              "      <th class=\"col_heading level0 col6\" colspan=\"3\">2</th>\n",
              "      <th class=\"col_heading level0 col9\" colspan=\"3\">3</th>\n",
              "      <th class=\"col_heading level0 col12\" >4</th>\n",
              "      <th class=\"col_heading level0 col13\" >5</th>\n",
              "      <th class=\"col_heading level0 col14\" >8</th>\n",
              "      <th class=\"col_heading level0 col15\" >All</th>\n",
              "    </tr>\n",
              "    <tr>\n",
              "      <th class=\"blank\" >&nbsp;</th>\n",
              "      <th class=\"index_name level1\" >Pclass</th>\n",
              "      <th class=\"col_heading level1 col0\" >1</th>\n",
              "      <th class=\"col_heading level1 col1\" >2</th>\n",
              "      <th class=\"col_heading level1 col2\" >3</th>\n",
              "      <th class=\"col_heading level1 col3\" >1</th>\n",
              "      <th class=\"col_heading level1 col4\" >2</th>\n",
              "      <th class=\"col_heading level1 col5\" >3</th>\n",
              "      <th class=\"col_heading level1 col6\" >1</th>\n",
              "      <th class=\"col_heading level1 col7\" >2</th>\n",
              "      <th class=\"col_heading level1 col8\" >3</th>\n",
              "      <th class=\"col_heading level1 col9\" >1</th>\n",
              "      <th class=\"col_heading level1 col10\" >2</th>\n",
              "      <th class=\"col_heading level1 col11\" >3</th>\n",
              "      <th class=\"col_heading level1 col12\" >3</th>\n",
              "      <th class=\"col_heading level1 col13\" >3</th>\n",
              "      <th class=\"col_heading level1 col14\" >3</th>\n",
              "      <th class=\"col_heading level1 col15\" ></th>\n",
              "    </tr>\n",
              "    <tr>\n",
              "      <th class=\"index_name level0\" >Sex</th>\n",
              "      <th class=\"index_name level1\" >Survived</th>\n",
              "      <th class=\"blank col0\" >&nbsp;</th>\n",
              "      <th class=\"blank col1\" >&nbsp;</th>\n",
              "      <th class=\"blank col2\" >&nbsp;</th>\n",
              "      <th class=\"blank col3\" >&nbsp;</th>\n",
              "      <th class=\"blank col4\" >&nbsp;</th>\n",
              "      <th class=\"blank col5\" >&nbsp;</th>\n",
              "      <th class=\"blank col6\" >&nbsp;</th>\n",
              "      <th class=\"blank col7\" >&nbsp;</th>\n",
              "      <th class=\"blank col8\" >&nbsp;</th>\n",
              "      <th class=\"blank col9\" >&nbsp;</th>\n",
              "      <th class=\"blank col10\" >&nbsp;</th>\n",
              "      <th class=\"blank col11\" >&nbsp;</th>\n",
              "      <th class=\"blank col12\" >&nbsp;</th>\n",
              "      <th class=\"blank col13\" >&nbsp;</th>\n",
              "      <th class=\"blank col14\" >&nbsp;</th>\n",
              "      <th class=\"blank col15\" >&nbsp;</th>\n",
              "    </tr>\n",
              "  </thead>\n",
              "  <tbody>\n",
              "    <tr>\n",
              "      <th id=\"T_60e97_level0_row0\" class=\"row_heading level0 row0\" rowspan=\"2\">female</th>\n",
              "      <th id=\"T_60e97_level1_row0\" class=\"row_heading level1 row0\" >0</th>\n",
              "      <td id=\"T_60e97_row0_col0\" class=\"data row0 col0\" >1</td>\n",
              "      <td id=\"T_60e97_row0_col1\" class=\"data row0 col1\" >3</td>\n",
              "      <td id=\"T_60e97_row0_col2\" class=\"data row0 col2\" >33</td>\n",
              "      <td id=\"T_60e97_row0_col3\" class=\"data row0 col3\" >2</td>\n",
              "      <td id=\"T_60e97_row0_col4\" class=\"data row0 col4\" >3</td>\n",
              "      <td id=\"T_60e97_row0_col5\" class=\"data row0 col5\" >21</td>\n",
              "      <td id=\"T_60e97_row0_col6\" class=\"data row0 col6\" >0</td>\n",
              "      <td id=\"T_60e97_row0_col7\" class=\"data row0 col7\" >0</td>\n",
              "      <td id=\"T_60e97_row0_col8\" class=\"data row0 col8\" >3</td>\n",
              "      <td id=\"T_60e97_row0_col9\" class=\"data row0 col9\" >0</td>\n",
              "      <td id=\"T_60e97_row0_col10\" class=\"data row0 col10\" >0</td>\n",
              "      <td id=\"T_60e97_row0_col11\" class=\"data row0 col11\" >7</td>\n",
              "      <td id=\"T_60e97_row0_col12\" class=\"data row0 col12\" >4</td>\n",
              "      <td id=\"T_60e97_row0_col13\" class=\"data row0 col13\" >1</td>\n",
              "      <td id=\"T_60e97_row0_col14\" class=\"data row0 col14\" >3</td>\n",
              "      <td id=\"T_60e97_row0_col15\" class=\"data row0 col15\" >81</td>\n",
              "    </tr>\n",
              "    <tr>\n",
              "      <th id=\"T_60e97_level1_row1\" class=\"row_heading level1 row1\" >1</th>\n",
              "      <td id=\"T_60e97_row1_col0\" class=\"data row1 col0\" >48</td>\n",
              "      <td id=\"T_60e97_row1_col1\" class=\"data row1 col1\" >41</td>\n",
              "      <td id=\"T_60e97_row1_col2\" class=\"data row1 col2\" >48</td>\n",
              "      <td id=\"T_60e97_row1_col3\" class=\"data row1 col3\" >38</td>\n",
              "      <td id=\"T_60e97_row1_col4\" class=\"data row1 col4\" >25</td>\n",
              "      <td id=\"T_60e97_row1_col5\" class=\"data row1 col5\" >17</td>\n",
              "      <td id=\"T_60e97_row1_col6\" class=\"data row1 col6\" >3</td>\n",
              "      <td id=\"T_60e97_row1_col7\" class=\"data row1 col7\" >3</td>\n",
              "      <td id=\"T_60e97_row1_col8\" class=\"data row1 col8\" >4</td>\n",
              "      <td id=\"T_60e97_row1_col9\" class=\"data row1 col9\" >2</td>\n",
              "      <td id=\"T_60e97_row1_col10\" class=\"data row1 col10\" >1</td>\n",
              "      <td id=\"T_60e97_row1_col11\" class=\"data row1 col11\" >1</td>\n",
              "      <td id=\"T_60e97_row1_col12\" class=\"data row1 col12\" >2</td>\n",
              "      <td id=\"T_60e97_row1_col13\" class=\"data row1 col13\" >0</td>\n",
              "      <td id=\"T_60e97_row1_col14\" class=\"data row1 col14\" >0</td>\n",
              "      <td id=\"T_60e97_row1_col15\" class=\"data row1 col15\" >233</td>\n",
              "    </tr>\n",
              "    <tr>\n",
              "      <th id=\"T_60e97_level0_row2\" class=\"row_heading level0 row2\" rowspan=\"2\">male</th>\n",
              "      <th id=\"T_60e97_level1_row2\" class=\"row_heading level1 row2\" >0</th>\n",
              "      <td id=\"T_60e97_row2_col0\" class=\"data row2 col0\" >59</td>\n",
              "      <td id=\"T_60e97_row2_col1\" class=\"data row2 col1\" >67</td>\n",
              "      <td id=\"T_60e97_row2_col2\" class=\"data row2 col2\" >235</td>\n",
              "      <td id=\"T_60e97_row2_col3\" class=\"data row2 col3\" >16</td>\n",
              "      <td id=\"T_60e97_row2_col4\" class=\"data row2 col4\" >20</td>\n",
              "      <td id=\"T_60e97_row2_col5\" class=\"data row2 col5\" >35</td>\n",
              "      <td id=\"T_60e97_row2_col6\" class=\"data row2 col6\" >1</td>\n",
              "      <td id=\"T_60e97_row2_col7\" class=\"data row2 col7\" >4</td>\n",
              "      <td id=\"T_60e97_row2_col8\" class=\"data row2 col8\" >7</td>\n",
              "      <td id=\"T_60e97_row2_col9\" class=\"data row2 col9\" >1</td>\n",
              "      <td id=\"T_60e97_row2_col10\" class=\"data row2 col10\" >0</td>\n",
              "      <td id=\"T_60e97_row2_col11\" class=\"data row2 col11\" >4</td>\n",
              "      <td id=\"T_60e97_row2_col12\" class=\"data row2 col12\" >11</td>\n",
              "      <td id=\"T_60e97_row2_col13\" class=\"data row2 col13\" >4</td>\n",
              "      <td id=\"T_60e97_row2_col14\" class=\"data row2 col14\" >4</td>\n",
              "      <td id=\"T_60e97_row2_col15\" class=\"data row2 col15\" >468</td>\n",
              "    </tr>\n",
              "    <tr>\n",
              "      <th id=\"T_60e97_level1_row3\" class=\"row_heading level1 row3\" >1</th>\n",
              "      <td id=\"T_60e97_row3_col0\" class=\"data row3 col0\" >29</td>\n",
              "      <td id=\"T_60e97_row3_col1\" class=\"data row3 col1\" >9</td>\n",
              "      <td id=\"T_60e97_row3_col2\" class=\"data row3 col2\" >35</td>\n",
              "      <td id=\"T_60e97_row3_col3\" class=\"data row3 col3\" >15</td>\n",
              "      <td id=\"T_60e97_row3_col4\" class=\"data row3 col4\" >7</td>\n",
              "      <td id=\"T_60e97_row3_col5\" class=\"data row3 col5\" >10</td>\n",
              "      <td id=\"T_60e97_row3_col6\" class=\"data row3 col6\" >1</td>\n",
              "      <td id=\"T_60e97_row3_col7\" class=\"data row3 col7\" >1</td>\n",
              "      <td id=\"T_60e97_row3_col8\" class=\"data row3 col8\" >1</td>\n",
              "      <td id=\"T_60e97_row3_col9\" class=\"data row3 col9\" >0</td>\n",
              "      <td id=\"T_60e97_row3_col10\" class=\"data row3 col10\" >0</td>\n",
              "      <td id=\"T_60e97_row3_col11\" class=\"data row3 col11\" >0</td>\n",
              "      <td id=\"T_60e97_row3_col12\" class=\"data row3 col12\" >1</td>\n",
              "      <td id=\"T_60e97_row3_col13\" class=\"data row3 col13\" >0</td>\n",
              "      <td id=\"T_60e97_row3_col14\" class=\"data row3 col14\" >0</td>\n",
              "      <td id=\"T_60e97_row3_col15\" class=\"data row3 col15\" >109</td>\n",
              "    </tr>\n",
              "    <tr>\n",
              "      <th id=\"T_60e97_level0_row4\" class=\"row_heading level0 row4\" >All</th>\n",
              "      <th id=\"T_60e97_level1_row4\" class=\"row_heading level1 row4\" ></th>\n",
              "      <td id=\"T_60e97_row4_col0\" class=\"data row4 col0\" >137</td>\n",
              "      <td id=\"T_60e97_row4_col1\" class=\"data row4 col1\" >120</td>\n",
              "      <td id=\"T_60e97_row4_col2\" class=\"data row4 col2\" >351</td>\n",
              "      <td id=\"T_60e97_row4_col3\" class=\"data row4 col3\" >71</td>\n",
              "      <td id=\"T_60e97_row4_col4\" class=\"data row4 col4\" >55</td>\n",
              "      <td id=\"T_60e97_row4_col5\" class=\"data row4 col5\" >83</td>\n",
              "      <td id=\"T_60e97_row4_col6\" class=\"data row4 col6\" >5</td>\n",
              "      <td id=\"T_60e97_row4_col7\" class=\"data row4 col7\" >8</td>\n",
              "      <td id=\"T_60e97_row4_col8\" class=\"data row4 col8\" >15</td>\n",
              "      <td id=\"T_60e97_row4_col9\" class=\"data row4 col9\" >3</td>\n",
              "      <td id=\"T_60e97_row4_col10\" class=\"data row4 col10\" >1</td>\n",
              "      <td id=\"T_60e97_row4_col11\" class=\"data row4 col11\" >12</td>\n",
              "      <td id=\"T_60e97_row4_col12\" class=\"data row4 col12\" >18</td>\n",
              "      <td id=\"T_60e97_row4_col13\" class=\"data row4 col13\" >5</td>\n",
              "      <td id=\"T_60e97_row4_col14\" class=\"data row4 col14\" >7</td>\n",
              "      <td id=\"T_60e97_row4_col15\" class=\"data row4 col15\" >891</td>\n",
              "    </tr>\n",
              "  </tbody>\n",
              "</table>\n"
            ]
          },
          "metadata": {},
          "execution_count": 45
        }
      ]
    },
    {
      "cell_type": "markdown",
      "source": [
        "For males, no survival rate above 0.5 for any values of SibSp.\n",
        "For females, passengers with SibSp = 3 and Pclass = 3 died, also all females with SibSp > 4 died.\n",
        "For females with SibSp = 1 and Pclass = 3 survival rate is below 0.5"
      ],
      "metadata": {
        "_uuid": "26aa63ddac2e81f4e72706a035b62dfd0ce60e4b",
        "_cell_guid": "3901a25e-e503-4608-94d1-386c47ebdff6",
        "id": "DkGbyfJpvkO3"
      }
    },
    {
      "cell_type": "code",
      "source": [
        "# all females with SibSp > 7 died\n",
        "df_test.loc[ (df_test.Sex == 'female') & (df_test.SibSp > 7) , 'Survived'] = 0"
      ],
      "metadata": {
        "_uuid": "7b5cd71b5c35fda0526c3c978a49fd288ac4601b",
        "_cell_guid": "920ae833-cc78-4c62-927b-b3a3a52fbe9b",
        "execution": {
          "iopub.status.busy": "2023-02-23T10:03:11.971068Z",
          "iopub.execute_input": "2023-02-23T10:03:11.971452Z",
          "iopub.status.idle": "2023-02-23T10:03:11.980904Z",
          "shell.execute_reply.started": "2023-02-23T10:03:11.971380Z",
          "shell.execute_reply": "2023-02-23T10:03:11.979806Z"
        },
        "trusted": true,
        "id": "aNRIYWF4vkO3"
      },
      "execution_count": 46,
      "outputs": []
    },
    {
      "cell_type": "code",
      "source": [
        "sns.catplot('Parch','Survived', col='Pclass' , row = 'Sex', kind='point', data=df_train);"
      ],
      "metadata": {
        "_uuid": "7b6172a9ee094ee03e0d8ff0cb030c7fcc4afad8",
        "_cell_guid": "f0ddf2ce-3d60-4500-8fce-38e1e1bb0e42",
        "execution": {
          "iopub.status.busy": "2023-02-23T10:03:11.982117Z",
          "iopub.execute_input": "2023-02-23T10:03:11.982403Z",
          "iopub.status.idle": "2023-02-23T10:03:14.665631Z",
          "shell.execute_reply.started": "2023-02-23T10:03:11.982357Z",
          "shell.execute_reply": "2023-02-23T10:03:14.664670Z"
        },
        "trusted": true,
        "colab": {
          "base_uri": "https://localhost:8080/",
          "height": 725
        },
        "id": "-hQ6J_PYvkO4",
        "outputId": "362f5c17-fb23-4dfa-ac34-6d6016905c3f"
      },
      "execution_count": 47,
      "outputs": [
        {
          "output_type": "display_data",
          "data": {
            "text/plain": [
              "<Figure size 1080x720 with 6 Axes>"
            ],
            "image/png": "[encoded data removed]"
          },
          "metadata": {}
        }
      ]
    },
    {
      "cell_type": "code",
      "source": [
        "pd.crosstab([df_train.Sex, df_train.Survived], [df_train.Parch, df_train.Pclass], margins=True).style.background_gradient(cmap='autumn_r')"
      ],
      "metadata": {
        "_uuid": "37ce56a44ebaf5c40528bb5985dafbc7a64dc346",
        "_cell_guid": "b364bf8a-06c7-4868-a62a-b16ad732f9eb",
        "execution": {
          "iopub.status.busy": "2023-02-23T10:03:14.667103Z",
          "iopub.execute_input": "2023-02-23T10:03:14.667373Z",
          "iopub.status.idle": "2023-02-23T10:03:15.077345Z",
          "shell.execute_reply.started": "2023-02-23T10:03:14.667329Z",
          "shell.execute_reply": "2023-02-23T10:03:15.076030Z"
        },
        "trusted": true,
        "colab": {
          "base_uri": "https://localhost:8080/",
          "height": 269
        },
        "id": "En68aDiKvkO4",
        "outputId": "9c9f7790-ce75-4967-90b8-e104ba9f1f29"
      },
      "execution_count": 48,
      "outputs": [
        {
          "output_type": "execute_result",
          "data": {
            "text/plain": [
              "<pandas.io.formats.style.Styler at 0x7fae4257fbb0>"
            ],
            "text/html": [
              "<style type=\"text/css\">\n",
              "#T_16134_row0_col0, #T_16134_row0_col1, #T_16134_row0_col2, #T_16134_row0_col3, #T_16134_row0_col4, #T_16134_row0_col6, #T_16134_row0_col7, #T_16134_row0_col9, #T_16134_row0_col11, #T_16134_row0_col15, #T_16134_row1_col11, #T_16134_row1_col12, #T_16134_row1_col14, #T_16134_row2_col9, #T_16134_row2_col14, #T_16134_row3_col2, #T_16134_row3_col5, #T_16134_row3_col8, #T_16134_row3_col9, #T_16134_row3_col10, #T_16134_row3_col11, #T_16134_row3_col12, #T_16134_row3_col13, #T_16134_row3_col14 {\n",
              "  background-color: #ffff00;\n",
              "  color: #000000;\n",
              "}\n",
              "#T_16134_row0_col5 {\n",
              "  background-color: #ffe400;\n",
              "  color: #000000;\n",
              "}\n",
              "#T_16134_row0_col8 {\n",
              "  background-color: #ffa600;\n",
              "  color: #000000;\n",
              "}\n",
              "#T_16134_row0_col10, #T_16134_row1_col10, #T_16134_row2_col10, #T_16134_row2_col12 {\n",
              "  background-color: #ffaa00;\n",
              "  color: #000000;\n",
              "}\n",
              "#T_16134_row0_col12 {\n",
              "  background-color: #ff5500;\n",
              "  color: #f1f1f1;\n",
              "}\n",
              "#T_16134_row0_col13 {\n",
              "  background-color: #ff6600;\n",
              "  color: #f1f1f1;\n",
              "}\n",
              "#T_16134_row0_col14, #T_16134_row1_col9, #T_16134_row2_col11, #T_16134_row4_col0, #T_16134_row4_col1, #T_16134_row4_col2, #T_16134_row4_col3, #T_16134_row4_col4, #T_16134_row4_col5, #T_16134_row4_col6, #T_16134_row4_col7, #T_16134_row4_col8, #T_16134_row4_col9, #T_16134_row4_col10, #T_16134_row4_col11, #T_16134_row4_col12, #T_16134_row4_col13, #T_16134_row4_col14, #T_16134_row4_col15 {\n",
              "  background-color: #ff0000;\n",
              "  color: #f1f1f1;\n",
              "}\n",
              "#T_16134_row1_col0, #T_16134_row2_col0 {\n",
              "  background-color: #ff9e00;\n",
              "  color: #000000;\n",
              "}\n",
              "#T_16134_row1_col1 {\n",
              "  background-color: #ffba00;\n",
              "  color: #000000;\n",
              "}\n",
              "#T_16134_row1_col2 {\n",
              "  background-color: #fff400;\n",
              "  color: #000000;\n",
              "}\n",
              "#T_16134_row1_col3 {\n",
              "  background-color: #ff7300;\n",
              "  color: #f1f1f1;\n",
              "}\n",
              "#T_16134_row1_col4 {\n",
              "  background-color: #ff7b00;\n",
              "  color: #f1f1f1;\n",
              "}\n",
              "#T_16134_row1_col5 {\n",
              "  background-color: #ffea00;\n",
              "  color: #000000;\n",
              "}\n",
              "#T_16134_row1_col6 {\n",
              "  background-color: #ff8600;\n",
              "  color: #f1f1f1;\n",
              "}\n",
              "#T_16134_row1_col7 {\n",
              "  background-color: #ff4f00;\n",
              "  color: #f1f1f1;\n",
              "}\n",
              "#T_16134_row1_col8, #T_16134_row3_col7 {\n",
              "  background-color: #ffdf00;\n",
              "  color: #000000;\n",
              "}\n",
              "#T_16134_row1_col13, #T_16134_row2_col13 {\n",
              "  background-color: #ffcc00;\n",
              "  color: #000000;\n",
              "}\n",
              "#T_16134_row1_col15, #T_16134_row2_col7 {\n",
              "  background-color: #ffcf00;\n",
              "  color: #000000;\n",
              "}\n",
              "#T_16134_row2_col1 {\n",
              "  background-color: #ff6900;\n",
              "  color: #f1f1f1;\n",
              "}\n",
              "#T_16134_row2_col2 {\n",
              "  background-color: #ff5900;\n",
              "  color: #f1f1f1;\n",
              "}\n",
              "#T_16134_row2_col3 {\n",
              "  background-color: #ffad00;\n",
              "  color: #000000;\n",
              "}\n",
              "#T_16134_row2_col4, #T_16134_row3_col4 {\n",
              "  background-color: #ffce00;\n",
              "  color: #000000;\n",
              "}\n",
              "#T_16134_row2_col5, #T_16134_row2_col8 {\n",
              "  background-color: #ffb300;\n",
              "  color: #000000;\n",
              "}\n",
              "#T_16134_row2_col6 {\n",
              "  background-color: #fff200;\n",
              "  color: #000000;\n",
              "}\n",
              "#T_16134_row2_col15 {\n",
              "  background-color: #ff8500;\n",
              "  color: #f1f1f1;\n",
              "}\n",
              "#T_16134_row3_col0 {\n",
              "  background-color: #ffc800;\n",
              "  color: #000000;\n",
              "}\n",
              "#T_16134_row3_col1 {\n",
              "  background-color: #fffa00;\n",
              "  color: #000000;\n",
              "}\n",
              "#T_16134_row3_col3 {\n",
              "  background-color: #ffde00;\n",
              "  color: #000000;\n",
              "}\n",
              "#T_16134_row3_col6 {\n",
              "  background-color: #ffd700;\n",
              "  color: #000000;\n",
              "}\n",
              "#T_16134_row3_col15 {\n",
              "  background-color: #fff700;\n",
              "  color: #000000;\n",
              "}\n",
              "</style>\n",
              "<table id=\"T_16134_\" class=\"dataframe\">\n",
              "  <thead>\n",
              "    <tr>\n",
              "      <th class=\"blank\" >&nbsp;</th>\n",
              "      <th class=\"index_name level0\" >Parch</th>\n",
              "      <th class=\"col_heading level0 col0\" colspan=\"3\">0</th>\n",
              "      <th class=\"col_heading level0 col3\" colspan=\"3\">1</th>\n",
              "      <th class=\"col_heading level0 col6\" colspan=\"3\">2</th>\n",
              "      <th class=\"col_heading level0 col9\" colspan=\"2\">3</th>\n",
              "      <th class=\"col_heading level0 col11\" colspan=\"2\">4</th>\n",
              "      <th class=\"col_heading level0 col13\" >5</th>\n",
              "      <th class=\"col_heading level0 col14\" >6</th>\n",
              "      <th class=\"col_heading level0 col15\" >All</th>\n",
              "    </tr>\n",
              "    <tr>\n",
              "      <th class=\"blank\" >&nbsp;</th>\n",
              "      <th class=\"index_name level1\" >Pclass</th>\n",
              "      <th class=\"col_heading level1 col0\" >1</th>\n",
              "      <th class=\"col_heading level1 col1\" >2</th>\n",
              "      <th class=\"col_heading level1 col2\" >3</th>\n",
              "      <th class=\"col_heading level1 col3\" >1</th>\n",
              "      <th class=\"col_heading level1 col4\" >2</th>\n",
              "      <th class=\"col_heading level1 col5\" >3</th>\n",
              "      <th class=\"col_heading level1 col6\" >1</th>\n",
              "      <th class=\"col_heading level1 col7\" >2</th>\n",
              "      <th class=\"col_heading level1 col8\" >3</th>\n",
              "      <th class=\"col_heading level1 col9\" >2</th>\n",
              "      <th class=\"col_heading level1 col10\" >3</th>\n",
              "      <th class=\"col_heading level1 col11\" >1</th>\n",
              "      <th class=\"col_heading level1 col12\" >3</th>\n",
              "      <th class=\"col_heading level1 col13\" >3</th>\n",
              "      <th class=\"col_heading level1 col14\" >3</th>\n",
              "      <th class=\"col_heading level1 col15\" ></th>\n",
              "    </tr>\n",
              "    <tr>\n",
              "      <th class=\"index_name level0\" >Sex</th>\n",
              "      <th class=\"index_name level1\" >Survived</th>\n",
              "      <th class=\"blank col0\" >&nbsp;</th>\n",
              "      <th class=\"blank col1\" >&nbsp;</th>\n",
              "      <th class=\"blank col2\" >&nbsp;</th>\n",
              "      <th class=\"blank col3\" >&nbsp;</th>\n",
              "      <th class=\"blank col4\" >&nbsp;</th>\n",
              "      <th class=\"blank col5\" >&nbsp;</th>\n",
              "      <th class=\"blank col6\" >&nbsp;</th>\n",
              "      <th class=\"blank col7\" >&nbsp;</th>\n",
              "      <th class=\"blank col8\" >&nbsp;</th>\n",
              "      <th class=\"blank col9\" >&nbsp;</th>\n",
              "      <th class=\"blank col10\" >&nbsp;</th>\n",
              "      <th class=\"blank col11\" >&nbsp;</th>\n",
              "      <th class=\"blank col12\" >&nbsp;</th>\n",
              "      <th class=\"blank col13\" >&nbsp;</th>\n",
              "      <th class=\"blank col14\" >&nbsp;</th>\n",
              "      <th class=\"blank col15\" >&nbsp;</th>\n",
              "    </tr>\n",
              "  </thead>\n",
              "  <tbody>\n",
              "    <tr>\n",
              "      <th id=\"T_16134_level0_row0\" class=\"row_heading level0 row0\" rowspan=\"2\">female</th>\n",
              "      <th id=\"T_16134_level1_row0\" class=\"row_heading level1 row0\" >0</th>\n",
              "      <td id=\"T_16134_row0_col0\" class=\"data row0 col0\" >1</td>\n",
              "      <td id=\"T_16134_row0_col1\" class=\"data row0 col1\" >5</td>\n",
              "      <td id=\"T_16134_row0_col2\" class=\"data row0 col2\" >35</td>\n",
              "      <td id=\"T_16134_row0_col3\" class=\"data row0 col3\" >0</td>\n",
              "      <td id=\"T_16134_row0_col4\" class=\"data row0 col4\" >1</td>\n",
              "      <td id=\"T_16134_row0_col5\" class=\"data row0 col5\" >13</td>\n",
              "      <td id=\"T_16134_row0_col6\" class=\"data row0 col6\" >2</td>\n",
              "      <td id=\"T_16134_row0_col7\" class=\"data row0 col7\" >0</td>\n",
              "      <td id=\"T_16134_row0_col8\" class=\"data row0 col8\" >17</td>\n",
              "      <td id=\"T_16134_row0_col9\" class=\"data row0 col9\" >0</td>\n",
              "      <td id=\"T_16134_row0_col10\" class=\"data row0 col10\" >1</td>\n",
              "      <td id=\"T_16134_row0_col11\" class=\"data row0 col11\" >0</td>\n",
              "      <td id=\"T_16134_row0_col12\" class=\"data row0 col12\" >2</td>\n",
              "      <td id=\"T_16134_row0_col13\" class=\"data row0 col13\" >3</td>\n",
              "      <td id=\"T_16134_row0_col14\" class=\"data row0 col14\" >1</td>\n",
              "      <td id=\"T_16134_row0_col15\" class=\"data row0 col15\" >81</td>\n",
              "    </tr>\n",
              "    <tr>\n",
              "      <th id=\"T_16134_level1_row1\" class=\"row_heading level1 row1\" >1</th>\n",
              "      <td id=\"T_16134_row1_col0\" class=\"data row1 col0\" >63</td>\n",
              "      <td id=\"T_16134_row1_col1\" class=\"data row1 col1\" >40</td>\n",
              "      <td id=\"T_16134_row1_col2\" class=\"data row1 col2\" >50</td>\n",
              "      <td id=\"T_16134_row1_col3\" class=\"data row1 col3\" >17</td>\n",
              "      <td id=\"T_16134_row1_col4\" class=\"data row1 col4\" >17</td>\n",
              "      <td id=\"T_16134_row1_col5\" class=\"data row1 col5\" >12</td>\n",
              "      <td id=\"T_16134_row1_col6\" class=\"data row1 col6\" >11</td>\n",
              "      <td id=\"T_16134_row1_col7\" class=\"data row1 col7\" >11</td>\n",
              "      <td id=\"T_16134_row1_col8\" class=\"data row1 col8\" >8</td>\n",
              "      <td id=\"T_16134_row1_col9\" class=\"data row1 col9\" >2</td>\n",
              "      <td id=\"T_16134_row1_col10\" class=\"data row1 col10\" >1</td>\n",
              "      <td id=\"T_16134_row1_col11\" class=\"data row1 col11\" >0</td>\n",
              "      <td id=\"T_16134_row1_col12\" class=\"data row1 col12\" >0</td>\n",
              "      <td id=\"T_16134_row1_col13\" class=\"data row1 col13\" >1</td>\n",
              "      <td id=\"T_16134_row1_col14\" class=\"data row1 col14\" >0</td>\n",
              "      <td id=\"T_16134_row1_col15\" class=\"data row1 col15\" >233</td>\n",
              "    </tr>\n",
              "    <tr>\n",
              "      <th id=\"T_16134_level0_row2\" class=\"row_heading level0 row2\" rowspan=\"2\">male</th>\n",
              "      <th id=\"T_16134_level1_row2\" class=\"row_heading level1 row2\" >0</th>\n",
              "      <td id=\"T_16134_row2_col0\" class=\"data row2 col0\" >63</td>\n",
              "      <td id=\"T_16134_row2_col1\" class=\"data row2 col1\" >81</td>\n",
              "      <td id=\"T_16134_row2_col2\" class=\"data row2 col2\" >260</td>\n",
              "      <td id=\"T_16134_row2_col3\" class=\"data row2 col3\" >10</td>\n",
              "      <td id=\"T_16134_row2_col4\" class=\"data row2 col4\" >7</td>\n",
              "      <td id=\"T_16134_row2_col5\" class=\"data row2 col5\" >22</td>\n",
              "      <td id=\"T_16134_row2_col6\" class=\"data row2 col6\" >3</td>\n",
              "      <td id=\"T_16134_row2_col7\" class=\"data row2 col7\" >3</td>\n",
              "      <td id=\"T_16134_row2_col8\" class=\"data row2 col8\" >15</td>\n",
              "      <td id=\"T_16134_row2_col9\" class=\"data row2 col9\" >0</td>\n",
              "      <td id=\"T_16134_row2_col10\" class=\"data row2 col10\" >1</td>\n",
              "      <td id=\"T_16134_row2_col11\" class=\"data row2 col11\" >1</td>\n",
              "      <td id=\"T_16134_row2_col12\" class=\"data row2 col12\" >1</td>\n",
              "      <td id=\"T_16134_row2_col13\" class=\"data row2 col13\" >1</td>\n",
              "      <td id=\"T_16134_row2_col14\" class=\"data row2 col14\" >0</td>\n",
              "      <td id=\"T_16134_row2_col15\" class=\"data row2 col15\" >468</td>\n",
              "    </tr>\n",
              "    <tr>\n",
              "      <th id=\"T_16134_level1_row3\" class=\"row_heading level1 row3\" >1</th>\n",
              "      <td id=\"T_16134_row3_col0\" class=\"data row3 col0\" >36</td>\n",
              "      <td id=\"T_16134_row3_col1\" class=\"data row3 col1\" >8</td>\n",
              "      <td id=\"T_16134_row3_col2\" class=\"data row3 col2\" >36</td>\n",
              "      <td id=\"T_16134_row3_col3\" class=\"data row3 col3\" >4</td>\n",
              "      <td id=\"T_16134_row3_col4\" class=\"data row3 col4\" >7</td>\n",
              "      <td id=\"T_16134_row3_col5\" class=\"data row3 col5\" >8</td>\n",
              "      <td id=\"T_16134_row3_col6\" class=\"data row3 col6\" >5</td>\n",
              "      <td id=\"T_16134_row3_col7\" class=\"data row3 col7\" >2</td>\n",
              "      <td id=\"T_16134_row3_col8\" class=\"data row3 col8\" >3</td>\n",
              "      <td id=\"T_16134_row3_col9\" class=\"data row3 col9\" >0</td>\n",
              "      <td id=\"T_16134_row3_col10\" class=\"data row3 col10\" >0</td>\n",
              "      <td id=\"T_16134_row3_col11\" class=\"data row3 col11\" >0</td>\n",
              "      <td id=\"T_16134_row3_col12\" class=\"data row3 col12\" >0</td>\n",
              "      <td id=\"T_16134_row3_col13\" class=\"data row3 col13\" >0</td>\n",
              "      <td id=\"T_16134_row3_col14\" class=\"data row3 col14\" >0</td>\n",
              "      <td id=\"T_16134_row3_col15\" class=\"data row3 col15\" >109</td>\n",
              "    </tr>\n",
              "    <tr>\n",
              "      <th id=\"T_16134_level0_row4\" class=\"row_heading level0 row4\" >All</th>\n",
              "      <th id=\"T_16134_level1_row4\" class=\"row_heading level1 row4\" ></th>\n",
              "      <td id=\"T_16134_row4_col0\" class=\"data row4 col0\" >163</td>\n",
              "      <td id=\"T_16134_row4_col1\" class=\"data row4 col1\" >134</td>\n",
              "      <td id=\"T_16134_row4_col2\" class=\"data row4 col2\" >381</td>\n",
              "      <td id=\"T_16134_row4_col3\" class=\"data row4 col3\" >31</td>\n",
              "      <td id=\"T_16134_row4_col4\" class=\"data row4 col4\" >32</td>\n",
              "      <td id=\"T_16134_row4_col5\" class=\"data row4 col5\" >55</td>\n",
              "      <td id=\"T_16134_row4_col6\" class=\"data row4 col6\" >21</td>\n",
              "      <td id=\"T_16134_row4_col7\" class=\"data row4 col7\" >16</td>\n",
              "      <td id=\"T_16134_row4_col8\" class=\"data row4 col8\" >43</td>\n",
              "      <td id=\"T_16134_row4_col9\" class=\"data row4 col9\" >2</td>\n",
              "      <td id=\"T_16134_row4_col10\" class=\"data row4 col10\" >3</td>\n",
              "      <td id=\"T_16134_row4_col11\" class=\"data row4 col11\" >1</td>\n",
              "      <td id=\"T_16134_row4_col12\" class=\"data row4 col12\" >3</td>\n",
              "      <td id=\"T_16134_row4_col13\" class=\"data row4 col13\" >5</td>\n",
              "      <td id=\"T_16134_row4_col14\" class=\"data row4 col14\" >1</td>\n",
              "      <td id=\"T_16134_row4_col15\" class=\"data row4 col15\" >891</td>\n",
              "    </tr>\n",
              "  </tbody>\n",
              "</table>\n"
            ]
          },
          "metadata": {},
          "execution_count": 48
        }
      ]
    },
    {
      "cell_type": "markdown",
      "source": [
        "Very similar to SibSp - 1 , but different values  ?\n",
        "For females with Parch = 2 and Pclass = 3 survival rate is below 0.5  \n",
        "All females with Parch = 4 and Pclass = 3 died.\n",
        "All females with Parch > 4 died.\n",
        "(For females with Parch = 1 and Pclass = 3 survival rate is below 0.5)\n",
        "For males,all survival rates below 0.5 for any values of Parch, except for Parch = 2 and Pclass = 1."
      ],
      "metadata": {
        "_uuid": "6706031a1f86b950de579014fb9f9b119bdd92dc",
        "_cell_guid": "05fa17b4-c3ca-467b-a11c-3594372e42aa",
        "id": "AJXrOPvgvkO4"
      }
    },
    {
      "cell_type": "code",
      "source": [
        "# survival rate is below 0.5 for females with Parch = 2 and Pclass = 3 \n",
        "#df_test.loc[ (df_test.Sex == 'female') & (df_test.Pclass == 3) & (df_test.Parch == 2), 'Survived'] = 0\n",
        "\n",
        "# All females with Parch = 4 and Pclass = 3 died\n",
        "##df_test.loc[ (df_test.Sex == 'female') & (df_test.Pclass == 3) & (df_test.Parch == 4), 'Survived'] = 0\n",
        "\n",
        "# all females with Parch > 4 died\n",
        "#df_test.loc[ (df_test.Sex == 'female') & (df_test.Parch > 4) , 'Survived'] = 0\n",
        "\n",
        "# For males with Parch = 2 and Pclass = 1 survival rate is above 0.5\n",
        "##df_test.loc[ (df_test.Sex == 'male') & (df_test.Pclass == 1) & (df_test.Parch == 1) , 'Survived'] = 1\n",
        "\n",
        "#df_test.head(20)"
      ],
      "metadata": {
        "_uuid": "a557a0e8577d738f623d6ec94fe57b28371347f0",
        "_cell_guid": "1029cc1d-1b73-4a6f-87ed-f12fb744895c",
        "execution": {
          "iopub.status.busy": "2023-02-23T10:03:15.078709Z",
          "iopub.execute_input": "2023-02-23T10:03:15.079043Z",
          "iopub.status.idle": "2023-02-23T10:03:15.083441Z",
          "shell.execute_reply.started": "2023-02-23T10:03:15.078980Z",
          "shell.execute_reply": "2023-02-23T10:03:15.082322Z"
        },
        "trusted": true,
        "id": "N2fswTgsvkO4"
      },
      "execution_count": 49,
      "outputs": []
    },
    {
      "cell_type": "markdown",
      "source": [
        "**Fare:  continuous numerical  to  12 bins **"
      ],
      "metadata": {
        "_uuid": "9be20e55154d523983caa038da053b52e16c0231",
        "_cell_guid": "b70366e6-40cd-4b49-be28-d9c6e24b7a91",
        "id": "L44P-4yfvkO4"
      }
    },
    {
      "cell_type": "code",
      "source": [
        "sns.distplot(df_train['Fare']);"
      ],
      "metadata": {
        "_uuid": "2bde44c43067232fb1a2ef8deff227374c6eab3a",
        "_cell_guid": "175cc9dd-f96e-47c3-9516-e32d01c28aa3",
        "execution": {
          "iopub.status.busy": "2023-02-23T10:03:15.084792Z",
          "iopub.execute_input": "2023-02-23T10:03:15.085042Z",
          "iopub.status.idle": "2023-02-23T10:03:15.590298Z",
          "shell.execute_reply.started": "2023-02-23T10:03:15.084995Z",
          "shell.execute_reply": "2023-02-23T10:03:15.588897Z"
        },
        "trusted": true,
        "colab": {
          "base_uri": "https://localhost:8080/",
          "height": 285
        },
        "id": "SDjxd8aivkO4",
        "outputId": "688f1d6f-66dd-491f-8068-8646621c4815"
      },
      "execution_count": 50,
      "outputs": [
        {
          "output_type": "display_data",
          "data": {
            "text/plain": [
              "<Figure size 432x288 with 1 Axes>"
            ],
            "image/png": "[encoded data removed]"
          },
          "metadata": {}
        }
      ]
    },
    {
      "cell_type": "code",
      "source": [
        "for df in [df_train, df_test]:\n",
        "    df['Fare_bin']=np.nan\n",
        "    for i in range(12,0,-1):\n",
        "        df.loc[ df['Fare'] <= i*50, 'Fare_bin'] = i"
      ],
      "metadata": {
        "_uuid": "7c0b70efca4ecaafbefecdfdcb81868c5221b505",
        "_cell_guid": "8a24e3c4-ea4e-4558-b9f4-d21eff1a5bf0",
        "execution": {
          "iopub.status.busy": "2023-02-23T10:03:15.592086Z",
          "iopub.execute_input": "2023-02-23T10:03:15.592547Z",
          "iopub.status.idle": "2023-02-23T10:03:15.667545Z",
          "shell.execute_reply.started": "2023-02-23T10:03:15.592474Z",
          "shell.execute_reply": "2023-02-23T10:03:15.666552Z"
        },
        "trusted": true,
        "id": "nSFPghqSvkO5"
      },
      "execution_count": 51,
      "outputs": []
    },
    {
      "cell_type": "code",
      "source": [
        "sns.catplot('Fare_bin','Survived', col='Pclass' , row = 'Sex', kind='point', data=df_train);"
      ],
      "metadata": {
        "_uuid": "3ac79a5e7f2b7b24b83d3d30d4e98c4985dff982",
        "_cell_guid": "dbd84dd3-877b-4776-bf41-893a1f430db2",
        "execution": {
          "iopub.status.busy": "2023-02-23T10:03:15.668752Z",
          "iopub.execute_input": "2023-02-23T10:03:15.669105Z",
          "iopub.status.idle": "2023-02-23T10:03:18.347235Z",
          "shell.execute_reply.started": "2023-02-23T10:03:15.669026Z",
          "shell.execute_reply": "2023-02-23T10:03:18.346338Z"
        },
        "trusted": true,
        "colab": {
          "base_uri": "https://localhost:8080/",
          "height": 725
        },
        "id": "T76jCLEtvkO5",
        "outputId": "1f465441-d4b8-41f2-b30b-5ae703dac6ec"
      },
      "execution_count": 52,
      "outputs": [
        {
          "output_type": "display_data",
          "data": {
            "text/plain": [
              "<Figure size 1080x720 with 6 Axes>"
            ],
            "image/png": "[encoded data removed]"
          },
          "metadata": {}
        }
      ]
    },
    {
      "cell_type": "code",
      "source": [
        "pd.crosstab([df_train.Sex, df_train.Survived], [df_train.Fare_bin, df_train.Pclass], margins=True).style.background_gradient(cmap='autumn_r')"
      ],
      "metadata": {
        "_uuid": "b53e3f946de54690664973cd7f58846d4d86cda8",
        "_cell_guid": "deed0fac-16b3-4516-aa12-312af2737854",
        "execution": {
          "iopub.status.busy": "2023-02-23T10:03:18.348603Z",
          "iopub.execute_input": "2023-02-23T10:03:18.349128Z",
          "iopub.status.idle": "2023-02-23T10:03:18.662480Z",
          "shell.execute_reply.started": "2023-02-23T10:03:18.349053Z",
          "shell.execute_reply": "2023-02-23T10:03:18.661241Z"
        },
        "trusted": true,
        "colab": {
          "base_uri": "https://localhost:8080/",
          "height": 269
        },
        "id": "nm23uT-IvkO5",
        "outputId": "05c6e6f7-5e4f-4a38-f90a-43b2f329d6f2"
      },
      "execution_count": 53,
      "outputs": [
        {
          "output_type": "execute_result",
          "data": {
            "text/plain": [
              "<pandas.io.formats.style.Styler at 0x7fae41e768b0>"
            ],
            "text/html": [
              "<style type=\"text/css\">\n",
              "#T_30639_row0_col0, #T_30639_row0_col1, #T_30639_row0_col3, #T_30639_row0_col4, #T_30639_row0_col6, #T_30639_row0_col8, #T_30639_row0_col9, #T_30639_row0_col10, #T_30639_row0_col11, #T_30639_row1_col5, #T_30639_row2_col7, #T_30639_row2_col10, #T_30639_row3_col2, #T_30639_row3_col4, #T_30639_row3_col7, #T_30639_row3_col8, #T_30639_row3_col9 {\n",
              "  background-color: #ffff00;\n",
              "  color: #000000;\n",
              "}\n",
              "#T_30639_row0_col2 {\n",
              "  background-color: #fff000;\n",
              "  color: #000000;\n",
              "}\n",
              "#T_30639_row0_col5 {\n",
              "  background-color: #ffc900;\n",
              "  color: #000000;\n",
              "}\n",
              "#T_30639_row0_col7 {\n",
              "  background-color: #ffdf00;\n",
              "  color: #000000;\n",
              "}\n",
              "#T_30639_row1_col0 {\n",
              "  background-color: #ffde00;\n",
              "  color: #000000;\n",
              "}\n",
              "#T_30639_row1_col1 {\n",
              "  background-color: #ffa300;\n",
              "  color: #000000;\n",
              "}\n",
              "#T_30639_row1_col2 {\n",
              "  background-color: #ffee00;\n",
              "  color: #000000;\n",
              "}\n",
              "#T_30639_row1_col3 {\n",
              "  background-color: #ff7100;\n",
              "  color: #f1f1f1;\n",
              "}\n",
              "#T_30639_row1_col4 {\n",
              "  background-color: #ffb600;\n",
              "  color: #000000;\n",
              "}\n",
              "#T_30639_row1_col6 {\n",
              "  background-color: #ff5f00;\n",
              "  color: #f1f1f1;\n",
              "}\n",
              "#T_30639_row1_col7 {\n",
              "  background-color: #ff7f00;\n",
              "  color: #f1f1f1;\n",
              "}\n",
              "#T_30639_row1_col8 {\n",
              "  background-color: #ff5d00;\n",
              "  color: #f1f1f1;\n",
              "}\n",
              "#T_30639_row1_col9, #T_30639_row3_col10 {\n",
              "  background-color: #ff5500;\n",
              "  color: #f1f1f1;\n",
              "}\n",
              "#T_30639_row1_col10, #T_30639_row2_col9 {\n",
              "  background-color: #ffaa00;\n",
              "  color: #000000;\n",
              "}\n",
              "#T_30639_row1_col11 {\n",
              "  background-color: #ffcf00;\n",
              "  color: #000000;\n",
              "}\n",
              "#T_30639_row2_col0 {\n",
              "  background-color: #ff7500;\n",
              "  color: #f1f1f1;\n",
              "}\n",
              "#T_30639_row2_col1 {\n",
              "  background-color: #ff8800;\n",
              "  color: #f1f1f1;\n",
              "}\n",
              "#T_30639_row2_col2 {\n",
              "  background-color: #ff6b00;\n",
              "  color: #f1f1f1;\n",
              "}\n",
              "#T_30639_row2_col3 {\n",
              "  background-color: #ffbb00;\n",
              "  color: #000000;\n",
              "}\n",
              "#T_30639_row2_col4 {\n",
              "  background-color: #ff4900;\n",
              "  color: #f1f1f1;\n",
              "}\n",
              "#T_30639_row2_col5 {\n",
              "  background-color: #ff9200;\n",
              "  color: #000000;\n",
              "}\n",
              "#T_30639_row2_col6 {\n",
              "  background-color: #ffca00;\n",
              "  color: #000000;\n",
              "}\n",
              "#T_30639_row2_col8 {\n",
              "  background-color: #ffa200;\n",
              "  color: #000000;\n",
              "}\n",
              "#T_30639_row2_col11 {\n",
              "  background-color: #ff8500;\n",
              "  color: #f1f1f1;\n",
              "}\n",
              "#T_30639_row3_col0 {\n",
              "  background-color: #ffb500;\n",
              "  color: #000000;\n",
              "}\n",
              "#T_30639_row3_col1 {\n",
              "  background-color: #ffef00;\n",
              "  color: #000000;\n",
              "}\n",
              "#T_30639_row3_col3 {\n",
              "  background-color: #ffd300;\n",
              "  color: #000000;\n",
              "}\n",
              "#T_30639_row3_col5 {\n",
              "  background-color: #ffa400;\n",
              "  color: #000000;\n",
              "}\n",
              "#T_30639_row3_col6 {\n",
              "  background-color: #ffd500;\n",
              "  color: #000000;\n",
              "}\n",
              "#T_30639_row3_col11 {\n",
              "  background-color: #fff700;\n",
              "  color: #000000;\n",
              "}\n",
              "#T_30639_row4_col0, #T_30639_row4_col1, #T_30639_row4_col2, #T_30639_row4_col3, #T_30639_row4_col4, #T_30639_row4_col5, #T_30639_row4_col6, #T_30639_row4_col7, #T_30639_row4_col8, #T_30639_row4_col9, #T_30639_row4_col10, #T_30639_row4_col11 {\n",
              "  background-color: #ff0000;\n",
              "  color: #f1f1f1;\n",
              "}\n",
              "</style>\n",
              "<table id=\"T_30639_\" class=\"dataframe\">\n",
              "  <thead>\n",
              "    <tr>\n",
              "      <th class=\"blank\" >&nbsp;</th>\n",
              "      <th class=\"index_name level0\" >Fare_bin</th>\n",
              "      <th class=\"col_heading level0 col0\" colspan=\"3\">1.0</th>\n",
              "      <th class=\"col_heading level0 col3\" colspan=\"3\">2.0</th>\n",
              "      <th class=\"col_heading level0 col6\" >3.0</th>\n",
              "      <th class=\"col_heading level0 col7\" >4.0</th>\n",
              "      <th class=\"col_heading level0 col8\" >5.0</th>\n",
              "      <th class=\"col_heading level0 col9\" >6.0</th>\n",
              "      <th class=\"col_heading level0 col10\" >11.0</th>\n",
              "      <th class=\"col_heading level0 col11\" >All</th>\n",
              "    </tr>\n",
              "    <tr>\n",
              "      <th class=\"blank\" >&nbsp;</th>\n",
              "      <th class=\"index_name level1\" >Pclass</th>\n",
              "      <th class=\"col_heading level1 col0\" >1</th>\n",
              "      <th class=\"col_heading level1 col1\" >2</th>\n",
              "      <th class=\"col_heading level1 col2\" >3</th>\n",
              "      <th class=\"col_heading level1 col3\" >1</th>\n",
              "      <th class=\"col_heading level1 col4\" >2</th>\n",
              "      <th class=\"col_heading level1 col5\" >3</th>\n",
              "      <th class=\"col_heading level1 col6\" >1</th>\n",
              "      <th class=\"col_heading level1 col7\" >1</th>\n",
              "      <th class=\"col_heading level1 col8\" >1</th>\n",
              "      <th class=\"col_heading level1 col9\" >1</th>\n",
              "      <th class=\"col_heading level1 col10\" >1</th>\n",
              "      <th class=\"col_heading level1 col11\" ></th>\n",
              "    </tr>\n",
              "    <tr>\n",
              "      <th class=\"index_name level0\" >Sex</th>\n",
              "      <th class=\"index_name level1\" >Survived</th>\n",
              "      <th class=\"blank col0\" >&nbsp;</th>\n",
              "      <th class=\"blank col1\" >&nbsp;</th>\n",
              "      <th class=\"blank col2\" >&nbsp;</th>\n",
              "      <th class=\"blank col3\" >&nbsp;</th>\n",
              "      <th class=\"blank col4\" >&nbsp;</th>\n",
              "      <th class=\"blank col5\" >&nbsp;</th>\n",
              "      <th class=\"blank col6\" >&nbsp;</th>\n",
              "      <th class=\"blank col7\" >&nbsp;</th>\n",
              "      <th class=\"blank col8\" >&nbsp;</th>\n",
              "      <th class=\"blank col9\" >&nbsp;</th>\n",
              "      <th class=\"blank col10\" >&nbsp;</th>\n",
              "      <th class=\"blank col11\" >&nbsp;</th>\n",
              "    </tr>\n",
              "  </thead>\n",
              "  <tbody>\n",
              "    <tr>\n",
              "      <th id=\"T_30639_level0_row0\" class=\"row_heading level0 row0\" rowspan=\"2\">female</th>\n",
              "      <th id=\"T_30639_level1_row0\" class=\"row_heading level1 row0\" >0</th>\n",
              "      <td id=\"T_30639_row0_col0\" class=\"data row0 col0\" >1</td>\n",
              "      <td id=\"T_30639_row0_col1\" class=\"data row0 col1\" >6</td>\n",
              "      <td id=\"T_30639_row0_col2\" class=\"data row0 col2\" >69</td>\n",
              "      <td id=\"T_30639_row0_col3\" class=\"data row0 col3\" >0</td>\n",
              "      <td id=\"T_30639_row0_col4\" class=\"data row0 col4\" >0</td>\n",
              "      <td id=\"T_30639_row0_col5\" class=\"data row0 col5\" >3</td>\n",
              "      <td id=\"T_30639_row0_col6\" class=\"data row0 col6\" >0</td>\n",
              "      <td id=\"T_30639_row0_col7\" class=\"data row0 col7\" >2</td>\n",
              "      <td id=\"T_30639_row0_col8\" class=\"data row0 col8\" >0</td>\n",
              "      <td id=\"T_30639_row0_col9\" class=\"data row0 col9\" >0</td>\n",
              "      <td id=\"T_30639_row0_col10\" class=\"data row0 col10\" >0</td>\n",
              "      <td id=\"T_30639_row0_col11\" class=\"data row0 col11\" >81</td>\n",
              "    </tr>\n",
              "    <tr>\n",
              "      <th id=\"T_30639_level1_row1\" class=\"row_heading level1 row1\" >1</th>\n",
              "      <td id=\"T_30639_row1_col0\" class=\"data row1 col0\" >11</td>\n",
              "      <td id=\"T_30639_row1_col1\" class=\"data row1 col1\" >68</td>\n",
              "      <td id=\"T_30639_row1_col2\" class=\"data row1 col2\" >72</td>\n",
              "      <td id=\"T_30639_row1_col3\" class=\"data row1 col3\" >48</td>\n",
              "      <td id=\"T_30639_row1_col4\" class=\"data row1 col4\" >2</td>\n",
              "      <td id=\"T_30639_row1_col5\" class=\"data row1 col5\" >0</td>\n",
              "      <td id=\"T_30639_row1_col6\" class=\"data row1 col6\" >15</td>\n",
              "      <td id=\"T_30639_row1_col7\" class=\"data row1 col7\" >5</td>\n",
              "      <td id=\"T_30639_row1_col8\" class=\"data row1 col8\" >7</td>\n",
              "      <td id=\"T_30639_row1_col9\" class=\"data row1 col9\" >4</td>\n",
              "      <td id=\"T_30639_row1_col10\" class=\"data row1 col10\" >1</td>\n",
              "      <td id=\"T_30639_row1_col11\" class=\"data row1 col11\" >233</td>\n",
              "    </tr>\n",
              "    <tr>\n",
              "      <th id=\"T_30639_level0_row2\" class=\"row_heading level0 row2\" rowspan=\"2\">male</th>\n",
              "      <th id=\"T_30639_level1_row2\" class=\"row_heading level1 row2\" >0</th>\n",
              "      <td id=\"T_30639_row2_col0\" class=\"data row2 col0\" >42</td>\n",
              "      <td id=\"T_30639_row2_col1\" class=\"data row2 col1\" >86</td>\n",
              "      <td id=\"T_30639_row2_col2\" class=\"data row2 col2\" >294</td>\n",
              "      <td id=\"T_30639_row2_col3\" class=\"data row2 col3\" >23</td>\n",
              "      <td id=\"T_30639_row2_col4\" class=\"data row2 col4\" >5</td>\n",
              "      <td id=\"T_30639_row2_col5\" class=\"data row2 col5\" >6</td>\n",
              "      <td id=\"T_30639_row2_col6\" class=\"data row2 col6\" >5</td>\n",
              "      <td id=\"T_30639_row2_col7\" class=\"data row2 col7\" >1</td>\n",
              "      <td id=\"T_30639_row2_col8\" class=\"data row2 col8\" >4</td>\n",
              "      <td id=\"T_30639_row2_col9\" class=\"data row2 col9\" >2</td>\n",
              "      <td id=\"T_30639_row2_col10\" class=\"data row2 col10\" >0</td>\n",
              "      <td id=\"T_30639_row2_col11\" class=\"data row2 col11\" >468</td>\n",
              "    </tr>\n",
              "    <tr>\n",
              "      <th id=\"T_30639_level1_row3\" class=\"row_heading level1 row3\" >1</th>\n",
              "      <td id=\"T_30639_row3_col0\" class=\"data row3 col0\" >23</td>\n",
              "      <td id=\"T_30639_row3_col1\" class=\"data row3 col1\" >17</td>\n",
              "      <td id=\"T_30639_row3_col2\" class=\"data row3 col2\" >42</td>\n",
              "      <td id=\"T_30639_row3_col3\" class=\"data row3 col3\" >15</td>\n",
              "      <td id=\"T_30639_row3_col4\" class=\"data row3 col4\" >0</td>\n",
              "      <td id=\"T_30639_row3_col5\" class=\"data row3 col5\" >5</td>\n",
              "      <td id=\"T_30639_row3_col6\" class=\"data row3 col6\" >4</td>\n",
              "      <td id=\"T_30639_row3_col7\" class=\"data row3 col7\" >1</td>\n",
              "      <td id=\"T_30639_row3_col8\" class=\"data row3 col8\" >0</td>\n",
              "      <td id=\"T_30639_row3_col9\" class=\"data row3 col9\" >0</td>\n",
              "      <td id=\"T_30639_row3_col10\" class=\"data row3 col10\" >2</td>\n",
              "      <td id=\"T_30639_row3_col11\" class=\"data row3 col11\" >109</td>\n",
              "    </tr>\n",
              "    <tr>\n",
              "      <th id=\"T_30639_level0_row4\" class=\"row_heading level0 row4\" >All</th>\n",
              "      <th id=\"T_30639_level1_row4\" class=\"row_heading level1 row4\" ></th>\n",
              "      <td id=\"T_30639_row4_col0\" class=\"data row4 col0\" >77</td>\n",
              "      <td id=\"T_30639_row4_col1\" class=\"data row4 col1\" >177</td>\n",
              "      <td id=\"T_30639_row4_col2\" class=\"data row4 col2\" >477</td>\n",
              "      <td id=\"T_30639_row4_col3\" class=\"data row4 col3\" >86</td>\n",
              "      <td id=\"T_30639_row4_col4\" class=\"data row4 col4\" >7</td>\n",
              "      <td id=\"T_30639_row4_col5\" class=\"data row4 col5\" >14</td>\n",
              "      <td id=\"T_30639_row4_col6\" class=\"data row4 col6\" >24</td>\n",
              "      <td id=\"T_30639_row4_col7\" class=\"data row4 col7\" >9</td>\n",
              "      <td id=\"T_30639_row4_col8\" class=\"data row4 col8\" >11</td>\n",
              "      <td id=\"T_30639_row4_col9\" class=\"data row4 col9\" >6</td>\n",
              "      <td id=\"T_30639_row4_col10\" class=\"data row4 col10\" >3</td>\n",
              "      <td id=\"T_30639_row4_col11\" class=\"data row4 col11\" >891</td>\n",
              "    </tr>\n",
              "  </tbody>\n",
              "</table>\n"
            ]
          },
          "metadata": {},
          "execution_count": 53
        }
      ]
    },
    {
      "cell_type": "markdown",
      "source": [],
      "metadata": {
        "_uuid": "26c3ecb1baffe766db0c67035c2f2db1810ffcfc",
        "_cell_guid": "0e42bcc2-7e44-428f-9f59-3e5a0a4f45e6",
        "id": "4AwGgUnzvkO5"
      }
    },
    {
      "cell_type": "code",
      "source": [
        "# males in Fare_bin = 11 survived\n",
        "df_test.loc[ (df_test.Sex == 'male') & (df_test.Fare_bin == 11), 'Survived'] = 1"
      ],
      "metadata": {
        "_uuid": "99172edb70d21c3fb13de749f9df1569dc7461f9",
        "_cell_guid": "642c5d70-97a9-48cc-b5c8-8e07e4db71ac",
        "execution": {
          "iopub.status.busy": "2023-02-23T10:03:18.663800Z",
          "iopub.execute_input": "2023-02-23T10:03:18.664145Z",
          "iopub.status.idle": "2023-02-23T10:03:18.673426Z",
          "shell.execute_reply.started": "2023-02-23T10:03:18.664076Z",
          "shell.execute_reply": "2023-02-23T10:03:18.672306Z"
        },
        "trusted": true,
        "id": "xStSfCrrvkO5"
      },
      "execution_count": 54,
      "outputs": []
    },
    {
      "cell_type": "markdown",
      "source": [
        "fourth model : model 3 + Age_bin, SibSp, Parch and Fare_bin  \n",
        "submission : 0.789 accuracy"
      ],
      "metadata": {
        "_uuid": "b1a66aaa910a8c3956dc2c4aa6dc47140713b1fc",
        "_cell_guid": "dd78e40e-e907-4b07-bae8-63c11c626e27",
        "id": "qKOWbk0gvkO5"
      }
    },
    {
      "cell_type": "code",
      "source": [
        "# model 4\n",
        "# df_test[['PassengerId', 'Survived']].to_csv('model_4.csv', index=False)"
      ],
      "metadata": {
        "_uuid": "0f71d8c091cc8275f4ba55ccd3bda94558b2eb08",
        "_cell_guid": "bafbd295-3155-4910-9e31-0d503ff191fa",
        "execution": {
          "iopub.status.busy": "2023-02-23T10:03:18.674932Z",
          "iopub.execute_input": "2023-02-23T10:03:18.675329Z",
          "iopub.status.idle": "2023-02-23T10:03:18.687356Z",
          "shell.execute_reply.started": "2023-02-23T10:03:18.675248Z",
          "shell.execute_reply": "2023-02-23T10:03:18.686310Z"
        },
        "trusted": true,
        "id": "2Uk8SbA1vkO6"
      },
      "execution_count": 55,
      "outputs": []
    },
    {
      "cell_type": "code",
      "source": [
        "df_test.drop(['Survived'],axis=1,inplace=True)"
      ],
      "metadata": {
        "_uuid": "50b87053b54b3c4ff8665140195a1f998b2ab67f",
        "_cell_guid": "a2925f8c-f423-41fa-b5bf-be3aee40085d",
        "execution": {
          "iopub.status.busy": "2023-02-23T10:03:18.688671Z",
          "iopub.execute_input": "2023-02-23T10:03:18.689033Z",
          "iopub.status.idle": "2023-02-23T10:03:18.703315Z",
          "shell.execute_reply.started": "2023-02-23T10:03:18.688952Z",
          "shell.execute_reply": "2023-02-23T10:03:18.702396Z"
        },
        "trusted": true,
        "id": "t2RusDP_vkO6"
      },
      "execution_count": 56,
      "outputs": []
    },
    {
      "cell_type": "markdown",
      "source": [
        "\n",
        "## Part 2: Data wrangling\n",
        "\n",
        "building two new dataframes df_train_ml and df_test_ml  \n",
        "these will have only ordinal features and no missing values so they can be used for ML algorithms  \n",
        "converting categorical to numerical by pd.get_dummies  \n",
        "dropping all features that seem to be not useful for prediction  \n",
        "Then use the Standard scaler and apply train/test split"
      ],
      "metadata": {
        "_uuid": "234841fbf8468fff4dae479d754e2faf7a608d48",
        "_cell_guid": "4ea56fab-36bd-4653-ae5c-84ddd2b952ac",
        "id": "B0EvJo1DvkO6"
      }
    },
    {
      "cell_type": "code",
      "source": [
        "df_train_ml = df_train.copy()\n",
        "df_test_ml = df_test.copy()"
      ],
      "metadata": {
        "_uuid": "9a31d42ed6c2c691a7c623f5a9bb4f22299f89a0",
        "_cell_guid": "652b2dc3-f948-497c-90c1-5be0dea4c8ea",
        "execution": {
          "iopub.status.busy": "2023-02-23T10:03:18.704639Z",
          "iopub.execute_input": "2023-02-23T10:03:18.705007Z",
          "iopub.status.idle": "2023-02-23T10:03:18.717427Z",
          "shell.execute_reply.started": "2023-02-23T10:03:18.704930Z",
          "shell.execute_reply": "2023-02-23T10:03:18.716537Z"
        },
        "trusted": true,
        "id": "PCq36jBmvkO6"
      },
      "execution_count": 57,
      "outputs": []
    },
    {
      "cell_type": "markdown",
      "source": [
        "**pandas get_dummies for categorical features**"
      ],
      "metadata": {
        "_uuid": "9a9e22bc52998976d8db53466f3eb555fea22279",
        "id": "nttl-gqmvkO6"
      }
    },
    {
      "cell_type": "code",
      "source": [
        "df_train_ml = pd.get_dummies(df_train_ml, columns=['Sex', 'Embarked', 'Pclass'], drop_first=True)\n",
        "df_train_ml.drop(['PassengerId','Name','Ticket', 'Cabin', 'Age_bin', 'Fare_bin'],axis=1,inplace=True)\n",
        "df_train_ml.dropna(inplace=True)"
      ],
      "metadata": {
        "_uuid": "e92489c48f64a1bb6583433a5b5f05c49aed7525",
        "_cell_guid": "bd6d2c42-c06e-4d90-899b-bb7bd2c7c0bf",
        "execution": {
          "iopub.status.busy": "2023-02-23T10:03:18.718838Z",
          "iopub.execute_input": "2023-02-23T10:03:18.719095Z",
          "iopub.status.idle": "2023-02-23T10:03:18.743527Z",
          "shell.execute_reply.started": "2023-02-23T10:03:18.719054Z",
          "shell.execute_reply": "2023-02-23T10:03:18.742809Z"
        },
        "trusted": true,
        "id": "PDeIZjn5vkO6"
      },
      "execution_count": 58,
      "outputs": []
    },
    {
      "cell_type": "code",
      "source": [
        "passenger_id = df_test_ml['PassengerId']\n",
        "df_test_ml = pd.get_dummies(df_test_ml, columns=['Sex', 'Embarked', 'Pclass'], drop_first=True)\n",
        "df_test_ml.drop(['PassengerId','Name','Ticket', 'Cabin', 'Age_bin', 'Fare_bin'],axis=1,inplace=True)"
      ],
      "metadata": {
        "_uuid": "e62432f4174b210f2495be370071a9fa6b5ba334",
        "_cell_guid": "6260f108-ebbc-4c9b-bd26-e09745db239e",
        "execution": {
          "iopub.status.busy": "2023-02-23T10:03:18.744988Z",
          "iopub.execute_input": "2023-02-23T10:03:18.745371Z",
          "iopub.status.idle": "2023-02-23T10:03:18.761307Z",
          "shell.execute_reply.started": "2023-02-23T10:03:18.745306Z",
          "shell.execute_reply": "2023-02-23T10:03:18.760530Z"
        },
        "trusted": true,
        "id": "k_kHFPZrvkO6"
      },
      "execution_count": 59,
      "outputs": []
    },
    {
      "cell_type": "code",
      "source": [
        "df_train_ml.head(10)"
      ],
      "metadata": {
        "_uuid": "a1ebf6d67eb088f0d48898311416edb95ae00252",
        "_cell_guid": "bc0ea6bd-cebb-4622-a785-f517e219834d",
        "execution": {
          "iopub.status.busy": "2023-02-23T10:03:18.762673Z",
          "iopub.execute_input": "2023-02-23T10:03:18.762996Z",
          "iopub.status.idle": "2023-02-23T10:03:18.790047Z",
          "shell.execute_reply.started": "2023-02-23T10:03:18.762927Z",
          "shell.execute_reply": "2023-02-23T10:03:18.789032Z"
        },
        "trusted": true,
        "colab": {
          "base_uri": "https://localhost:8080/",
          "height": 363
        },
        "id": "3J25h8L3vkO7",
        "outputId": "b053b583-d17b-483b-bdb3-cf21d26fc8ab"
      },
      "execution_count": 60,
      "outputs": [
        {
          "output_type": "execute_result",
          "data": {
            "text/plain": [
              "    Survived   Age  SibSp  Parch     Fare  Sex_male  Embarked_Q  Embarked_S  \\\n",
              "0          0  22.0      1      0   7.2500         1           0           1   \n",
              "1          1  38.0      1      0  71.2833         0           0           0   \n",
              "2          1  26.0      0      0   7.9250         0           0           1   \n",
              "3          1  35.0      1      0  53.1000         0           0           1   \n",
              "4          0  35.0      0      0   8.0500         1           0           1   \n",
              "6          0  54.0      0      0  51.8625         1           0           1   \n",
              "7          0   2.0      3      1  21.0750         1           0           1   \n",
              "8          1  27.0      0      2  11.1333         0           0           1   \n",
              "9          1  14.0      1      0  30.0708         0           0           0   \n",
              "10         1   4.0      1      1  16.7000         0           0           1   \n",
              "\n",
              "    Pclass_2  Pclass_3  \n",
              "0          0         1  \n",
              "1          0         0  \n",
              "2          0         1  \n",
              "3          0         0  \n",
              "4          0         1  \n",
              "6          0         0  \n",
              "7          0         1  \n",
              "8          0         1  \n",
              "9          1         0  \n",
              "10         0         1  "
            ],
            "text/html": [
              "\n",
              "  <div id=\"df-086710d9-af22-4b4d-9d5d-8c5ba0b3b833\">\n",
              "    <div class=\"colab-df-container\">\n",
              "      <div>\n",
              "<style scoped>\n",
              "    .dataframe tbody tr th:only-of-type {\n",
              "        vertical-align: middle;\n",
              "    }\n",
              "\n",
              "    .dataframe tbody tr th {\n",
              "        vertical-align: top;\n",
              "    }\n",
              "\n",
              "    .dataframe thead th {\n",
              "        text-align: right;\n",
              "    }\n",
              "</style>\n",
              "<table border=\"1\" class=\"dataframe\">\n",
              "  <thead>\n",
              "    <tr style=\"text-align: right;\">\n",
              "      <th></th>\n",
              "      <th>Survived</th>\n",
              "      <th>Age</th>\n",
              "      <th>SibSp</th>\n",
              "      <th>Parch</th>\n",
              "      <th>Fare</th>\n",
              "      <th>Sex_male</th>\n",
              "      <th>Embarked_Q</th>\n",
              "      <th>Embarked_S</th>\n",
              "      <th>Pclass_2</th>\n",
              "      <th>Pclass_3</th>\n",
              "    </tr>\n",
              "  </thead>\n",
              "  <tbody>\n",
              "    <tr>\n",
              "      <th>0</th>\n",
              "      <td>0</td>\n",
              "      <td>22.0</td>\n",
              "      <td>1</td>\n",
              "      <td>0</td>\n",
              "      <td>7.2500</td>\n",
              "      <td>1</td>\n",
              "      <td>0</td>\n",
              "      <td>1</td>\n",
              "      <td>0</td>\n",
              "      <td>1</td>\n",
              "    </tr>\n",
              "    <tr>\n",
              "      <th>1</th>\n",
              "      <td>1</td>\n",
              "      <td>38.0</td>\n",
              "      <td>1</td>\n",
              "      <td>0</td>\n",
              "      <td>71.2833</td>\n",
              "      <td>0</td>\n",
              "      <td>0</td>\n",
              "      <td>0</td>\n",
              "      <td>0</td>\n",
              "      <td>0</td>\n",
              "    </tr>\n",
              "    <tr>\n",
              "      <th>2</th>\n",
              "      <td>1</td>\n",
              "      <td>26.0</td>\n",
              "      <td>0</td>\n",
              "      <td>0</td>\n",
              "      <td>7.9250</td>\n",
              "      <td>0</td>\n",
              "      <td>0</td>\n",
              "      <td>1</td>\n",
              "      <td>0</td>\n",
              "      <td>1</td>\n",
              "    </tr>\n",
              "    <tr>\n",
              "      <th>3</th>\n",
              "      <td>1</td>\n",
              "      <td>35.0</td>\n",
              "      <td>1</td>\n",
              "      <td>0</td>\n",
              "      <td>53.1000</td>\n",
              "      <td>0</td>\n",
              "      <td>0</td>\n",
              "      <td>1</td>\n",
              "      <td>0</td>\n",
              "      <td>0</td>\n",
              "    </tr>\n",
              "    <tr>\n",
              "      <th>4</th>\n",
              "      <td>0</td>\n",
              "      <td>35.0</td>\n",
              "      <td>0</td>\n",
              "      <td>0</td>\n",
              "      <td>8.0500</td>\n",
              "      <td>1</td>\n",
              "      <td>0</td>\n",
              "      <td>1</td>\n",
              "      <td>0</td>\n",
              "      <td>1</td>\n",
              "    </tr>\n",
              "    <tr>\n",
              "      <th>6</th>\n",
              "      <td>0</td>\n",
              "      <td>54.0</td>\n",
              "      <td>0</td>\n",
              "      <td>0</td>\n",
              "      <td>51.8625</td>\n",
              "      <td>1</td>\n",
              "      <td>0</td>\n",
              "      <td>1</td>\n",
              "      <td>0</td>\n",
              "      <td>0</td>\n",
              "    </tr>\n",
              "    <tr>\n",
              "      <th>7</th>\n",
              "      <td>0</td>\n",
              "      <td>2.0</td>\n",
              "      <td>3</td>\n",
              "      <td>1</td>\n",
              "      <td>21.0750</td>\n",
              "      <td>1</td>\n",
              "      <td>0</td>\n",
              "      <td>1</td>\n",
              "      <td>0</td>\n",
              "      <td>1</td>\n",
              "    </tr>\n",
              "    <tr>\n",
              "      <th>8</th>\n",
              "      <td>1</td>\n",
              "      <td>27.0</td>\n",
              "      <td>0</td>\n",
              "      <td>2</td>\n",
              "      <td>11.1333</td>\n",
              "      <td>0</td>\n",
              "      <td>0</td>\n",
              "      <td>1</td>\n",
              "      <td>0</td>\n",
              "      <td>1</td>\n",
              "    </tr>\n",
              "    <tr>\n",
              "      <th>9</th>\n",
              "      <td>1</td>\n",
              "      <td>14.0</td>\n",
              "      <td>1</td>\n",
              "      <td>0</td>\n",
              "      <td>30.0708</td>\n",
              "      <td>0</td>\n",
              "      <td>0</td>\n",
              "      <td>0</td>\n",
              "      <td>1</td>\n",
              "      <td>0</td>\n",
              "    </tr>\n",
              "    <tr>\n",
              "      <th>10</th>\n",
              "      <td>1</td>\n",
              "      <td>4.0</td>\n",
              "      <td>1</td>\n",
              "      <td>1</td>\n",
              "      <td>16.7000</td>\n",
              "      <td>0</td>\n",
              "      <td>0</td>\n",
              "      <td>1</td>\n",
              "      <td>0</td>\n",
              "      <td>1</td>\n",
              "    </tr>\n",
              "  </tbody>\n",
              "</table>\n",
              "</div>\n",
              "      <button class=\"colab-df-convert\" onclick=\"convertToInteractive('df-086710d9-af22-4b4d-9d5d-8c5ba0b3b833')\"\n",
              "              title=\"Convert this dataframe to an interactive table.\"\n",
              "              style=\"display:none;\">\n",
              "        \n",
              "  <svg xmlns=\"http://www.w3.org/2000/svg\" height=\"24px\"viewBox=\"0 0 24 24\"\n",
              "       width=\"24px\">\n",
              "    <path d=\"M0 0h24v24H0V0z\" fill=\"none\"/>\n",
              "    <path d=\"M18.56 5.44l.94 2.06.94-2.06 2.06-.94-2.06-.94-.94-2.06-.94 2.06-2.06.94zm-11 1L8.5 8.5l.94-2.06 2.06-.94-2.06-.94L8.5 2.5l-.94 2.06-2.06.94zm10 10l.94 2.06.94-2.06 2.06-.94-2.06-.94-.94-2.06-.94 2.06-2.06.94z\"/><path d=\"M17.41 7.96l-1.37-1.37c-.4-.4-.92-.59-1.43-.59-.52 0-1.04.2-1.43.59L10.3 9.45l-7.72 7.72c-.78.78-.78 2.05 0 2.83L4 21.41c.39.39.9.59 1.41.59.51 0 1.02-.2 1.41-.59l7.78-7.78 2.81-2.81c.8-.78.8-2.07 0-2.86zM5.41 20L4 18.59l7.72-7.72 1.47 1.35L5.41 20z\"/>\n",
              "  </svg>\n",
              "      </button>\n",
              "      \n",
              "  <style>\n",
              "    .colab-df-container {\n",
              "      display:flex;\n",
              "      flex-wrap:wrap;\n",
              "      gap: 12px;\n",
              "    }\n",
              "\n",
              "    .colab-df-convert {\n",
              "      background-color: #E8F0FE;\n",
              "      border: none;\n",
              "      border-radius: 50%;\n",
              "      cursor: pointer;\n",
              "      display: none;\n",
              "      fill: #1967D2;\n",
              "      height: 32px;\n",
              "      padding: 0 0 0 0;\n",
              "      width: 32px;\n",
              "    }\n",
              "\n",
              "    .colab-df-convert:hover {\n",
              "      background-color: #E2EBFA;\n",
              "      box-shadow: 0px 1px 2px rgba(60, 64, 67, 0.3), 0px 1px 3px 1px rgba(60, 64, 67, 0.15);\n",
              "      fill: #174EA6;\n",
              "    }\n",
              "\n",
              "    [theme=dark] .colab-df-convert {\n",
              "      background-color: #3B4455;\n",
              "      fill: #D2E3FC;\n",
              "    }\n",
              "\n",
              "    [theme=dark] .colab-df-convert:hover {\n",
              "      background-color: #434B5C;\n",
              "      box-shadow: 0px 1px 3px 1px rgba(0, 0, 0, 0.15);\n",
              "      filter: drop-shadow(0px 1px 2px rgba(0, 0, 0, 0.3));\n",
              "      fill: #FFFFFF;\n",
              "    }\n",
              "  </style>\n",
              "\n",
              "      <script>\n",
              "        const buttonEl =\n",
              "          document.querySelector('#df-086710d9-af22-4b4d-9d5d-8c5ba0b3b833 button.colab-df-convert');\n",
              "        buttonEl.style.display =\n",
              "          google.colab.kernel.accessAllowed ? 'block' : 'none';\n",
              "\n",
              "        async function convertToInteractive(key) {\n",
              "          const element = document.querySelector('#df-086710d9-af22-4b4d-9d5d-8c5ba0b3b833');\n",
              "          const dataTable =\n",
              "            await google.colab.kernel.invokeFunction('convertToInteractive',\n",
              "                                                     [key], {});\n",
              "          if (!dataTable) return;\n",
              "\n",
              "          const docLinkHtml = 'Like what you see? Visit the ' +\n",
              "            '<a target=\"_blank\" href=https://colab.research.google.com/notebooks/data_table.ipynb>data table notebook</a>'\n",
              "            + ' to learn more about interactive tables.';\n",
              "          element.innerHTML = '';\n",
              "          dataTable['output_type'] = 'display_data';\n",
              "          await google.colab.output.renderOutput(dataTable, element);\n",
              "          const docLink = document.createElement('div');\n",
              "          docLink.innerHTML = docLinkHtml;\n",
              "          element.appendChild(docLink);\n",
              "        }\n",
              "      </script>\n",
              "    </div>\n",
              "  </div>\n",
              "  "
            ]
          },
          "metadata": {},
          "execution_count": 60
        }
      ]
    },
    {
      "cell_type": "code",
      "source": [
        "df_train_ml.info()"
      ],
      "metadata": {
        "_uuid": "e9c0d6596a00d10870061cb5a9ace69c50485acb",
        "_cell_guid": "fce96fa4-31fd-4172-a318-82cc52648334",
        "execution": {
          "iopub.status.busy": "2023-02-23T10:03:18.792056Z",
          "iopub.execute_input": "2023-02-23T10:03:18.792486Z",
          "iopub.status.idle": "2023-02-23T10:03:18.806390Z",
          "shell.execute_reply.started": "2023-02-23T10:03:18.792411Z",
          "shell.execute_reply": "2023-02-23T10:03:18.805357Z"
        },
        "trusted": true,
        "colab": {
          "base_uri": "https://localhost:8080/"
        },
        "id": "f09cxbsLvkO7",
        "outputId": "96b8bcde-e109-438d-8b0b-a6ea3c76ad68"
      },
      "execution_count": 61,
      "outputs": [
        {
          "output_type": "stream",
          "name": "stdout",
          "text": [
            "<class 'pandas.core.frame.DataFrame'>\n",
            "Int64Index: 714 entries, 0 to 890\n",
            "Data columns (total 10 columns):\n",
            " #   Column      Non-Null Count  Dtype  \n",
            "---  ------      --------------  -----  \n",
            " 0   Survived    714 non-null    int64  \n",
            " 1   Age         714 non-null    float64\n",
            " 2   SibSp       714 non-null    int64  \n",
            " 3   Parch       714 non-null    int64  \n",
            " 4   Fare        714 non-null    float64\n",
            " 5   Sex_male    714 non-null    uint8  \n",
            " 6   Embarked_Q  714 non-null    uint8  \n",
            " 7   Embarked_S  714 non-null    uint8  \n",
            " 8   Pclass_2    714 non-null    uint8  \n",
            " 9   Pclass_3    714 non-null    uint8  \n",
            "dtypes: float64(2), int64(3), uint8(5)\n",
            "memory usage: 37.0 KB\n"
          ]
        }
      ]
    },
    {
      "cell_type": "code",
      "source": [
        "df_test_ml.info()"
      ],
      "metadata": {
        "_uuid": "e76005c871612baf9bfa17fec4ed5a0abec70df8",
        "_cell_guid": "e428437a-0d5d-459d-a3e2-25cd21a0985b",
        "execution": {
          "iopub.status.busy": "2023-02-23T10:03:18.807895Z",
          "iopub.execute_input": "2023-02-23T10:03:18.808281Z",
          "iopub.status.idle": "2023-02-23T10:03:18.820333Z",
          "shell.execute_reply.started": "2023-02-23T10:03:18.808198Z",
          "shell.execute_reply": "2023-02-23T10:03:18.819429Z"
        },
        "trusted": true,
        "colab": {
          "base_uri": "https://localhost:8080/"
        },
        "id": "cFA7iKN2vkO7",
        "outputId": "a0c29ac4-cc98-4e57-f1c4-52d1a5cd1b78"
      },
      "execution_count": 62,
      "outputs": [
        {
          "output_type": "stream",
          "name": "stdout",
          "text": [
            "<class 'pandas.core.frame.DataFrame'>\n",
            "RangeIndex: 418 entries, 0 to 417\n",
            "Data columns (total 9 columns):\n",
            " #   Column      Non-Null Count  Dtype  \n",
            "---  ------      --------------  -----  \n",
            " 0   Age         332 non-null    float64\n",
            " 1   SibSp       418 non-null    int64  \n",
            " 2   Parch       418 non-null    int64  \n",
            " 3   Fare        417 non-null    float64\n",
            " 4   Sex_male    418 non-null    uint8  \n",
            " 5   Embarked_Q  418 non-null    uint8  \n",
            " 6   Embarked_S  418 non-null    uint8  \n",
            " 7   Pclass_2    418 non-null    uint8  \n",
            " 8   Pclass_3    418 non-null    uint8  \n",
            "dtypes: float64(2), int64(2), uint8(5)\n",
            "memory usage: 15.2 KB\n"
          ]
        }
      ]
    },
    {
      "cell_type": "code",
      "source": [
        "df_test_ml.head(10)"
      ],
      "metadata": {
        "_uuid": "5ea1c0e579b2a914242c8f78dde70fefb1ab7b05",
        "_cell_guid": "0b0bede5-efad-4372-bb5d-efc18da3ca03",
        "execution": {
          "iopub.status.busy": "2023-02-23T10:03:18.821512Z",
          "iopub.execute_input": "2023-02-23T10:03:18.821792Z",
          "iopub.status.idle": "2023-02-23T10:03:18.848726Z",
          "shell.execute_reply.started": "2023-02-23T10:03:18.821723Z",
          "shell.execute_reply": "2023-02-23T10:03:18.847788Z"
        },
        "trusted": true,
        "colab": {
          "base_uri": "https://localhost:8080/",
          "height": 363
        },
        "id": "VrzOo9rDvkO7",
        "outputId": "89599af3-6818-41e2-b9d5-456780a9ac7e"
      },
      "execution_count": 63,
      "outputs": [
        {
          "output_type": "execute_result",
          "data": {
            "text/plain": [
              "    Age  SibSp  Parch     Fare  Sex_male  Embarked_Q  Embarked_S  Pclass_2  \\\n",
              "0  34.5      0      0   7.8292         1           1           0         0   \n",
              "1  47.0      1      0   7.0000         0           0           1         0   \n",
              "2  62.0      0      0   9.6875         1           1           0         1   \n",
              "3  27.0      0      0   8.6625         1           0           1         0   \n",
              "4  22.0      1      1  12.2875         0           0           1         0   \n",
              "5  14.0      0      0   9.2250         1           0           1         0   \n",
              "6  30.0      0      0   7.6292         0           1           0         0   \n",
              "7  26.0      1      1  29.0000         1           0           1         1   \n",
              "8  18.0      0      0   7.2292         0           0           0         0   \n",
              "9  21.0      2      0  24.1500         1           0           1         0   \n",
              "\n",
              "   Pclass_3  \n",
              "0         1  \n",
              "1         1  \n",
              "2         0  \n",
              "3         1  \n",
              "4         1  \n",
              "5         1  \n",
              "6         1  \n",
              "7         0  \n",
              "8         1  \n",
              "9         1  "
            ],
            "text/html": [
              "\n",
              "  <div id=\"df-8c3419e0-e280-459e-b63a-cc2bb0b0b133\">\n",
              "    <div class=\"colab-df-container\">\n",
              "      <div>\n",
              "<style scoped>\n",
              "    .dataframe tbody tr th:only-of-type {\n",
              "        vertical-align: middle;\n",
              "    }\n",
              "\n",
              "    .dataframe tbody tr th {\n",
              "        vertical-align: top;\n",
              "    }\n",
              "\n",
              "    .dataframe thead th {\n",
              "        text-align: right;\n",
              "    }\n",
              "</style>\n",
              "<table border=\"1\" class=\"dataframe\">\n",
              "  <thead>\n",
              "    <tr style=\"text-align: right;\">\n",
              "      <th></th>\n",
              "      <th>Age</th>\n",
              "      <th>SibSp</th>\n",
              "      <th>Parch</th>\n",
              "      <th>Fare</th>\n",
              "      <th>Sex_male</th>\n",
              "      <th>Embarked_Q</th>\n",
              "      <th>Embarked_S</th>\n",
              "      <th>Pclass_2</th>\n",
              "      <th>Pclass_3</th>\n",
              "    </tr>\n",
              "  </thead>\n",
              "  <tbody>\n",
              "    <tr>\n",
              "      <th>0</th>\n",
              "      <td>34.5</td>\n",
              "      <td>0</td>\n",
              "      <td>0</td>\n",
              "      <td>7.8292</td>\n",
              "      <td>1</td>\n",
              "      <td>1</td>\n",
              "      <td>0</td>\n",
              "      <td>0</td>\n",
              "      <td>1</td>\n",
              "    </tr>\n",
              "    <tr>\n",
              "      <th>1</th>\n",
              "      <td>47.0</td>\n",
              "      <td>1</td>\n",
              "      <td>0</td>\n",
              "      <td>7.0000</td>\n",
              "      <td>0</td>\n",
              "      <td>0</td>\n",
              "      <td>1</td>\n",
              "      <td>0</td>\n",
              "      <td>1</td>\n",
              "    </tr>\n",
              "    <tr>\n",
              "      <th>2</th>\n",
              "      <td>62.0</td>\n",
              "      <td>0</td>\n",
              "      <td>0</td>\n",
              "      <td>9.6875</td>\n",
              "      <td>1</td>\n",
              "      <td>1</td>\n",
              "      <td>0</td>\n",
              "      <td>1</td>\n",
              "      <td>0</td>\n",
              "    </tr>\n",
              "    <tr>\n",
              "      <th>3</th>\n",
              "      <td>27.0</td>\n",
              "      <td>0</td>\n",
              "      <td>0</td>\n",
              "      <td>8.6625</td>\n",
              "      <td>1</td>\n",
              "      <td>0</td>\n",
              "      <td>1</td>\n",
              "      <td>0</td>\n",
              "      <td>1</td>\n",
              "    </tr>\n",
              "    <tr>\n",
              "      <th>4</th>\n",
              "      <td>22.0</td>\n",
              "      <td>1</td>\n",
              "      <td>1</td>\n",
              "      <td>12.2875</td>\n",
              "      <td>0</td>\n",
              "      <td>0</td>\n",
              "      <td>1</td>\n",
              "      <td>0</td>\n",
              "      <td>1</td>\n",
              "    </tr>\n",
              "    <tr>\n",
              "      <th>5</th>\n",
              "      <td>14.0</td>\n",
              "      <td>0</td>\n",
              "      <td>0</td>\n",
              "      <td>9.2250</td>\n",
              "      <td>1</td>\n",
              "      <td>0</td>\n",
              "      <td>1</td>\n",
              "      <td>0</td>\n",
              "      <td>1</td>\n",
              "    </tr>\n",
              "    <tr>\n",
              "      <th>6</th>\n",
              "      <td>30.0</td>\n",
              "      <td>0</td>\n",
              "      <td>0</td>\n",
              "      <td>7.6292</td>\n",
              "      <td>0</td>\n",
              "      <td>1</td>\n",
              "      <td>0</td>\n",
              "      <td>0</td>\n",
              "      <td>1</td>\n",
              "    </tr>\n",
              "    <tr>\n",
              "      <th>7</th>\n",
              "      <td>26.0</td>\n",
              "      <td>1</td>\n",
              "      <td>1</td>\n",
              "      <td>29.0000</td>\n",
              "      <td>1</td>\n",
              "      <td>0</td>\n",
              "      <td>1</td>\n",
              "      <td>1</td>\n",
              "      <td>0</td>\n",
              "    </tr>\n",
              "    <tr>\n",
              "      <th>8</th>\n",
              "      <td>18.0</td>\n",
              "      <td>0</td>\n",
              "      <td>0</td>\n",
              "      <td>7.2292</td>\n",
              "      <td>0</td>\n",
              "      <td>0</td>\n",
              "      <td>0</td>\n",
              "      <td>0</td>\n",
              "      <td>1</td>\n",
              "    </tr>\n",
              "    <tr>\n",
              "      <th>9</th>\n",
              "      <td>21.0</td>\n",
              "      <td>2</td>\n",
              "      <td>0</td>\n",
              "      <td>24.1500</td>\n",
              "      <td>1</td>\n",
              "      <td>0</td>\n",
              "      <td>1</td>\n",
              "      <td>0</td>\n",
              "      <td>1</td>\n",
              "    </tr>\n",
              "  </tbody>\n",
              "</table>\n",
              "</div>\n",
              "      <button class=\"colab-df-convert\" onclick=\"convertToInteractive('df-8c3419e0-e280-459e-b63a-cc2bb0b0b133')\"\n",
              "              title=\"Convert this dataframe to an interactive table.\"\n",
              "              style=\"display:none;\">\n",
              "        \n",
              "  <svg xmlns=\"http://www.w3.org/2000/svg\" height=\"24px\"viewBox=\"0 0 24 24\"\n",
              "       width=\"24px\">\n",
              "    <path d=\"M0 0h24v24H0V0z\" fill=\"none\"/>\n",
              "    <path d=\"M18.56 5.44l.94 2.06.94-2.06 2.06-.94-2.06-.94-.94-2.06-.94 2.06-2.06.94zm-11 1L8.5 8.5l.94-2.06 2.06-.94-2.06-.94L8.5 2.5l-.94 2.06-2.06.94zm10 10l.94 2.06.94-2.06 2.06-.94-2.06-.94-.94-2.06-.94 2.06-2.06.94z\"/><path d=\"M17.41 7.96l-1.37-1.37c-.4-.4-.92-.59-1.43-.59-.52 0-1.04.2-1.43.59L10.3 9.45l-7.72 7.72c-.78.78-.78 2.05 0 2.83L4 21.41c.39.39.9.59 1.41.59.51 0 1.02-.2 1.41-.59l7.78-7.78 2.81-2.81c.8-.78.8-2.07 0-2.86zM5.41 20L4 18.59l7.72-7.72 1.47 1.35L5.41 20z\"/>\n",
              "  </svg>\n",
              "      </button>\n",
              "      \n",
              "  <style>\n",
              "    .colab-df-container {\n",
              "      display:flex;\n",
              "      flex-wrap:wrap;\n",
              "      gap: 12px;\n",
              "    }\n",
              "\n",
              "    .colab-df-convert {\n",
              "      background-color: #E8F0FE;\n",
              "      border: none;\n",
              "      border-radius: 50%;\n",
              "      cursor: pointer;\n",
              "      display: none;\n",
              "      fill: #1967D2;\n",
              "      height: 32px;\n",
              "      padding: 0 0 0 0;\n",
              "      width: 32px;\n",
              "    }\n",
              "\n",
              "    .colab-df-convert:hover {\n",
              "      background-color: #E2EBFA;\n",
              "      box-shadow: 0px 1px 2px rgba(60, 64, 67, 0.3), 0px 1px 3px 1px rgba(60, 64, 67, 0.15);\n",
              "      fill: #174EA6;\n",
              "    }\n",
              "\n",
              "    [theme=dark] .colab-df-convert {\n",
              "      background-color: #3B4455;\n",
              "      fill: #D2E3FC;\n",
              "    }\n",
              "\n",
              "    [theme=dark] .colab-df-convert:hover {\n",
              "      background-color: #434B5C;\n",
              "      box-shadow: 0px 1px 3px 1px rgba(0, 0, 0, 0.15);\n",
              "      filter: drop-shadow(0px 1px 2px rgba(0, 0, 0, 0.3));\n",
              "      fill: #FFFFFF;\n",
              "    }\n",
              "  </style>\n",
              "\n",
              "      <script>\n",
              "        const buttonEl =\n",
              "          document.querySelector('#df-8c3419e0-e280-459e-b63a-cc2bb0b0b133 button.colab-df-convert');\n",
              "        buttonEl.style.display =\n",
              "          google.colab.kernel.accessAllowed ? 'block' : 'none';\n",
              "\n",
              "        async function convertToInteractive(key) {\n",
              "          const element = document.querySelector('#df-8c3419e0-e280-459e-b63a-cc2bb0b0b133');\n",
              "          const dataTable =\n",
              "            await google.colab.kernel.invokeFunction('convertToInteractive',\n",
              "                                                     [key], {});\n",
              "          if (!dataTable) return;\n",
              "\n",
              "          const docLinkHtml = 'Like what you see? Visit the ' +\n",
              "            '<a target=\"_blank\" href=https://colab.research.google.com/notebooks/data_table.ipynb>data table notebook</a>'\n",
              "            + ' to learn more about interactive tables.';\n",
              "          element.innerHTML = '';\n",
              "          dataTable['output_type'] = 'display_data';\n",
              "          await google.colab.output.renderOutput(dataTable, element);\n",
              "          const docLink = document.createElement('div');\n",
              "          docLink.innerHTML = docLinkHtml;\n",
              "          element.appendChild(docLink);\n",
              "        }\n",
              "      </script>\n",
              "    </div>\n",
              "  </div>\n",
              "  "
            ]
          },
          "metadata": {},
          "execution_count": 63
        }
      ]
    },
    {
      "cell_type": "markdown",
      "source": [
        "**Correlation Matrix**"
      ],
      "metadata": {
        "_uuid": "119c33bc381878c773350aeb67c50da7b647a0fc",
        "_cell_guid": "f27af614-2e9f-4c84-9ee4-ce559a389cf5",
        "id": "06_kFqkZvkO7"
      }
    },
    {
      "cell_type": "code",
      "source": [
        "corr = df_train_ml.corr()\n",
        "\n",
        "f,ax = plt.subplots(figsize=(9,6))\n",
        "sns.heatmap(corr, annot = True, linewidths=1.5 , fmt = '.2f',ax=ax)\n",
        "plt.show()"
      ],
      "metadata": {
        "_uuid": "56e391dbd1c08c3d2665fb11effa9bfdb26351c2",
        "_cell_guid": "c57bfd45-629a-433d-81c0-648693cd81a7",
        "execution": {
          "iopub.status.busy": "2023-02-23T10:03:18.849613Z",
          "iopub.execute_input": "2023-02-23T10:03:18.849836Z",
          "iopub.status.idle": "2023-02-23T10:03:20.155220Z",
          "shell.execute_reply.started": "2023-02-23T10:03:18.849800Z",
          "shell.execute_reply": "2023-02-23T10:03:20.153987Z"
        },
        "trusted": true,
        "colab": {
          "base_uri": "https://localhost:8080/",
          "height": 441
        },
        "id": "PFQvtbgNvkO7",
        "outputId": "6f1e6239-7300-482e-f2ce-7003b2dfba91"
      },
      "execution_count": 64,
      "outputs": [
        {
          "output_type": "display_data",
          "data": {
            "text/plain": [
              "<Figure size 648x432 with 2 Axes>"
            ],
            "image/png": "[encoded data removed]"
          },
          "metadata": {}
        }
      ]
    },
    {
      "cell_type": "markdown",
      "source": [
        "Survived and Fare positively correlated, Survived and Sex_male negatively correlated.  \n",
        "Also, Survived and Pclass_3 negatively correlated. SibSp and Parch correlated"
      ],
      "metadata": {
        "_uuid": "cbc0a3ae5a12f681051ee8b947f445c24d8d13be",
        "id": "0FxFmonQvkO7"
      }
    },
    {
      "cell_type": "markdown",
      "source": [
        "**sklearn StandardScaler**"
      ],
      "metadata": {
        "_uuid": "01bdefe92d15038b8ab3f586e9c52e524aef019b",
        "_cell_guid": "9e081640-5bd0-4ace-be3b-5ceccc2b11d1",
        "id": "APYhhbzwvkO8"
      }
    },
    {
      "cell_type": "code",
      "source": [
        "from sklearn.preprocessing import StandardScaler\n",
        "scaler = StandardScaler()\n",
        "\n",
        "# for df_train_ml\n",
        "scaler.fit(df_train_ml.drop('Survived',axis=1))\n",
        "scaled_features = scaler.transform(df_train_ml.drop('Survived',axis=1))\n",
        "df_train_ml_sc = pd.DataFrame(scaled_features, columns=df_train_ml.columns[:-1])\n",
        "\n",
        "# for df_test_ml\n",
        "df_test_ml.fillna(df_test_ml.mean(), inplace=True)\n",
        "# scaler.fit(df_test_ml)\n",
        "scaled_features = scaler.transform(df_test_ml)\n",
        "df_test_ml_sc = pd.DataFrame(scaled_features, columns=df_test_ml.columns)"
      ],
      "metadata": {
        "_uuid": "37da643912238c3168325df04b6e4ed5dc90145d",
        "_cell_guid": "bddddf4c-b292-44f9-9670-869ce82b47a8",
        "execution": {
          "iopub.status.busy": "2023-02-23T10:03:20.157062Z",
          "iopub.execute_input": "2023-02-23T10:03:20.157697Z",
          "iopub.status.idle": "2023-02-23T10:03:20.435974Z",
          "shell.execute_reply.started": "2023-02-23T10:03:20.157615Z",
          "shell.execute_reply": "2023-02-23T10:03:20.435004Z"
        },
        "trusted": true,
        "id": "UZtSPY0rvkO8"
      },
      "execution_count": 65,
      "outputs": []
    },
    {
      "cell_type": "markdown",
      "source": [],
      "metadata": {
        "_uuid": "17ed2ba80cf75636842a1b27f994766f8ef05c7d",
        "_cell_guid": "69721af1-e5b6-44dd-8031-16f35377d7f7",
        "id": "POHZeOJvvkO8"
      }
    },
    {
      "cell_type": "markdown",
      "source": [
        "**train_test_split**  \n",
        "use 70% of the data for training and 30% for testing"
      ],
      "metadata": {
        "_uuid": "ef6756ea1bb077b36c803069fb12c71fab9b7958",
        "_cell_guid": "2b933e10-5fcb-4e96-82d9-e43a250a5b96",
        "id": "yaYmyIfovkO8"
      }
    },
    {
      "cell_type": "code",
      "source": [
        "from sklearn.model_selection import train_test_split\n",
        "X_train, X_test, y_train, y_test = train_test_split(df_train_ml.drop('Survived',axis=1), df_train_ml['Survived'], test_size=0.30, random_state=101)\n",
        "X_train_sc, X_test_sc, y_train_sc, y_test_sc = train_test_split(df_train_ml_sc, df_train_ml['Survived'], test_size=0.30, random_state=101)"
      ],
      "metadata": {
        "_uuid": "5ce435c99a735bc0cda9775ef375d3f57ec1ff3b",
        "_cell_guid": "a0f88356-1b14-4a56-9535-e43aa781e2d0",
        "execution": {
          "iopub.status.busy": "2023-02-23T10:03:20.437070Z",
          "iopub.execute_input": "2023-02-23T10:03:20.437317Z",
          "iopub.status.idle": "2023-02-23T10:03:20.486343Z",
          "shell.execute_reply.started": "2023-02-23T10:03:20.437274Z",
          "shell.execute_reply": "2023-02-23T10:03:20.485480Z"
        },
        "trusted": true,
        "id": "jwMSocIyvkO8"
      },
      "execution_count": 66,
      "outputs": []
    },
    {
      "cell_type": "markdown",
      "source": [
        "**all data for submission**"
      ],
      "metadata": {
        "_uuid": "8e27b3baf7a41fbc58110d16c36e732b8ec74179",
        "_cell_guid": "306951c3-c004-4c30-929a-54b461c19871",
        "id": "I_fxf3VgvkO8"
      }
    },
    {
      "cell_type": "code",
      "source": [
        "# unscaled\n",
        "X_train_all = df_train_ml.drop('Survived',axis=1)\n",
        "y_train_all = df_train_ml['Survived']\n",
        "X_test_all = df_test_ml\n",
        "\n",
        "# scaled\n",
        "X_train_all_sc = df_train_ml_sc\n",
        "y_train_all_sc = df_train_ml['Survived']\n",
        "X_test_all_sc = df_test_ml_sc"
      ],
      "metadata": {
        "_uuid": "6699fa2223103aca2b725b43d0468abaab7a4960",
        "_cell_guid": "1a8b5751-6090-4db1-94c0-38538f6e31d9",
        "execution": {
          "iopub.status.busy": "2023-02-23T10:03:20.487980Z",
          "iopub.execute_input": "2023-02-23T10:03:20.488340Z",
          "iopub.status.idle": "2023-02-23T10:03:20.495059Z",
          "shell.execute_reply.started": "2023-02-23T10:03:20.488272Z",
          "shell.execute_reply": "2023-02-23T10:03:20.494241Z"
        },
        "trusted": true,
        "id": "xJnrLVK4vkO8"
      },
      "execution_count": 67,
      "outputs": []
    },
    {
      "cell_type": "markdown",
      "source": [
        "**fillna: fill nan with mean values for that column** "
      ],
      "metadata": {
        "_uuid": "a465421f227fcc37ac587c762aed5cd92bc55983",
        "_cell_guid": "e2cfbf74-9bad-43be-82e3-4fe0bd14777a",
        "id": "etrnuTtevkO9"
      }
    },
    {
      "cell_type": "code",
      "source": [
        "X_test_all.fillna(X_test_all.mean(), inplace=True)\n",
        "print(\"*\")"
      ],
      "metadata": {
        "_uuid": "b3416d5b019c4ab043880e52a2e3bf15c2be80cc",
        "_cell_guid": "c5e56666-3bf0-4114-8b6e-062bf6a2b57e",
        "execution": {
          "iopub.status.busy": "2023-02-23T10:03:20.496298Z",
          "iopub.execute_input": "2023-02-23T10:03:20.496575Z",
          "iopub.status.idle": "2023-02-23T10:03:20.512417Z",
          "shell.execute_reply.started": "2023-02-23T10:03:20.496521Z",
          "shell.execute_reply": "2023-02-23T10:03:20.511355Z"
        },
        "trusted": true,
        "colab": {
          "base_uri": "https://localhost:8080/"
        },
        "id": "tVGDMz-tvkO9",
        "outputId": "c824fcb7-acfe-4e5a-ea1b-91896cdbd720"
      },
      "execution_count": 68,
      "outputs": [
        {
          "output_type": "stream",
          "name": "stdout",
          "text": [
            "*\n"
          ]
        }
      ]
    }
  ]
}