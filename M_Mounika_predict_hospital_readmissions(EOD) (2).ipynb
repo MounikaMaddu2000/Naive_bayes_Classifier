{
  "cells": [
    {
      "cell_type": "markdown",
      "metadata": {
        "id": "5n4lirKvYTxj"
      },
      "source": [
        "***"
      ]
    },
    {
      "cell_type": "markdown",
      "metadata": {
        "id": "2rGe8SmlmWrZ"
      },
      "source": [
        "\n",
        "# **Prediction on Diabetes Patient's Hospital Readmission**"
      ]
    },
    {
      "cell_type": "markdown",
      "metadata": {
        "id": "dWh8qOYFmcyR"
      },
      "source": [
        "# Problem Statement"
      ]
    },
    {
      "cell_type": "markdown",
      "metadata": {
        "id": "W_l7DcoEmcu7"
      },
      "source": [
        "A hospital readmission is when a patient who is discharged from the hospital, gets re-admitted again within a certain period of time. Hospital readmission rates for certain conditions are now considered an indicator of hospital quality, and also affect the cost of care adversely.\n"
      ]
    },
    {
      "cell_type": "markdown",
      "metadata": {
        "id": "9utmHwlhHwSb"
      },
      "source": [
        "# **Data Set Description** "
      ]
    },
    {
      "cell_type": "markdown",
      "metadata": {
        "id": "P5I2XjNjbC20"
      },
      "source": [
        "** VARIABLE NAMES: DESCRIPTION**"
      ]
    },
    {
      "cell_type": "markdown",
      "metadata": {
        "id": "JBC7faNrOzrJ"
      },
      "source": [
        "**Encounter ID** Unique identifier of an encounter\n",
        "\n",
        "**Patient number** Unique identifier of a patient\n",
        "\n",
        "**Race Values**: Caucasian, Asian, African American, Hispanic, and other\n",
        "\n",
        "**Gender Values**: male, female, and unknown/invalid\n",
        "\n",
        "**Age** Grouped in 10-year intervals: 0, 10), 10, 20), …, 90, 100)\n",
        "\n",
        "**Weight** Weight in pounds\n",
        "\n",
        "**Admission type** Integer identifier corresponding to 9 distinct values, for example, emergency, urgent, elective, newborn, and not available\n",
        "\n",
        "**Discharge disposition** Integer identifier corresponding to 29 distinct values, for example, discharged to home, expired, and not available\n",
        "\n",
        "**Admission source** Integer identifier corresponding to 21 distinct values, for example, physician referral, emergency room, and transfer from a hospital\n",
        "\n",
        "**Time in hospital** Integer number of days between admission and discharge\n",
        "\n",
        "**Payer code** Integer identifier corresponding to 23 distinct values, for example, Blue Cross/Blue Shield, Medicare, and self-pay Medical\n",
        "\n",
        "**Medical specialty** Integer identifier of a specialty of the admitting physician, corresponding to 84 distinct values, for example, cardiology, internal medicine, family/general practice, and surgeon\n",
        "\n",
        "**Number of lab procedures** Number of lab tests performed during the encounter\n",
        "\n",
        "**Number of procedures** Numeric Number of procedures (other than lab tests) performed during the encounter\n",
        "\n",
        "**Number of medications** Number of distinct generic names administered during the encounter\n",
        "\n",
        "**Number of outpatient** visits Number of outpatient visits of the patient in the year preceding the encounter\n",
        "\n",
        "**Number of emergency** visits Number of emergency visits of the patient in the year preceding the encounter\n",
        "\n",
        "**Number of inpatient** visits Number of inpatient visits of the patient in the year preceding the encounter\n",
        "\n",
        "**Diagnosis 1** The primary diagnosis (coded as first three digits of ICD9); 848 distinct values\n",
        "\n",
        "**Diagnosis 2** Secondary diagnosis (coded as first three digits of ICD9); 923 distinct values\n",
        "\n",
        "**Diagnosis 3** Additional secondary diagnosis (coded as first three digits of ICD9); 954 distinct values\n",
        "\n",
        "**Number of diagnoses** Number of diagnoses entered to the system 0%\n",
        "\n",
        "**Glucose serum test** result Indicates the range of the result or if the test was not taken. Values: “>200,” “>300,” “normal,” and “none” if not measured\n",
        "\n",
        "**A1c** **test** result Indicates the range of the result or if the test was not taken.\n",
        " Values: “>8” if the result was greater than 8%, “>7” if the result was greater than 7% but less than 8%, “normal” if the result was less than 7%, and “none” if not measured.\n",
        "\n",
        "**Change of medications** Indicates if there was a change in diabetic medications (either dosage or generic name). Values: “change” and “no change”\n",
        "\n",
        "**Diabetes medications** Indicates if there was any diabetic medication prescribed. Values: “yes” and “no”\n",
        "\n",
        "24 features for medications For the generic names: **metformin, repaglinide, nateglinide, chlorpropamide, glimepiride, acetohexamide, glipizide, glyburide, tolbutamide, pioglitazone, rosiglitazone, acarbose, miglitol, troglitazone, tolazamide, examide, sitagliptin, insulin, glyburide-metformin, glipizide-metformin, glimepiride- pioglitazone, metformin-rosiglitazone, and metformin- pioglitazone,** the feature indicates whether the drug was prescribed or there was a change in the dosage. Values: “up” if the dosage was increased during the encounter, “down” if the dosage was decreased, “steady” if the dosage did not change, and “no” if the drug was not prescribed\n",
        "\n",
        "**Readmitted** Days to inpatient readmission. Values: “<30” if the patient was readmitted in less than 30 days, “>30” if the patient was readmitted in more than 30 days, and “No” for no record of readmission"
      ]
    },
    {
      "cell_type": "markdown",
      "metadata": {
        "id": "RqozgecJYTxj"
      },
      "source": [
        "## Project Goals\n",
        "\n",
        "* Create a model to predict whether a patient will get readmitted within 30 days.\n",
        "* Compare with other classifier models and evaluate using different evaluation metrics."
      ]
    },
    {
      "cell_type": "markdown",
      "metadata": {
        "id": "MlJe9B-FYTxj"
      },
      "source": [
        "## Data\n",
        "\n",
        "* The data was submitted on behalf of the Center for Clinical and Translational Research, Virginia Commonwealth University\n",
        "* The dataset contains information from 130 US hospitals and integrated delivery networks across 10 years from 1999 to 2008.\n",
        "* It includes over 50 features representing patient and hospital outcomes, such as patient age, number of medication, time in hospital, etc."
      ]
    },
    {
      "cell_type": "markdown",
      "metadata": {
        "id": "WpRtJ16UYTxk"
      },
      "source": [
        "## Analysis\n",
        "* The following models were used to predict early hospital readmissions:Naive Bayes\n",
        "* The following metrics were used to evaluate each model's performance: accuracy, precision, recall and F1 scores."
      ]
    },
    {
      "cell_type": "markdown",
      "metadata": {
        "id": "TqtX18N4YTxk"
      },
      "source": [
        "***"
      ]
    },
    {
      "cell_type": "markdown",
      "metadata": {
        "id": "sXk7Z2EtYTxk"
      },
      "source": [
        "## 1: Import Libraries and Files"
      ]
    },
    {
      "cell_type": "markdown",
      "metadata": {
        "id": "MmEk1q-Tkw_n"
      },
      "source": [
        "I  have imported pandas, numpy, seaborn, and matplotlib.pyplot.we can use these libraries to work with and visualize data."
      ]
    },
    {
      "cell_type": "code",
      "execution_count": 184,
      "metadata": {
        "execution": {
          "iopub.execute_input": "2023-01-17T15:35:56.829298Z",
          "iopub.status.busy": "2023-01-17T15:35:56.82816Z",
          "iopub.status.idle": "2023-01-17T15:35:57.895598Z",
          "shell.execute_reply": "2023-01-17T15:35:57.894523Z",
          "shell.execute_reply.started": "2023-01-17T15:35:56.829184Z"
        },
        "id": "sAPIQ6JHYTxk"
      },
      "outputs": [],
      "source": [
        "# Import libraries\n",
        "\n",
        "import pandas as pd\n",
        "import numpy as np\n",
        "import seaborn as sns\n",
        "from matplotlib import pyplot as plt"
      ]
    },
    {
      "cell_type": "markdown",
      "metadata": {
        "id": "9BUXcZ4OlI8f"
      },
      "source": [
        "Pandas' read_csv() function is a convenient way to read in data from a CSV file and create a DataFrame object. "
      ]
    },
    {
      "cell_type": "code",
      "execution_count": 185,
      "metadata": {
        "execution": {
          "iopub.execute_input": "2023-01-17T15:35:57.897542Z",
          "iopub.status.busy": "2023-01-17T15:35:57.89724Z",
          "iopub.status.idle": "2023-01-17T15:35:58.958322Z",
          "shell.execute_reply": "2023-01-17T15:35:58.957197Z",
          "shell.execute_reply.started": "2023-01-17T15:35:57.897514Z"
        },
        "id": "HQXtye5PYTxl"
      },
      "outputs": [],
      "source": [
        "# Read CSV file and grab the first 10 rows\n",
        "df = pd.read_csv('/content/diabetic_data.csv')Z"
      ]
    },
    {
      "cell_type": "markdown",
      "metadata": {
        "id": "jVHtzuNLlRjP"
      },
      "source": [
        "To check that you have successfully loaded the data into df, you can print the first 10 rows using the head() method, like this:"
      ]
    },
    {
      "cell_type": "code",
      "execution_count": 186,
      "metadata": {
        "colab": {
          "base_uri": "https://localhost:8080/",
          "height": 618
        },
        "execution": {
          "iopub.execute_input": "2023-01-17T15:35:58.960589Z",
          "iopub.status.busy": "2023-01-17T15:35:58.960033Z",
          "iopub.status.idle": "2023-01-17T15:35:59.018785Z",
          "shell.execute_reply": "2023-01-17T15:35:59.017628Z",
          "shell.execute_reply.started": "2023-01-17T15:35:58.960542Z"
        },
        "id": "IfjdLbOFYTxl",
        "outputId": "c2de94fe-eb96-4c11-a559-fbc197b2ec28"
      },
      "outputs": [
        {
          "output_type": "execute_result",
          "data": {
            "text/plain": [
              "   encounter_id  patient_nbr             race  gender       age weight  \\\n",
              "0       2278392      8222157        Caucasian  Female    [0-10)      ?   \n",
              "1        149190     55629189        Caucasian  Female   [10-20)      ?   \n",
              "2         64410     86047875  AfricanAmerican  Female   [20-30)      ?   \n",
              "3        500364     82442376        Caucasian    Male   [30-40)      ?   \n",
              "4         16680     42519267        Caucasian    Male   [40-50)      ?   \n",
              "5         35754     82637451        Caucasian    Male   [50-60)      ?   \n",
              "6         55842     84259809        Caucasian    Male   [60-70)      ?   \n",
              "7         63768    114882984        Caucasian    Male   [70-80)      ?   \n",
              "8         12522     48330783        Caucasian  Female   [80-90)      ?   \n",
              "9         15738     63555939        Caucasian  Female  [90-100)      ?   \n",
              "\n",
              "   admission_type_id  discharge_disposition_id  admission_source_id  \\\n",
              "0                  6                        25                    1   \n",
              "1                  1                         1                    7   \n",
              "2                  1                         1                    7   \n",
              "3                  1                         1                    7   \n",
              "4                  1                         1                    7   \n",
              "5                  2                         1                    2   \n",
              "6                  3                         1                    2   \n",
              "7                  1                         1                    7   \n",
              "8                  2                         1                    4   \n",
              "9                  3                         3                    4   \n",
              "\n",
              "   time_in_hospital payer_code         medical_specialty  num_lab_procedures  \\\n",
              "0                 1          ?  Pediatrics-Endocrinology                  41   \n",
              "1                 3          ?                         ?                  59   \n",
              "2                 2          ?                         ?                  11   \n",
              "3                 2          ?                         ?                  44   \n",
              "4                 1          ?                         ?                  51   \n",
              "5                 3          ?                         ?                  31   \n",
              "6                 4          ?                         ?                  70   \n",
              "7                 5          ?                         ?                  73   \n",
              "8                13          ?                         ?                  68   \n",
              "9                12          ?          InternalMedicine                  33   \n",
              "\n",
              "   num_procedures  num_medications  number_outpatient  number_emergency  \\\n",
              "0               0                1                  0                 0   \n",
              "1               0               18                  0                 0   \n",
              "2               5               13                  2                 0   \n",
              "3               1               16                  0                 0   \n",
              "4               0                8                  0                 0   \n",
              "5               6               16                  0                 0   \n",
              "6               1               21                  0                 0   \n",
              "7               0               12                  0                 0   \n",
              "8               2               28                  0                 0   \n",
              "9               3               18                  0                 0   \n",
              "\n",
              "   number_inpatient  diag_1  diag_2 diag_3  number_diagnoses max_glu_serum  \\\n",
              "0                 0  250.83       ?      ?                 1          None   \n",
              "1                 0     276  250.01    255                 9          None   \n",
              "2                 1     648     250    V27                 6          None   \n",
              "3                 0       8  250.43    403                 7          None   \n",
              "4                 0     197     157    250                 5          None   \n",
              "5                 0     414     411    250                 9          None   \n",
              "6                 0     414     411    V45                 7          None   \n",
              "7                 0     428     492    250                 8          None   \n",
              "8                 0     398     427     38                 8          None   \n",
              "9                 0     434     198    486                 8          None   \n",
              "\n",
              "  A1Cresult metformin repaglinide nateglinide chlorpropamide glimepiride  \\\n",
              "0      None        No          No          No             No          No   \n",
              "1      None        No          No          No             No          No   \n",
              "2      None        No          No          No             No          No   \n",
              "3      None        No          No          No             No          No   \n",
              "4      None        No          No          No             No          No   \n",
              "5      None        No          No          No             No          No   \n",
              "6      None    Steady          No          No             No      Steady   \n",
              "7      None        No          No          No             No          No   \n",
              "8      None        No          No          No             No          No   \n",
              "9      None        No          No          No             No          No   \n",
              "\n",
              "  acetohexamide glipizide glyburide tolbutamide pioglitazone rosiglitazone  \\\n",
              "0            No        No        No          No           No            No   \n",
              "1            No        No        No          No           No            No   \n",
              "2            No    Steady        No          No           No            No   \n",
              "3            No        No        No          No           No            No   \n",
              "4            No    Steady        No          No           No            No   \n",
              "5            No        No        No          No           No            No   \n",
              "6            No        No        No          No           No            No   \n",
              "7            No        No    Steady          No           No            No   \n",
              "8            No    Steady        No          No           No            No   \n",
              "9            No        No        No          No           No        Steady   \n",
              "\n",
              "  acarbose miglitol troglitazone tolazamide examide citoglipton insulin  \\\n",
              "0       No       No           No         No      No          No      No   \n",
              "1       No       No           No         No      No          No      Up   \n",
              "2       No       No           No         No      No          No      No   \n",
              "3       No       No           No         No      No          No      Up   \n",
              "4       No       No           No         No      No          No  Steady   \n",
              "5       No       No           No         No      No          No  Steady   \n",
              "6       No       No           No         No      No          No  Steady   \n",
              "7       No       No           No         No      No          No      No   \n",
              "8       No       No           No         No      No          No  Steady   \n",
              "9       No       No           No         No      No          No  Steady   \n",
              "\n",
              "  glyburide-metformin glipizide-metformin glimepiride-pioglitazone  \\\n",
              "0                  No                  No                       No   \n",
              "1                  No                  No                       No   \n",
              "2                  No                  No                       No   \n",
              "3                  No                  No                       No   \n",
              "4                  No                  No                       No   \n",
              "5                  No                  No                       No   \n",
              "6                  No                  No                       No   \n",
              "7                  No                  No                       No   \n",
              "8                  No                  No                       No   \n",
              "9                  No                  No                       No   \n",
              "\n",
              "  metformin-rosiglitazone metformin-pioglitazone change diabetesMed readmitted  \n",
              "0                      No                     No     No          No         NO  \n",
              "1                      No                     No     Ch         Yes        >30  \n",
              "2                      No                     No     No         Yes         NO  \n",
              "3                      No                     No     Ch         Yes         NO  \n",
              "4                      No                     No     Ch         Yes         NO  \n",
              "5                      No                     No     No         Yes        >30  \n",
              "6                      No                     No     Ch         Yes         NO  \n",
              "7                      No                     No     No         Yes        >30  \n",
              "8                      No                     No     Ch         Yes         NO  \n",
              "9                      No                     No     Ch         Yes         NO  "
            ],
            "text/html": [
              "\n",
              "  <div id=\"df-865b977c-1792-4a3a-9627-d8f4673c21ee\">\n",
              "    <div class=\"colab-df-container\">\n",
              "      <div>\n",
              "<style scoped>\n",
              "    .dataframe tbody tr th:only-of-type {\n",
              "        vertical-align: middle;\n",
              "    }\n",
              "\n",
              "    .dataframe tbody tr th {\n",
              "        vertical-align: top;\n",
              "    }\n",
              "\n",
              "    .dataframe thead th {\n",
              "        text-align: right;\n",
              "    }\n",
              "</style>\n",
              "<table border=\"1\" class=\"dataframe\">\n",
              "  <thead>\n",
              "    <tr style=\"text-align: right;\">\n",
              "      <th></th>\n",
              "      <th>encounter_id</th>\n",
              "      <th>patient_nbr</th>\n",
              "      <th>race</th>\n",
              "      <th>gender</th>\n",
              "      <th>age</th>\n",
              "      <th>weight</th>\n",
              "      <th>admission_type_id</th>\n",
              "      <th>discharge_disposition_id</th>\n",
              "      <th>admission_source_id</th>\n",
              "      <th>time_in_hospital</th>\n",
              "      <th>payer_code</th>\n",
              "      <th>medical_specialty</th>\n",
              "      <th>num_lab_procedures</th>\n",
              "      <th>num_procedures</th>\n",
              "      <th>num_medications</th>\n",
              "      <th>number_outpatient</th>\n",
              "      <th>number_emergency</th>\n",
              "      <th>number_inpatient</th>\n",
              "      <th>diag_1</th>\n",
              "      <th>diag_2</th>\n",
              "      <th>diag_3</th>\n",
              "      <th>number_diagnoses</th>\n",
              "      <th>max_glu_serum</th>\n",
              "      <th>A1Cresult</th>\n",
              "      <th>metformin</th>\n",
              "      <th>repaglinide</th>\n",
              "      <th>nateglinide</th>\n",
              "      <th>chlorpropamide</th>\n",
              "      <th>glimepiride</th>\n",
              "      <th>acetohexamide</th>\n",
              "      <th>glipizide</th>\n",
              "      <th>glyburide</th>\n",
              "      <th>tolbutamide</th>\n",
              "      <th>pioglitazone</th>\n",
              "      <th>rosiglitazone</th>\n",
              "      <th>acarbose</th>\n",
              "      <th>miglitol</th>\n",
              "      <th>troglitazone</th>\n",
              "      <th>tolazamide</th>\n",
              "      <th>examide</th>\n",
              "      <th>citoglipton</th>\n",
              "      <th>insulin</th>\n",
              "      <th>glyburide-metformin</th>\n",
              "      <th>glipizide-metformin</th>\n",
              "      <th>glimepiride-pioglitazone</th>\n",
              "      <th>metformin-rosiglitazone</th>\n",
              "      <th>metformin-pioglitazone</th>\n",
              "      <th>change</th>\n",
              "      <th>diabetesMed</th>\n",
              "      <th>readmitted</th>\n",
              "    </tr>\n",
              "  </thead>\n",
              "  <tbody>\n",
              "    <tr>\n",
              "      <th>0</th>\n",
              "      <td>2278392</td>\n",
              "      <td>8222157</td>\n",
              "      <td>Caucasian</td>\n",
              "      <td>Female</td>\n",
              "      <td>[0-10)</td>\n",
              "      <td>?</td>\n",
              "      <td>6</td>\n",
              "      <td>25</td>\n",
              "      <td>1</td>\n",
              "      <td>1</td>\n",
              "      <td>?</td>\n",
              "      <td>Pediatrics-Endocrinology</td>\n",
              "      <td>41</td>\n",
              "      <td>0</td>\n",
              "      <td>1</td>\n",
              "      <td>0</td>\n",
              "      <td>0</td>\n",
              "      <td>0</td>\n",
              "      <td>250.83</td>\n",
              "      <td>?</td>\n",
              "      <td>?</td>\n",
              "      <td>1</td>\n",
              "      <td>None</td>\n",
              "      <td>None</td>\n",
              "      <td>No</td>\n",
              "      <td>No</td>\n",
              "      <td>No</td>\n",
              "      <td>No</td>\n",
              "      <td>No</td>\n",
              "      <td>No</td>\n",
              "      <td>No</td>\n",
              "      <td>No</td>\n",
              "      <td>No</td>\n",
              "      <td>No</td>\n",
              "      <td>No</td>\n",
              "      <td>No</td>\n",
              "      <td>No</td>\n",
              "      <td>No</td>\n",
              "      <td>No</td>\n",
              "      <td>No</td>\n",
              "      <td>No</td>\n",
              "      <td>No</td>\n",
              "      <td>No</td>\n",
              "      <td>No</td>\n",
              "      <td>No</td>\n",
              "      <td>No</td>\n",
              "      <td>No</td>\n",
              "      <td>No</td>\n",
              "      <td>No</td>\n",
              "      <td>NO</td>\n",
              "    </tr>\n",
              "    <tr>\n",
              "      <th>1</th>\n",
              "      <td>149190</td>\n",
              "      <td>55629189</td>\n",
              "      <td>Caucasian</td>\n",
              "      <td>Female</td>\n",
              "      <td>[10-20)</td>\n",
              "      <td>?</td>\n",
              "      <td>1</td>\n",
              "      <td>1</td>\n",
              "      <td>7</td>\n",
              "      <td>3</td>\n",
              "      <td>?</td>\n",
              "      <td>?</td>\n",
              "      <td>59</td>\n",
              "      <td>0</td>\n",
              "      <td>18</td>\n",
              "      <td>0</td>\n",
              "      <td>0</td>\n",
              "      <td>0</td>\n",
              "      <td>276</td>\n",
              "      <td>250.01</td>\n",
              "      <td>255</td>\n",
              "      <td>9</td>\n",
              "      <td>None</td>\n",
              "      <td>None</td>\n",
              "      <td>No</td>\n",
              "      <td>No</td>\n",
              "      <td>No</td>\n",
              "      <td>No</td>\n",
              "      <td>No</td>\n",
              "      <td>No</td>\n",
              "      <td>No</td>\n",
              "      <td>No</td>\n",
              "      <td>No</td>\n",
              "      <td>No</td>\n",
              "      <td>No</td>\n",
              "      <td>No</td>\n",
              "      <td>No</td>\n",
              "      <td>No</td>\n",
              "      <td>No</td>\n",
              "      <td>No</td>\n",
              "      <td>No</td>\n",
              "      <td>Up</td>\n",
              "      <td>No</td>\n",
              "      <td>No</td>\n",
              "      <td>No</td>\n",
              "      <td>No</td>\n",
              "      <td>No</td>\n",
              "      <td>Ch</td>\n",
              "      <td>Yes</td>\n",
              "      <td>&gt;30</td>\n",
              "    </tr>\n",
              "    <tr>\n",
              "      <th>2</th>\n",
              "      <td>64410</td>\n",
              "      <td>86047875</td>\n",
              "      <td>AfricanAmerican</td>\n",
              "      <td>Female</td>\n",
              "      <td>[20-30)</td>\n",
              "      <td>?</td>\n",
              "      <td>1</td>\n",
              "      <td>1</td>\n",
              "      <td>7</td>\n",
              "      <td>2</td>\n",
              "      <td>?</td>\n",
              "      <td>?</td>\n",
              "      <td>11</td>\n",
              "      <td>5</td>\n",
              "      <td>13</td>\n",
              "      <td>2</td>\n",
              "      <td>0</td>\n",
              "      <td>1</td>\n",
              "      <td>648</td>\n",
              "      <td>250</td>\n",
              "      <td>V27</td>\n",
              "      <td>6</td>\n",
              "      <td>None</td>\n",
              "      <td>None</td>\n",
              "      <td>No</td>\n",
              "      <td>No</td>\n",
              "      <td>No</td>\n",
              "      <td>No</td>\n",
              "      <td>No</td>\n",
              "      <td>No</td>\n",
              "      <td>Steady</td>\n",
              "      <td>No</td>\n",
              "      <td>No</td>\n",
              "      <td>No</td>\n",
              "      <td>No</td>\n",
              "      <td>No</td>\n",
              "      <td>No</td>\n",
              "      <td>No</td>\n",
              "      <td>No</td>\n",
              "      <td>No</td>\n",
              "      <td>No</td>\n",
              "      <td>No</td>\n",
              "      <td>No</td>\n",
              "      <td>No</td>\n",
              "      <td>No</td>\n",
              "      <td>No</td>\n",
              "      <td>No</td>\n",
              "      <td>No</td>\n",
              "      <td>Yes</td>\n",
              "      <td>NO</td>\n",
              "    </tr>\n",
              "    <tr>\n",
              "      <th>3</th>\n",
              "      <td>500364</td>\n",
              "      <td>82442376</td>\n",
              "      <td>Caucasian</td>\n",
              "      <td>Male</td>\n",
              "      <td>[30-40)</td>\n",
              "      <td>?</td>\n",
              "      <td>1</td>\n",
              "      <td>1</td>\n",
              "      <td>7</td>\n",
              "      <td>2</td>\n",
              "      <td>?</td>\n",
              "      <td>?</td>\n",
              "      <td>44</td>\n",
              "      <td>1</td>\n",
              "      <td>16</td>\n",
              "      <td>0</td>\n",
              "      <td>0</td>\n",
              "      <td>0</td>\n",
              "      <td>8</td>\n",
              "      <td>250.43</td>\n",
              "      <td>403</td>\n",
              "      <td>7</td>\n",
              "      <td>None</td>\n",
              "      <td>None</td>\n",
              "      <td>No</td>\n",
              "      <td>No</td>\n",
              "      <td>No</td>\n",
              "      <td>No</td>\n",
              "      <td>No</td>\n",
              "      <td>No</td>\n",
              "      <td>No</td>\n",
              "      <td>No</td>\n",
              "      <td>No</td>\n",
              "      <td>No</td>\n",
              "      <td>No</td>\n",
              "      <td>No</td>\n",
              "      <td>No</td>\n",
              "      <td>No</td>\n",
              "      <td>No</td>\n",
              "      <td>No</td>\n",
              "      <td>No</td>\n",
              "      <td>Up</td>\n",
              "      <td>No</td>\n",
              "      <td>No</td>\n",
              "      <td>No</td>\n",
              "      <td>No</td>\n",
              "      <td>No</td>\n",
              "      <td>Ch</td>\n",
              "      <td>Yes</td>\n",
              "      <td>NO</td>\n",
              "    </tr>\n",
              "    <tr>\n",
              "      <th>4</th>\n",
              "      <td>16680</td>\n",
              "      <td>42519267</td>\n",
              "      <td>Caucasian</td>\n",
              "      <td>Male</td>\n",
              "      <td>[40-50)</td>\n",
              "      <td>?</td>\n",
              "      <td>1</td>\n",
              "      <td>1</td>\n",
              "      <td>7</td>\n",
              "      <td>1</td>\n",
              "      <td>?</td>\n",
              "      <td>?</td>\n",
              "      <td>51</td>\n",
              "      <td>0</td>\n",
              "      <td>8</td>\n",
              "      <td>0</td>\n",
              "      <td>0</td>\n",
              "      <td>0</td>\n",
              "      <td>197</td>\n",
              "      <td>157</td>\n",
              "      <td>250</td>\n",
              "      <td>5</td>\n",
              "      <td>None</td>\n",
              "      <td>None</td>\n",
              "      <td>No</td>\n",
              "      <td>No</td>\n",
              "      <td>No</td>\n",
              "      <td>No</td>\n",
              "      <td>No</td>\n",
              "      <td>No</td>\n",
              "      <td>Steady</td>\n",
              "      <td>No</td>\n",
              "      <td>No</td>\n",
              "      <td>No</td>\n",
              "      <td>No</td>\n",
              "      <td>No</td>\n",
              "      <td>No</td>\n",
              "      <td>No</td>\n",
              "      <td>No</td>\n",
              "      <td>No</td>\n",
              "      <td>No</td>\n",
              "      <td>Steady</td>\n",
              "      <td>No</td>\n",
              "      <td>No</td>\n",
              "      <td>No</td>\n",
              "      <td>No</td>\n",
              "      <td>No</td>\n",
              "      <td>Ch</td>\n",
              "      <td>Yes</td>\n",
              "      <td>NO</td>\n",
              "    </tr>\n",
              "    <tr>\n",
              "      <th>5</th>\n",
              "      <td>35754</td>\n",
              "      <td>82637451</td>\n",
              "      <td>Caucasian</td>\n",
              "      <td>Male</td>\n",
              "      <td>[50-60)</td>\n",
              "      <td>?</td>\n",
              "      <td>2</td>\n",
              "      <td>1</td>\n",
              "      <td>2</td>\n",
              "      <td>3</td>\n",
              "      <td>?</td>\n",
              "      <td>?</td>\n",
              "      <td>31</td>\n",
              "      <td>6</td>\n",
              "      <td>16</td>\n",
              "      <td>0</td>\n",
              "      <td>0</td>\n",
              "      <td>0</td>\n",
              "      <td>414</td>\n",
              "      <td>411</td>\n",
              "      <td>250</td>\n",
              "      <td>9</td>\n",
              "      <td>None</td>\n",
              "      <td>None</td>\n",
              "      <td>No</td>\n",
              "      <td>No</td>\n",
              "      <td>No</td>\n",
              "      <td>No</td>\n",
              "      <td>No</td>\n",
              "      <td>No</td>\n",
              "      <td>No</td>\n",
              "      <td>No</td>\n",
              "      <td>No</td>\n",
              "      <td>No</td>\n",
              "      <td>No</td>\n",
              "      <td>No</td>\n",
              "      <td>No</td>\n",
              "      <td>No</td>\n",
              "      <td>No</td>\n",
              "      <td>No</td>\n",
              "      <td>No</td>\n",
              "      <td>Steady</td>\n",
              "      <td>No</td>\n",
              "      <td>No</td>\n",
              "      <td>No</td>\n",
              "      <td>No</td>\n",
              "      <td>No</td>\n",
              "      <td>No</td>\n",
              "      <td>Yes</td>\n",
              "      <td>&gt;30</td>\n",
              "    </tr>\n",
              "    <tr>\n",
              "      <th>6</th>\n",
              "      <td>55842</td>\n",
              "      <td>84259809</td>\n",
              "      <td>Caucasian</td>\n",
              "      <td>Male</td>\n",
              "      <td>[60-70)</td>\n",
              "      <td>?</td>\n",
              "      <td>3</td>\n",
              "      <td>1</td>\n",
              "      <td>2</td>\n",
              "      <td>4</td>\n",
              "      <td>?</td>\n",
              "      <td>?</td>\n",
              "      <td>70</td>\n",
              "      <td>1</td>\n",
              "      <td>21</td>\n",
              "      <td>0</td>\n",
              "      <td>0</td>\n",
              "      <td>0</td>\n",
              "      <td>414</td>\n",
              "      <td>411</td>\n",
              "      <td>V45</td>\n",
              "      <td>7</td>\n",
              "      <td>None</td>\n",
              "      <td>None</td>\n",
              "      <td>Steady</td>\n",
              "      <td>No</td>\n",
              "      <td>No</td>\n",
              "      <td>No</td>\n",
              "      <td>Steady</td>\n",
              "      <td>No</td>\n",
              "      <td>No</td>\n",
              "      <td>No</td>\n",
              "      <td>No</td>\n",
              "      <td>No</td>\n",
              "      <td>No</td>\n",
              "      <td>No</td>\n",
              "      <td>No</td>\n",
              "      <td>No</td>\n",
              "      <td>No</td>\n",
              "      <td>No</td>\n",
              "      <td>No</td>\n",
              "      <td>Steady</td>\n",
              "      <td>No</td>\n",
              "      <td>No</td>\n",
              "      <td>No</td>\n",
              "      <td>No</td>\n",
              "      <td>No</td>\n",
              "      <td>Ch</td>\n",
              "      <td>Yes</td>\n",
              "      <td>NO</td>\n",
              "    </tr>\n",
              "    <tr>\n",
              "      <th>7</th>\n",
              "      <td>63768</td>\n",
              "      <td>114882984</td>\n",
              "      <td>Caucasian</td>\n",
              "      <td>Male</td>\n",
              "      <td>[70-80)</td>\n",
              "      <td>?</td>\n",
              "      <td>1</td>\n",
              "      <td>1</td>\n",
              "      <td>7</td>\n",
              "      <td>5</td>\n",
              "      <td>?</td>\n",
              "      <td>?</td>\n",
              "      <td>73</td>\n",
              "      <td>0</td>\n",
              "      <td>12</td>\n",
              "      <td>0</td>\n",
              "      <td>0</td>\n",
              "      <td>0</td>\n",
              "      <td>428</td>\n",
              "      <td>492</td>\n",
              "      <td>250</td>\n",
              "      <td>8</td>\n",
              "      <td>None</td>\n",
              "      <td>None</td>\n",
              "      <td>No</td>\n",
              "      <td>No</td>\n",
              "      <td>No</td>\n",
              "      <td>No</td>\n",
              "      <td>No</td>\n",
              "      <td>No</td>\n",
              "      <td>No</td>\n",
              "      <td>Steady</td>\n",
              "      <td>No</td>\n",
              "      <td>No</td>\n",
              "      <td>No</td>\n",
              "      <td>No</td>\n",
              "      <td>No</td>\n",
              "      <td>No</td>\n",
              "      <td>No</td>\n",
              "      <td>No</td>\n",
              "      <td>No</td>\n",
              "      <td>No</td>\n",
              "      <td>No</td>\n",
              "      <td>No</td>\n",
              "      <td>No</td>\n",
              "      <td>No</td>\n",
              "      <td>No</td>\n",
              "      <td>No</td>\n",
              "      <td>Yes</td>\n",
              "      <td>&gt;30</td>\n",
              "    </tr>\n",
              "    <tr>\n",
              "      <th>8</th>\n",
              "      <td>12522</td>\n",
              "      <td>48330783</td>\n",
              "      <td>Caucasian</td>\n",
              "      <td>Female</td>\n",
              "      <td>[80-90)</td>\n",
              "      <td>?</td>\n",
              "      <td>2</td>\n",
              "      <td>1</td>\n",
              "      <td>4</td>\n",
              "      <td>13</td>\n",
              "      <td>?</td>\n",
              "      <td>?</td>\n",
              "      <td>68</td>\n",
              "      <td>2</td>\n",
              "      <td>28</td>\n",
              "      <td>0</td>\n",
              "      <td>0</td>\n",
              "      <td>0</td>\n",
              "      <td>398</td>\n",
              "      <td>427</td>\n",
              "      <td>38</td>\n",
              "      <td>8</td>\n",
              "      <td>None</td>\n",
              "      <td>None</td>\n",
              "      <td>No</td>\n",
              "      <td>No</td>\n",
              "      <td>No</td>\n",
              "      <td>No</td>\n",
              "      <td>No</td>\n",
              "      <td>No</td>\n",
              "      <td>Steady</td>\n",
              "      <td>No</td>\n",
              "      <td>No</td>\n",
              "      <td>No</td>\n",
              "      <td>No</td>\n",
              "      <td>No</td>\n",
              "      <td>No</td>\n",
              "      <td>No</td>\n",
              "      <td>No</td>\n",
              "      <td>No</td>\n",
              "      <td>No</td>\n",
              "      <td>Steady</td>\n",
              "      <td>No</td>\n",
              "      <td>No</td>\n",
              "      <td>No</td>\n",
              "      <td>No</td>\n",
              "      <td>No</td>\n",
              "      <td>Ch</td>\n",
              "      <td>Yes</td>\n",
              "      <td>NO</td>\n",
              "    </tr>\n",
              "    <tr>\n",
              "      <th>9</th>\n",
              "      <td>15738</td>\n",
              "      <td>63555939</td>\n",
              "      <td>Caucasian</td>\n",
              "      <td>Female</td>\n",
              "      <td>[90-100)</td>\n",
              "      <td>?</td>\n",
              "      <td>3</td>\n",
              "      <td>3</td>\n",
              "      <td>4</td>\n",
              "      <td>12</td>\n",
              "      <td>?</td>\n",
              "      <td>InternalMedicine</td>\n",
              "      <td>33</td>\n",
              "      <td>3</td>\n",
              "      <td>18</td>\n",
              "      <td>0</td>\n",
              "      <td>0</td>\n",
              "      <td>0</td>\n",
              "      <td>434</td>\n",
              "      <td>198</td>\n",
              "      <td>486</td>\n",
              "      <td>8</td>\n",
              "      <td>None</td>\n",
              "      <td>None</td>\n",
              "      <td>No</td>\n",
              "      <td>No</td>\n",
              "      <td>No</td>\n",
              "      <td>No</td>\n",
              "      <td>No</td>\n",
              "      <td>No</td>\n",
              "      <td>No</td>\n",
              "      <td>No</td>\n",
              "      <td>No</td>\n",
              "      <td>No</td>\n",
              "      <td>Steady</td>\n",
              "      <td>No</td>\n",
              "      <td>No</td>\n",
              "      <td>No</td>\n",
              "      <td>No</td>\n",
              "      <td>No</td>\n",
              "      <td>No</td>\n",
              "      <td>Steady</td>\n",
              "      <td>No</td>\n",
              "      <td>No</td>\n",
              "      <td>No</td>\n",
              "      <td>No</td>\n",
              "      <td>No</td>\n",
              "      <td>Ch</td>\n",
              "      <td>Yes</td>\n",
              "      <td>NO</td>\n",
              "    </tr>\n",
              "  </tbody>\n",
              "</table>\n",
              "</div>\n",
              "      <button class=\"colab-df-convert\" onclick=\"convertToInteractive('df-865b977c-1792-4a3a-9627-d8f4673c21ee')\"\n",
              "              title=\"Convert this dataframe to an interactive table.\"\n",
              "              style=\"display:none;\">\n",
              "        \n",
              "  <svg xmlns=\"http://www.w3.org/2000/svg\" height=\"24px\"viewBox=\"0 0 24 24\"\n",
              "       width=\"24px\">\n",
              "    <path d=\"M0 0h24v24H0V0z\" fill=\"none\"/>\n",
              "    <path d=\"M18.56 5.44l.94 2.06.94-2.06 2.06-.94-2.06-.94-.94-2.06-.94 2.06-2.06.94zm-11 1L8.5 8.5l.94-2.06 2.06-.94-2.06-.94L8.5 2.5l-.94 2.06-2.06.94zm10 10l.94 2.06.94-2.06 2.06-.94-2.06-.94-.94-2.06-.94 2.06-2.06.94z\"/><path d=\"M17.41 7.96l-1.37-1.37c-.4-.4-.92-.59-1.43-.59-.52 0-1.04.2-1.43.59L10.3 9.45l-7.72 7.72c-.78.78-.78 2.05 0 2.83L4 21.41c.39.39.9.59 1.41.59.51 0 1.02-.2 1.41-.59l7.78-7.78 2.81-2.81c.8-.78.8-2.07 0-2.86zM5.41 20L4 18.59l7.72-7.72 1.47 1.35L5.41 20z\"/>\n",
              "  </svg>\n",
              "      </button>\n",
              "      \n",
              "  <style>\n",
              "    .colab-df-container {\n",
              "      display:flex;\n",
              "      flex-wrap:wrap;\n",
              "      gap: 12px;\n",
              "    }\n",
              "\n",
              "    .colab-df-convert {\n",
              "      background-color: #E8F0FE;\n",
              "      border: none;\n",
              "      border-radius: 50%;\n",
              "      cursor: pointer;\n",
              "      display: none;\n",
              "      fill: #1967D2;\n",
              "      height: 32px;\n",
              "      padding: 0 0 0 0;\n",
              "      width: 32px;\n",
              "    }\n",
              "\n",
              "    .colab-df-convert:hover {\n",
              "      background-color: #E2EBFA;\n",
              "      box-shadow: 0px 1px 2px rgba(60, 64, 67, 0.3), 0px 1px 3px 1px rgba(60, 64, 67, 0.15);\n",
              "      fill: #174EA6;\n",
              "    }\n",
              "\n",
              "    [theme=dark] .colab-df-convert {\n",
              "      background-color: #3B4455;\n",
              "      fill: #D2E3FC;\n",
              "    }\n",
              "\n",
              "    [theme=dark] .colab-df-convert:hover {\n",
              "      background-color: #434B5C;\n",
              "      box-shadow: 0px 1px 3px 1px rgba(0, 0, 0, 0.15);\n",
              "      filter: drop-shadow(0px 1px 2px rgba(0, 0, 0, 0.3));\n",
              "      fill: #FFFFFF;\n",
              "    }\n",
              "  </style>\n",
              "\n",
              "      <script>\n",
              "        const buttonEl =\n",
              "          document.querySelector('#df-865b977c-1792-4a3a-9627-d8f4673c21ee button.colab-df-convert');\n",
              "        buttonEl.style.display =\n",
              "          google.colab.kernel.accessAllowed ? 'block' : 'none';\n",
              "\n",
              "        async function convertToInteractive(key) {\n",
              "          const element = document.querySelector('#df-865b977c-1792-4a3a-9627-d8f4673c21ee');\n",
              "          const dataTable =\n",
              "            await google.colab.kernel.invokeFunction('convertToInteractive',\n",
              "                                                     [key], {});\n",
              "          if (!dataTable) return;\n",
              "\n",
              "          const docLinkHtml = 'Like what you see? Visit the ' +\n",
              "            '<a target=\"_blank\" href=https://colab.research.google.com/notebooks/data_table.ipynb>data table notebook</a>'\n",
              "            + ' to learn more about interactive tables.';\n",
              "          element.innerHTML = '';\n",
              "          dataTable['output_type'] = 'display_data';\n",
              "          await google.colab.output.renderOutput(dataTable, element);\n",
              "          const docLink = document.createElement('div');\n",
              "          docLink.innerHTML = docLinkHtml;\n",
              "          element.appendChild(docLink);\n",
              "        }\n",
              "      </script>\n",
              "    </div>\n",
              "  </div>\n",
              "  "
            ]
          },
          "metadata": {},
          "execution_count": 186
        }
      ],
      "source": [
        "# Take a look at the dataset\n",
        "\n",
        "pd.set_option('display.max_columns', None)\n",
        "\n",
        "df.head(10)"
      ]
    },
    {
      "cell_type": "markdown",
      "metadata": {
        "id": "A908_Uqolhy1"
      },
      "source": [
        "The shape attribute of a pandas DataFrame returns a tuple with the number of rows and columns in the DataFrame. You can use it to check the size of your DataFrame. To get the shape of df, you can use the following code:"
      ]
    },
    {
      "cell_type": "code",
      "execution_count": 187,
      "metadata": {
        "colab": {
          "base_uri": "https://localhost:8080/"
        },
        "execution": {
          "iopub.execute_input": "2023-01-17T15:35:59.021335Z",
          "iopub.status.busy": "2023-01-17T15:35:59.020601Z",
          "iopub.status.idle": "2023-01-17T15:35:59.028066Z",
          "shell.execute_reply": "2023-01-17T15:35:59.026998Z",
          "shell.execute_reply.started": "2023-01-17T15:35:59.02129Z"
        },
        "id": "j258sq8SYTxm",
        "outputId": "5901dd70-9753-41ff-91a0-3ee71ae5e178"
      },
      "outputs": [
        {
          "output_type": "execute_result",
          "data": {
            "text/plain": [
              "(101766, 50)"
            ]
          },
          "metadata": {},
          "execution_count": 187
        }
      ],
      "source": [
        "# Look at the shape of dataset\n",
        "\n",
        "df.shape"
      ]
    },
    {
      "cell_type": "markdown",
      "metadata": {
        "id": "ogOR0m6bltT5"
      },
      "source": [
        "The dtypes attribute of a pandas DataFrame returns the data type of each column in the DataFrame. You can use it to check the data types of the columns in df. To get the data types of the columns in df, you can use the following code:"
      ]
    },
    {
      "cell_type": "code",
      "execution_count": 188,
      "metadata": {
        "colab": {
          "base_uri": "https://localhost:8080/"
        },
        "execution": {
          "iopub.execute_input": "2023-01-17T15:35:59.03268Z",
          "iopub.status.busy": "2023-01-17T15:35:59.032049Z",
          "iopub.status.idle": "2023-01-17T15:35:59.042865Z",
          "shell.execute_reply": "2023-01-17T15:35:59.041481Z",
          "shell.execute_reply.started": "2023-01-17T15:35:59.032618Z"
        },
        "id": "MpsFJ_IPYTxm",
        "outputId": "12fd91f9-bc65-40d4-80a8-0aede4d506d4"
      },
      "outputs": [
        {
          "output_type": "execute_result",
          "data": {
            "text/plain": [
              "encounter_id                 int64\n",
              "patient_nbr                  int64\n",
              "race                        object\n",
              "gender                      object\n",
              "age                         object\n",
              "weight                      object\n",
              "admission_type_id            int64\n",
              "discharge_disposition_id     int64\n",
              "admission_source_id          int64\n",
              "time_in_hospital             int64\n",
              "payer_code                  object\n",
              "medical_specialty           object\n",
              "num_lab_procedures           int64\n",
              "num_procedures               int64\n",
              "num_medications              int64\n",
              "number_outpatient            int64\n",
              "number_emergency             int64\n",
              "number_inpatient             int64\n",
              "diag_1                      object\n",
              "diag_2                      object\n",
              "diag_3                      object\n",
              "number_diagnoses             int64\n",
              "max_glu_serum               object\n",
              "A1Cresult                   object\n",
              "metformin                   object\n",
              "repaglinide                 object\n",
              "nateglinide                 object\n",
              "chlorpropamide              object\n",
              "glimepiride                 object\n",
              "acetohexamide               object\n",
              "glipizide                   object\n",
              "glyburide                   object\n",
              "tolbutamide                 object\n",
              "pioglitazone                object\n",
              "rosiglitazone               object\n",
              "acarbose                    object\n",
              "miglitol                    object\n",
              "troglitazone                object\n",
              "tolazamide                  object\n",
              "examide                     object\n",
              "citoglipton                 object\n",
              "insulin                     object\n",
              "glyburide-metformin         object\n",
              "glipizide-metformin         object\n",
              "glimepiride-pioglitazone    object\n",
              "metformin-rosiglitazone     object\n",
              "metformin-pioglitazone      object\n",
              "change                      object\n",
              "diabetesMed                 object\n",
              "readmitted                  object\n",
              "dtype: object"
            ]
          },
          "metadata": {},
          "execution_count": 188
        }
      ],
      "source": [
        "# Look at all the data types\n",
        "\n",
        "df.dtypes"
      ]
    },
    {
      "cell_type": "markdown",
      "metadata": {
        "id": "6E79jK7TYTxm"
      },
      "source": [
        "## 2: Preprocess Data\n",
        "\n",
        "* 2.1: Handling missing information\n",
        "* 2.2: Handling irrelevant information\n",
        "* 2.3: Simplifying categories\n",
        "* 2.4: Reducing number of categories"
      ]
    },
    {
      "cell_type": "markdown",
      "metadata": {
        "id": "a_e7ectNmFiB"
      },
      "source": [
        "The isnull() method of a pandas DataFrame returns a DataFrame of the same shape as the original, with True values where the original DataFrame has null (missing) values and False values elsewhere. You can use the sum() method to count the number of null values in each column. To check for null values in df, you can use the following code:"
      ]
    },
    {
      "cell_type": "code",
      "execution_count": 190,
      "metadata": {
        "colab": {
          "base_uri": "https://localhost:8080/"
        },
        "execution": {
          "iopub.execute_input": "2023-01-17T15:35:59.046877Z",
          "iopub.status.busy": "2023-01-17T15:35:59.04622Z",
          "iopub.status.idle": "2023-01-17T15:35:59.319044Z",
          "shell.execute_reply": "2023-01-17T15:35:59.317716Z",
          "shell.execute_reply.started": "2023-01-17T15:35:59.046833Z"
        },
        "id": "NM1gJCWWYTxm",
        "outputId": "ac676237-f271-471d-f4e9-9ebb117179c1"
      },
      "outputs": [
        {
          "output_type": "stream",
          "name": "stdout",
          "text": [
            "encounter_id                0\n",
            "patient_nbr                 0\n",
            "race                        0\n",
            "gender                      0\n",
            "age                         0\n",
            "weight                      0\n",
            "admission_type_id           0\n",
            "discharge_disposition_id    0\n",
            "admission_source_id         0\n",
            "time_in_hospital            0\n",
            "payer_code                  0\n",
            "medical_specialty           0\n",
            "num_lab_procedures          0\n",
            "num_procedures              0\n",
            "num_medications             0\n",
            "number_outpatient           0\n",
            "number_emergency            0\n",
            "number_inpatient            0\n",
            "diag_1                      0\n",
            "diag_2                      0\n",
            "diag_3                      0\n",
            "number_diagnoses            0\n",
            "max_glu_serum               0\n",
            "A1Cresult                   0\n",
            "metformin                   0\n",
            "repaglinide                 0\n",
            "nateglinide                 0\n",
            "chlorpropamide              0\n",
            "glimepiride                 0\n",
            "acetohexamide               0\n",
            "glipizide                   0\n",
            "glyburide                   0\n",
            "tolbutamide                 0\n",
            "pioglitazone                0\n",
            "rosiglitazone               0\n",
            "acarbose                    0\n",
            "miglitol                    0\n",
            "troglitazone                0\n",
            "tolazamide                  0\n",
            "examide                     0\n",
            "citoglipton                 0\n",
            "insulin                     0\n",
            "glyburide-metformin         0\n",
            "glipizide-metformin         0\n",
            "glimepiride-pioglitazone    0\n",
            "metformin-rosiglitazone     0\n",
            "metformin-pioglitazone      0\n",
            "change                      0\n",
            "diabetesMed                 0\n",
            "readmitted                  0\n",
            "dtype: int64\n"
          ]
        }
      ],
      "source": [
        "# Check for null values in dataframe\n",
        "\n",
        "print(df.isnull().sum())"
      ]
    },
    {
      "cell_type": "markdown",
      "metadata": {
        "id": "aYhU1xtmmXEN"
      },
      "source": [
        "Some datasets may use a question mark character ('?') to indicate missing values, so it's a good idea to check for this as well. To check for question marks in df, you can use a loop to iterate over each column in the DataFrame and count the number of question marks in each column."
      ]
    },
    {
      "cell_type": "markdown",
      "metadata": {
        "id": "HJYNa61emjOl"
      },
      "source": [
        "This will print the name of each column in the DataFrame followed by the number of question marks in that column. The output will look something like this:"
      ]
    },
    {
      "cell_type": "code",
      "execution_count": 191,
      "metadata": {
        "colab": {
          "base_uri": "https://localhost:8080/"
        },
        "execution": {
          "iopub.execute_input": "2023-01-17T15:35:59.321096Z",
          "iopub.status.busy": "2023-01-17T15:35:59.320776Z",
          "iopub.status.idle": "2023-01-17T15:35:59.730096Z",
          "shell.execute_reply": "2023-01-17T15:35:59.728839Z",
          "shell.execute_reply.started": "2023-01-17T15:35:59.321067Z"
        },
        "id": "t0Ww-iJEYTxm",
        "outputId": "819a4cd5-3967-43d1-c93f-1663f91fb6ec"
      },
      "outputs": [
        {
          "output_type": "stream",
          "name": "stdout",
          "text": [
            "encounter_id 0\n",
            "patient_nbr 0\n",
            "race 2273\n",
            "gender 0\n",
            "age 0\n",
            "weight 98569\n",
            "admission_type_id 0\n",
            "discharge_disposition_id 0\n",
            "admission_source_id 0\n",
            "time_in_hospital 0\n",
            "payer_code 40256\n",
            "medical_specialty 49949\n",
            "num_lab_procedures 0\n",
            "num_procedures 0\n",
            "num_medications 0\n",
            "number_outpatient 0\n",
            "number_emergency 0\n",
            "number_inpatient 0\n",
            "diag_1 21\n",
            "diag_2 358\n",
            "diag_3 1423\n",
            "number_diagnoses 0\n",
            "max_glu_serum 0\n",
            "A1Cresult 0\n",
            "metformin 0\n",
            "repaglinide 0\n",
            "nateglinide 0\n",
            "chlorpropamide 0\n",
            "glimepiride 0\n",
            "acetohexamide 0\n",
            "glipizide 0\n",
            "glyburide 0\n",
            "tolbutamide 0\n",
            "pioglitazone 0\n",
            "rosiglitazone 0\n",
            "acarbose 0\n",
            "miglitol 0\n",
            "troglitazone 0\n",
            "tolazamide 0\n",
            "examide 0\n",
            "citoglipton 0\n",
            "insulin 0\n",
            "glyburide-metformin 0\n",
            "glipizide-metformin 0\n",
            "glimepiride-pioglitazone 0\n",
            "metformin-rosiglitazone 0\n",
            "metformin-pioglitazone 0\n",
            "change 0\n",
            "diabetesMed 0\n",
            "readmitted 0\n"
          ]
        }
      ],
      "source": [
        "# Check for question marks in dataframe\n",
        "\n",
        "for column in df.columns:\n",
        "    print(column, df[column][df[column] =='?'].count())"
      ]
    },
    {
      "cell_type": "markdown",
      "metadata": {
        "id": "khrWcNQXYTxn"
      },
      "source": [
        "### 2.1: Handling Missing Information\n",
        "\n",
        "* Regarding the weight, payer_code and medical_specialty columns, we've decided to drop these columns because there is an overwhelming amount of missing information (close to 50% or more).\n",
        "* Regarding the gender column, we removed 3 rows with Unknown/Invalid data."
      ]
    },
    {
      "cell_type": "markdown",
      "metadata": {
        "id": "BxGxOxB5m6rw"
      },
      "source": [
        "The drop() method is used to remove a column (or row) from a DataFrame. The first argument to the method is the name of the column to remove, and the second argument (axis=1) tells pandas to remove a column rather than a row. In this case, you are removing three columns ('weight', 'payer_code', 'medical_specialty') that have a large number of missing values."
      ]
    },
    {
      "cell_type": "code",
      "execution_count": 192,
      "metadata": {
        "execution": {
          "iopub.execute_input": "2023-01-17T15:35:59.732892Z",
          "iopub.status.busy": "2023-01-17T15:35:59.732577Z",
          "iopub.status.idle": "2023-01-17T15:35:59.793188Z",
          "shell.execute_reply": "2023-01-17T15:35:59.791892Z",
          "shell.execute_reply.started": "2023-01-17T15:35:59.732865Z"
        },
        "id": "a1IQ0iWyYTxn"
      },
      "outputs": [],
      "source": [
        "# Remove the columns with an overwhelming number of question marks\n",
        "\n",
        "df = df.drop(['weight', 'payer_code', 'medical_specialty'], axis=1)"
      ]
    },
    {
      "cell_type": "markdown",
      "metadata": {
        "id": "K7V4kUf0nGgR"
      },
      "source": [
        "The value_counts() method of a pandas Series returns a new Series containing counts of unique values in the original Series. To count the number of male and female patients in the gender column of df, you can use the following code:"
      ]
    },
    {
      "cell_type": "code",
      "execution_count": 193,
      "metadata": {
        "colab": {
          "base_uri": "https://localhost:8080/"
        },
        "execution": {
          "iopub.execute_input": "2023-01-17T15:35:59.795096Z",
          "iopub.status.busy": "2023-01-17T15:35:59.794611Z",
          "iopub.status.idle": "2023-01-17T15:35:59.821031Z",
          "shell.execute_reply": "2023-01-17T15:35:59.819511Z",
          "shell.execute_reply.started": "2023-01-17T15:35:59.795049Z"
        },
        "id": "q0Ixl_gLYTxn",
        "outputId": "a9a3c960-763d-4ef0-b465-61b263ce2ea8"
      },
      "outputs": [
        {
          "output_type": "execute_result",
          "data": {
            "text/plain": [
              "Female             54708\n",
              "Male               47055\n",
              "Unknown/Invalid        3\n",
              "Name: gender, dtype: int64"
            ]
          },
          "metadata": {},
          "execution_count": 193
        }
      ],
      "source": [
        "# Examine several columns and see what are the unique values\n",
        "\n",
        "df['gender'].value_counts()"
      ]
    },
    {
      "cell_type": "code",
      "execution_count": 194,
      "metadata": {
        "colab": {
          "base_uri": "https://localhost:8080/"
        },
        "execution": {
          "iopub.execute_input": "2023-01-17T15:35:59.823902Z",
          "iopub.status.busy": "2023-01-17T15:35:59.823075Z",
          "iopub.status.idle": "2023-01-17T15:35:59.939228Z",
          "shell.execute_reply": "2023-01-17T15:35:59.938289Z",
          "shell.execute_reply.started": "2023-01-17T15:35:59.823854Z"
        },
        "id": "U1ocn3HuYTxn",
        "outputId": "28eface1-6520-4275-aa63-af088f176175"
      },
      "outputs": [
        {
          "output_type": "execute_result",
          "data": {
            "text/plain": [
              "Female    54708\n",
              "Male      47055\n",
              "Name: gender, dtype: int64"
            ]
          },
          "metadata": {},
          "execution_count": 194
        }
      ],
      "source": [
        "# Remove the rows with Unkown/Invalid in gender\n",
        "\n",
        "df = df[df['gender'] != 'Unknown/Invalid']\n",
        "\n",
        "df['gender'].value_counts()"
      ]
    },
    {
      "cell_type": "markdown",
      "metadata": {
        "id": "TKLeDtdIYTxo"
      },
      "source": [
        "### 2.2 Handling Irrelevant Variables\n",
        "\n",
        "* Diag_2 and diag_3 are dropped because we're only considering primary diagnosis.\n",
        "* There are patients that have multiple encounters. In order to reduce the bias, we kept the first patient encounter and removed all the other encounters. Encounter_id and patient_nbr columns were then dropped.\n",
        "* There are 22 columns describing the change in individual medications. We dropped all the columns since there is already one column with regards to medication change on a whole (change)."
      ]
    },
    {
      "cell_type": "markdown",
      "metadata": {
        "id": "9gdU72Z4nY9L"
      },
      "source": [
        "In medical data, it is common to have multiple diagnosis codes for a single patient. However, for many analysis or modeling purposes, it is sufficient to consider only the primary diagnosis code. In the code you provided, you are using the drop() method of the DataFrame to remove two columns ('diag_2', 'diag_3') that contain secondary or additional diagnosis codes."
      ]
    },
    {
      "cell_type": "code",
      "execution_count": 195,
      "metadata": {
        "execution": {
          "iopub.execute_input": "2023-01-17T15:35:59.941431Z",
          "iopub.status.busy": "2023-01-17T15:35:59.940785Z",
          "iopub.status.idle": "2023-01-17T15:36:00.007498Z",
          "shell.execute_reply": "2023-01-17T15:36:00.006378Z",
          "shell.execute_reply.started": "2023-01-17T15:35:59.941382Z"
        },
        "id": "1EwSC0Z8YTxo"
      },
      "outputs": [],
      "source": [
        "# Remove diag_2 and diag_3 since we only consider primary diagnosis\n",
        "\n",
        "df = df.drop(['diag_2', 'diag_3'], axis = 1)"
      ]
    },
    {
      "cell_type": "markdown",
      "metadata": {
        "id": "cAowLopcoM8x"
      },
      "source": [
        "In some cases, you may have duplicate records in your dataset, which can cause issues when analyzing or modeling the data. In the code you provided, you are using the drop_duplicates() method of the DataFrame to remove duplicate records based on the patient_nbr column."
      ]
    },
    {
      "cell_type": "code",
      "execution_count": 196,
      "metadata": {
        "execution": {
          "iopub.execute_input": "2023-01-17T15:36:00.009586Z",
          "iopub.status.busy": "2023-01-17T15:36:00.009101Z",
          "iopub.status.idle": "2023-01-17T15:36:00.080772Z",
          "shell.execute_reply": "2023-01-17T15:36:00.07945Z",
          "shell.execute_reply.started": "2023-01-17T15:36:00.009544Z"
        },
        "id": "Tau34TdCYTxo"
      },
      "outputs": [],
      "source": [
        "# Remove patient_nbr with multiple encounters\n",
        "\n",
        "df = df.drop_duplicates(subset= ['patient_nbr'], keep = 'first')"
      ]
    },
    {
      "cell_type": "markdown",
      "metadata": {
        "id": "uD6fY-3HoXPf"
      },
      "source": [
        "In the code you provided, you are using the drop() method of the DataFrame to remove two columns ('encounter_id', 'patient_nbr') that are not useful for analysis or modeling.\n",
        "\n"
      ]
    },
    {
      "cell_type": "code",
      "execution_count": 197,
      "metadata": {
        "execution": {
          "iopub.execute_input": "2023-01-17T15:36:00.082909Z",
          "iopub.status.busy": "2023-01-17T15:36:00.082243Z",
          "iopub.status.idle": "2023-01-17T15:36:00.115986Z",
          "shell.execute_reply": "2023-01-17T15:36:00.115116Z",
          "shell.execute_reply.started": "2023-01-17T15:36:00.082861Z"
        },
        "id": "QhYPKid0YTxo"
      },
      "outputs": [],
      "source": [
        "# Remove irrelevant variables \n",
        "\n",
        "df = df.drop(['encounter_id', 'patient_nbr'], axis = 1)"
      ]
    },
    {
      "cell_type": "markdown",
      "metadata": {
        "id": "Lk3N9irQprLV"
      },
      "source": [
        "This may be appropriate if the medication information is not relevant for the analysis or modeling task at hand, or if the dataset is too large or complex to work with including these variables. However, if medication information is important for your task, or if you have reason to believe that it may be useful in a modeling context, you may want to keep these columns in the dataset."
      ]
    },
    {
      "cell_type": "markdown",
      "metadata": {
        "id": "SDrTQRZJpzDT"
      },
      "source": [
        "the drop() method of the DataFrame to remove a list of medication columns that are not relevant for the analysis or modeling task at hand."
      ]
    },
    {
      "cell_type": "code",
      "execution_count": 198,
      "metadata": {
        "execution": {
          "iopub.execute_input": "2023-01-17T15:36:00.122396Z",
          "iopub.status.busy": "2023-01-17T15:36:00.121331Z",
          "iopub.status.idle": "2023-01-17T15:36:00.148583Z",
          "shell.execute_reply": "2023-01-17T15:36:00.147303Z",
          "shell.execute_reply.started": "2023-01-17T15:36:00.12235Z"
        },
        "id": "-0x_Z2HeYTxo"
      },
      "outputs": [],
      "source": [
        "# Remove irrelevant variables\n",
        "\n",
        "meds = ['metformin', 'repaglinide', 'nateglinide', 'chlorpropamide', 'glimepiride', 'glipizide', 'glyburide', \\\n",
        "        'pioglitazone', 'rosiglitazone', 'acarbose', 'miglitol', 'examide', 'citoglipton', 'insulin', 'glyburide-metformin', 'tolazamide', \\\n",
        "        'metformin-pioglitazone','metformin-rosiglitazone', 'glimepiride-pioglitazone', 'glipizide-metformin', \\\n",
        "        'troglitazone', 'tolbutamide', 'acetohexamide']\n",
        "\n",
        "df = df.drop(meds, axis = 1)"
      ]
    },
    {
      "cell_type": "markdown",
      "metadata": {
        "id": "suCNdvqpYTxp"
      },
      "source": [
        "### 2.3: Simplifying Categories\n",
        "\n",
        "* Next, we'll encode the age column with the numbers 1 to 10 so that they can still retain their order of ranking."
      ]
    },
    {
      "cell_type": "code",
      "execution_count": 199,
      "metadata": {
        "execution": {
          "iopub.execute_input": "2023-01-17T15:36:00.151466Z",
          "iopub.status.busy": "2023-01-17T15:36:00.149709Z",
          "iopub.status.idle": "2023-01-17T15:36:00.178951Z",
          "shell.execute_reply": "2023-01-17T15:36:00.177659Z",
          "shell.execute_reply.started": "2023-01-17T15:36:00.151418Z"
        },
        "id": "cpgvkBpQYTxp"
      },
      "outputs": [],
      "source": [
        "# Encode age into 1 for 0-10, 2 for 10-20, so on and so forth\n",
        "\n",
        "age_id = {'[0-10)':1, '[10-20)':2, '[20-30)':3, '[30-40)':4, '[40-50)':5, '[50-60)':6, '[60-70)':7, '[70-80)':8, '[80-90)':9, '[90-100)':10}\n",
        "df['age'] = df['age'].map(age_id)"
      ]
    },
    {
      "cell_type": "markdown",
      "metadata": {
        "id": "6ADVFRWZYTxp"
      },
      "source": [
        "### 2.4: Reducing the Number of Categories\n",
        "\n",
        "* There are 4 columns with too many categories, namely: diag_1, admission_source_id, discharge_disposition_id and admission_source_id.\n",
        "* We need to reduce the number of categories by grouping them together.\n",
        "* For diag_1, we can refer to the icd9 codes to generalize an appropriate description.\n",
        "* For race, we combined 2 categories together: ? and other."
      ]
    },
    {
      "cell_type": "code",
      "execution_count": 201,
      "metadata": {
        "colab": {
          "base_uri": "https://localhost:8080/"
        },
        "execution": {
          "iopub.execute_input": "2023-01-17T15:36:00.181461Z",
          "iopub.status.busy": "2023-01-17T15:36:00.180735Z",
          "iopub.status.idle": "2023-01-17T15:36:00.336342Z",
          "shell.execute_reply": "2023-01-17T15:36:00.335071Z",
          "shell.execute_reply.started": "2023-01-17T15:36:00.181416Z"
        },
        "id": "tzaZ02C1YTxp",
        "outputId": "764b42f6-1e6f-47b3-9b5f-7cb478319950"
      },
      "outputs": [
        {
          "output_type": "execute_result",
          "data": {
            "text/plain": [
              "414.0     5232\n",
              "428.0     3980\n",
              "786.0     3040\n",
              "410.0     2902\n",
              "486.0     2439\n",
              "          ... \n",
              "653.0        1\n",
              "61.0         1\n",
              "145.0        1\n",
              "148.0        1\n",
              "1051.0       1\n",
              "Name: diag_1, Length: 696, dtype: int64"
            ]
          },
          "metadata": {},
          "execution_count": 201
        }
      ],
      "source": [
        "# Convert diag_1 into icd9 descriptions\n",
        "\n",
        "# Step 1: Change question mark to zero\n",
        "df['diag_1'] = df['diag_1'].replace('?', 0)\n",
        "\n",
        "# Step 2: Change strings that start with V or E and prepend 10\n",
        "df['diag_1'] = pd.to_numeric(df['diag_1'].str.replace(r'(V)|(E)', '10', regex=True))\n",
        "\n",
        "df['diag_1'].value_counts()"
      ]
    },
    {
      "cell_type": "code",
      "execution_count": 202,
      "metadata": {
        "execution": {
          "iopub.execute_input": "2023-01-17T15:36:00.338835Z",
          "iopub.status.busy": "2023-01-17T15:36:00.338038Z",
          "iopub.status.idle": "2023-01-17T15:36:03.87369Z",
          "shell.execute_reply": "2023-01-17T15:36:03.872733Z",
          "shell.execute_reply.started": "2023-01-17T15:36:00.338791Z"
        },
        "id": "kX2m6P_tYTxp"
      },
      "outputs": [],
      "source": [
        "# Step 3: Create a function to convert diag_1_int codes into icd9 descriptions\n",
        "\n",
        "def diagnosis_icd9(df):\n",
        "    if ((df['diag_1'] >= 359.00) & (df['diag_1'] <= 459.00)) or df['diag_1'] == 785.00:\n",
        "        return 'A disease of the circulatory system'\n",
        "    elif (df['diag_1'] >= 250.01) & (df['diag_1'] <= 250.99):\n",
        "        return 'Diabetes'\n",
        "    elif ((df['diag_1'] >= 460.00) & (df['diag_1'] <= 519)) or df['diag_1'] == 786.00:\n",
        "        return 'A disease of the respiratory system'\n",
        "    elif ((df['diag_1'] >= 520.00) & (df['diag_1'] <= 579.00)) or df['diag_1'] == 787.00:\n",
        "        return 'Diseases of the digestive system'\n",
        "    elif (df['diag_1'] >= 800.00) & (df['diag_1'] <= 999.00):\n",
        "        return 'Injury and poisoning'\n",
        "    elif (df['diag_1'] >= 710.00) & (df['diag_1'] <= 739.00):\n",
        "        return 'Diseases of the musculoskeletal system and connective tissue'\n",
        "    elif ((df['diag_1'] >= 580.00) & (df['diag_1'] <= 629.00)) or df['diag_1'] == 788.00:\n",
        "        return 'Diseases of the genitourinary system'\n",
        "    elif (df['diag_1'] >= 140.00) & (df['diag_1'] <= 239.00):\n",
        "        return 'Neoplasms'\n",
        "    else:\n",
        "        return 'Other'\n",
        "\n",
        "df['diag_1'] = df.apply(diagnosis_icd9, axis=1)\n",
        "\n",
        "# Step 4: Convert diag_1_id from object to string\n",
        "df['diag_1'] = df['diag_1'].astype('string')"
      ]
    },
    {
      "cell_type": "markdown",
      "metadata": {
        "id": "ddisMvJWr0QQ"
      },
      "source": [
        "the \"admission_type_id\" column contains a value of 1, the code will replace it with a value of 1. If it contains a value of 2, the code will replace it with a value of 1. If it contains a value of 3, the code will replace it with a value of 2, and so on.\n",
        "\n",
        "The resulting DataFrame will have the \"admission_type_id\" column with the new mapped values."
      ]
    },
    {
      "cell_type": "code",
      "execution_count": 203,
      "metadata": {
        "execution": {
          "iopub.execute_input": "2023-01-17T15:36:03.876109Z",
          "iopub.status.busy": "2023-01-17T15:36:03.875045Z",
          "iopub.status.idle": "2023-01-17T15:36:03.884669Z",
          "shell.execute_reply": "2023-01-17T15:36:03.883737Z",
          "shell.execute_reply.started": "2023-01-17T15:36:03.87606Z"
        },
        "id": "3PtUS9QPYTxq"
      },
      "outputs": [],
      "source": [
        "# Encode admission_type_id into 1 for emergency, 2 for elective, 3 for newborn, 4 for unavailable\n",
        "\n",
        "admission_type_id = {1:1, 2:1, 3:2, 4:3, 5:4, 6:4, 7:1, 8:4}\n",
        "df['admission_type_id'] = df['admission_type_id'].map(admission_type_id)"
      ]
    },
    {
      "cell_type": "code",
      "execution_count": 204,
      "metadata": {
        "execution": {
          "iopub.execute_input": "2023-01-17T15:36:03.887191Z",
          "iopub.status.busy": "2023-01-17T15:36:03.886315Z",
          "iopub.status.idle": "2023-01-17T15:36:03.902849Z",
          "shell.execute_reply": "2023-01-17T15:36:03.90172Z",
          "shell.execute_reply.started": "2023-01-17T15:36:03.887148Z"
        },
        "id": "Fvv1H2zcYTxq"
      },
      "outputs": [],
      "source": [
        "# Encode discharge_disposition_id into 1 for home, 2 for hospital, 3 for Left AMA, 4 for institution, 5 for expired, \n",
        "# 6 for unavailable, 7 for facility, 8 for psychatric \n",
        "\n",
        "discharge_disposition_id = {1:1, 2:2, 3:2, 4:2, 5:2, 6:1, 7:3, 8:1, 9:1, 10:4, 11:5, 12:4, 13:1, 14:2, 15:4, 16:4, \\\n",
        "                          17:4, 18:6, 19:5, 20:5, 22:2, 23:2, 24:2, 25:6, 27:7, 28:8}\n",
        "df['discharge_disposition_id'] = df['discharge_disposition_id'].map(discharge_disposition_id)"
      ]
    },
    {
      "cell_type": "code",
      "execution_count": 205,
      "metadata": {
        "execution": {
          "iopub.execute_input": "2023-01-17T15:36:03.904908Z",
          "iopub.status.busy": "2023-01-17T15:36:03.904465Z",
          "iopub.status.idle": "2023-01-17T15:36:03.916096Z",
          "shell.execute_reply": "2023-01-17T15:36:03.915098Z",
          "shell.execute_reply.started": "2023-01-17T15:36:03.904869Z"
        },
        "id": "MHUTyZHpYTxq"
      },
      "outputs": [],
      "source": [
        "# Encode admission_source_id into 1 for referral, 2 for hospital, 3 for emergency, 4 for law, 5 for unavailable, \n",
        "# 6 for newborn\n",
        "\n",
        "admission_source_id = {1:1, 2:1, 3:1, 4:2, 5:2, 6:2, 7:3, 8:4, 9:5, 10:2, 11:6, 13:6, 14:6, 17:5, 20:5, 22:2, 25:2}\n",
        "df['admission_source_id'] = df['admission_source_id'].map(admission_source_id)"
      ]
    },
    {
      "cell_type": "code",
      "execution_count": 206,
      "metadata": {
        "execution": {
          "iopub.execute_input": "2023-01-17T15:36:03.918536Z",
          "iopub.status.busy": "2023-01-17T15:36:03.917925Z",
          "iopub.status.idle": "2023-01-17T15:36:03.934675Z",
          "shell.execute_reply": "2023-01-17T15:36:03.933596Z",
          "shell.execute_reply.started": "2023-01-17T15:36:03.918494Z"
        },
        "id": "2nqWbeVnYTxq"
      },
      "outputs": [],
      "source": [
        "# Encode race into 1 for Caucasian, 2 for AfricanAmerican, 3 for Hispanic, 4 for Asian, 5 for other\n",
        "\n",
        "race_id = {'Caucasian':'Caucasian', 'AfricanAmerican':'AfricanAmerican', 'Hispanic':'Hispanic', 'Asian':'Asian', \\\n",
        "           '?':'Other', 'Other':'Other'}\n",
        "df['race'] = df['race'].map(race_id)"
      ]
    },
    {
      "cell_type": "code",
      "source": [
        "corr = df.corr()\n",
        "plt.figure(figsize=(15, 9))\n",
        "sns.heatmap(corr, annot=True, cmap='coolwarm')"
      ],
      "metadata": {
        "colab": {
          "base_uri": "https://localhost:8080/",
          "height": 671
        },
        "id": "wDZwEFGfveo7",
        "outputId": "b4a8835d-8d5a-4f35-ac4d-33dc9eee2d73"
      },
      "execution_count": 207,
      "outputs": [
        {
          "output_type": "execute_result",
          "data": {
            "text/plain": [
              "<AxesSubplot:>"
            ]
          },
          "metadata": {},
          "execution_count": 207
        },
        {
          "output_type": "display_data",
          "data": {
            "text/plain": [
              "<Figure size 1080x648 with 2 Axes>"
            ],
            "image/png": "[encoded data removed]"
          },
          "metadata": {
            "needs_background": "light"
          }
        }
      ]
    },
    {
      "cell_type": "code",
      "source": [
        "# Plot boxplots of all numerical variables to identify outliers\n",
        "sns.boxplot(data=df.select_dtypes(include=['float64', 'int64']))\n",
        "plt.show()\n",
        "\n",
        "# Calculate z-scores for all numerical variables\n",
        "z_scores = df.select_dtypes(include=['float64', 'int64']).apply(lambda x: (x - x.mean()) / x.std())\n",
        "\n",
        "# Identify outliers based on z-scores greater than 3 or less than -3\n",
        "outliers = (z_scores > 3) | (z_scores < -3)\n",
        "\n",
        "# Print the number of outliers for each variable\n",
        "print(outliers.sum())"
      ],
      "metadata": {
        "colab": {
          "base_uri": "https://localhost:8080/",
          "height": 503
        },
        "id": "6Mr3AkYEvvIo",
        "outputId": "b9c1f2ec-8124-4ff8-bbff-fd47a96f70c3"
      },
      "execution_count": 208,
      "outputs": [
        {
          "output_type": "display_data",
          "data": {
            "text/plain": [
              "<Figure size 432x288 with 1 Axes>"
            ],
            "image/png": "[encoded data removed]"
          },
          "metadata": {
            "needs_background": "light"
          }
        },
        {
          "output_type": "stream",
          "name": "stdout",
          "text": [
            "age                          689\n",
            "admission_type_id              0\n",
            "discharge_disposition_id    3345\n",
            "admission_source_id            4\n",
            "time_in_hospital             669\n",
            "num_lab_procedures            35\n",
            "num_procedures                 0\n",
            "num_medications             1071\n",
            "number_outpatient           1298\n",
            "number_emergency            1239\n",
            "number_inpatient            2479\n",
            "number_diagnoses             236\n",
            "dtype: int64\n"
          ]
        }
      ]
    },
    {
      "cell_type": "code",
      "execution_count": 209,
      "metadata": {
        "outputId": "9ba0da23-b93f-4323-c21f-b584128be6fd",
        "colab": {
          "base_uri": "https://localhost:8080/",
          "height": 1000
        },
        "id": "KcVW7EJ2wLfs"
      },
      "outputs": [
        {
          "output_type": "display_data",
          "data": {
            "text/plain": [
              "<Figure size 1440x2160 with 10 Axes>"
            ],
            "image/png": "[encoded data removed]"
          },
          "metadata": {
            "needs_background": "light"
          }
        }
      ],
      "source": [
        "\n",
        "# Define a list of columns to replace outliers\n",
        "cols_to_replace = ['admission_type_id', 'discharge_disposition_id', 'admission_source_id', 'time_in_hospital', \n",
        "                   'num_lab_procedures', 'num_procedures', 'number_outpatient', 'number_emergency', 'number_inpatient',\n",
        "                   'number_diagnoses']\n",
        "\n",
        "# Define a function to replace outliers with the median value\n",
        "def replace_outliers(df, col):\n",
        "    q1 = df[col].quantile(0.25)\n",
        "    q3 = df[col].quantile(0.75)\n",
        "    iqr = q3 - q1\n",
        "    lower_tail = q1 - 1.5 * iqr\n",
        "    upper_tail = q3 + 1.5 * iqr\n",
        "    med = np.median(df[col])\n",
        "    for i in df[col]:\n",
        "        if i > upper_tail or i < lower_tail:\n",
        "            df[col] = df[col].replace(i, med)\n",
        "    return df\n",
        "\n",
        "# Replace outliers for each column in the list\n",
        "for col in cols_to_replace:\n",
        "    df = replace_outliers(df, col)\n",
        "\n",
        "# Plot the boxplots for each column after outlier treatment\n",
        "fig, axs = plt.subplots(5, 2, figsize=(20, 30))\n",
        "axs = axs.ravel()\n",
        "for i, col in enumerate(cols_to_replace):\n",
        "    sns.boxplot(x=col, data=df, palette=\"Reds_r\", ax=axs[i])\n",
        "    axs[i].set_title(\"Box Plot for \"+col+\" after median imputation\")\n",
        "plt.show()\n"
      ]
    },
    {
      "cell_type": "markdown",
      "metadata": {
        "id": "3uze2p56YTxq"
      },
      "source": [
        "## 3. Data Exploration\n",
        "\n",
        "* Since we're only interested in factors leading to early readmission, we will convert readmitted into a binary variable with two classes: \n",
        "    * 1 for readmission in less than 30 days (<30)\n",
        "    * 0 for otherwise which includes no readmission (NO) and readmission in more than 30 days (>30)"
      ]
    },
    {
      "cell_type": "markdown",
      "metadata": {
        "id": "zakiCbrktIy2"
      },
      "source": [
        "This will output the count of unique values in the 'readmitted' column:"
      ]
    },
    {
      "cell_type": "code",
      "execution_count": 210,
      "metadata": {
        "colab": {
          "base_uri": "https://localhost:8080/"
        },
        "execution": {
          "iopub.execute_input": "2023-01-17T15:36:03.936677Z",
          "iopub.status.busy": "2023-01-17T15:36:03.936092Z",
          "iopub.status.idle": "2023-01-17T15:36:03.94925Z",
          "shell.execute_reply": "2023-01-17T15:36:03.948263Z",
          "shell.execute_reply.started": "2023-01-17T15:36:03.936645Z"
        },
        "id": "Eivu8HsrYTxq",
        "outputId": "2c59b53f-0ae0-400a-c1bb-c9e996af4ce0"
      },
      "outputs": [
        {
          "output_type": "execute_result",
          "data": {
            "text/plain": [
              "NO     42982\n",
              ">30    22240\n",
              "<30     6293\n",
              "Name: readmitted, dtype: int64"
            ]
          },
          "metadata": {},
          "execution_count": 210
        }
      ],
      "source": [
        "# Look at the target feature\n",
        "\n",
        "df['readmitted'].value_counts()"
      ]
    },
    {
      "cell_type": "markdown",
      "metadata": {
        "id": "n7cDIKdVtU0a"
      },
      "source": [
        "Here, we are converting the readmitted column to binary where 1 means the patient was readmitted within 30 days and 0 means the patient was not readmitted or was readmitted after 30 days. The lambda function is used to replace the values in the readmitted column.\n",
        "\n",
        "For example, if the value is 'NO' or '>30', it will be replaced with 0, and if the value is '<30', it will be replaced with 1.\n",
        "\n",
        "So, any patient who was readmitted within 30 days will have a value of 1 in the readmitted column, and any patient who was not readmitted or was readmitted after 30 days will have a value of 0."
      ]
    },
    {
      "cell_type": "code",
      "execution_count": 211,
      "metadata": {
        "execution": {
          "iopub.execute_input": "2023-01-17T15:36:03.951483Z",
          "iopub.status.busy": "2023-01-17T15:36:03.950846Z",
          "iopub.status.idle": "2023-01-17T15:36:03.99143Z",
          "shell.execute_reply": "2023-01-17T15:36:03.990176Z",
          "shell.execute_reply.started": "2023-01-17T15:36:03.951437Z"
        },
        "id": "i2Mq20asYTxr"
      },
      "outputs": [],
      "source": [
        "# Encode readmitted into 0 for NO and >30 and 1 for <30\n",
        "\n",
        "df['readmitted'] = df.readmitted.apply(lambda x: 0 if x == 'NO' or x == '>30' else 1)"
      ]
    },
    {
      "cell_type": "markdown",
      "metadata": {
        "id": "q-WwSZygtlUL"
      },
      "source": [
        "This code generates a bar chart showing the distribution of readmissions in the dataset"
      ]
    },
    {
      "cell_type": "code",
      "execution_count": 212,
      "metadata": {
        "colab": {
          "base_uri": "https://localhost:8080/",
          "height": 310
        },
        "execution": {
          "iopub.execute_input": "2023-01-17T15:36:03.993258Z",
          "iopub.status.busy": "2023-01-17T15:36:03.992802Z",
          "iopub.status.idle": "2023-01-17T15:36:04.189393Z",
          "shell.execute_reply": "2023-01-17T15:36:04.188208Z",
          "shell.execute_reply.started": "2023-01-17T15:36:03.993225Z"
        },
        "id": "P30XYe4YYTxr",
        "outputId": "7ff95820-206e-45e3-d67f-aaaaf3dc89cc"
      },
      "outputs": [
        {
          "output_type": "execute_result",
          "data": {
            "text/plain": [
              "<AxesSubplot:title={'center':'Distribution of Readmissions'}, xlabel='readmitted', ylabel='Frequency'>"
            ]
          },
          "metadata": {},
          "execution_count": 212
        },
        {
          "output_type": "display_data",
          "data": {
            "text/plain": [
              "<Figure size 432x288 with 1 Axes>"
            ],
            "image/png": "[encoded data removed]"
          },
          "metadata": {
            "needs_background": "light"
          }
        }
      ],
      "source": [
        "# Plot the distribution of readmissions\n",
        "\n",
        "df.groupby('readmitted').age.count().plot(kind='bar', title='Distribution of Readmissions', ylabel='Frequency')"
      ]
    },
    {
      "cell_type": "markdown",
      "metadata": {
        "id": "QdMhGx4ztsvb"
      },
      "source": [
        "This code will output descriptive statistics for all numerical columns in the dataset df. The statistics include count, mean, standard deviation, minimum, and maximum values, as well as the quartiles (25%, 50%, and 75%)."
      ]
    },
    {
      "cell_type": "code",
      "execution_count": 213,
      "metadata": {
        "colab": {
          "base_uri": "https://localhost:8080/",
          "height": 364
        },
        "execution": {
          "iopub.execute_input": "2023-01-17T15:36:04.191948Z",
          "iopub.status.busy": "2023-01-17T15:36:04.191231Z",
          "iopub.status.idle": "2023-01-17T15:36:04.272304Z",
          "shell.execute_reply": "2023-01-17T15:36:04.270944Z",
          "shell.execute_reply.started": "2023-01-17T15:36:04.191902Z"
        },
        "id": "Rmt_9HnKYTxr",
        "outputId": "54b8fd56-3c46-4804-990e-995871a258da"
      },
      "outputs": [
        {
          "output_type": "execute_result",
          "data": {
            "text/plain": [
              "                age  admission_type_id  discharge_disposition_id  \\\n",
              "count  71515.000000       71515.000000              71515.000000   \n",
              "mean       7.065161           1.194840                  1.202853   \n",
              "std        1.597833           0.396398                  0.416106   \n",
              "min        1.000000           1.000000                  1.000000   \n",
              "25%        6.000000           1.000000                  1.000000   \n",
              "50%        7.000000           1.000000                  1.000000   \n",
              "75%        8.000000           1.000000                  1.000000   \n",
              "max       10.000000           3.000000                  3.000000   \n",
              "\n",
              "       admission_source_id  time_in_hospital  num_lab_procedures  \\\n",
              "count         71515.000000      71515.000000        71515.000000   \n",
              "mean              2.431448          4.075103           42.983752   \n",
              "std               1.152256          2.638224           19.812393   \n",
              "min               1.000000          1.000000            1.000000   \n",
              "25%               1.000000          2.000000           31.000000   \n",
              "50%               3.000000          3.000000           44.000000   \n",
              "75%               3.000000          5.000000           57.000000   \n",
              "max               6.000000         12.000000           96.000000   \n",
              "\n",
              "       num_procedures  num_medications  number_outpatient  number_emergency  \\\n",
              "count     71515.00000     71515.000000            71515.0           71515.0   \n",
              "mean          1.15394        15.704999                0.0               0.0   \n",
              "std           1.36959         8.311201                0.0               0.0   \n",
              "min           0.00000         1.000000                0.0               0.0   \n",
              "25%           0.00000        10.000000                0.0               0.0   \n",
              "50%           1.00000        14.000000                0.0               0.0   \n",
              "75%           2.00000        20.000000                0.0               0.0   \n",
              "max           5.00000        81.000000                0.0               0.0   \n",
              "\n",
              "       number_inpatient  number_diagnoses    readmitted  \n",
              "count           71515.0      71515.000000  71515.000000  \n",
              "mean                0.0          7.260071      0.087996  \n",
              "std                 0.0          1.957736      0.283290  \n",
              "min                 0.0          2.000000      0.000000  \n",
              "25%                 0.0          6.000000      0.000000  \n",
              "50%                 0.0          8.000000      0.000000  \n",
              "75%                 0.0          9.000000      0.000000  \n",
              "max                 0.0         13.000000      1.000000  "
            ],
            "text/html": [
              "\n",
              "  <div id=\"df-f9f5b6d9-ce7d-4529-915b-ce63a4c9ce14\">\n",
              "    <div class=\"colab-df-container\">\n",
              "      <div>\n",
              "<style scoped>\n",
              "    .dataframe tbody tr th:only-of-type {\n",
              "        vertical-align: middle;\n",
              "    }\n",
              "\n",
              "    .dataframe tbody tr th {\n",
              "        vertical-align: top;\n",
              "    }\n",
              "\n",
              "    .dataframe thead th {\n",
              "        text-align: right;\n",
              "    }\n",
              "</style>\n",
              "<table border=\"1\" class=\"dataframe\">\n",
              "  <thead>\n",
              "    <tr style=\"text-align: right;\">\n",
              "      <th></th>\n",
              "      <th>age</th>\n",
              "      <th>admission_type_id</th>\n",
              "      <th>discharge_disposition_id</th>\n",
              "      <th>admission_source_id</th>\n",
              "      <th>time_in_hospital</th>\n",
              "      <th>num_lab_procedures</th>\n",
              "      <th>num_procedures</th>\n",
              "      <th>num_medications</th>\n",
              "      <th>number_outpatient</th>\n",
              "      <th>number_emergency</th>\n",
              "      <th>number_inpatient</th>\n",
              "      <th>number_diagnoses</th>\n",
              "      <th>readmitted</th>\n",
              "    </tr>\n",
              "  </thead>\n",
              "  <tbody>\n",
              "    <tr>\n",
              "      <th>count</th>\n",
              "      <td>71515.000000</td>\n",
              "      <td>71515.000000</td>\n",
              "      <td>71515.000000</td>\n",
              "      <td>71515.000000</td>\n",
              "      <td>71515.000000</td>\n",
              "      <td>71515.000000</td>\n",
              "      <td>71515.00000</td>\n",
              "      <td>71515.000000</td>\n",
              "      <td>71515.0</td>\n",
              "      <td>71515.0</td>\n",
              "      <td>71515.0</td>\n",
              "      <td>71515.000000</td>\n",
              "      <td>71515.000000</td>\n",
              "    </tr>\n",
              "    <tr>\n",
              "      <th>mean</th>\n",
              "      <td>7.065161</td>\n",
              "      <td>1.194840</td>\n",
              "      <td>1.202853</td>\n",
              "      <td>2.431448</td>\n",
              "      <td>4.075103</td>\n",
              "      <td>42.983752</td>\n",
              "      <td>1.15394</td>\n",
              "      <td>15.704999</td>\n",
              "      <td>0.0</td>\n",
              "      <td>0.0</td>\n",
              "      <td>0.0</td>\n",
              "      <td>7.260071</td>\n",
              "      <td>0.087996</td>\n",
              "    </tr>\n",
              "    <tr>\n",
              "      <th>std</th>\n",
              "      <td>1.597833</td>\n",
              "      <td>0.396398</td>\n",
              "      <td>0.416106</td>\n",
              "      <td>1.152256</td>\n",
              "      <td>2.638224</td>\n",
              "      <td>19.812393</td>\n",
              "      <td>1.36959</td>\n",
              "      <td>8.311201</td>\n",
              "      <td>0.0</td>\n",
              "      <td>0.0</td>\n",
              "      <td>0.0</td>\n",
              "      <td>1.957736</td>\n",
              "      <td>0.283290</td>\n",
              "    </tr>\n",
              "    <tr>\n",
              "      <th>min</th>\n",
              "      <td>1.000000</td>\n",
              "      <td>1.000000</td>\n",
              "      <td>1.000000</td>\n",
              "      <td>1.000000</td>\n",
              "      <td>1.000000</td>\n",
              "      <td>1.000000</td>\n",
              "      <td>0.00000</td>\n",
              "      <td>1.000000</td>\n",
              "      <td>0.0</td>\n",
              "      <td>0.0</td>\n",
              "      <td>0.0</td>\n",
              "      <td>2.000000</td>\n",
              "      <td>0.000000</td>\n",
              "    </tr>\n",
              "    <tr>\n",
              "      <th>25%</th>\n",
              "      <td>6.000000</td>\n",
              "      <td>1.000000</td>\n",
              "      <td>1.000000</td>\n",
              "      <td>1.000000</td>\n",
              "      <td>2.000000</td>\n",
              "      <td>31.000000</td>\n",
              "      <td>0.00000</td>\n",
              "      <td>10.000000</td>\n",
              "      <td>0.0</td>\n",
              "      <td>0.0</td>\n",
              "      <td>0.0</td>\n",
              "      <td>6.000000</td>\n",
              "      <td>0.000000</td>\n",
              "    </tr>\n",
              "    <tr>\n",
              "      <th>50%</th>\n",
              "      <td>7.000000</td>\n",
              "      <td>1.000000</td>\n",
              "      <td>1.000000</td>\n",
              "      <td>3.000000</td>\n",
              "      <td>3.000000</td>\n",
              "      <td>44.000000</td>\n",
              "      <td>1.00000</td>\n",
              "      <td>14.000000</td>\n",
              "      <td>0.0</td>\n",
              "      <td>0.0</td>\n",
              "      <td>0.0</td>\n",
              "      <td>8.000000</td>\n",
              "      <td>0.000000</td>\n",
              "    </tr>\n",
              "    <tr>\n",
              "      <th>75%</th>\n",
              "      <td>8.000000</td>\n",
              "      <td>1.000000</td>\n",
              "      <td>1.000000</td>\n",
              "      <td>3.000000</td>\n",
              "      <td>5.000000</td>\n",
              "      <td>57.000000</td>\n",
              "      <td>2.00000</td>\n",
              "      <td>20.000000</td>\n",
              "      <td>0.0</td>\n",
              "      <td>0.0</td>\n",
              "      <td>0.0</td>\n",
              "      <td>9.000000</td>\n",
              "      <td>0.000000</td>\n",
              "    </tr>\n",
              "    <tr>\n",
              "      <th>max</th>\n",
              "      <td>10.000000</td>\n",
              "      <td>3.000000</td>\n",
              "      <td>3.000000</td>\n",
              "      <td>6.000000</td>\n",
              "      <td>12.000000</td>\n",
              "      <td>96.000000</td>\n",
              "      <td>5.00000</td>\n",
              "      <td>81.000000</td>\n",
              "      <td>0.0</td>\n",
              "      <td>0.0</td>\n",
              "      <td>0.0</td>\n",
              "      <td>13.000000</td>\n",
              "      <td>1.000000</td>\n",
              "    </tr>\n",
              "  </tbody>\n",
              "</table>\n",
              "</div>\n",
              "      <button class=\"colab-df-convert\" onclick=\"convertToInteractive('df-f9f5b6d9-ce7d-4529-915b-ce63a4c9ce14')\"\n",
              "              title=\"Convert this dataframe to an interactive table.\"\n",
              "              style=\"display:none;\">\n",
              "        \n",
              "  <svg xmlns=\"http://www.w3.org/2000/svg\" height=\"24px\"viewBox=\"0 0 24 24\"\n",
              "       width=\"24px\">\n",
              "    <path d=\"M0 0h24v24H0V0z\" fill=\"none\"/>\n",
              "    <path d=\"M18.56 5.44l.94 2.06.94-2.06 2.06-.94-2.06-.94-.94-2.06-.94 2.06-2.06.94zm-11 1L8.5 8.5l.94-2.06 2.06-.94-2.06-.94L8.5 2.5l-.94 2.06-2.06.94zm10 10l.94 2.06.94-2.06 2.06-.94-2.06-.94-.94-2.06-.94 2.06-2.06.94z\"/><path d=\"M17.41 7.96l-1.37-1.37c-.4-.4-.92-.59-1.43-.59-.52 0-1.04.2-1.43.59L10.3 9.45l-7.72 7.72c-.78.78-.78 2.05 0 2.83L4 21.41c.39.39.9.59 1.41.59.51 0 1.02-.2 1.41-.59l7.78-7.78 2.81-2.81c.8-.78.8-2.07 0-2.86zM5.41 20L4 18.59l7.72-7.72 1.47 1.35L5.41 20z\"/>\n",
              "  </svg>\n",
              "      </button>\n",
              "      \n",
              "  <style>\n",
              "    .colab-df-container {\n",
              "      display:flex;\n",
              "      flex-wrap:wrap;\n",
              "      gap: 12px;\n",
              "    }\n",
              "\n",
              "    .colab-df-convert {\n",
              "      background-color: #E8F0FE;\n",
              "      border: none;\n",
              "      border-radius: 50%;\n",
              "      cursor: pointer;\n",
              "      display: none;\n",
              "      fill: #1967D2;\n",
              "      height: 32px;\n",
              "      padding: 0 0 0 0;\n",
              "      width: 32px;\n",
              "    }\n",
              "\n",
              "    .colab-df-convert:hover {\n",
              "      background-color: #E2EBFA;\n",
              "      box-shadow: 0px 1px 2px rgba(60, 64, 67, 0.3), 0px 1px 3px 1px rgba(60, 64, 67, 0.15);\n",
              "      fill: #174EA6;\n",
              "    }\n",
              "\n",
              "    [theme=dark] .colab-df-convert {\n",
              "      background-color: #3B4455;\n",
              "      fill: #D2E3FC;\n",
              "    }\n",
              "\n",
              "    [theme=dark] .colab-df-convert:hover {\n",
              "      background-color: #434B5C;\n",
              "      box-shadow: 0px 1px 3px 1px rgba(0, 0, 0, 0.15);\n",
              "      filter: drop-shadow(0px 1px 2px rgba(0, 0, 0, 0.3));\n",
              "      fill: #FFFFFF;\n",
              "    }\n",
              "  </style>\n",
              "\n",
              "      <script>\n",
              "        const buttonEl =\n",
              "          document.querySelector('#df-f9f5b6d9-ce7d-4529-915b-ce63a4c9ce14 button.colab-df-convert');\n",
              "        buttonEl.style.display =\n",
              "          google.colab.kernel.accessAllowed ? 'block' : 'none';\n",
              "\n",
              "        async function convertToInteractive(key) {\n",
              "          const element = document.querySelector('#df-f9f5b6d9-ce7d-4529-915b-ce63a4c9ce14');\n",
              "          const dataTable =\n",
              "            await google.colab.kernel.invokeFunction('convertToInteractive',\n",
              "                                                     [key], {});\n",
              "          if (!dataTable) return;\n",
              "\n",
              "          const docLinkHtml = 'Like what you see? Visit the ' +\n",
              "            '<a target=\"_blank\" href=https://colab.research.google.com/notebooks/data_table.ipynb>data table notebook</a>'\n",
              "            + ' to learn more about interactive tables.';\n",
              "          element.innerHTML = '';\n",
              "          dataTable['output_type'] = 'display_data';\n",
              "          await google.colab.output.renderOutput(dataTable, element);\n",
              "          const docLink = document.createElement('div');\n",
              "          docLink.innerHTML = docLinkHtml;\n",
              "          element.appendChild(docLink);\n",
              "        }\n",
              "      </script>\n",
              "    </div>\n",
              "  </div>\n",
              "  "
            ]
          },
          "metadata": {},
          "execution_count": 213
        }
      ],
      "source": [
        "# Look at the statistical data\n",
        "\n",
        "df.describe()"
      ]
    },
    {
      "cell_type": "markdown",
      "metadata": {
        "id": "p3tmKWI5YTxr"
      },
      "source": [
        "## 4. Data Visualization\n",
        "\n",
        "* Next, we will plot the distribution of each feature/column in relation with the frequency of early admissions.\n",
        "* We can identify features that are good predictors of early readmissions if the data is sufficiently varied."
      ]
    },
    {
      "cell_type": "markdown",
      "metadata": {
        "id": "DKVFlZcwt-iC"
      },
      "source": [
        "This code generates a heatmap of the correlation matrix of the dataframe df. The heatmap is visualized using the seaborn library. The size of the figure is set to be 15 by 9 inches. The values of the correlation coefficients are displayed in each cell of the heatmap by setting the annot parameter to True. The color map used for the heatmap is 'coolwarm'."
      ]
    },
    {
      "cell_type": "markdown",
      "metadata": {
        "id": "Js0wH7ZJuLjQ"
      },
      "source": [
        "This plot shows the frequency of readmissions for different races in the dataset"
      ]
    },
    {
      "cell_type": "code",
      "source": [
        "df['race'].value_counts()"
      ],
      "metadata": {
        "colab": {
          "base_uri": "https://localhost:8080/"
        },
        "id": "XonYZmoBUJ_k",
        "outputId": "d615e949-02ab-449d-fb63-b452d71b4353"
      },
      "execution_count": 214,
      "outputs": [
        {
          "output_type": "execute_result",
          "data": {
            "text/plain": [
              "Caucasian          53491\n",
              "AfricanAmerican    12887\n",
              "Other               3123\n",
              "Hispanic            1517\n",
              "Asian                497\n",
              "Name: race, dtype: int64"
            ]
          },
          "metadata": {},
          "execution_count": 214
        }
      ]
    },
    {
      "cell_type": "code",
      "source": [
        "plt.figure(figsize=(15,13))\n",
        "sns.countplot(df['race'])"
      ],
      "metadata": {
        "colab": {
          "base_uri": "https://localhost:8080/",
          "height": 844
        },
        "id": "Gs89AoJbUTaP",
        "outputId": "ed2b4cec-06ab-425c-bed5-5045242688e7"
      },
      "execution_count": 215,
      "outputs": [
        {
          "output_type": "stream",
          "name": "stderr",
          "text": [
            "/usr/local/lib/python3.9/dist-packages/seaborn/_decorators.py:36: FutureWarning: Pass the following variable as a keyword arg: x. From version 0.12, the only valid positional argument will be `data`, and passing other arguments without an explicit keyword will result in an error or misinterpretation.\n",
            "  warnings.warn(\n"
          ]
        },
        {
          "output_type": "execute_result",
          "data": {
            "text/plain": [
              "<AxesSubplot:xlabel='race', ylabel='count'>"
            ]
          },
          "metadata": {},
          "execution_count": 215
        },
        {
          "output_type": "display_data",
          "data": {
            "text/plain": [
              "<Figure size 1080x936 with 1 Axes>"
            ],
            "image/png": "[encoded data removed]"
          },
          "metadata": {
            "needs_background": "light"
          }
        }
      ]
    },
    {
      "cell_type": "code",
      "source": [
        "df['readmitted']=df['readmitted'].replace({'>30':0, 'NO': 0, '<30' :1})"
      ],
      "metadata": {
        "id": "avqOg0NeVrSz"
      },
      "execution_count": 216,
      "outputs": []
    },
    {
      "cell_type": "code",
      "source": [
        "df['readmitted'].value_counts()"
      ],
      "metadata": {
        "colab": {
          "base_uri": "https://localhost:8080/"
        },
        "id": "WSe4kIiPWBEv",
        "outputId": "fe42e713-8b39-4b63-9cef-e917f9872fce"
      },
      "execution_count": 217,
      "outputs": [
        {
          "output_type": "execute_result",
          "data": {
            "text/plain": [
              "0    65222\n",
              "1     6293\n",
              "Name: readmitted, dtype: int64"
            ]
          },
          "metadata": {},
          "execution_count": 217
        }
      ]
    },
    {
      "cell_type": "code",
      "source": [
        "plt.figure(figsize=(5,10))\n",
        "sns.countplot(df['readmitted'])"
      ],
      "metadata": {
        "colab": {
          "base_uri": "https://localhost:8080/",
          "height": 681
        },
        "id": "EYIrcutcWHXt",
        "outputId": "8d10b24c-b4ab-4f62-811a-5f27184fe5ab"
      },
      "execution_count": 218,
      "outputs": [
        {
          "output_type": "stream",
          "name": "stderr",
          "text": [
            "/usr/local/lib/python3.9/dist-packages/seaborn/_decorators.py:36: FutureWarning: Pass the following variable as a keyword arg: x. From version 0.12, the only valid positional argument will be `data`, and passing other arguments without an explicit keyword will result in an error or misinterpretation.\n",
            "  warnings.warn(\n"
          ]
        },
        {
          "output_type": "execute_result",
          "data": {
            "text/plain": [
              "<AxesSubplot:xlabel='readmitted', ylabel='count'>"
            ]
          },
          "metadata": {},
          "execution_count": 218
        },
        {
          "output_type": "display_data",
          "data": {
            "text/plain": [
              "<Figure size 360x720 with 1 Axes>"
            ],
            "image/png": "[encoded data removed]"
          },
          "metadata": {
            "needs_background": "light"
          }
        }
      ]
    },
    {
      "cell_type": "code",
      "source": [
        "plt.figure(figsize=(12,10))\n",
        "sns.countplot(df['age'])"
      ],
      "metadata": {
        "colab": {
          "base_uri": "https://localhost:8080/",
          "height": 681
        },
        "id": "FvUWUZ76UupZ",
        "outputId": "c36e81fd-9e43-4678-ab5f-327010d73cf6"
      },
      "execution_count": 219,
      "outputs": [
        {
          "output_type": "stream",
          "name": "stderr",
          "text": [
            "/usr/local/lib/python3.9/dist-packages/seaborn/_decorators.py:36: FutureWarning: Pass the following variable as a keyword arg: x. From version 0.12, the only valid positional argument will be `data`, and passing other arguments without an explicit keyword will result in an error or misinterpretation.\n",
            "  warnings.warn(\n"
          ]
        },
        {
          "output_type": "execute_result",
          "data": {
            "text/plain": [
              "<AxesSubplot:xlabel='age', ylabel='count'>"
            ]
          },
          "metadata": {},
          "execution_count": 219
        },
        {
          "output_type": "display_data",
          "data": {
            "text/plain": [
              "<Figure size 864x720 with 1 Axes>"
            ],
            "image/png": "[encoded data removed]"
          },
          "metadata": {
            "needs_background": "light"
          }
        }
      ]
    },
    {
      "cell_type": "code",
      "source": [
        "sns.countplot(df['discharge_disposition_id'])"
      ],
      "metadata": {
        "colab": {
          "base_uri": "https://localhost:8080/",
          "height": 358
        },
        "id": "oXolEfzCXit9",
        "outputId": "c861bfa2-e6fb-423b-cdb5-2a78c965c392"
      },
      "execution_count": 220,
      "outputs": [
        {
          "output_type": "stream",
          "name": "stderr",
          "text": [
            "/usr/local/lib/python3.9/dist-packages/seaborn/_decorators.py:36: FutureWarning: Pass the following variable as a keyword arg: x. From version 0.12, the only valid positional argument will be `data`, and passing other arguments without an explicit keyword will result in an error or misinterpretation.\n",
            "  warnings.warn(\n"
          ]
        },
        {
          "output_type": "execute_result",
          "data": {
            "text/plain": [
              "<AxesSubplot:xlabel='discharge_disposition_id', ylabel='count'>"
            ]
          },
          "metadata": {},
          "execution_count": 220
        },
        {
          "output_type": "display_data",
          "data": {
            "text/plain": [
              "<Figure size 432x288 with 1 Axes>"
            ],
            "image/png": "[encoded data removed]"
          },
          "metadata": {
            "needs_background": "light"
          }
        }
      ]
    },
    {
      "cell_type": "code",
      "source": [
        "df['change'].value_counts()"
      ],
      "metadata": {
        "colab": {
          "base_uri": "https://localhost:8080/"
        },
        "id": "-sIoWLaVYFjY",
        "outputId": "7bdd84af-bd6e-40bf-f5c2-f9a557999947"
      },
      "execution_count": 221,
      "outputs": [
        {
          "output_type": "execute_result",
          "data": {
            "text/plain": [
              "No    39493\n",
              "Ch    32022\n",
              "Name: change, dtype: int64"
            ]
          },
          "metadata": {},
          "execution_count": 221
        }
      ]
    },
    {
      "cell_type": "code",
      "source": [
        "plt.figure(figsize=(5,8))\n",
        "sns.countplot(df['change'])"
      ],
      "metadata": {
        "colab": {
          "base_uri": "https://localhost:8080/",
          "height": 572
        },
        "id": "HoeKYIUFYMXX",
        "outputId": "03681f2f-af20-4607-ce76-089347fc8d67"
      },
      "execution_count": 222,
      "outputs": [
        {
          "output_type": "stream",
          "name": "stderr",
          "text": [
            "/usr/local/lib/python3.9/dist-packages/seaborn/_decorators.py:36: FutureWarning: Pass the following variable as a keyword arg: x. From version 0.12, the only valid positional argument will be `data`, and passing other arguments without an explicit keyword will result in an error or misinterpretation.\n",
            "  warnings.warn(\n"
          ]
        },
        {
          "output_type": "execute_result",
          "data": {
            "text/plain": [
              "<AxesSubplot:xlabel='change', ylabel='count'>"
            ]
          },
          "metadata": {},
          "execution_count": 222
        },
        {
          "output_type": "display_data",
          "data": {
            "text/plain": [
              "<Figure size 360x576 with 1 Axes>"
            ],
            "image/png": "[encoded data removed]"
          },
          "metadata": {
            "needs_background": "light"
          }
        }
      ]
    },
    {
      "cell_type": "code",
      "source": [
        "df['diabetesMed']=df['diabetesMed'].replace('yes',1)\n",
        "df['diabetesMed']=df['diabetesMed'].replace('No',0)"
      ],
      "metadata": {
        "id": "XM7927e8ZPU6"
      },
      "execution_count": 223,
      "outputs": []
    },
    {
      "cell_type": "code",
      "source": [
        "df['diabetesMed'].value_counts()"
      ],
      "metadata": {
        "colab": {
          "base_uri": "https://localhost:8080/"
        },
        "id": "ed0lxie_ZWa-",
        "outputId": "0a42f893-8b5c-4d15-afec-ed41ed275912"
      },
      "execution_count": 224,
      "outputs": [
        {
          "output_type": "execute_result",
          "data": {
            "text/plain": [
              "Yes    54317\n",
              "0      17198\n",
              "Name: diabetesMed, dtype: int64"
            ]
          },
          "metadata": {},
          "execution_count": 224
        }
      ]
    },
    {
      "cell_type": "code",
      "source": [
        "## \n",
        "pd.crosstab(df['age'],df['readmitted'])"
      ],
      "metadata": {
        "colab": {
          "base_uri": "https://localhost:8080/",
          "height": 394
        },
        "id": "Tvm2LguSZWUm",
        "outputId": "5d16db9b-299d-47d0-a227-0b047008dcb2"
      },
      "execution_count": 225,
      "outputs": [
        {
          "output_type": "execute_result",
          "data": {
            "text/plain": [
              "readmitted      0     1\n",
              "age                    \n",
              "1             151     3\n",
              "2             509    26\n",
              "3            1044    83\n",
              "4            2511   188\n",
              "5            6371   507\n",
              "6           11587   879\n",
              "7           14545  1414\n",
              "8           16384  1824\n",
              "9           10388  1201\n",
              "10           1732   168"
            ],
            "text/html": [
              "\n",
              "  <div id=\"df-311705eb-00a6-4970-a192-0842bff9a154\">\n",
              "    <div class=\"colab-df-container\">\n",
              "      <div>\n",
              "<style scoped>\n",
              "    .dataframe tbody tr th:only-of-type {\n",
              "        vertical-align: middle;\n",
              "    }\n",
              "\n",
              "    .dataframe tbody tr th {\n",
              "        vertical-align: top;\n",
              "    }\n",
              "\n",
              "    .dataframe thead th {\n",
              "        text-align: right;\n",
              "    }\n",
              "</style>\n",
              "<table border=\"1\" class=\"dataframe\">\n",
              "  <thead>\n",
              "    <tr style=\"text-align: right;\">\n",
              "      <th>readmitted</th>\n",
              "      <th>0</th>\n",
              "      <th>1</th>\n",
              "    </tr>\n",
              "    <tr>\n",
              "      <th>age</th>\n",
              "      <th></th>\n",
              "      <th></th>\n",
              "    </tr>\n",
              "  </thead>\n",
              "  <tbody>\n",
              "    <tr>\n",
              "      <th>1</th>\n",
              "      <td>151</td>\n",
              "      <td>3</td>\n",
              "    </tr>\n",
              "    <tr>\n",
              "      <th>2</th>\n",
              "      <td>509</td>\n",
              "      <td>26</td>\n",
              "    </tr>\n",
              "    <tr>\n",
              "      <th>3</th>\n",
              "      <td>1044</td>\n",
              "      <td>83</td>\n",
              "    </tr>\n",
              "    <tr>\n",
              "      <th>4</th>\n",
              "      <td>2511</td>\n",
              "      <td>188</td>\n",
              "    </tr>\n",
              "    <tr>\n",
              "      <th>5</th>\n",
              "      <td>6371</td>\n",
              "      <td>507</td>\n",
              "    </tr>\n",
              "    <tr>\n",
              "      <th>6</th>\n",
              "      <td>11587</td>\n",
              "      <td>879</td>\n",
              "    </tr>\n",
              "    <tr>\n",
              "      <th>7</th>\n",
              "      <td>14545</td>\n",
              "      <td>1414</td>\n",
              "    </tr>\n",
              "    <tr>\n",
              "      <th>8</th>\n",
              "      <td>16384</td>\n",
              "      <td>1824</td>\n",
              "    </tr>\n",
              "    <tr>\n",
              "      <th>9</th>\n",
              "      <td>10388</td>\n",
              "      <td>1201</td>\n",
              "    </tr>\n",
              "    <tr>\n",
              "      <th>10</th>\n",
              "      <td>1732</td>\n",
              "      <td>168</td>\n",
              "    </tr>\n",
              "  </tbody>\n",
              "</table>\n",
              "</div>\n",
              "      <button class=\"colab-df-convert\" onclick=\"convertToInteractive('df-311705eb-00a6-4970-a192-0842bff9a154')\"\n",
              "              title=\"Convert this dataframe to an interactive table.\"\n",
              "              style=\"display:none;\">\n",
              "        \n",
              "  <svg xmlns=\"http://www.w3.org/2000/svg\" height=\"24px\"viewBox=\"0 0 24 24\"\n",
              "       width=\"24px\">\n",
              "    <path d=\"M0 0h24v24H0V0z\" fill=\"none\"/>\n",
              "    <path d=\"M18.56 5.44l.94 2.06.94-2.06 2.06-.94-2.06-.94-.94-2.06-.94 2.06-2.06.94zm-11 1L8.5 8.5l.94-2.06 2.06-.94-2.06-.94L8.5 2.5l-.94 2.06-2.06.94zm10 10l.94 2.06.94-2.06 2.06-.94-2.06-.94-.94-2.06-.94 2.06-2.06.94z\"/><path d=\"M17.41 7.96l-1.37-1.37c-.4-.4-.92-.59-1.43-.59-.52 0-1.04.2-1.43.59L10.3 9.45l-7.72 7.72c-.78.78-.78 2.05 0 2.83L4 21.41c.39.39.9.59 1.41.59.51 0 1.02-.2 1.41-.59l7.78-7.78 2.81-2.81c.8-.78.8-2.07 0-2.86zM5.41 20L4 18.59l7.72-7.72 1.47 1.35L5.41 20z\"/>\n",
              "  </svg>\n",
              "      </button>\n",
              "      \n",
              "  <style>\n",
              "    .colab-df-container {\n",
              "      display:flex;\n",
              "      flex-wrap:wrap;\n",
              "      gap: 12px;\n",
              "    }\n",
              "\n",
              "    .colab-df-convert {\n",
              "      background-color: #E8F0FE;\n",
              "      border: none;\n",
              "      border-radius: 50%;\n",
              "      cursor: pointer;\n",
              "      display: none;\n",
              "      fill: #1967D2;\n",
              "      height: 32px;\n",
              "      padding: 0 0 0 0;\n",
              "      width: 32px;\n",
              "    }\n",
              "\n",
              "    .colab-df-convert:hover {\n",
              "      background-color: #E2EBFA;\n",
              "      box-shadow: 0px 1px 2px rgba(60, 64, 67, 0.3), 0px 1px 3px 1px rgba(60, 64, 67, 0.15);\n",
              "      fill: #174EA6;\n",
              "    }\n",
              "\n",
              "    [theme=dark] .colab-df-convert {\n",
              "      background-color: #3B4455;\n",
              "      fill: #D2E3FC;\n",
              "    }\n",
              "\n",
              "    [theme=dark] .colab-df-convert:hover {\n",
              "      background-color: #434B5C;\n",
              "      box-shadow: 0px 1px 3px 1px rgba(0, 0, 0, 0.15);\n",
              "      filter: drop-shadow(0px 1px 2px rgba(0, 0, 0, 0.3));\n",
              "      fill: #FFFFFF;\n",
              "    }\n",
              "  </style>\n",
              "\n",
              "      <script>\n",
              "        const buttonEl =\n",
              "          document.querySelector('#df-311705eb-00a6-4970-a192-0842bff9a154 button.colab-df-convert');\n",
              "        buttonEl.style.display =\n",
              "          google.colab.kernel.accessAllowed ? 'block' : 'none';\n",
              "\n",
              "        async function convertToInteractive(key) {\n",
              "          const element = document.querySelector('#df-311705eb-00a6-4970-a192-0842bff9a154');\n",
              "          const dataTable =\n",
              "            await google.colab.kernel.invokeFunction('convertToInteractive',\n",
              "                                                     [key], {});\n",
              "          if (!dataTable) return;\n",
              "\n",
              "          const docLinkHtml = 'Like what you see? Visit the ' +\n",
              "            '<a target=\"_blank\" href=https://colab.research.google.com/notebooks/data_table.ipynb>data table notebook</a>'\n",
              "            + ' to learn more about interactive tables.';\n",
              "          element.innerHTML = '';\n",
              "          dataTable['output_type'] = 'display_data';\n",
              "          await google.colab.output.renderOutput(dataTable, element);\n",
              "          const docLink = document.createElement('div');\n",
              "          docLink.innerHTML = docLinkHtml;\n",
              "          element.appendChild(docLink);\n",
              "        }\n",
              "      </script>\n",
              "    </div>\n",
              "  </div>\n",
              "  "
            ]
          },
          "metadata": {},
          "execution_count": 225
        }
      ]
    },
    {
      "cell_type": "code",
      "source": [
        "df['A1Cresult'].value_counts()"
      ],
      "metadata": {
        "colab": {
          "base_uri": "https://localhost:8080/"
        },
        "id": "fB63dDJYZWRn",
        "outputId": "d1432c12-f8c7-4f6e-af21-c51a8b8d5b29"
      },
      "execution_count": 226,
      "outputs": [
        {
          "output_type": "execute_result",
          "data": {
            "text/plain": [
              "None    58529\n",
              ">8       6304\n",
              "Norm     3791\n",
              ">7       2891\n",
              "Name: A1Cresult, dtype: int64"
            ]
          },
          "metadata": {},
          "execution_count": 226
        }
      ]
    },
    {
      "cell_type": "code",
      "source": [
        "pd.crosstab(df['diabetesMed'],df['readmitted'])"
      ],
      "metadata": {
        "colab": {
          "base_uri": "https://localhost:8080/",
          "height": 143
        },
        "id": "c8Z0xA9bZWIg",
        "outputId": "b118195c-63e5-43b1-d4f4-0da30d48d49e"
      },
      "execution_count": 227,
      "outputs": [
        {
          "output_type": "execute_result",
          "data": {
            "text/plain": [
              "readmitted       0     1\n",
              "diabetesMed             \n",
              "0            15935  1263\n",
              "Yes          49287  5030"
            ],
            "text/html": [
              "\n",
              "  <div id=\"df-60dc06c6-1b6c-4dbb-8ecb-c85ceaa9cd9a\">\n",
              "    <div class=\"colab-df-container\">\n",
              "      <div>\n",
              "<style scoped>\n",
              "    .dataframe tbody tr th:only-of-type {\n",
              "        vertical-align: middle;\n",
              "    }\n",
              "\n",
              "    .dataframe tbody tr th {\n",
              "        vertical-align: top;\n",
              "    }\n",
              "\n",
              "    .dataframe thead th {\n",
              "        text-align: right;\n",
              "    }\n",
              "</style>\n",
              "<table border=\"1\" class=\"dataframe\">\n",
              "  <thead>\n",
              "    <tr style=\"text-align: right;\">\n",
              "      <th>readmitted</th>\n",
              "      <th>0</th>\n",
              "      <th>1</th>\n",
              "    </tr>\n",
              "    <tr>\n",
              "      <th>diabetesMed</th>\n",
              "      <th></th>\n",
              "      <th></th>\n",
              "    </tr>\n",
              "  </thead>\n",
              "  <tbody>\n",
              "    <tr>\n",
              "      <th>0</th>\n",
              "      <td>15935</td>\n",
              "      <td>1263</td>\n",
              "    </tr>\n",
              "    <tr>\n",
              "      <th>Yes</th>\n",
              "      <td>49287</td>\n",
              "      <td>5030</td>\n",
              "    </tr>\n",
              "  </tbody>\n",
              "</table>\n",
              "</div>\n",
              "      <button class=\"colab-df-convert\" onclick=\"convertToInteractive('df-60dc06c6-1b6c-4dbb-8ecb-c85ceaa9cd9a')\"\n",
              "              title=\"Convert this dataframe to an interactive table.\"\n",
              "              style=\"display:none;\">\n",
              "        \n",
              "  <svg xmlns=\"http://www.w3.org/2000/svg\" height=\"24px\"viewBox=\"0 0 24 24\"\n",
              "       width=\"24px\">\n",
              "    <path d=\"M0 0h24v24H0V0z\" fill=\"none\"/>\n",
              "    <path d=\"M18.56 5.44l.94 2.06.94-2.06 2.06-.94-2.06-.94-.94-2.06-.94 2.06-2.06.94zm-11 1L8.5 8.5l.94-2.06 2.06-.94-2.06-.94L8.5 2.5l-.94 2.06-2.06.94zm10 10l.94 2.06.94-2.06 2.06-.94-2.06-.94-.94-2.06-.94 2.06-2.06.94z\"/><path d=\"M17.41 7.96l-1.37-1.37c-.4-.4-.92-.59-1.43-.59-.52 0-1.04.2-1.43.59L10.3 9.45l-7.72 7.72c-.78.78-.78 2.05 0 2.83L4 21.41c.39.39.9.59 1.41.59.51 0 1.02-.2 1.41-.59l7.78-7.78 2.81-2.81c.8-.78.8-2.07 0-2.86zM5.41 20L4 18.59l7.72-7.72 1.47 1.35L5.41 20z\"/>\n",
              "  </svg>\n",
              "      </button>\n",
              "      \n",
              "  <style>\n",
              "    .colab-df-container {\n",
              "      display:flex;\n",
              "      flex-wrap:wrap;\n",
              "      gap: 12px;\n",
              "    }\n",
              "\n",
              "    .colab-df-convert {\n",
              "      background-color: #E8F0FE;\n",
              "      border: none;\n",
              "      border-radius: 50%;\n",
              "      cursor: pointer;\n",
              "      display: none;\n",
              "      fill: #1967D2;\n",
              "      height: 32px;\n",
              "      padding: 0 0 0 0;\n",
              "      width: 32px;\n",
              "    }\n",
              "\n",
              "    .colab-df-convert:hover {\n",
              "      background-color: #E2EBFA;\n",
              "      box-shadow: 0px 1px 2px rgba(60, 64, 67, 0.3), 0px 1px 3px 1px rgba(60, 64, 67, 0.15);\n",
              "      fill: #174EA6;\n",
              "    }\n",
              "\n",
              "    [theme=dark] .colab-df-convert {\n",
              "      background-color: #3B4455;\n",
              "      fill: #D2E3FC;\n",
              "    }\n",
              "\n",
              "    [theme=dark] .colab-df-convert:hover {\n",
              "      background-color: #434B5C;\n",
              "      box-shadow: 0px 1px 3px 1px rgba(0, 0, 0, 0.15);\n",
              "      filter: drop-shadow(0px 1px 2px rgba(0, 0, 0, 0.3));\n",
              "      fill: #FFFFFF;\n",
              "    }\n",
              "  </style>\n",
              "\n",
              "      <script>\n",
              "        const buttonEl =\n",
              "          document.querySelector('#df-60dc06c6-1b6c-4dbb-8ecb-c85ceaa9cd9a button.colab-df-convert');\n",
              "        buttonEl.style.display =\n",
              "          google.colab.kernel.accessAllowed ? 'block' : 'none';\n",
              "\n",
              "        async function convertToInteractive(key) {\n",
              "          const element = document.querySelector('#df-60dc06c6-1b6c-4dbb-8ecb-c85ceaa9cd9a');\n",
              "          const dataTable =\n",
              "            await google.colab.kernel.invokeFunction('convertToInteractive',\n",
              "                                                     [key], {});\n",
              "          if (!dataTable) return;\n",
              "\n",
              "          const docLinkHtml = 'Like what you see? Visit the ' +\n",
              "            '<a target=\"_blank\" href=https://colab.research.google.com/notebooks/data_table.ipynb>data table notebook</a>'\n",
              "            + ' to learn more about interactive tables.';\n",
              "          element.innerHTML = '';\n",
              "          dataTable['output_type'] = 'display_data';\n",
              "          await google.colab.output.renderOutput(dataTable, element);\n",
              "          const docLink = document.createElement('div');\n",
              "          docLink.innerHTML = docLinkHtml;\n",
              "          element.appendChild(docLink);\n",
              "        }\n",
              "      </script>\n",
              "    </div>\n",
              "  </div>\n",
              "  "
            ]
          },
          "metadata": {},
          "execution_count": 227
        }
      ]
    },
    {
      "cell_type": "code",
      "source": [
        "pd.crosstab(df['A1Cresult'],df['readmitted'])"
      ],
      "metadata": {
        "colab": {
          "base_uri": "https://localhost:8080/",
          "height": 206
        },
        "id": "tO5FkBnlZWFf",
        "outputId": "5f435288-42ef-4d8c-8b46-1bde507c1531"
      },
      "execution_count": 228,
      "outputs": [
        {
          "output_type": "execute_result",
          "data": {
            "text/plain": [
              "readmitted      0     1\n",
              "A1Cresult              \n",
              ">7           2645   246\n",
              ">8           5794   510\n",
              "None        53316  5213\n",
              "Norm         3467   324"
            ],
            "text/html": [
              "\n",
              "  <div id=\"df-28baa34d-ba08-4042-bd5e-0cf0fea14026\">\n",
              "    <div class=\"colab-df-container\">\n",
              "      <div>\n",
              "<style scoped>\n",
              "    .dataframe tbody tr th:only-of-type {\n",
              "        vertical-align: middle;\n",
              "    }\n",
              "\n",
              "    .dataframe tbody tr th {\n",
              "        vertical-align: top;\n",
              "    }\n",
              "\n",
              "    .dataframe thead th {\n",
              "        text-align: right;\n",
              "    }\n",
              "</style>\n",
              "<table border=\"1\" class=\"dataframe\">\n",
              "  <thead>\n",
              "    <tr style=\"text-align: right;\">\n",
              "      <th>readmitted</th>\n",
              "      <th>0</th>\n",
              "      <th>1</th>\n",
              "    </tr>\n",
              "    <tr>\n",
              "      <th>A1Cresult</th>\n",
              "      <th></th>\n",
              "      <th></th>\n",
              "    </tr>\n",
              "  </thead>\n",
              "  <tbody>\n",
              "    <tr>\n",
              "      <th>&gt;7</th>\n",
              "      <td>2645</td>\n",
              "      <td>246</td>\n",
              "    </tr>\n",
              "    <tr>\n",
              "      <th>&gt;8</th>\n",
              "      <td>5794</td>\n",
              "      <td>510</td>\n",
              "    </tr>\n",
              "    <tr>\n",
              "      <th>None</th>\n",
              "      <td>53316</td>\n",
              "      <td>5213</td>\n",
              "    </tr>\n",
              "    <tr>\n",
              "      <th>Norm</th>\n",
              "      <td>3467</td>\n",
              "      <td>324</td>\n",
              "    </tr>\n",
              "  </tbody>\n",
              "</table>\n",
              "</div>\n",
              "      <button class=\"colab-df-convert\" onclick=\"convertToInteractive('df-28baa34d-ba08-4042-bd5e-0cf0fea14026')\"\n",
              "              title=\"Convert this dataframe to an interactive table.\"\n",
              "              style=\"display:none;\">\n",
              "        \n",
              "  <svg xmlns=\"http://www.w3.org/2000/svg\" height=\"24px\"viewBox=\"0 0 24 24\"\n",
              "       width=\"24px\">\n",
              "    <path d=\"M0 0h24v24H0V0z\" fill=\"none\"/>\n",
              "    <path d=\"M18.56 5.44l.94 2.06.94-2.06 2.06-.94-2.06-.94-.94-2.06-.94 2.06-2.06.94zm-11 1L8.5 8.5l.94-2.06 2.06-.94-2.06-.94L8.5 2.5l-.94 2.06-2.06.94zm10 10l.94 2.06.94-2.06 2.06-.94-2.06-.94-.94-2.06-.94 2.06-2.06.94z\"/><path d=\"M17.41 7.96l-1.37-1.37c-.4-.4-.92-.59-1.43-.59-.52 0-1.04.2-1.43.59L10.3 9.45l-7.72 7.72c-.78.78-.78 2.05 0 2.83L4 21.41c.39.39.9.59 1.41.59.51 0 1.02-.2 1.41-.59l7.78-7.78 2.81-2.81c.8-.78.8-2.07 0-2.86zM5.41 20L4 18.59l7.72-7.72 1.47 1.35L5.41 20z\"/>\n",
              "  </svg>\n",
              "      </button>\n",
              "      \n",
              "  <style>\n",
              "    .colab-df-container {\n",
              "      display:flex;\n",
              "      flex-wrap:wrap;\n",
              "      gap: 12px;\n",
              "    }\n",
              "\n",
              "    .colab-df-convert {\n",
              "      background-color: #E8F0FE;\n",
              "      border: none;\n",
              "      border-radius: 50%;\n",
              "      cursor: pointer;\n",
              "      display: none;\n",
              "      fill: #1967D2;\n",
              "      height: 32px;\n",
              "      padding: 0 0 0 0;\n",
              "      width: 32px;\n",
              "    }\n",
              "\n",
              "    .colab-df-convert:hover {\n",
              "      background-color: #E2EBFA;\n",
              "      box-shadow: 0px 1px 2px rgba(60, 64, 67, 0.3), 0px 1px 3px 1px rgba(60, 64, 67, 0.15);\n",
              "      fill: #174EA6;\n",
              "    }\n",
              "\n",
              "    [theme=dark] .colab-df-convert {\n",
              "      background-color: #3B4455;\n",
              "      fill: #D2E3FC;\n",
              "    }\n",
              "\n",
              "    [theme=dark] .colab-df-convert:hover {\n",
              "      background-color: #434B5C;\n",
              "      box-shadow: 0px 1px 3px 1px rgba(0, 0, 0, 0.15);\n",
              "      filter: drop-shadow(0px 1px 2px rgba(0, 0, 0, 0.3));\n",
              "      fill: #FFFFFF;\n",
              "    }\n",
              "  </style>\n",
              "\n",
              "      <script>\n",
              "        const buttonEl =\n",
              "          document.querySelector('#df-28baa34d-ba08-4042-bd5e-0cf0fea14026 button.colab-df-convert');\n",
              "        buttonEl.style.display =\n",
              "          google.colab.kernel.accessAllowed ? 'block' : 'none';\n",
              "\n",
              "        async function convertToInteractive(key) {\n",
              "          const element = document.querySelector('#df-28baa34d-ba08-4042-bd5e-0cf0fea14026');\n",
              "          const dataTable =\n",
              "            await google.colab.kernel.invokeFunction('convertToInteractive',\n",
              "                                                     [key], {});\n",
              "          if (!dataTable) return;\n",
              "\n",
              "          const docLinkHtml = 'Like what you see? Visit the ' +\n",
              "            '<a target=\"_blank\" href=https://colab.research.google.com/notebooks/data_table.ipynb>data table notebook</a>'\n",
              "            + ' to learn more about interactive tables.';\n",
              "          element.innerHTML = '';\n",
              "          dataTable['output_type'] = 'display_data';\n",
              "          await google.colab.output.renderOutput(dataTable, element);\n",
              "          const docLink = document.createElement('div');\n",
              "          docLink.innerHTML = docLinkHtml;\n",
              "          element.appendChild(docLink);\n",
              "        }\n",
              "      </script>\n",
              "    </div>\n",
              "  </div>\n",
              "  "
            ]
          },
          "metadata": {},
          "execution_count": 228
        }
      ]
    },
    {
      "cell_type": "code",
      "source": [
        "pd.crosstab(df['A1Cresult'], df['diabetesMed'])"
      ],
      "metadata": {
        "colab": {
          "base_uri": "https://localhost:8080/",
          "height": 206
        },
        "id": "PQbVJ8zmZWCV",
        "outputId": "2d01187f-e6bc-43e2-c309-d19aa089c748"
      },
      "execution_count": 229,
      "outputs": [
        {
          "output_type": "execute_result",
          "data": {
            "text/plain": [
              "diabetesMed      0    Yes\n",
              "A1Cresult                \n",
              ">7             596   2295\n",
              ">8             614   5690\n",
              "None         14968  43561\n",
              "Norm          1020   2771"
            ],
            "text/html": [
              "\n",
              "  <div id=\"df-db77c7e0-f1f0-44f9-8689-6280289a87b8\">\n",
              "    <div class=\"colab-df-container\">\n",
              "      <div>\n",
              "<style scoped>\n",
              "    .dataframe tbody tr th:only-of-type {\n",
              "        vertical-align: middle;\n",
              "    }\n",
              "\n",
              "    .dataframe tbody tr th {\n",
              "        vertical-align: top;\n",
              "    }\n",
              "\n",
              "    .dataframe thead th {\n",
              "        text-align: right;\n",
              "    }\n",
              "</style>\n",
              "<table border=\"1\" class=\"dataframe\">\n",
              "  <thead>\n",
              "    <tr style=\"text-align: right;\">\n",
              "      <th>diabetesMed</th>\n",
              "      <th>0</th>\n",
              "      <th>Yes</th>\n",
              "    </tr>\n",
              "    <tr>\n",
              "      <th>A1Cresult</th>\n",
              "      <th></th>\n",
              "      <th></th>\n",
              "    </tr>\n",
              "  </thead>\n",
              "  <tbody>\n",
              "    <tr>\n",
              "      <th>&gt;7</th>\n",
              "      <td>596</td>\n",
              "      <td>2295</td>\n",
              "    </tr>\n",
              "    <tr>\n",
              "      <th>&gt;8</th>\n",
              "      <td>614</td>\n",
              "      <td>5690</td>\n",
              "    </tr>\n",
              "    <tr>\n",
              "      <th>None</th>\n",
              "      <td>14968</td>\n",
              "      <td>43561</td>\n",
              "    </tr>\n",
              "    <tr>\n",
              "      <th>Norm</th>\n",
              "      <td>1020</td>\n",
              "      <td>2771</td>\n",
              "    </tr>\n",
              "  </tbody>\n",
              "</table>\n",
              "</div>\n",
              "      <button class=\"colab-df-convert\" onclick=\"convertToInteractive('df-db77c7e0-f1f0-44f9-8689-6280289a87b8')\"\n",
              "              title=\"Convert this dataframe to an interactive table.\"\n",
              "              style=\"display:none;\">\n",
              "        \n",
              "  <svg xmlns=\"http://www.w3.org/2000/svg\" height=\"24px\"viewBox=\"0 0 24 24\"\n",
              "       width=\"24px\">\n",
              "    <path d=\"M0 0h24v24H0V0z\" fill=\"none\"/>\n",
              "    <path d=\"M18.56 5.44l.94 2.06.94-2.06 2.06-.94-2.06-.94-.94-2.06-.94 2.06-2.06.94zm-11 1L8.5 8.5l.94-2.06 2.06-.94-2.06-.94L8.5 2.5l-.94 2.06-2.06.94zm10 10l.94 2.06.94-2.06 2.06-.94-2.06-.94-.94-2.06-.94 2.06-2.06.94z\"/><path d=\"M17.41 7.96l-1.37-1.37c-.4-.4-.92-.59-1.43-.59-.52 0-1.04.2-1.43.59L10.3 9.45l-7.72 7.72c-.78.78-.78 2.05 0 2.83L4 21.41c.39.39.9.59 1.41.59.51 0 1.02-.2 1.41-.59l7.78-7.78 2.81-2.81c.8-.78.8-2.07 0-2.86zM5.41 20L4 18.59l7.72-7.72 1.47 1.35L5.41 20z\"/>\n",
              "  </svg>\n",
              "      </button>\n",
              "      \n",
              "  <style>\n",
              "    .colab-df-container {\n",
              "      display:flex;\n",
              "      flex-wrap:wrap;\n",
              "      gap: 12px;\n",
              "    }\n",
              "\n",
              "    .colab-df-convert {\n",
              "      background-color: #E8F0FE;\n",
              "      border: none;\n",
              "      border-radius: 50%;\n",
              "      cursor: pointer;\n",
              "      display: none;\n",
              "      fill: #1967D2;\n",
              "      height: 32px;\n",
              "      padding: 0 0 0 0;\n",
              "      width: 32px;\n",
              "    }\n",
              "\n",
              "    .colab-df-convert:hover {\n",
              "      background-color: #E2EBFA;\n",
              "      box-shadow: 0px 1px 2px rgba(60, 64, 67, 0.3), 0px 1px 3px 1px rgba(60, 64, 67, 0.15);\n",
              "      fill: #174EA6;\n",
              "    }\n",
              "\n",
              "    [theme=dark] .colab-df-convert {\n",
              "      background-color: #3B4455;\n",
              "      fill: #D2E3FC;\n",
              "    }\n",
              "\n",
              "    [theme=dark] .colab-df-convert:hover {\n",
              "      background-color: #434B5C;\n",
              "      box-shadow: 0px 1px 3px 1px rgba(0, 0, 0, 0.15);\n",
              "      filter: drop-shadow(0px 1px 2px rgba(0, 0, 0, 0.3));\n",
              "      fill: #FFFFFF;\n",
              "    }\n",
              "  </style>\n",
              "\n",
              "      <script>\n",
              "        const buttonEl =\n",
              "          document.querySelector('#df-db77c7e0-f1f0-44f9-8689-6280289a87b8 button.colab-df-convert');\n",
              "        buttonEl.style.display =\n",
              "          google.colab.kernel.accessAllowed ? 'block' : 'none';\n",
              "\n",
              "        async function convertToInteractive(key) {\n",
              "          const element = document.querySelector('#df-db77c7e0-f1f0-44f9-8689-6280289a87b8');\n",
              "          const dataTable =\n",
              "            await google.colab.kernel.invokeFunction('convertToInteractive',\n",
              "                                                     [key], {});\n",
              "          if (!dataTable) return;\n",
              "\n",
              "          const docLinkHtml = 'Like what you see? Visit the ' +\n",
              "            '<a target=\"_blank\" href=https://colab.research.google.com/notebooks/data_table.ipynb>data table notebook</a>'\n",
              "            + ' to learn more about interactive tables.';\n",
              "          element.innerHTML = '';\n",
              "          dataTable['output_type'] = 'display_data';\n",
              "          await google.colab.output.renderOutput(dataTable, element);\n",
              "          const docLink = document.createElement('div');\n",
              "          docLink.innerHTML = docLinkHtml;\n",
              "          element.appendChild(docLink);\n",
              "        }\n",
              "      </script>\n",
              "    </div>\n",
              "  </div>\n",
              "  "
            ]
          },
          "metadata": {},
          "execution_count": 229
        }
      ]
    },
    {
      "cell_type": "code",
      "source": [
        "pd.crosstab(df['A1Cresult'],df['change'])"
      ],
      "metadata": {
        "colab": {
          "base_uri": "https://localhost:8080/",
          "height": 206
        },
        "id": "Ns4kntyOZV_Y",
        "outputId": "8dc64704-d0b9-45c7-a50f-2b0bb126f3c7"
      },
      "execution_count": 230,
      "outputs": [
        {
          "output_type": "execute_result",
          "data": {
            "text/plain": [
              "change        Ch     No\n",
              "A1Cresult              \n",
              ">7          1424   1467\n",
              ">8          4094   2210\n",
              "None       24874  33655\n",
              "Norm        1630   2161"
            ],
            "text/html": [
              "\n",
              "  <div id=\"df-48c71d30-4cb6-4ec4-ba33-4ecb653afb32\">\n",
              "    <div class=\"colab-df-container\">\n",
              "      <div>\n",
              "<style scoped>\n",
              "    .dataframe tbody tr th:only-of-type {\n",
              "        vertical-align: middle;\n",
              "    }\n",
              "\n",
              "    .dataframe tbody tr th {\n",
              "        vertical-align: top;\n",
              "    }\n",
              "\n",
              "    .dataframe thead th {\n",
              "        text-align: right;\n",
              "    }\n",
              "</style>\n",
              "<table border=\"1\" class=\"dataframe\">\n",
              "  <thead>\n",
              "    <tr style=\"text-align: right;\">\n",
              "      <th>change</th>\n",
              "      <th>Ch</th>\n",
              "      <th>No</th>\n",
              "    </tr>\n",
              "    <tr>\n",
              "      <th>A1Cresult</th>\n",
              "      <th></th>\n",
              "      <th></th>\n",
              "    </tr>\n",
              "  </thead>\n",
              "  <tbody>\n",
              "    <tr>\n",
              "      <th>&gt;7</th>\n",
              "      <td>1424</td>\n",
              "      <td>1467</td>\n",
              "    </tr>\n",
              "    <tr>\n",
              "      <th>&gt;8</th>\n",
              "      <td>4094</td>\n",
              "      <td>2210</td>\n",
              "    </tr>\n",
              "    <tr>\n",
              "      <th>None</th>\n",
              "      <td>24874</td>\n",
              "      <td>33655</td>\n",
              "    </tr>\n",
              "    <tr>\n",
              "      <th>Norm</th>\n",
              "      <td>1630</td>\n",
              "      <td>2161</td>\n",
              "    </tr>\n",
              "  </tbody>\n",
              "</table>\n",
              "</div>\n",
              "      <button class=\"colab-df-convert\" onclick=\"convertToInteractive('df-48c71d30-4cb6-4ec4-ba33-4ecb653afb32')\"\n",
              "              title=\"Convert this dataframe to an interactive table.\"\n",
              "              style=\"display:none;\">\n",
              "        \n",
              "  <svg xmlns=\"http://www.w3.org/2000/svg\" height=\"24px\"viewBox=\"0 0 24 24\"\n",
              "       width=\"24px\">\n",
              "    <path d=\"M0 0h24v24H0V0z\" fill=\"none\"/>\n",
              "    <path d=\"M18.56 5.44l.94 2.06.94-2.06 2.06-.94-2.06-.94-.94-2.06-.94 2.06-2.06.94zm-11 1L8.5 8.5l.94-2.06 2.06-.94-2.06-.94L8.5 2.5l-.94 2.06-2.06.94zm10 10l.94 2.06.94-2.06 2.06-.94-2.06-.94-.94-2.06-.94 2.06-2.06.94z\"/><path d=\"M17.41 7.96l-1.37-1.37c-.4-.4-.92-.59-1.43-.59-.52 0-1.04.2-1.43.59L10.3 9.45l-7.72 7.72c-.78.78-.78 2.05 0 2.83L4 21.41c.39.39.9.59 1.41.59.51 0 1.02-.2 1.41-.59l7.78-7.78 2.81-2.81c.8-.78.8-2.07 0-2.86zM5.41 20L4 18.59l7.72-7.72 1.47 1.35L5.41 20z\"/>\n",
              "  </svg>\n",
              "      </button>\n",
              "      \n",
              "  <style>\n",
              "    .colab-df-container {\n",
              "      display:flex;\n",
              "      flex-wrap:wrap;\n",
              "      gap: 12px;\n",
              "    }\n",
              "\n",
              "    .colab-df-convert {\n",
              "      background-color: #E8F0FE;\n",
              "      border: none;\n",
              "      border-radius: 50%;\n",
              "      cursor: pointer;\n",
              "      display: none;\n",
              "      fill: #1967D2;\n",
              "      height: 32px;\n",
              "      padding: 0 0 0 0;\n",
              "      width: 32px;\n",
              "    }\n",
              "\n",
              "    .colab-df-convert:hover {\n",
              "      background-color: #E2EBFA;\n",
              "      box-shadow: 0px 1px 2px rgba(60, 64, 67, 0.3), 0px 1px 3px 1px rgba(60, 64, 67, 0.15);\n",
              "      fill: #174EA6;\n",
              "    }\n",
              "\n",
              "    [theme=dark] .colab-df-convert {\n",
              "      background-color: #3B4455;\n",
              "      fill: #D2E3FC;\n",
              "    }\n",
              "\n",
              "    [theme=dark] .colab-df-convert:hover {\n",
              "      background-color: #434B5C;\n",
              "      box-shadow: 0px 1px 3px 1px rgba(0, 0, 0, 0.15);\n",
              "      filter: drop-shadow(0px 1px 2px rgba(0, 0, 0, 0.3));\n",
              "      fill: #FFFFFF;\n",
              "    }\n",
              "  </style>\n",
              "\n",
              "      <script>\n",
              "        const buttonEl =\n",
              "          document.querySelector('#df-48c71d30-4cb6-4ec4-ba33-4ecb653afb32 button.colab-df-convert');\n",
              "        buttonEl.style.display =\n",
              "          google.colab.kernel.accessAllowed ? 'block' : 'none';\n",
              "\n",
              "        async function convertToInteractive(key) {\n",
              "          const element = document.querySelector('#df-48c71d30-4cb6-4ec4-ba33-4ecb653afb32');\n",
              "          const dataTable =\n",
              "            await google.colab.kernel.invokeFunction('convertToInteractive',\n",
              "                                                     [key], {});\n",
              "          if (!dataTable) return;\n",
              "\n",
              "          const docLinkHtml = 'Like what you see? Visit the ' +\n",
              "            '<a target=\"_blank\" href=https://colab.research.google.com/notebooks/data_table.ipynb>data table notebook</a>'\n",
              "            + ' to learn more about interactive tables.';\n",
              "          element.innerHTML = '';\n",
              "          dataTable['output_type'] = 'display_data';\n",
              "          await google.colab.output.renderOutput(dataTable, element);\n",
              "          const docLink = document.createElement('div');\n",
              "          docLink.innerHTML = docLinkHtml;\n",
              "          element.appendChild(docLink);\n",
              "        }\n",
              "      </script>\n",
              "    </div>\n",
              "  </div>\n",
              "  "
            ]
          },
          "metadata": {},
          "execution_count": 230
        }
      ]
    },
    {
      "cell_type": "code",
      "source": [
        "df['max_glu_serum'].value_counts()"
      ],
      "metadata": {
        "colab": {
          "base_uri": "https://localhost:8080/"
        },
        "id": "84fJmXY8ZV8B",
        "outputId": "9a66aea4-885a-48e5-9a2a-aa37c9d1af74"
      },
      "execution_count": 231,
      "outputs": [
        {
          "output_type": "execute_result",
          "data": {
            "text/plain": [
              "None    68059\n",
              "Norm     1731\n",
              ">200      969\n",
              ">300      756\n",
              "Name: max_glu_serum, dtype: int64"
            ]
          },
          "metadata": {},
          "execution_count": 231
        }
      ]
    },
    {
      "cell_type": "code",
      "source": [
        "pd.crosstab(df['max_glu_serum'],df['readmitted'])"
      ],
      "metadata": {
        "colab": {
          "base_uri": "https://localhost:8080/",
          "height": 206
        },
        "id": "cms4f20FZV4_",
        "outputId": "cbc4c237-37ba-47d8-decf-35eb48960f42"
      },
      "execution_count": 232,
      "outputs": [
        {
          "output_type": "execute_result",
          "data": {
            "text/plain": [
              "readmitted         0     1\n",
              "max_glu_serum             \n",
              ">200             866   103\n",
              ">300             683    73\n",
              "None           62108  5951\n",
              "Norm            1565   166"
            ],
            "text/html": [
              "\n",
              "  <div id=\"df-32f45890-a39b-4d3c-a65c-562fd3b110da\">\n",
              "    <div class=\"colab-df-container\">\n",
              "      <div>\n",
              "<style scoped>\n",
              "    .dataframe tbody tr th:only-of-type {\n",
              "        vertical-align: middle;\n",
              "    }\n",
              "\n",
              "    .dataframe tbody tr th {\n",
              "        vertical-align: top;\n",
              "    }\n",
              "\n",
              "    .dataframe thead th {\n",
              "        text-align: right;\n",
              "    }\n",
              "</style>\n",
              "<table border=\"1\" class=\"dataframe\">\n",
              "  <thead>\n",
              "    <tr style=\"text-align: right;\">\n",
              "      <th>readmitted</th>\n",
              "      <th>0</th>\n",
              "      <th>1</th>\n",
              "    </tr>\n",
              "    <tr>\n",
              "      <th>max_glu_serum</th>\n",
              "      <th></th>\n",
              "      <th></th>\n",
              "    </tr>\n",
              "  </thead>\n",
              "  <tbody>\n",
              "    <tr>\n",
              "      <th>&gt;200</th>\n",
              "      <td>866</td>\n",
              "      <td>103</td>\n",
              "    </tr>\n",
              "    <tr>\n",
              "      <th>&gt;300</th>\n",
              "      <td>683</td>\n",
              "      <td>73</td>\n",
              "    </tr>\n",
              "    <tr>\n",
              "      <th>None</th>\n",
              "      <td>62108</td>\n",
              "      <td>5951</td>\n",
              "    </tr>\n",
              "    <tr>\n",
              "      <th>Norm</th>\n",
              "      <td>1565</td>\n",
              "      <td>166</td>\n",
              "    </tr>\n",
              "  </tbody>\n",
              "</table>\n",
              "</div>\n",
              "      <button class=\"colab-df-convert\" onclick=\"convertToInteractive('df-32f45890-a39b-4d3c-a65c-562fd3b110da')\"\n",
              "              title=\"Convert this dataframe to an interactive table.\"\n",
              "              style=\"display:none;\">\n",
              "        \n",
              "  <svg xmlns=\"http://www.w3.org/2000/svg\" height=\"24px\"viewBox=\"0 0 24 24\"\n",
              "       width=\"24px\">\n",
              "    <path d=\"M0 0h24v24H0V0z\" fill=\"none\"/>\n",
              "    <path d=\"M18.56 5.44l.94 2.06.94-2.06 2.06-.94-2.06-.94-.94-2.06-.94 2.06-2.06.94zm-11 1L8.5 8.5l.94-2.06 2.06-.94-2.06-.94L8.5 2.5l-.94 2.06-2.06.94zm10 10l.94 2.06.94-2.06 2.06-.94-2.06-.94-.94-2.06-.94 2.06-2.06.94z\"/><path d=\"M17.41 7.96l-1.37-1.37c-.4-.4-.92-.59-1.43-.59-.52 0-1.04.2-1.43.59L10.3 9.45l-7.72 7.72c-.78.78-.78 2.05 0 2.83L4 21.41c.39.39.9.59 1.41.59.51 0 1.02-.2 1.41-.59l7.78-7.78 2.81-2.81c.8-.78.8-2.07 0-2.86zM5.41 20L4 18.59l7.72-7.72 1.47 1.35L5.41 20z\"/>\n",
              "  </svg>\n",
              "      </button>\n",
              "      \n",
              "  <style>\n",
              "    .colab-df-container {\n",
              "      display:flex;\n",
              "      flex-wrap:wrap;\n",
              "      gap: 12px;\n",
              "    }\n",
              "\n",
              "    .colab-df-convert {\n",
              "      background-color: #E8F0FE;\n",
              "      border: none;\n",
              "      border-radius: 50%;\n",
              "      cursor: pointer;\n",
              "      display: none;\n",
              "      fill: #1967D2;\n",
              "      height: 32px;\n",
              "      padding: 0 0 0 0;\n",
              "      width: 32px;\n",
              "    }\n",
              "\n",
              "    .colab-df-convert:hover {\n",
              "      background-color: #E2EBFA;\n",
              "      box-shadow: 0px 1px 2px rgba(60, 64, 67, 0.3), 0px 1px 3px 1px rgba(60, 64, 67, 0.15);\n",
              "      fill: #174EA6;\n",
              "    }\n",
              "\n",
              "    [theme=dark] .colab-df-convert {\n",
              "      background-color: #3B4455;\n",
              "      fill: #D2E3FC;\n",
              "    }\n",
              "\n",
              "    [theme=dark] .colab-df-convert:hover {\n",
              "      background-color: #434B5C;\n",
              "      box-shadow: 0px 1px 3px 1px rgba(0, 0, 0, 0.15);\n",
              "      filter: drop-shadow(0px 1px 2px rgba(0, 0, 0, 0.3));\n",
              "      fill: #FFFFFF;\n",
              "    }\n",
              "  </style>\n",
              "\n",
              "      <script>\n",
              "        const buttonEl =\n",
              "          document.querySelector('#df-32f45890-a39b-4d3c-a65c-562fd3b110da button.colab-df-convert');\n",
              "        buttonEl.style.display =\n",
              "          google.colab.kernel.accessAllowed ? 'block' : 'none';\n",
              "\n",
              "        async function convertToInteractive(key) {\n",
              "          const element = document.querySelector('#df-32f45890-a39b-4d3c-a65c-562fd3b110da');\n",
              "          const dataTable =\n",
              "            await google.colab.kernel.invokeFunction('convertToInteractive',\n",
              "                                                     [key], {});\n",
              "          if (!dataTable) return;\n",
              "\n",
              "          const docLinkHtml = 'Like what you see? Visit the ' +\n",
              "            '<a target=\"_blank\" href=https://colab.research.google.com/notebooks/data_table.ipynb>data table notebook</a>'\n",
              "            + ' to learn more about interactive tables.';\n",
              "          element.innerHTML = '';\n",
              "          dataTable['output_type'] = 'display_data';\n",
              "          await google.colab.output.renderOutput(dataTable, element);\n",
              "          const docLink = document.createElement('div');\n",
              "          docLink.innerHTML = docLinkHtml;\n",
              "          element.appendChild(docLink);\n",
              "        }\n",
              "      </script>\n",
              "    </div>\n",
              "  </div>\n",
              "  "
            ]
          },
          "metadata": {},
          "execution_count": 232
        }
      ]
    },
    {
      "cell_type": "code",
      "source": [
        "pd.crosstab(df['max_glu_serum'],df['num_procedures'])"
      ],
      "metadata": {
        "colab": {
          "base_uri": "https://localhost:8080/",
          "height": 206
        },
        "id": "KzOPsTqwZVtX",
        "outputId": "0fc9095e-1ab0-4a85-eed6-90801a21d166"
      },
      "execution_count": 233,
      "outputs": [
        {
          "output_type": "execute_result",
          "data": {
            "text/plain": [
              "num_procedures      0      1     2     3     4     5\n",
              "max_glu_serum                                       \n",
              ">200              529    252   107    60    14     7\n",
              ">300              451    148    73    64     8    12\n",
              "None            29488  17452  8755  6946  3007  2411\n",
              "Norm              962    406   214   113    27     9"
            ],
            "text/html": [
              "\n",
              "  <div id=\"df-beaf5094-a0c5-4162-ad70-18ecb6455f06\">\n",
              "    <div class=\"colab-df-container\">\n",
              "      <div>\n",
              "<style scoped>\n",
              "    .dataframe tbody tr th:only-of-type {\n",
              "        vertical-align: middle;\n",
              "    }\n",
              "\n",
              "    .dataframe tbody tr th {\n",
              "        vertical-align: top;\n",
              "    }\n",
              "\n",
              "    .dataframe thead th {\n",
              "        text-align: right;\n",
              "    }\n",
              "</style>\n",
              "<table border=\"1\" class=\"dataframe\">\n",
              "  <thead>\n",
              "    <tr style=\"text-align: right;\">\n",
              "      <th>num_procedures</th>\n",
              "      <th>0</th>\n",
              "      <th>1</th>\n",
              "      <th>2</th>\n",
              "      <th>3</th>\n",
              "      <th>4</th>\n",
              "      <th>5</th>\n",
              "    </tr>\n",
              "    <tr>\n",
              "      <th>max_glu_serum</th>\n",
              "      <th></th>\n",
              "      <th></th>\n",
              "      <th></th>\n",
              "      <th></th>\n",
              "      <th></th>\n",
              "      <th></th>\n",
              "    </tr>\n",
              "  </thead>\n",
              "  <tbody>\n",
              "    <tr>\n",
              "      <th>&gt;200</th>\n",
              "      <td>529</td>\n",
              "      <td>252</td>\n",
              "      <td>107</td>\n",
              "      <td>60</td>\n",
              "      <td>14</td>\n",
              "      <td>7</td>\n",
              "    </tr>\n",
              "    <tr>\n",
              "      <th>&gt;300</th>\n",
              "      <td>451</td>\n",
              "      <td>148</td>\n",
              "      <td>73</td>\n",
              "      <td>64</td>\n",
              "      <td>8</td>\n",
              "      <td>12</td>\n",
              "    </tr>\n",
              "    <tr>\n",
              "      <th>None</th>\n",
              "      <td>29488</td>\n",
              "      <td>17452</td>\n",
              "      <td>8755</td>\n",
              "      <td>6946</td>\n",
              "      <td>3007</td>\n",
              "      <td>2411</td>\n",
              "    </tr>\n",
              "    <tr>\n",
              "      <th>Norm</th>\n",
              "      <td>962</td>\n",
              "      <td>406</td>\n",
              "      <td>214</td>\n",
              "      <td>113</td>\n",
              "      <td>27</td>\n",
              "      <td>9</td>\n",
              "    </tr>\n",
              "  </tbody>\n",
              "</table>\n",
              "</div>\n",
              "      <button class=\"colab-df-convert\" onclick=\"convertToInteractive('df-beaf5094-a0c5-4162-ad70-18ecb6455f06')\"\n",
              "              title=\"Convert this dataframe to an interactive table.\"\n",
              "              style=\"display:none;\">\n",
              "        \n",
              "  <svg xmlns=\"http://www.w3.org/2000/svg\" height=\"24px\"viewBox=\"0 0 24 24\"\n",
              "       width=\"24px\">\n",
              "    <path d=\"M0 0h24v24H0V0z\" fill=\"none\"/>\n",
              "    <path d=\"M18.56 5.44l.94 2.06.94-2.06 2.06-.94-2.06-.94-.94-2.06-.94 2.06-2.06.94zm-11 1L8.5 8.5l.94-2.06 2.06-.94-2.06-.94L8.5 2.5l-.94 2.06-2.06.94zm10 10l.94 2.06.94-2.06 2.06-.94-2.06-.94-.94-2.06-.94 2.06-2.06.94z\"/><path d=\"M17.41 7.96l-1.37-1.37c-.4-.4-.92-.59-1.43-.59-.52 0-1.04.2-1.43.59L10.3 9.45l-7.72 7.72c-.78.78-.78 2.05 0 2.83L4 21.41c.39.39.9.59 1.41.59.51 0 1.02-.2 1.41-.59l7.78-7.78 2.81-2.81c.8-.78.8-2.07 0-2.86zM5.41 20L4 18.59l7.72-7.72 1.47 1.35L5.41 20z\"/>\n",
              "  </svg>\n",
              "      </button>\n",
              "      \n",
              "  <style>\n",
              "    .colab-df-container {\n",
              "      display:flex;\n",
              "      flex-wrap:wrap;\n",
              "      gap: 12px;\n",
              "    }\n",
              "\n",
              "    .colab-df-convert {\n",
              "      background-color: #E8F0FE;\n",
              "      border: none;\n",
              "      border-radius: 50%;\n",
              "      cursor: pointer;\n",
              "      display: none;\n",
              "      fill: #1967D2;\n",
              "      height: 32px;\n",
              "      padding: 0 0 0 0;\n",
              "      width: 32px;\n",
              "    }\n",
              "\n",
              "    .colab-df-convert:hover {\n",
              "      background-color: #E2EBFA;\n",
              "      box-shadow: 0px 1px 2px rgba(60, 64, 67, 0.3), 0px 1px 3px 1px rgba(60, 64, 67, 0.15);\n",
              "      fill: #174EA6;\n",
              "    }\n",
              "\n",
              "    [theme=dark] .colab-df-convert {\n",
              "      background-color: #3B4455;\n",
              "      fill: #D2E3FC;\n",
              "    }\n",
              "\n",
              "    [theme=dark] .colab-df-convert:hover {\n",
              "      background-color: #434B5C;\n",
              "      box-shadow: 0px 1px 3px 1px rgba(0, 0, 0, 0.15);\n",
              "      filter: drop-shadow(0px 1px 2px rgba(0, 0, 0, 0.3));\n",
              "      fill: #FFFFFF;\n",
              "    }\n",
              "  </style>\n",
              "\n",
              "      <script>\n",
              "        const buttonEl =\n",
              "          document.querySelector('#df-beaf5094-a0c5-4162-ad70-18ecb6455f06 button.colab-df-convert');\n",
              "        buttonEl.style.display =\n",
              "          google.colab.kernel.accessAllowed ? 'block' : 'none';\n",
              "\n",
              "        async function convertToInteractive(key) {\n",
              "          const element = document.querySelector('#df-beaf5094-a0c5-4162-ad70-18ecb6455f06');\n",
              "          const dataTable =\n",
              "            await google.colab.kernel.invokeFunction('convertToInteractive',\n",
              "                                                     [key], {});\n",
              "          if (!dataTable) return;\n",
              "\n",
              "          const docLinkHtml = 'Like what you see? Visit the ' +\n",
              "            '<a target=\"_blank\" href=https://colab.research.google.com/notebooks/data_table.ipynb>data table notebook</a>'\n",
              "            + ' to learn more about interactive tables.';\n",
              "          element.innerHTML = '';\n",
              "          dataTable['output_type'] = 'display_data';\n",
              "          await google.colab.output.renderOutput(dataTable, element);\n",
              "          const docLink = document.createElement('div');\n",
              "          docLink.innerHTML = docLinkHtml;\n",
              "          element.appendChild(docLink);\n",
              "        }\n",
              "      </script>\n",
              "    </div>\n",
              "  </div>\n",
              "  "
            ]
          },
          "metadata": {},
          "execution_count": 233
        }
      ]
    },
    {
      "cell_type": "code",
      "source": [],
      "metadata": {
        "id": "4z9MGoqVZVp_"
      },
      "execution_count": 233,
      "outputs": []
    },
    {
      "cell_type": "code",
      "source": [
        "sns.boxplot(df['readmitted'],df['num_lab_procedures'])"
      ],
      "metadata": {
        "colab": {
          "base_uri": "https://localhost:8080/",
          "height": 357
        },
        "id": "ZOGWv2TGZVme",
        "outputId": "2e1f7627-997c-4028-dc06-1b0b7cdde11a"
      },
      "execution_count": 234,
      "outputs": [
        {
          "output_type": "stream",
          "name": "stderr",
          "text": [
            "/usr/local/lib/python3.9/dist-packages/seaborn/_decorators.py:36: FutureWarning: Pass the following variables as keyword args: x, y. From version 0.12, the only valid positional argument will be `data`, and passing other arguments without an explicit keyword will result in an error or misinterpretation.\n",
            "  warnings.warn(\n"
          ]
        },
        {
          "output_type": "execute_result",
          "data": {
            "text/plain": [
              "<AxesSubplot:xlabel='readmitted', ylabel='num_lab_procedures'>"
            ]
          },
          "metadata": {},
          "execution_count": 234
        },
        {
          "output_type": "display_data",
          "data": {
            "text/plain": [
              "<Figure size 432x288 with 1 Axes>"
            ],
            "image/png": "[encoded data removed]"
          },
          "metadata": {
            "needs_background": "light"
          }
        }
      ]
    },
    {
      "cell_type": "code",
      "source": [
        "plt.figure(figsize=(5,8))\n",
        "sns.countplot(df['change'],hue =df['readmitted'])"
      ],
      "metadata": {
        "colab": {
          "base_uri": "https://localhost:8080/",
          "height": 572
        },
        "id": "l8r38rKNc2qw",
        "outputId": "488e960d-1419-43b0-e4f0-bfd9a4fbd719"
      },
      "execution_count": 235,
      "outputs": [
        {
          "output_type": "stream",
          "name": "stderr",
          "text": [
            "/usr/local/lib/python3.9/dist-packages/seaborn/_decorators.py:36: FutureWarning: Pass the following variable as a keyword arg: x. From version 0.12, the only valid positional argument will be `data`, and passing other arguments without an explicit keyword will result in an error or misinterpretation.\n",
            "  warnings.warn(\n"
          ]
        },
        {
          "output_type": "execute_result",
          "data": {
            "text/plain": [
              "<AxesSubplot:xlabel='change', ylabel='count'>"
            ]
          },
          "metadata": {},
          "execution_count": 235
        },
        {
          "output_type": "display_data",
          "data": {
            "text/plain": [
              "<Figure size 360x576 with 1 Axes>"
            ],
            "image/png": "[encoded data removed]"
          },
          "metadata": {
            "needs_background": "light"
          }
        }
      ]
    },
    {
      "cell_type": "code",
      "source": [
        "plt.figure(figsize=(5,8))\n",
        "sns.countplot(df['diabetesMed'],hue =df['readmitted'])"
      ],
      "metadata": {
        "colab": {
          "base_uri": "https://localhost:8080/",
          "height": 572
        },
        "id": "wQVnR3lqc9ac",
        "outputId": "d131fd7d-b823-46ed-f860-b9076466b471"
      },
      "execution_count": 236,
      "outputs": [
        {
          "output_type": "stream",
          "name": "stderr",
          "text": [
            "/usr/local/lib/python3.9/dist-packages/seaborn/_decorators.py:36: FutureWarning: Pass the following variable as a keyword arg: x. From version 0.12, the only valid positional argument will be `data`, and passing other arguments without an explicit keyword will result in an error or misinterpretation.\n",
            "  warnings.warn(\n"
          ]
        },
        {
          "output_type": "execute_result",
          "data": {
            "text/plain": [
              "<AxesSubplot:xlabel='diabetesMed', ylabel='count'>"
            ]
          },
          "metadata": {},
          "execution_count": 236
        },
        {
          "output_type": "display_data",
          "data": {
            "text/plain": [
              "<Figure size 360x576 with 1 Axes>"
            ],
            "image/png": "[encoded data removed]"
          },
          "metadata": {
            "needs_background": "light"
          }
        }
      ]
    },
    {
      "cell_type": "code",
      "source": [
        "plt.figure(figsize=(10,10))\n",
        "sns.countplot(df['A1Cresult'],hue =df['readmitted'])"
      ],
      "metadata": {
        "colab": {
          "base_uri": "https://localhost:8080/",
          "height": 681
        },
        "id": "gUSg1bNndgEp",
        "outputId": "4c19b139-dda1-4db5-b1ac-6c3cc5b5b951"
      },
      "execution_count": 237,
      "outputs": [
        {
          "output_type": "stream",
          "name": "stderr",
          "text": [
            "/usr/local/lib/python3.9/dist-packages/seaborn/_decorators.py:36: FutureWarning: Pass the following variable as a keyword arg: x. From version 0.12, the only valid positional argument will be `data`, and passing other arguments without an explicit keyword will result in an error or misinterpretation.\n",
            "  warnings.warn(\n"
          ]
        },
        {
          "output_type": "execute_result",
          "data": {
            "text/plain": [
              "<AxesSubplot:xlabel='A1Cresult', ylabel='count'>"
            ]
          },
          "metadata": {},
          "execution_count": 237
        },
        {
          "output_type": "display_data",
          "data": {
            "text/plain": [
              "<Figure size 720x720 with 1 Axes>"
            ],
            "image/png": "[encoded data removed]"
          },
          "metadata": {
            "needs_background": "light"
          }
        }
      ]
    },
    {
      "cell_type": "code",
      "source": [
        "plt.figure(figsize=(10,10))\n",
        "sns.countplot(df['max_glu_serum'],hue =df['readmitted'])"
      ],
      "metadata": {
        "colab": {
          "base_uri": "https://localhost:8080/",
          "height": 681
        },
        "id": "TGn6Dn-HdAgz",
        "outputId": "9d422c95-6597-4e83-b1ad-376e762d9ad3"
      },
      "execution_count": 238,
      "outputs": [
        {
          "output_type": "stream",
          "name": "stderr",
          "text": [
            "/usr/local/lib/python3.9/dist-packages/seaborn/_decorators.py:36: FutureWarning: Pass the following variable as a keyword arg: x. From version 0.12, the only valid positional argument will be `data`, and passing other arguments without an explicit keyword will result in an error or misinterpretation.\n",
            "  warnings.warn(\n"
          ]
        },
        {
          "output_type": "execute_result",
          "data": {
            "text/plain": [
              "<AxesSubplot:xlabel='max_glu_serum', ylabel='count'>"
            ]
          },
          "metadata": {},
          "execution_count": 238
        },
        {
          "output_type": "display_data",
          "data": {
            "text/plain": [
              "<Figure size 720x720 with 1 Axes>"
            ],
            "image/png": "[encoded data removed]"
          },
          "metadata": {
            "needs_background": "light"
          }
        }
      ]
    },
    {
      "cell_type": "code",
      "source": [
        "plt.figure(figsize=(10,10))\n",
        "sns.countplot(df['gender'],hue =df['readmitted'])"
      ],
      "metadata": {
        "colab": {
          "base_uri": "https://localhost:8080/",
          "height": 681
        },
        "id": "KDnwLdGfdPZd",
        "outputId": "5c1cac2d-545c-4fa8-e508-425bb64247c6"
      },
      "execution_count": 239,
      "outputs": [
        {
          "output_type": "stream",
          "name": "stderr",
          "text": [
            "/usr/local/lib/python3.9/dist-packages/seaborn/_decorators.py:36: FutureWarning: Pass the following variable as a keyword arg: x. From version 0.12, the only valid positional argument will be `data`, and passing other arguments without an explicit keyword will result in an error or misinterpretation.\n",
            "  warnings.warn(\n"
          ]
        },
        {
          "output_type": "execute_result",
          "data": {
            "text/plain": [
              "<AxesSubplot:xlabel='gender', ylabel='count'>"
            ]
          },
          "metadata": {},
          "execution_count": 239
        },
        {
          "output_type": "display_data",
          "data": {
            "text/plain": [
              "<Figure size 720x720 with 1 Axes>"
            ],
            "image/png": "[encoded data removed]"
          },
          "metadata": {
            "needs_background": "light"
          }
        }
      ]
    },
    {
      "cell_type": "code",
      "source": [
        "plt.figure(figsize=(10,10))\n",
        "sns.countplot(df['age'],hue =df['readmitted'])"
      ],
      "metadata": {
        "colab": {
          "base_uri": "https://localhost:8080/",
          "height": 681
        },
        "id": "TKROTIirdTLi",
        "outputId": "2c04a7d8-15a5-41bc-93b5-d8f2c9f9105d"
      },
      "execution_count": 240,
      "outputs": [
        {
          "output_type": "stream",
          "name": "stderr",
          "text": [
            "/usr/local/lib/python3.9/dist-packages/seaborn/_decorators.py:36: FutureWarning: Pass the following variable as a keyword arg: x. From version 0.12, the only valid positional argument will be `data`, and passing other arguments without an explicit keyword will result in an error or misinterpretation.\n",
            "  warnings.warn(\n"
          ]
        },
        {
          "output_type": "execute_result",
          "data": {
            "text/plain": [
              "<AxesSubplot:xlabel='age', ylabel='count'>"
            ]
          },
          "metadata": {},
          "execution_count": 240
        },
        {
          "output_type": "display_data",
          "data": {
            "text/plain": [
              "<Figure size 720x720 with 1 Axes>"
            ],
            "image/png": "[encoded data removed]"
          },
          "metadata": {
            "needs_background": "light"
          }
        }
      ]
    },
    {
      "cell_type": "code",
      "source": [
        "plt.figure(figsize=(20,15))\n",
        "sns.countplot(df['num_medications'],hue =df['readmitted'])"
      ],
      "metadata": {
        "colab": {
          "base_uri": "https://localhost:8080/",
          "height": 953
        },
        "id": "_uLBp4cGecHt",
        "outputId": "e5218ccc-f1e4-4eca-9827-048c444eb5a0"
      },
      "execution_count": 241,
      "outputs": [
        {
          "output_type": "stream",
          "name": "stderr",
          "text": [
            "/usr/local/lib/python3.9/dist-packages/seaborn/_decorators.py:36: FutureWarning: Pass the following variable as a keyword arg: x. From version 0.12, the only valid positional argument will be `data`, and passing other arguments without an explicit keyword will result in an error or misinterpretation.\n",
            "  warnings.warn(\n"
          ]
        },
        {
          "output_type": "execute_result",
          "data": {
            "text/plain": [
              "<AxesSubplot:xlabel='num_medications', ylabel='count'>"
            ]
          },
          "metadata": {},
          "execution_count": 241
        },
        {
          "output_type": "display_data",
          "data": {
            "text/plain": [
              "<Figure size 1440x1080 with 1 Axes>"
            ],
            "image/png": "[encoded data removed]"
          },
          "metadata": {
            "needs_background": "light"
          }
        }
      ]
    },
    {
      "cell_type": "code",
      "source": [
        "plt.figure(figsize=(20,15))\n",
        "sns.countplot(df['num_lab_procedures'],hue =df['readmitted'])"
      ],
      "metadata": {
        "colab": {
          "base_uri": "https://localhost:8080/",
          "height": 953
        },
        "id": "GOdiq6LUem4D",
        "outputId": "5d37cc25-d083-4a6c-a30e-598e8982128a"
      },
      "execution_count": 242,
      "outputs": [
        {
          "output_type": "stream",
          "name": "stderr",
          "text": [
            "/usr/local/lib/python3.9/dist-packages/seaborn/_decorators.py:36: FutureWarning: Pass the following variable as a keyword arg: x. From version 0.12, the only valid positional argument will be `data`, and passing other arguments without an explicit keyword will result in an error or misinterpretation.\n",
            "  warnings.warn(\n"
          ]
        },
        {
          "output_type": "execute_result",
          "data": {
            "text/plain": [
              "<AxesSubplot:xlabel='num_lab_procedures', ylabel='count'>"
            ]
          },
          "metadata": {},
          "execution_count": 242
        },
        {
          "output_type": "display_data",
          "data": {
            "text/plain": [
              "<Figure size 1440x1080 with 1 Axes>"
            ],
            "image/png": "[encoded data removed]"
          },
          "metadata": {
            "needs_background": "light"
          }
        }
      ]
    },
    {
      "cell_type": "code",
      "source": [
        "plt.figure(figsize=(20,15))\n",
        "sns.countplot(df['num_procedures'],hue =df['readmitted'])"
      ],
      "metadata": {
        "colab": {
          "base_uri": "https://localhost:8080/",
          "height": 953
        },
        "id": "oycd4fabezoE",
        "outputId": "6269b710-3e59-4136-be1d-65729cde93f5"
      },
      "execution_count": 243,
      "outputs": [
        {
          "output_type": "stream",
          "name": "stderr",
          "text": [
            "/usr/local/lib/python3.9/dist-packages/seaborn/_decorators.py:36: FutureWarning: Pass the following variable as a keyword arg: x. From version 0.12, the only valid positional argument will be `data`, and passing other arguments without an explicit keyword will result in an error or misinterpretation.\n",
            "  warnings.warn(\n"
          ]
        },
        {
          "output_type": "execute_result",
          "data": {
            "text/plain": [
              "<AxesSubplot:xlabel='num_procedures', ylabel='count'>"
            ]
          },
          "metadata": {},
          "execution_count": 243
        },
        {
          "output_type": "display_data",
          "data": {
            "text/plain": [
              "<Figure size 1440x1080 with 1 Axes>"
            ],
            "image/png": "[encoded data removed]"
          },
          "metadata": {
            "needs_background": "light"
          }
        }
      ]
    },
    {
      "cell_type": "code",
      "source": [
        "plt.figure(figsize=(15,10))\n",
        "sns.countplot(df['race'],hue =df['readmitted'])"
      ],
      "metadata": {
        "colab": {
          "base_uri": "https://localhost:8080/",
          "height": 681
        },
        "id": "AVVRXFMve9Pc",
        "outputId": "4d3a7b19-63fe-42f4-9a8c-460456095db5"
      },
      "execution_count": 244,
      "outputs": [
        {
          "output_type": "stream",
          "name": "stderr",
          "text": [
            "/usr/local/lib/python3.9/dist-packages/seaborn/_decorators.py:36: FutureWarning: Pass the following variable as a keyword arg: x. From version 0.12, the only valid positional argument will be `data`, and passing other arguments without an explicit keyword will result in an error or misinterpretation.\n",
            "  warnings.warn(\n"
          ]
        },
        {
          "output_type": "execute_result",
          "data": {
            "text/plain": [
              "<AxesSubplot:xlabel='race', ylabel='count'>"
            ]
          },
          "metadata": {},
          "execution_count": 244
        },
        {
          "output_type": "display_data",
          "data": {
            "text/plain": [
              "<Figure size 1080x720 with 1 Axes>"
            ],
            "image/png": "[encoded data removed]"
          },
          "metadata": {
            "needs_background": "light"
          }
        }
      ]
    },
    {
      "cell_type": "code",
      "source": [
        " plt.figure(figsize=(15,10))\n",
        "sns.countplot(df['time_in_hospital'],hue =df['race'])"
      ],
      "metadata": {
        "colab": {
          "base_uri": "https://localhost:8080/",
          "height": 681
        },
        "id": "0_SKyUoIfZWM",
        "outputId": "2e998452-3ddd-4ab7-ab64-5c3bf5e1ebf7"
      },
      "execution_count": 245,
      "outputs": [
        {
          "output_type": "stream",
          "name": "stderr",
          "text": [
            "/usr/local/lib/python3.9/dist-packages/seaborn/_decorators.py:36: FutureWarning: Pass the following variable as a keyword arg: x. From version 0.12, the only valid positional argument will be `data`, and passing other arguments without an explicit keyword will result in an error or misinterpretation.\n",
            "  warnings.warn(\n"
          ]
        },
        {
          "output_type": "execute_result",
          "data": {
            "text/plain": [
              "<AxesSubplot:xlabel='time_in_hospital', ylabel='count'>"
            ]
          },
          "metadata": {},
          "execution_count": 245
        },
        {
          "output_type": "display_data",
          "data": {
            "text/plain": [
              "<Figure size 1080x720 with 1 Axes>"
            ],
            "image/png": "[encoded data removed]"
          },
          "metadata": {
            "needs_background": "light"
          }
        }
      ]
    },
    {
      "cell_type": "code",
      "source": [],
      "metadata": {
        "id": "VNOBDCJzfjNv"
      },
      "execution_count": 245,
      "outputs": []
    },
    {
      "cell_type": "markdown",
      "metadata": {
        "id": "DZGvOj3zYTxu"
      },
      "source": [
        "#### Observations\n",
        "\n",
        "* Features that might be good predictors: race, age, admission type ID, discharge disposition ID, admission source ID, time in hospital, number of lab procedures, number of procedures, number of medications, number of outpatients, number of emergencies, number of inpatients, primary diagnosis, number of diagnoses, glucose serum test results, A1C test results, Diabetes medication.\n",
        "* Features that might not be good predictors: gender, change."
      ]
    },
    {
      "cell_type": "markdown",
      "metadata": {
        "id": "sDSIe8bHYTxv"
      },
      "source": [
        "## 5. Feature Engineering\n",
        "\n",
        "* 5.1: Create Dummy Variables"
      ]
    },
    {
      "cell_type": "markdown",
      "metadata": {
        "id": "E11Moa7-YTxv"
      },
      "source": [
        "### 5.1: Create Dummy Variables\n",
        "\n",
        "* When dealing with categorical variables, we need to assign numerical values to different categories within each column. \n",
        "* Dummy variables helps us classify the data into mutually exclusive categories"
      ]
    },
    {
      "cell_type": "markdown",
      "metadata": {
        "id": "T8R8vElA8vYr"
      },
      "source": [
        "This code is using the get_dummies() function from the pandas library to create dummy variables for categorical features in the df dataframe."
      ]
    },
    {
      "cell_type": "markdown",
      "metadata": {
        "id": "xig0Ow0a7pIo"
      },
      "source": [
        "\n",
        "The categorical features that are being \n",
        "converted to dummy variables are: \n",
        "\n",
        "race,\n",
        "gender,\n",
        "admission_type_id,\n",
        "discharge_disposition_id,\n",
        "admission_source_id,\n",
        "diag_1,\n",
        "max_glu_serum,\n",
        "A1Cresult,\n",
        "change,\n",
        "diabetesMed,\n",
        "By converting categorical features into binary, variables, it allows for these variables to be used in various statistical analyses and machine learning models."
      ]
    },
    {
      "cell_type": "code",
      "execution_count": 245,
      "metadata": {
        "id": "bkg71xqd8mqC"
      },
      "outputs": [],
      "source": []
    },
    {
      "cell_type": "code",
      "execution_count": 246,
      "metadata": {
        "execution": {
          "iopub.execute_input": "2023-01-17T15:36:12.765614Z",
          "iopub.status.busy": "2023-01-17T15:36:12.765318Z",
          "iopub.status.idle": "2023-01-17T15:36:12.854964Z",
          "shell.execute_reply": "2023-01-17T15:36:12.853904Z",
          "shell.execute_reply.started": "2023-01-17T15:36:12.765587Z"
        },
        "id": "NIgoxk8AYTxv"
      },
      "outputs": [],
      "source": [
        "# Get dummy variables for categorical variables\n",
        "\n",
        "df = pd.get_dummies(df, columns=['race', 'gender', 'admission_type_id', 'discharge_disposition_id', 'admission_source_id', \\\n",
        "                                    'diag_1', 'max_glu_serum','A1Cresult','change','diabetesMed'])"
      ]
    },
    {
      "cell_type": "markdown",
      "metadata": {
        "id": "znSC1frQ9PUQ"
      },
      "source": [
        "This code will return a list of column names in the df dataframe. "
      ]
    },
    {
      "cell_type": "code",
      "execution_count": 247,
      "metadata": {
        "colab": {
          "base_uri": "https://localhost:8080/"
        },
        "execution": {
          "iopub.execute_input": "2023-01-17T15:36:12.856555Z",
          "iopub.status.busy": "2023-01-17T15:36:12.856182Z",
          "iopub.status.idle": "2023-01-17T15:36:12.864524Z",
          "shell.execute_reply": "2023-01-17T15:36:12.863357Z",
          "shell.execute_reply.started": "2023-01-17T15:36:12.856523Z"
        },
        "id": "roR7wTf2YTxv",
        "outputId": "bbca1923-fe5a-445c-d0bf-346a8689b2f1"
      },
      "outputs": [
        {
          "output_type": "execute_result",
          "data": {
            "text/plain": [
              "Index(['age', 'time_in_hospital', 'num_lab_procedures', 'num_procedures',\n",
              "       'num_medications', 'number_outpatient', 'number_emergency',\n",
              "       'number_inpatient', 'number_diagnoses', 'readmitted',\n",
              "       'race_AfricanAmerican', 'race_Asian', 'race_Caucasian', 'race_Hispanic',\n",
              "       'race_Other', 'gender_Female', 'gender_Male', 'admission_type_id_1',\n",
              "       'admission_type_id_2', 'admission_type_id_3',\n",
              "       'discharge_disposition_id_1', 'discharge_disposition_id_2',\n",
              "       'discharge_disposition_id_3', 'admission_source_id_1',\n",
              "       'admission_source_id_2', 'admission_source_id_3',\n",
              "       'admission_source_id_4', 'admission_source_id_5',\n",
              "       'admission_source_id_6', 'diag_1_A disease of the circulatory system',\n",
              "       'diag_1_A disease of the respiratory system', 'diag_1_Diabetes',\n",
              "       'diag_1_Diseases of the digestive system',\n",
              "       'diag_1_Diseases of the genitourinary system',\n",
              "       'diag_1_Diseases of the musculoskeletal system and connective tissue',\n",
              "       'diag_1_Injury and poisoning', 'diag_1_Neoplasms', 'diag_1_Other',\n",
              "       'max_glu_serum_>200', 'max_glu_serum_>300', 'max_glu_serum_None',\n",
              "       'max_glu_serum_Norm', 'A1Cresult_>7', 'A1Cresult_>8', 'A1Cresult_None',\n",
              "       'A1Cresult_Norm', 'change_Ch', 'change_No', 'diabetesMed_0',\n",
              "       'diabetesMed_Yes'],\n",
              "      dtype='object')"
            ]
          },
          "metadata": {},
          "execution_count": 247
        }
      ],
      "source": [
        "# Check all the columns within the dataframe\n",
        "\n",
        "df.columns"
      ]
    },
    {
      "cell_type": "markdown",
      "metadata": {
        "id": "DlhLDACl9oSC"
      },
      "source": [
        "This code defines a list of feature names called feature_set. These features are a subset of the columns in the original dataframe df,"
      ]
    },
    {
      "cell_type": "markdown",
      "metadata": {
        "id": "3nxa1J4T9f_E"
      },
      "source": [
        "The features included in this list are a mix of continuous and categorical variables. Some of the categorical variables have already been converted into dummy variables using the get_dummies() function (e.g., race, gender, admission_type_id, etc.), while others appear to still be in their original form (e.g., number_outpatient, number_inpatient, etc.)."
      ]
    },
    {
      "cell_type": "code",
      "execution_count": 248,
      "metadata": {
        "execution": {
          "iopub.execute_input": "2023-01-17T15:36:12.866653Z",
          "iopub.status.busy": "2023-01-17T15:36:12.866192Z",
          "iopub.status.idle": "2023-01-17T15:36:12.876717Z",
          "shell.execute_reply": "2023-01-17T15:36:12.875783Z",
          "shell.execute_reply.started": "2023-01-17T15:36:12.866609Z"
        },
        "id": "1OaywqobYTxv"
      },
      "outputs": [],
      "source": [
        "# Look at the feature set\n",
        "\n",
        "feature_set = ['age', 'time_in_hospital', 'num_lab_procedures', 'num_procedures', 'num_medications', 'number_outpatient', \\\n",
        "                'number_emergency', 'number_inpatient', 'number_diagnoses', 'race_AfricanAmerican', \\\n",
        "                'race_Asian', 'race_Caucasian', 'race_Hispanic', 'race_Other', 'gender_Female', 'gender_Male', \\\n",
        "                'admission_type_id_1', \n",
        "                'discharge_disposition_id_1', 'admission_source_id_1', 'admission_source_id_2', \\\n",
        "                'admission_source_id_3', 'admission_source_id_4', 'admission_source_id_5', 'admission_source_id_6', \\\n",
        "                'diag_1_A disease of the circulatory system', 'diag_1_A disease of the respiratory system', 'diag_1_Diabetes', \\\n",
        "                'diag_1_Diseases of the digestive system', 'diag_1_Diseases of the genitourinary system', \\\n",
        "                'diag_1_Diseases of the musculoskeletal system and connective tissue', 'diag_1_Injury and poisoning', \\\n",
        "                'diag_1_Neoplasms', 'diag_1_Other', 'max_glu_serum_>200', 'max_glu_serum_>300', 'max_glu_serum_None', \\\n",
        "                'max_glu_serum_Norm', 'A1Cresult_>7', 'A1Cresult_>8', 'A1Cresult_None', 'A1Cresult_Norm', 'change_Ch', \\\n",
        "                'change_No', 'diabetesMed_No', 'diabetesMed_Yes']"
      ]
    },
    {
      "cell_type": "markdown",
      "metadata": {
        "id": "ppsZQcny92xn"
      },
      "source": [
        "This code is assigning the feature_set list to a variable called x and the readmitted column of the df dataframe to a variable called y."
      ]
    },
    {
      "cell_type": "markdown",
      "metadata": {
        "id": "4z7lTsKf98Cu"
      },
      "source": [
        " here x is a dataframe that contains only the columns (features) listed in feature_set, while y is a series that contains only the readmitted column of df"
      ]
    },
    {
      "cell_type": "code",
      "execution_count": 249,
      "metadata": {
        "execution": {
          "iopub.execute_input": "2023-01-17T15:36:12.878178Z",
          "iopub.status.busy": "2023-01-17T15:36:12.877837Z",
          "iopub.status.idle": "2023-01-17T15:36:12.893536Z",
          "shell.execute_reply": "2023-01-17T15:36:12.892214Z",
          "shell.execute_reply.started": "2023-01-17T15:36:12.878122Z"
        },
        "id": "T9YpM_EDYTxv"
      },
      "outputs": [],
      "source": [
        "# Set the x and y variables\n",
        "\n",
        "X = df.drop('readmitted',axis =1)\n",
        "y = df['readmitted']"
      ]
    },
    {
      "cell_type": "markdown",
      "metadata": {
        "id": "2CEcicryFndm"
      },
      "source": [
        "This code is shuffling the X and y dataframes (which were defined earlier in the code) and splitting the data into a training set and a testing set.\n",
        "\n",
        "The code first creates a list of tuples using the zip() function, where each tuple contains the features for a single patient (from the X dataframe) and their corresponding outcome (from the y series).\n",
        "\n",
        "It then shuffles this list of tuples using np.random.shuffle().\n",
        "\n",
        "Next, it defines a variable split as 80% of the length of the shuffled list, which will be used to split the data into a training set and a testing set.\n",
        "\n",
        "Finally, it creates separate lists for the features and outcomes of the training and testing sets using list comprehension. Specifically, x_train and y_train are created using the first split tuples in data, while x_test and y_test are created using the remaining tuples in data."
      ]
    },
    {
      "cell_type": "code",
      "execution_count": 250,
      "metadata": {
        "id": "p_GSAEFJyb5s"
      },
      "outputs": [],
      "source": [
        "# shuffle and split the data\n",
        "data = list(zip(X.values, y))\n",
        "np.random.shuffle(data)\n",
        "\n",
        "split = int(0.8 * len(data))\n",
        "train_data = data[:split]\n",
        "test_data = data[split:]\n",
        "\n",
        "X_train = [d[0] for d in train_data]\n",
        "y_train = [d[1] for d in train_data]\n",
        "X_test = [d[0] for d in test_data]\n",
        "y_test = [d[1] for d in test_data]"
      ]
    },
    {
      "cell_type": "markdown",
      "metadata": {
        "id": "oF6EFSCyF2ut"
      },
      "source": [
        "This code converts x_train and y_train lists into numpy arrays, reshapes x_train into a 2D array with the second dimension being equal to the number of features in the data, and reshapes y_train into a 1D array."
      ]
    },
    {
      "cell_type": "code",
      "execution_count": 252,
      "metadata": {
        "id": "WztU8WG1JLRP"
      },
      "outputs": [],
      "source": [
        "X_train = np.array(X_train)\n",
        "y_train = np.array(y_train)\n",
        "n = X_train.shape[1]\n",
        "X_train = X_train.reshape(-1, n)\n",
        "y_train = y_train.reshape(-1,)"
      ]
    },
    {
      "cell_type": "markdown",
      "metadata": {
        "id": "Kj3jmRamFSS2"
      },
      "source": [
        "This code defines a class called MultinomialNB which implements a basic version of the Naive Bayes algorithm for text classification tasks. The fit method trains the model by calculating the prior and conditional probabilities of the classes and features, respectively. The predict method predicts the class label for a given input instance by calculating the posterior probabilities of each class and returning the class with the highest probability. The algorithm assumes that the features are independent given the class label, hence the name \"Naive\" Bayes.\n",
        "\n",
        "The algorithm uses Laplace smoothing to avoid the issue of zero probabilities. Laplace smoothing adds a small constant value (usually 1) to the numerator and denominator of the conditional probability estimate, effectively \"smoothing\" out the probability distribution and avoiding zero probabilities.\n",
        "\n",
        "This particular implementation uses the natural logarithm of probabilities to avoid underflow errors that can occur when multiplying small probabilities together."
      ]
    },
    {
      "cell_type": "code",
      "execution_count": 253,
      "metadata": {
        "id": "251e667e"
      },
      "outputs": [],
      "source": [
        "import math\n",
        "class MultinomialNB:\n",
        "    def __init__(self):\n",
        "        self.class_probs = None\n",
        "        self.feature_probs = None\n",
        "\n",
        "    def fit(self, X, y):\n",
        "        self.classes = list(set(y))\n",
        "        num_classes = len(self.classes)\n",
        "        num_features = len(X[0])\n",
        "\n",
        "        # Calculate prior probabilities for each class\n",
        "        class_counts = [0] * num_classes\n",
        "        for i in range(len(y)):\n",
        "            class_counts[y[i]] += 1\n",
        "        self.class_probs = [count / len(y) for count in class_counts]\n",
        "\n",
        "        # Calculate conditional probabilities for each feature given each class\n",
        "        self.feature_probs = []\n",
        "        for i in range(num_classes):\n",
        "            class_indices = [j for j in range(len(y)) if y[j] == i]\n",
        "            class_features = [X[j] for j in class_indices]\n",
        "            feature_counts = [sum(feature[i] for feature in class_features) for i in range(num_features)]\n",
        "            total_count = sum(feature_counts)\n",
        "            feature_probs = [math.log((count + 1) / (total_count + num_features)) for count in feature_counts]\n",
        "            self.feature_probs.append(feature_probs)\n",
        "\n",
        "    def predict(self, X):\n",
        "        y_pred = []\n",
        "        for instance in X:\n",
        "            posterior_probs = [math.log(class_prob) for class_prob in self.class_probs]\n",
        "            for i in range(len(instance)):\n",
        "                for j in range(len(self.classes)):\n",
        "                    posterior_probs[j] += self.feature_probs[j][i] * instance[i]\n",
        "            predicted_class = posterior_probs.index(max(posterior_probs))\n",
        "            y_pred.append(predicted_class)\n",
        "        return y_pred\n"
      ]
    },
    {
      "cell_type": "markdown",
      "metadata": {
        "id": "-E3u3f0oFM2p"
      },
      "source": [
        "The code above is training a Multinomial Naive Bayes model on a toy dataset with three features and two classes (0 and 1). The model is then used to predict the class of two test instances. The predicted classes are not shown in the code snippet, so it is impossible to evaluate the performance of the model.\n",
        "\n",
        "However, it is worth noting that this implementation of Multinomial Naive Bayes assumes that the input features are counts or frequencies of discrete events. In the case of the toy dataset, the features are continuous variables (2.0, 4.0, 6.0), which makes the assumptions of the model invalid. Additionally, the implementation uses Laplace smoothing to avoid zero probabilities, which is not always necessary or desirable depending on the data and problem at hand."
      ]
    },
    {
      "cell_type": "code",
      "execution_count": 254,
      "metadata": {
        "id": "8411f875"
      },
      "outputs": [],
      "source": [
        "nb = MultinomialNB()\n",
        "train_data = [[2.0, 4.0, 0], [4.0, 6.0, 0], [4.0, 2.0, 1], [6.0, 4.0, 1]]\n",
        "train_X = [row[:-1] for row in train_data]\n",
        "train_y = [row[-1] for row in train_data]\n",
        "nb.fit(train_X, train_y)\n",
        "test_data = [[6.0, 6.0], [1.0, 2.0]]\n",
        "test_X = [row for row in test_data]\n",
        "y_pred = nb.predict(test_X)\n"
      ]
    },
    {
      "cell_type": "markdown",
      "metadata": {
        "id": "mKM7S66v_d4w"
      },
      "source": [
        "# Accuracy"
      ]
    },
    {
      "cell_type": "markdown",
      "metadata": {
        "id": "JEVLTIIT_bkI"
      },
      "source": [
        "This function calculates the accuracy of the predictions by comparing the predicted values to the actual values and counting the number of correct predictions. It then returns the percentage of correct predictions."
      ]
    },
    {
      "cell_type": "code",
      "execution_count": 255,
      "metadata": {
        "id": "ec4908a7"
      },
      "outputs": [],
      "source": [
        "def accuracy(actual, predicted):\n",
        "    correct_predictions = 0\n",
        "    for i in range(len(actual)):\n",
        "        if actual[i] == predicted[i]:\n",
        "            correct_predictions += 1\n",
        "    return correct_predictions / float(len(actual)) * 100.0\n"
      ]
    },
    {
      "cell_type": "markdown",
      "metadata": {
        "id": "bmMhZ-PIETOz"
      },
      "source": [
        "This precision function calculates the precision score for a binary classification problem given the actual and predicted labels. Precision is the ratio of true positives to the total number of positive predictions.\n",
        "\n",
        "Here's an overview of the code:\n",
        "\n",
        "Initialize true positives and false positives to 0.\n",
        "\n",
        "Loop through each example in the dataset.\n",
        "\n",
        "If the predicted label is 1 and matches the actual label, increment the true positives.\n",
        "\n",
        "If the predicted label is 1 and does not match the actual label, increment the false positives.\n",
        "\n",
        "Calculate the precision as true positives divided by the sum of true positives and false positives, multiplied by 100.0 to convert to a percentage.\n",
        "\n",
        "Return the precision score.\n",
        "\n",
        "Note that if there are no positive predictions (i.e., false positives == 0), the function returns 0.0 to avoid a division by zero error."
      ]
    },
    {
      "cell_type": "code",
      "execution_count": 256,
      "metadata": {
        "id": "d06b3d26"
      },
      "outputs": [],
      "source": [
        "def precision(actual, predicted):\n",
        "    true_positives = 0\n",
        "    false_positives = 0\n",
        "    for i in range(len(actual)):\n",
        "        if predicted[i] == 1:\n",
        "            if actual[i] == predicted[i]:\n",
        "                true_positives += 1\n",
        "            else:\n",
        "                false_positives += 1\n",
        "    if true_positives + false_positives == 0:\n",
        "        return 0.0\n",
        "    else:\n",
        "        return true_positives / float(true_positives + false_positives) * 100.0"
      ]
    },
    {
      "cell_type": "markdown",
      "metadata": {
        "id": "BZR14eDoDPZ2"
      },
      "source": [
        "In the function recall(actual, predicted), actual is a list of true class labels, and predicted is a list of predicted class labels."
      ]
    },
    {
      "cell_type": "markdown",
      "metadata": {
        "id": "vtNahw3aDKrs"
      },
      "source": [
        "The function iterates over each element of actual and compares it with the corresponding element in predicted. If the actual label is 1 and the predicted label is also 1, then the count of true positives is incremented. If the actual label is 1 and the predicted label is 0, then the count of false negatives is incremented.\n",
        "\n",
        "The function then returns the recall as the ratio of true positives to the sum of true positives and false negatives, multiplied by 100 to convert the result to a percentage. If there are no true positives or false negatives, the function returns 0.0 to avoid a division by zero error.\n",
        "\n",
        "\n",
        "\n"
      ]
    },
    {
      "cell_type": "code",
      "execution_count": 257,
      "metadata": {
        "id": "bd1487cb"
      },
      "outputs": [],
      "source": [
        "def recall(actual, predicted):\n",
        "    true_positives = 0\n",
        "    false_negatives = 0\n",
        "    for i in range(len(actual)):\n",
        "        if actual[i] == 1:\n",
        "            if actual[i] == predicted[i]:\n",
        "                true_positives += 1\n",
        "            else:\n",
        "                false_negatives += 1\n",
        "    if true_positives + false_negatives == 0:\n",
        "        return 0.0\n",
        "    else:\n",
        "        return true_positives / float(true_positives + false_negatives) * 100.0"
      ]
    },
    {
      "cell_type": "markdown",
      "metadata": {
        "id": "6QfHDUAADiVS"
      },
      "source": [
        "The f1_score function is a way to evaluate the performance of a binary classification model based on both precision and recall. It combines both measures into a single metric by calculating the harmonic mean of precision and recall.\n",
        "\n",
        "The function starts by counting the number of true positives (tp), false positives (fp), and false negatives (fn) in the actual and predicted labels.\n",
        "\n",
        "Then, if there are no true positives, the function returns 0, since it is not possible to calculate the precision and recall without any true positive examples.\n",
        "\n",
        "Otherwise, the precision is calculated as the ratio of true positives to the total number of positive predictions (tp + fp). The recall is calculated as the ratio of true positives to the total number of actual positive examples (tp + fn).\n",
        "\n",
        "Finally, the f1 score is calculated as the harmonic mean of precision and recall, given by the formula:\n",
        "\n",
        "f1 = 2 * precision * recall / (precision + recall)\n",
        "\n",
        "The f1 score is a measure that combines both precision and recall, giving equal weight to both measures. This can be useful when the positive class is rare, as it can help to prevent the model from simply predicting the negative class all the time to maximize accuracy."
      ]
    },
    {
      "cell_type": "code",
      "execution_count": 258,
      "metadata": {
        "id": "056ac866"
      },
      "outputs": [],
      "source": [
        "def f1_score(actual, predicted):\n",
        "    tp = 0\n",
        "    fp = 0\n",
        "    fn = 0\n",
        "    for i in range(len(actual)):\n",
        "        if actual[i] == 1 and predicted[i] == 1:\n",
        "            tp += 1\n",
        "        elif actual[i] == 0 and predicted[i] == 1:\n",
        "            fp += 1\n",
        "        elif actual[i] == 1 and predicted[i] == 0:\n",
        "            fn += 1\n",
        "    if tp == 0:\n",
        "        return 0\n",
        "    precision = tp / (tp + fp)\n",
        "    recall = tp / (tp + fn)\n",
        "    f1 = 2 * precision * recall / (precision + recall)\n",
        "    return f1"
      ]
    },
    {
      "cell_type": "markdown",
      "metadata": {
        "id": "c2qBkYRgD1e3"
      },
      "source": [
        "assuming y_pred contains valid predictions, the output will show the following evaluation metrics for the predictions:\n",
        "\n",
        "Accuracy: the percentage of correct predictions out of all predictions made.\n",
        "Precision: the percentage of correct positive predictions out of all positive predictions made.\n",
        "Recall: the percentage of correct positive predictions out of all actual positive instances.\n",
        "F1_score: the harmonic mean of precision and recall, which takes both into account and is useful when there is an uneven class distribution."
      ]
    },
    {
      "cell_type": "code",
      "execution_count": 259,
      "metadata": {
        "colab": {
          "base_uri": "https://localhost:8080/"
        },
        "id": "4a491d79",
        "outputId": "1f88b299-5370-46c8-f527-f559a43229e1"
      },
      "outputs": [
        {
          "output_type": "stream",
          "name": "stdout",
          "text": [
            "Accuracy: 50.0%\n",
            "Precision: 0.0%\n",
            "Recall: 0.0%\n",
            "F1_Score: 0%\n"
          ]
        }
      ],
      "source": [
        "test_y = [0, 1] # true labels for the test data\n",
        "print(f'Accuracy: {accuracy(test_y, y_pred)}%') ## Accuracy\n",
        "print(f'Precision: {precision(test_y, y_pred)}%') ## Precision\n",
        "print(f'Recall: {recall(test_y, y_pred)}%') ## Recall\n",
        "print(f'F1_Score: {f1_score(test_y, y_pred)}%') ## F1_Score"
      ]
    },
    {
      "cell_type": "code",
      "execution_count": 260,
      "metadata": {
        "id": "iOdwu1WXs6KT"
      },
      "outputs": [],
      "source": [
        "# shuffle and split the data\n",
        "data = list(zip(X.values, y))\n",
        "np.random.shuffle(data)\n",
        "\n",
        "split = int(0.8 * len(data))\n",
        "train_data = data[:split]\n",
        "test_data = data[split:]\n",
        "\n",
        "X_train = [d[0] for d in train_data]\n",
        "y_train = [d[1] for d in train_data]\n",
        "X_test = [d[0] for d in test_data]\n",
        "y_test = [d[1] for d in test_data]"
      ]
    },
    {
      "cell_type": "code",
      "execution_count": 261,
      "metadata": {
        "id": "9lwFxKa0s6KT"
      },
      "outputs": [],
      "source": [
        "X_train = np.array(X_train)\n",
        "y_train = np.array(y_train)\n",
        "n = X_train.shape[1]\n",
        "X_train = X_train.reshape(-1, n)\n",
        "y_train = y_train.reshape(-1,)"
      ]
    },
    {
      "cell_type": "code",
      "execution_count": 262,
      "metadata": {
        "id": "HvUZVc2Es6KT"
      },
      "outputs": [],
      "source": [
        "nb = MultinomialNB()\n",
        "train_data = [[2.0, 4.0, 0], [4.0, 6.0, 0], [4.0, 2.0, 1], [6.0, 4.0, 1]]\n",
        "train_X = [row[:-1] for row in train_data]\n",
        "train_y = [row[-1] for row in train_data]\n",
        "nb.fit(train_X, train_y)\n",
        "test_data = [[6.0, 6.0], [1.0, 2.0]]\n",
        "test_X = [row for row in test_data]\n",
        "y_pred = nb.predict(test_X)\n"
      ]
    },
    {
      "cell_type": "code",
      "execution_count": 263,
      "metadata": {
        "id": "Xv2AOYBDs6KT"
      },
      "outputs": [],
      "source": [
        "import numpy as np\n",
        "from scipy.stats import norm\n",
        "from collections import defaultdict\n",
        "\n",
        "class GaussianNaiveBayes:\n",
        "    def __init__(self, alpha=[0.01, 0.1, 1.0, 10.0]):\n",
        "        self.alpha = alpha\n",
        "    \n",
        "    def fit(self, X, y):\n",
        "        self.classes = np.unique(y)\n",
        "        self.n_classes = len(self.classes)\n",
        "        self.n_features = X.shape[1]\n",
        "        self.mean = np.zeros((self.n_classes, self.n_features))\n",
        "        self.var = np.zeros((self.n_classes, self.n_features))\n",
        "        self.prior = np.zeros(self.n_classes)\n",
        "        for i, c in enumerate(self.classes):\n",
        "            X_c = X[y==c]\n",
        "            self.mean[i] = X_c.mean(axis=0)\n",
        "            self.var[i] = X_c.var(axis=0)\n",
        "            self.prior[i] = np.mean(y==c)\n",
        "    \n",
        "    def predict(self, X):\n",
        "        y_pred = np.zeros(X.shape[0])\n",
        "        for i, x in enumerate(X):\n",
        "            posteriors = np.zeros(self.n_classes)\n",
        "            for j, c in enumerate(self.classes):\n",
        "                prior = np.log(self.prior[j])\n",
        "                likelihood = np.sum(np.log(norm.pdf(x, self.mean[j], np.sqrt(self.var[j]) + self.alpha)))\n",
        "                posterior = prior + likelihood\n",
        "                posteriors[j] = posterior\n",
        "            y_pred[i] = self.classes[np.argmax(posteriors)]\n",
        "        return y_pred\n",
        "\n",
        "def split_data(X, y, test_size=0.2):\n",
        "    n_samples = X.shape[0]\n",
        "    n_test = int(n_samples * test_size)\n",
        "    idx = np.random.permutation(n_samples)\n",
        "    X_test, y_test = X[idx[:n_test]], y[idx[:n_test]]\n",
        "    X_train, y_train = X[idx[n_test:]], y[idx[n_test:]]\n",
        "    return X_train, y_train, X_test, y_test\n",
        "\n",
        "def cross_validate(X, y, clf, cv=5):\n",
        "    n_samples = X.shape[0]\n",
        "    n_fold = n_samples // cv\n",
        "    scores = []\n",
        "    for i in range(cv):+\n",
        "        X_val = X[i*n_fold:(i+1)*n_fold]\n",
        "        y_val = y[i*n_fold:(i+1)*n_fold]\n",
        "        X_train = np.vstack((X[:i*n_fold], X[(i+1)*n_fold:]))\n",
        "        y_train = np.hstack((y[:i*n_fold], y[(i+1)*n_fold:]))\n",
        "        clf.fit(X_train, y_train)\n",
        "        y_pred = clf.predict(X_val)\n",
        "        score = np.mean(y_pred == y_val)\n",
        "        scores.append(score)\n",
        "    return np.mean(scores)\n",
        "\n",
        "def hyperparameter_tuning(X, y, clf, alpha_range):\n",
        "    results = defaultdict(list)\n",
        "    for alpha in alpha_range:\n",
        "        clf.alpha = alpha\n",
        "        score = cross_validate(X, y, clf)\n",
        "        results['alpha'].append(alpha)\n",
        "        results['score'].append(score)\n",
        "    best_idx = np.argmax(results[\"score\"])\n",
        "    best_params = {\"alpha\": results[\"alpha\"][best_idx]}\n",
        "    best_score = results[\"score\"][best_idx]\n",
        "    return {\"best_params\": best_params, \"best_score\": best_score}\n",
        "\n",
        "\n"
      ]
    },
    {
      "cell_type": "code",
      "execution_count": 264,
      "metadata": {
        "colab": {
          "base_uri": "https://localhost:8080/"
        },
        "id": "2zQ5GEiBs6KT",
        "outputId": "71f03197-fb52-42f7-ec87-9a7a95b2da65"
      },
      "outputs": [
        {
          "output_type": "stream",
          "name": "stderr",
          "text": [
            "<ipython-input-263-323ff02b52a9>:28: RuntimeWarning: divide by zero encountered in log\n",
            "  likelihood = np.sum(np.log(norm.pdf(x, self.mean[j], np.sqrt(self.var[j]) + self.alpha)))\n"
          ]
        },
        {
          "output_type": "stream",
          "name": "stdout",
          "text": [
            "Best hyperparameters: {'alpha': 1.0}\n",
            "Accuracy: 0.9119734312183183\n"
          ]
        }
      ],
      "source": [
        "# Split the dataset into training and testing \n",
        "def split_data(X, y, test_size=0.2):\n",
        "    X_train, X_test, y_train, y_test = train_test_split(X, y, test_size=test_size, random_state=42)\n",
        "    return X_train, y_train, X_test, y_test\n",
        "    \n",
        "# Define the range of alpha values to search over\n",
        "alpha_range = [0.01, 0.1, 1.0, 10.0]\n",
        "\n",
        "# Define the Gaussian Naive Bayes model\n",
        "gnb = GaussianNaiveBayes()\n",
        "\n",
        "# Perform hyperparameter tuning to find the best alpha value\n",
        "results = hyperparameter_tuning(X_train, y_train, gnb, alpha_range)\n",
        "\n",
        "# Print the best hyperparameters and accuracy\n",
        "print(\"Best hyperparameters:\", results[\"best_params\"])\n",
        "print(\"Accuracy:\", results[\"best_score\"])"
      ]
    }
  ],
  "metadata": {
    "colab": {
      "provenance": []
    },
    "kernelspec": {
      "display_name": "Python 3 (ipykernel)",
      "language": "python",
      "name": "python3"
    },
    "language_info": {
      "codemirror_mode": {
        "name": "ipython",
        "version": 3
      },
      "file_extension": ".py",
      "mimetype": "text/x-python",
      "name": "python",
      "nbconvert_exporter": "python",
      "pygments_lexer": "ipython3",
      "version": "3.9.7"
    }
  },
  "nbformat": 4,
  "nbformat_minor": 0
}