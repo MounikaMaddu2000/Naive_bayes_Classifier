{
  "metadata": {
    "kernelspec": {
      "language": "python",
      "display_name": "Python 3",
      "name": "python3"
    },
    "language_info": {
      "pygments_lexer": "ipython3",
      "nbconvert_exporter": "python",
      "version": "3.6.4",
      "file_extension": ".py",
      "codemirror_mode": {
        "name": "ipython",
        "version": 3
      },
      "name": "python",
      "mimetype": "text/x-python"
    },
    "colab": {
      "provenance": []
    }
  },
  "nbformat_minor": 0,
  "nbformat": 4,
  "cells": [
    {
      "cell_type": "markdown",
      "source": [
        "***"
      ],
      "metadata": {
        "id": "5n4lirKvYTxj"
      }
    },
    {
      "cell_type": "markdown",
      "source": [
        "\n",
        "# **Prediction on Diabetes Patient's Hospital Readmission**"
      ],
      "metadata": {
        "id": "2rGe8SmlmWrZ"
      }
    },
    {
      "cell_type": "markdown",
      "source": [
        "# Problem Statement"
      ],
      "metadata": {
        "id": "dWh8qOYFmcyR"
      }
    },
    {
      "cell_type": "markdown",
      "source": [
        "A hospital readmission is when a patient who is discharged from the hospital, gets re-admitted again within a certain period of time. Hospital readmission rates for certain conditions are now considered an indicator of hospital quality, and also affect the cost of care adversely.\n"
      ],
      "metadata": {
        "id": "W_l7DcoEmcu7"
      }
    },
    {
      "cell_type": "markdown",
      "source": [
        "# **Data Set Description** "
      ],
      "metadata": {
        "id": "9utmHwlhHwSb"
      }
    },
    {
      "cell_type": "markdown",
      "source": [
        "** VARIABLE NAMES: DESCRIPTION**"
      ],
      "metadata": {
        "id": "P5I2XjNjbC20"
      }
    },
    {
      "cell_type": "markdown",
      "source": [
        "**Encounter ID** Unique identifier of an encounter\n",
        "\n",
        "**Patient number** Unique identifier of a patient\n",
        "\n",
        "**Race Values**: Caucasian, Asian, African American, Hispanic, and other\n",
        "\n",
        "**Gender Values**: male, female, and unknown/invalid\n",
        "\n",
        "**Age** Grouped in 10-year intervals: 0, 10), 10, 20), …, 90, 100)\n",
        "\n",
        "**Weight** Weight in pounds\n",
        "\n",
        "**Admission type** Integer identifier corresponding to 9 distinct values, for example, emergency, urgent, elective, newborn, and not available\n",
        "\n",
        "**Discharge disposition** Integer identifier corresponding to 29 distinct values, for example, discharged to home, expired, and not available\n",
        "\n",
        "**Admission source** Integer identifier corresponding to 21 distinct values, for example, physician referral, emergency room, and transfer from a hospital\n",
        "\n",
        "**Time in hospital** Integer number of days between admission and discharge\n",
        "\n",
        "**Payer code** Integer identifier corresponding to 23 distinct values, for example, Blue Cross/Blue Shield, Medicare, and self-pay Medical\n",
        "\n",
        "**Medical specialty** Integer identifier of a specialty of the admitting physician, corresponding to 84 distinct values, for example, cardiology, internal medicine, family/general practice, and surgeon\n",
        "\n",
        "**Number of lab procedures** Number of lab tests performed during the encounter\n",
        "\n",
        "**Number of procedures** Numeric Number of procedures (other than lab tests) performed during the encounter\n",
        "\n",
        "**Number of medications** Number of distinct generic names administered during the encounter\n",
        "\n",
        "**Number of outpatient** visits Number of outpatient visits of the patient in the year preceding the encounter\n",
        "\n",
        "**Number of emergency** visits Number of emergency visits of the patient in the year preceding the encounter\n",
        "\n",
        "**Number of inpatient** visits Number of inpatient visits of the patient in the year preceding the encounter\n",
        "\n",
        "**Diagnosis 1** The primary diagnosis (coded as first three digits of ICD9); 848 distinct values\n",
        "\n",
        "**Diagnosis 2** Secondary diagnosis (coded as first three digits of ICD9); 923 distinct values\n",
        "\n",
        "**Diagnosis 3** Additional secondary diagnosis (coded as first three digits of ICD9); 954 distinct values\n",
        "\n",
        "**Number of diagnoses** Number of diagnoses entered to the system 0%\n",
        "\n",
        "**Glucose serum test** result Indicates the range of the result or if the test was not taken. Values: “>200,” “>300,” “normal,” and “none” if not measured\n",
        "\n",
        "**A1c** **test** result Indicates the range of the result or if the test was not taken.\n",
        " Values: “>8” if the result was greater than 8%, “>7” if the result was greater than 7% but less than 8%, “normal” if the result was less than 7%, and “none” if not measured.\n",
        "\n",
        "**Change of medications** Indicates if there was a change in diabetic medications (either dosage or generic name). Values: “change” and “no change”\n",
        "\n",
        "**Diabetes medications** Indicates if there was any diabetic medication prescribed. Values: “yes” and “no”\n",
        "\n",
        "24 features for medications For the generic names: **metformin, repaglinide, nateglinide, chlorpropamide, glimepiride, acetohexamide, glipizide, glyburide, tolbutamide, pioglitazone, rosiglitazone, acarbose, miglitol, troglitazone, tolazamide, examide, sitagliptin, insulin, glyburide-metformin, glipizide-metformin, glimepiride- pioglitazone, metformin-rosiglitazone, and metformin- pioglitazone,** the feature indicates whether the drug was prescribed or there was a change in the dosage. Values: “up” if the dosage was increased during the encounter, “down” if the dosage was decreased, “steady” if the dosage did not change, and “no” if the drug was not prescribed\n",
        "\n",
        "**Readmitted** Days to inpatient readmission. Values: “<30” if the patient was readmitted in less than 30 days, “>30” if the patient was readmitted in more than 30 days, and “No” for no record of readmission"
      ],
      "metadata": {
        "id": "JBC7faNrOzrJ"
      }
    },
    {
      "cell_type": "markdown",
      "source": [
        "## Project Goals\n",
        "\n",
        "* Create a model to predict whether a patient will get readmitted within 30 days.\n",
        "* Compare with other classifier models and evaluate using different evaluation metrics."
      ],
      "metadata": {
        "id": "RqozgecJYTxj"
      }
    },
    {
      "cell_type": "markdown",
      "source": [
        "## Data\n",
        "\n",
        "* The data was submitted on behalf of the Center for Clinical and Translational Research, Virginia Commonwealth University\n",
        "* The dataset contains information from 130 US hospitals and integrated delivery networks across 10 years from 1999 to 2008.\n",
        "* It includes over 50 features representing patient and hospital outcomes, such as patient age, number of medication, time in hospital, etc."
      ],
      "metadata": {
        "id": "MlJe9B-FYTxj"
      }
    },
    {
      "cell_type": "markdown",
      "source": [
        "## Analysis\n",
        "* The following models were used to predict early hospital readmissions:Naive Bayes\n",
        "* The following metrics were used to evaluate each model's performance: accuracy, precision, recall and F1 scores."
      ],
      "metadata": {
        "id": "WpRtJ16UYTxk"
      }
    },
    {
      "cell_type": "markdown",
      "source": [
        "***"
      ],
      "metadata": {
        "id": "TqtX18N4YTxk"
      }
    },
    {
      "cell_type": "markdown",
      "source": [
        "## 1: Import Libraries and Files"
      ],
      "metadata": {
        "id": "sXk7Z2EtYTxk"
      }
    },
    {
      "cell_type": "markdown",
      "source": [
        "I  have imported pandas, numpy, seaborn, and matplotlib.pyplot.we can use these libraries to work with and visualize data."
      ],
      "metadata": {
        "id": "MmEk1q-Tkw_n"
      }
    },
    {
      "cell_type": "code",
      "source": [
        "# Import libraries\n",
        "\n",
        "import pandas as pd\n",
        "import numpy as np\n",
        "import seaborn as sns\n",
        "from matplotlib import pyplot as plt"
      ],
      "metadata": {
        "execution": {
          "iopub.status.busy": "2023-01-17T15:35:56.82816Z",
          "iopub.execute_input": "2023-01-17T15:35:56.829298Z",
          "iopub.status.idle": "2023-01-17T15:35:57.895598Z",
          "shell.execute_reply.started": "2023-01-17T15:35:56.829184Z",
          "shell.execute_reply": "2023-01-17T15:35:57.894523Z"
        },
        "trusted": true,
        "id": "sAPIQ6JHYTxk"
      },
      "execution_count": 1,
      "outputs": []
    },
    {
      "cell_type": "markdown",
      "source": [
        "Pandas' read_csv() function is a convenient way to read in data from a CSV file and create a DataFrame object. The function provides several options to customize the import process, such as specifying the delimiter, encoding, and header row."
      ],
      "metadata": {
        "id": "9BUXcZ4OlI8f"
      }
    },
    {
      "cell_type": "code",
      "source": [
        "# Read CSV file and grab the first 10 rows\n",
        "df = pd.read_csv('/content/diabetic_data.csv')"
      ],
      "metadata": {
        "execution": {
          "iopub.status.busy": "2023-01-17T15:35:57.89724Z",
          "iopub.execute_input": "2023-01-17T15:35:57.897542Z",
          "iopub.status.idle": "2023-01-17T15:35:58.958322Z",
          "shell.execute_reply.started": "2023-01-17T15:35:57.897514Z",
          "shell.execute_reply": "2023-01-17T15:35:58.957197Z"
        },
        "trusted": true,
        "id": "HQXtye5PYTxl"
      },
      "execution_count": 2,
      "outputs": []
    },
    {
      "cell_type": "markdown",
      "source": [
        "To check that you have successfully loaded the data into df, you can print the first 10 rows using the head() method, like this:"
      ],
      "metadata": {
        "id": "jVHtzuNLlRjP"
      }
    },
    {
      "cell_type": "code",
      "source": [
        "# Take a look at the dataset\n",
        "\n",
        "pd.set_option('display.max_columns', None)\n",
        "\n",
        "df.head(10)"
      ],
      "metadata": {
        "execution": {
          "iopub.status.busy": "2023-01-17T15:35:58.960033Z",
          "iopub.execute_input": "2023-01-17T15:35:58.960589Z",
          "iopub.status.idle": "2023-01-17T15:35:59.018785Z",
          "shell.execute_reply.started": "2023-01-17T15:35:58.960542Z",
          "shell.execute_reply": "2023-01-17T15:35:59.017628Z"
        },
        "trusted": true,
        "colab": {
          "base_uri": "https://localhost:8080/",
          "height": 618
        },
        "id": "IfjdLbOFYTxl",
        "outputId": "b98ec47e-70a5-4943-b690-3e2be49cc21f"
      },
      "execution_count": 3,
      "outputs": [
        {
          "output_type": "execute_result",
          "data": {
            "text/plain": [
              "   encounter_id  patient_nbr             race  gender       age weight  \\\n",
              "0       2278392      8222157        Caucasian  Female    [0-10)      ?   \n",
              "1        149190     55629189        Caucasian  Female   [10-20)      ?   \n",
              "2         64410     86047875  AfricanAmerican  Female   [20-30)      ?   \n",
              "3        500364     82442376        Caucasian    Male   [30-40)      ?   \n",
              "4         16680     42519267        Caucasian    Male   [40-50)      ?   \n",
              "5         35754     82637451        Caucasian    Male   [50-60)      ?   \n",
              "6         55842     84259809        Caucasian    Male   [60-70)      ?   \n",
              "7         63768    114882984        Caucasian    Male   [70-80)      ?   \n",
              "8         12522     48330783        Caucasian  Female   [80-90)      ?   \n",
              "9         15738     63555939        Caucasian  Female  [90-100)      ?   \n",
              "\n",
              "   admission_type_id  discharge_disposition_id  admission_source_id  \\\n",
              "0                  6                        25                    1   \n",
              "1                  1                         1                    7   \n",
              "2                  1                         1                    7   \n",
              "3                  1                         1                    7   \n",
              "4                  1                         1                    7   \n",
              "5                  2                         1                    2   \n",
              "6                  3                         1                    2   \n",
              "7                  1                         1                    7   \n",
              "8                  2                         1                    4   \n",
              "9                  3                         3                    4   \n",
              "\n",
              "   time_in_hospital payer_code         medical_specialty  num_lab_procedures  \\\n",
              "0                 1          ?  Pediatrics-Endocrinology                  41   \n",
              "1                 3          ?                         ?                  59   \n",
              "2                 2          ?                         ?                  11   \n",
              "3                 2          ?                         ?                  44   \n",
              "4                 1          ?                         ?                  51   \n",
              "5                 3          ?                         ?                  31   \n",
              "6                 4          ?                         ?                  70   \n",
              "7                 5          ?                         ?                  73   \n",
              "8                13          ?                         ?                  68   \n",
              "9                12          ?          InternalMedicine                  33   \n",
              "\n",
              "   num_procedures  num_medications  number_outpatient  number_emergency  \\\n",
              "0               0                1                  0                 0   \n",
              "1               0               18                  0                 0   \n",
              "2               5               13                  2                 0   \n",
              "3               1               16                  0                 0   \n",
              "4               0                8                  0                 0   \n",
              "5               6               16                  0                 0   \n",
              "6               1               21                  0                 0   \n",
              "7               0               12                  0                 0   \n",
              "8               2               28                  0                 0   \n",
              "9               3               18                  0                 0   \n",
              "\n",
              "   number_inpatient  diag_1  diag_2 diag_3  number_diagnoses max_glu_serum  \\\n",
              "0                 0  250.83       ?      ?                 1          None   \n",
              "1                 0     276  250.01    255                 9          None   \n",
              "2                 1     648     250    V27                 6          None   \n",
              "3                 0       8  250.43    403                 7          None   \n",
              "4                 0     197     157    250                 5          None   \n",
              "5                 0     414     411    250                 9          None   \n",
              "6                 0     414     411    V45                 7          None   \n",
              "7                 0     428     492    250                 8          None   \n",
              "8                 0     398     427     38                 8          None   \n",
              "9                 0     434     198    486                 8          None   \n",
              "\n",
              "  A1Cresult metformin repaglinide nateglinide chlorpropamide glimepiride  \\\n",
              "0      None        No          No          No             No          No   \n",
              "1      None        No          No          No             No          No   \n",
              "2      None        No          No          No             No          No   \n",
              "3      None        No          No          No             No          No   \n",
              "4      None        No          No          No             No          No   \n",
              "5      None        No          No          No             No          No   \n",
              "6      None    Steady          No          No             No      Steady   \n",
              "7      None        No          No          No             No          No   \n",
              "8      None        No          No          No             No          No   \n",
              "9      None        No          No          No             No          No   \n",
              "\n",
              "  acetohexamide glipizide glyburide tolbutamide pioglitazone rosiglitazone  \\\n",
              "0            No        No        No          No           No            No   \n",
              "1            No        No        No          No           No            No   \n",
              "2            No    Steady        No          No           No            No   \n",
              "3            No        No        No          No           No            No   \n",
              "4            No    Steady        No          No           No            No   \n",
              "5            No        No        No          No           No            No   \n",
              "6            No        No        No          No           No            No   \n",
              "7            No        No    Steady          No           No            No   \n",
              "8            No    Steady        No          No           No            No   \n",
              "9            No        No        No          No           No        Steady   \n",
              "\n",
              "  acarbose miglitol troglitazone tolazamide examide citoglipton insulin  \\\n",
              "0       No       No           No         No      No          No      No   \n",
              "1       No       No           No         No      No          No      Up   \n",
              "2       No       No           No         No      No          No      No   \n",
              "3       No       No           No         No      No          No      Up   \n",
              "4       No       No           No         No      No          No  Steady   \n",
              "5       No       No           No         No      No          No  Steady   \n",
              "6       No       No           No         No      No          No  Steady   \n",
              "7       No       No           No         No      No          No      No   \n",
              "8       No       No           No         No      No          No  Steady   \n",
              "9       No       No           No         No      No          No  Steady   \n",
              "\n",
              "  glyburide-metformin glipizide-metformin glimepiride-pioglitazone  \\\n",
              "0                  No                  No                       No   \n",
              "1                  No                  No                       No   \n",
              "2                  No                  No                       No   \n",
              "3                  No                  No                       No   \n",
              "4                  No                  No                       No   \n",
              "5                  No                  No                       No   \n",
              "6                  No                  No                       No   \n",
              "7                  No                  No                       No   \n",
              "8                  No                  No                       No   \n",
              "9                  No                  No                       No   \n",
              "\n",
              "  metformin-rosiglitazone metformin-pioglitazone change diabetesMed readmitted  \n",
              "0                      No                     No     No          No         NO  \n",
              "1                      No                     No     Ch         Yes        >30  \n",
              "2                      No                     No     No         Yes         NO  \n",
              "3                      No                     No     Ch         Yes         NO  \n",
              "4                      No                     No     Ch         Yes         NO  \n",
              "5                      No                     No     No         Yes        >30  \n",
              "6                      No                     No     Ch         Yes         NO  \n",
              "7                      No                     No     No         Yes        >30  \n",
              "8                      No                     No     Ch         Yes         NO  \n",
              "9                      No                     No     Ch         Yes         NO  "
            ],
            "text/html": [
              "\n",
              "  <div id=\"df-04744272-446f-4648-bad3-f4553da7862c\">\n",
              "    <div class=\"colab-df-container\">\n",
              "      <div>\n",
              "<style scoped>\n",
              "    .dataframe tbody tr th:only-of-type {\n",
              "        vertical-align: middle;\n",
              "    }\n",
              "\n",
              "    .dataframe tbody tr th {\n",
              "        vertical-align: top;\n",
              "    }\n",
              "\n",
              "    .dataframe thead th {\n",
              "        text-align: right;\n",
              "    }\n",
              "</style>\n",
              "<table border=\"1\" class=\"dataframe\">\n",
              "  <thead>\n",
              "    <tr style=\"text-align: right;\">\n",
              "      <th></th>\n",
              "      <th>encounter_id</th>\n",
              "      <th>patient_nbr</th>\n",
              "      <th>race</th>\n",
              "      <th>gender</th>\n",
              "      <th>age</th>\n",
              "      <th>weight</th>\n",
              "      <th>admission_type_id</th>\n",
              "      <th>discharge_disposition_id</th>\n",
              "      <th>admission_source_id</th>\n",
              "      <th>time_in_hospital</th>\n",
              "      <th>payer_code</th>\n",
              "      <th>medical_specialty</th>\n",
              "      <th>num_lab_procedures</th>\n",
              "      <th>num_procedures</th>\n",
              "      <th>num_medications</th>\n",
              "      <th>number_outpatient</th>\n",
              "      <th>number_emergency</th>\n",
              "      <th>number_inpatient</th>\n",
              "      <th>diag_1</th>\n",
              "      <th>diag_2</th>\n",
              "      <th>diag_3</th>\n",
              "      <th>number_diagnoses</th>\n",
              "      <th>max_glu_serum</th>\n",
              "      <th>A1Cresult</th>\n",
              "      <th>metformin</th>\n",
              "      <th>repaglinide</th>\n",
              "      <th>nateglinide</th>\n",
              "      <th>chlorpropamide</th>\n",
              "      <th>glimepiride</th>\n",
              "      <th>acetohexamide</th>\n",
              "      <th>glipizide</th>\n",
              "      <th>glyburide</th>\n",
              "      <th>tolbutamide</th>\n",
              "      <th>pioglitazone</th>\n",
              "      <th>rosiglitazone</th>\n",
              "      <th>acarbose</th>\n",
              "      <th>miglitol</th>\n",
              "      <th>troglitazone</th>\n",
              "      <th>tolazamide</th>\n",
              "      <th>examide</th>\n",
              "      <th>citoglipton</th>\n",
              "      <th>insulin</th>\n",
              "      <th>glyburide-metformin</th>\n",
              "      <th>glipizide-metformin</th>\n",
              "      <th>glimepiride-pioglitazone</th>\n",
              "      <th>metformin-rosiglitazone</th>\n",
              "      <th>metformin-pioglitazone</th>\n",
              "      <th>change</th>\n",
              "      <th>diabetesMed</th>\n",
              "      <th>readmitted</th>\n",
              "    </tr>\n",
              "  </thead>\n",
              "  <tbody>\n",
              "    <tr>\n",
              "      <th>0</th>\n",
              "      <td>2278392</td>\n",
              "      <td>8222157</td>\n",
              "      <td>Caucasian</td>\n",
              "      <td>Female</td>\n",
              "      <td>[0-10)</td>\n",
              "      <td>?</td>\n",
              "      <td>6</td>\n",
              "      <td>25</td>\n",
              "      <td>1</td>\n",
              "      <td>1</td>\n",
              "      <td>?</td>\n",
              "      <td>Pediatrics-Endocrinology</td>\n",
              "      <td>41</td>\n",
              "      <td>0</td>\n",
              "      <td>1</td>\n",
              "      <td>0</td>\n",
              "      <td>0</td>\n",
              "      <td>0</td>\n",
              "      <td>250.83</td>\n",
              "      <td>?</td>\n",
              "      <td>?</td>\n",
              "      <td>1</td>\n",
              "      <td>None</td>\n",
              "      <td>None</td>\n",
              "      <td>No</td>\n",
              "      <td>No</td>\n",
              "      <td>No</td>\n",
              "      <td>No</td>\n",
              "      <td>No</td>\n",
              "      <td>No</td>\n",
              "      <td>No</td>\n",
              "      <td>No</td>\n",
              "      <td>No</td>\n",
              "      <td>No</td>\n",
              "      <td>No</td>\n",
              "      <td>No</td>\n",
              "      <td>No</td>\n",
              "      <td>No</td>\n",
              "      <td>No</td>\n",
              "      <td>No</td>\n",
              "      <td>No</td>\n",
              "      <td>No</td>\n",
              "      <td>No</td>\n",
              "      <td>No</td>\n",
              "      <td>No</td>\n",
              "      <td>No</td>\n",
              "      <td>No</td>\n",
              "      <td>No</td>\n",
              "      <td>No</td>\n",
              "      <td>NO</td>\n",
              "    </tr>\n",
              "    <tr>\n",
              "      <th>1</th>\n",
              "      <td>149190</td>\n",
              "      <td>55629189</td>\n",
              "      <td>Caucasian</td>\n",
              "      <td>Female</td>\n",
              "      <td>[10-20)</td>\n",
              "      <td>?</td>\n",
              "      <td>1</td>\n",
              "      <td>1</td>\n",
              "      <td>7</td>\n",
              "      <td>3</td>\n",
              "      <td>?</td>\n",
              "      <td>?</td>\n",
              "      <td>59</td>\n",
              "      <td>0</td>\n",
              "      <td>18</td>\n",
              "      <td>0</td>\n",
              "      <td>0</td>\n",
              "      <td>0</td>\n",
              "      <td>276</td>\n",
              "      <td>250.01</td>\n",
              "      <td>255</td>\n",
              "      <td>9</td>\n",
              "      <td>None</td>\n",
              "      <td>None</td>\n",
              "      <td>No</td>\n",
              "      <td>No</td>\n",
              "      <td>No</td>\n",
              "      <td>No</td>\n",
              "      <td>No</td>\n",
              "      <td>No</td>\n",
              "      <td>No</td>\n",
              "      <td>No</td>\n",
              "      <td>No</td>\n",
              "      <td>No</td>\n",
              "      <td>No</td>\n",
              "      <td>No</td>\n",
              "      <td>No</td>\n",
              "      <td>No</td>\n",
              "      <td>No</td>\n",
              "      <td>No</td>\n",
              "      <td>No</td>\n",
              "      <td>Up</td>\n",
              "      <td>No</td>\n",
              "      <td>No</td>\n",
              "      <td>No</td>\n",
              "      <td>No</td>\n",
              "      <td>No</td>\n",
              "      <td>Ch</td>\n",
              "      <td>Yes</td>\n",
              "      <td>&gt;30</td>\n",
              "    </tr>\n",
              "    <tr>\n",
              "      <th>2</th>\n",
              "      <td>64410</td>\n",
              "      <td>86047875</td>\n",
              "      <td>AfricanAmerican</td>\n",
              "      <td>Female</td>\n",
              "      <td>[20-30)</td>\n",
              "      <td>?</td>\n",
              "      <td>1</td>\n",
              "      <td>1</td>\n",
              "      <td>7</td>\n",
              "      <td>2</td>\n",
              "      <td>?</td>\n",
              "      <td>?</td>\n",
              "      <td>11</td>\n",
              "      <td>5</td>\n",
              "      <td>13</td>\n",
              "      <td>2</td>\n",
              "      <td>0</td>\n",
              "      <td>1</td>\n",
              "      <td>648</td>\n",
              "      <td>250</td>\n",
              "      <td>V27</td>\n",
              "      <td>6</td>\n",
              "      <td>None</td>\n",
              "      <td>None</td>\n",
              "      <td>No</td>\n",
              "      <td>No</td>\n",
              "      <td>No</td>\n",
              "      <td>No</td>\n",
              "      <td>No</td>\n",
              "      <td>No</td>\n",
              "      <td>Steady</td>\n",
              "      <td>No</td>\n",
              "      <td>No</td>\n",
              "      <td>No</td>\n",
              "      <td>No</td>\n",
              "      <td>No</td>\n",
              "      <td>No</td>\n",
              "      <td>No</td>\n",
              "      <td>No</td>\n",
              "      <td>No</td>\n",
              "      <td>No</td>\n",
              "      <td>No</td>\n",
              "      <td>No</td>\n",
              "      <td>No</td>\n",
              "      <td>No</td>\n",
              "      <td>No</td>\n",
              "      <td>No</td>\n",
              "      <td>No</td>\n",
              "      <td>Yes</td>\n",
              "      <td>NO</td>\n",
              "    </tr>\n",
              "    <tr>\n",
              "      <th>3</th>\n",
              "      <td>500364</td>\n",
              "      <td>82442376</td>\n",
              "      <td>Caucasian</td>\n",
              "      <td>Male</td>\n",
              "      <td>[30-40)</td>\n",
              "      <td>?</td>\n",
              "      <td>1</td>\n",
              "      <td>1</td>\n",
              "      <td>7</td>\n",
              "      <td>2</td>\n",
              "      <td>?</td>\n",
              "      <td>?</td>\n",
              "      <td>44</td>\n",
              "      <td>1</td>\n",
              "      <td>16</td>\n",
              "      <td>0</td>\n",
              "      <td>0</td>\n",
              "      <td>0</td>\n",
              "      <td>8</td>\n",
              "      <td>250.43</td>\n",
              "      <td>403</td>\n",
              "      <td>7</td>\n",
              "      <td>None</td>\n",
              "      <td>None</td>\n",
              "      <td>No</td>\n",
              "      <td>No</td>\n",
              "      <td>No</td>\n",
              "      <td>No</td>\n",
              "      <td>No</td>\n",
              "      <td>No</td>\n",
              "      <td>No</td>\n",
              "      <td>No</td>\n",
              "      <td>No</td>\n",
              "      <td>No</td>\n",
              "      <td>No</td>\n",
              "      <td>No</td>\n",
              "      <td>No</td>\n",
              "      <td>No</td>\n",
              "      <td>No</td>\n",
              "      <td>No</td>\n",
              "      <td>No</td>\n",
              "      <td>Up</td>\n",
              "      <td>No</td>\n",
              "      <td>No</td>\n",
              "      <td>No</td>\n",
              "      <td>No</td>\n",
              "      <td>No</td>\n",
              "      <td>Ch</td>\n",
              "      <td>Yes</td>\n",
              "      <td>NO</td>\n",
              "    </tr>\n",
              "    <tr>\n",
              "      <th>4</th>\n",
              "      <td>16680</td>\n",
              "      <td>42519267</td>\n",
              "      <td>Caucasian</td>\n",
              "      <td>Male</td>\n",
              "      <td>[40-50)</td>\n",
              "      <td>?</td>\n",
              "      <td>1</td>\n",
              "      <td>1</td>\n",
              "      <td>7</td>\n",
              "      <td>1</td>\n",
              "      <td>?</td>\n",
              "      <td>?</td>\n",
              "      <td>51</td>\n",
              "      <td>0</td>\n",
              "      <td>8</td>\n",
              "      <td>0</td>\n",
              "      <td>0</td>\n",
              "      <td>0</td>\n",
              "      <td>197</td>\n",
              "      <td>157</td>\n",
              "      <td>250</td>\n",
              "      <td>5</td>\n",
              "      <td>None</td>\n",
              "      <td>None</td>\n",
              "      <td>No</td>\n",
              "      <td>No</td>\n",
              "      <td>No</td>\n",
              "      <td>No</td>\n",
              "      <td>No</td>\n",
              "      <td>No</td>\n",
              "      <td>Steady</td>\n",
              "      <td>No</td>\n",
              "      <td>No</td>\n",
              "      <td>No</td>\n",
              "      <td>No</td>\n",
              "      <td>No</td>\n",
              "      <td>No</td>\n",
              "      <td>No</td>\n",
              "      <td>No</td>\n",
              "      <td>No</td>\n",
              "      <td>No</td>\n",
              "      <td>Steady</td>\n",
              "      <td>No</td>\n",
              "      <td>No</td>\n",
              "      <td>No</td>\n",
              "      <td>No</td>\n",
              "      <td>No</td>\n",
              "      <td>Ch</td>\n",
              "      <td>Yes</td>\n",
              "      <td>NO</td>\n",
              "    </tr>\n",
              "    <tr>\n",
              "      <th>5</th>\n",
              "      <td>35754</td>\n",
              "      <td>82637451</td>\n",
              "      <td>Caucasian</td>\n",
              "      <td>Male</td>\n",
              "      <td>[50-60)</td>\n",
              "      <td>?</td>\n",
              "      <td>2</td>\n",
              "      <td>1</td>\n",
              "      <td>2</td>\n",
              "      <td>3</td>\n",
              "      <td>?</td>\n",
              "      <td>?</td>\n",
              "      <td>31</td>\n",
              "      <td>6</td>\n",
              "      <td>16</td>\n",
              "      <td>0</td>\n",
              "      <td>0</td>\n",
              "      <td>0</td>\n",
              "      <td>414</td>\n",
              "      <td>411</td>\n",
              "      <td>250</td>\n",
              "      <td>9</td>\n",
              "      <td>None</td>\n",
              "      <td>None</td>\n",
              "      <td>No</td>\n",
              "      <td>No</td>\n",
              "      <td>No</td>\n",
              "      <td>No</td>\n",
              "      <td>No</td>\n",
              "      <td>No</td>\n",
              "      <td>No</td>\n",
              "      <td>No</td>\n",
              "      <td>No</td>\n",
              "      <td>No</td>\n",
              "      <td>No</td>\n",
              "      <td>No</td>\n",
              "      <td>No</td>\n",
              "      <td>No</td>\n",
              "      <td>No</td>\n",
              "      <td>No</td>\n",
              "      <td>No</td>\n",
              "      <td>Steady</td>\n",
              "      <td>No</td>\n",
              "      <td>No</td>\n",
              "      <td>No</td>\n",
              "      <td>No</td>\n",
              "      <td>No</td>\n",
              "      <td>No</td>\n",
              "      <td>Yes</td>\n",
              "      <td>&gt;30</td>\n",
              "    </tr>\n",
              "    <tr>\n",
              "      <th>6</th>\n",
              "      <td>55842</td>\n",
              "      <td>84259809</td>\n",
              "      <td>Caucasian</td>\n",
              "      <td>Male</td>\n",
              "      <td>[60-70)</td>\n",
              "      <td>?</td>\n",
              "      <td>3</td>\n",
              "      <td>1</td>\n",
              "      <td>2</td>\n",
              "      <td>4</td>\n",
              "      <td>?</td>\n",
              "      <td>?</td>\n",
              "      <td>70</td>\n",
              "      <td>1</td>\n",
              "      <td>21</td>\n",
              "      <td>0</td>\n",
              "      <td>0</td>\n",
              "      <td>0</td>\n",
              "      <td>414</td>\n",
              "      <td>411</td>\n",
              "      <td>V45</td>\n",
              "      <td>7</td>\n",
              "      <td>None</td>\n",
              "      <td>None</td>\n",
              "      <td>Steady</td>\n",
              "      <td>No</td>\n",
              "      <td>No</td>\n",
              "      <td>No</td>\n",
              "      <td>Steady</td>\n",
              "      <td>No</td>\n",
              "      <td>No</td>\n",
              "      <td>No</td>\n",
              "      <td>No</td>\n",
              "      <td>No</td>\n",
              "      <td>No</td>\n",
              "      <td>No</td>\n",
              "      <td>No</td>\n",
              "      <td>No</td>\n",
              "      <td>No</td>\n",
              "      <td>No</td>\n",
              "      <td>No</td>\n",
              "      <td>Steady</td>\n",
              "      <td>No</td>\n",
              "      <td>No</td>\n",
              "      <td>No</td>\n",
              "      <td>No</td>\n",
              "      <td>No</td>\n",
              "      <td>Ch</td>\n",
              "      <td>Yes</td>\n",
              "      <td>NO</td>\n",
              "    </tr>\n",
              "    <tr>\n",
              "      <th>7</th>\n",
              "      <td>63768</td>\n",
              "      <td>114882984</td>\n",
              "      <td>Caucasian</td>\n",
              "      <td>Male</td>\n",
              "      <td>[70-80)</td>\n",
              "      <td>?</td>\n",
              "      <td>1</td>\n",
              "      <td>1</td>\n",
              "      <td>7</td>\n",
              "      <td>5</td>\n",
              "      <td>?</td>\n",
              "      <td>?</td>\n",
              "      <td>73</td>\n",
              "      <td>0</td>\n",
              "      <td>12</td>\n",
              "      <td>0</td>\n",
              "      <td>0</td>\n",
              "      <td>0</td>\n",
              "      <td>428</td>\n",
              "      <td>492</td>\n",
              "      <td>250</td>\n",
              "      <td>8</td>\n",
              "      <td>None</td>\n",
              "      <td>None</td>\n",
              "      <td>No</td>\n",
              "      <td>No</td>\n",
              "      <td>No</td>\n",
              "      <td>No</td>\n",
              "      <td>No</td>\n",
              "      <td>No</td>\n",
              "      <td>No</td>\n",
              "      <td>Steady</td>\n",
              "      <td>No</td>\n",
              "      <td>No</td>\n",
              "      <td>No</td>\n",
              "      <td>No</td>\n",
              "      <td>No</td>\n",
              "      <td>No</td>\n",
              "      <td>No</td>\n",
              "      <td>No</td>\n",
              "      <td>No</td>\n",
              "      <td>No</td>\n",
              "      <td>No</td>\n",
              "      <td>No</td>\n",
              "      <td>No</td>\n",
              "      <td>No</td>\n",
              "      <td>No</td>\n",
              "      <td>No</td>\n",
              "      <td>Yes</td>\n",
              "      <td>&gt;30</td>\n",
              "    </tr>\n",
              "    <tr>\n",
              "      <th>8</th>\n",
              "      <td>12522</td>\n",
              "      <td>48330783</td>\n",
              "      <td>Caucasian</td>\n",
              "      <td>Female</td>\n",
              "      <td>[80-90)</td>\n",
              "      <td>?</td>\n",
              "      <td>2</td>\n",
              "      <td>1</td>\n",
              "      <td>4</td>\n",
              "      <td>13</td>\n",
              "      <td>?</td>\n",
              "      <td>?</td>\n",
              "      <td>68</td>\n",
              "      <td>2</td>\n",
              "      <td>28</td>\n",
              "      <td>0</td>\n",
              "      <td>0</td>\n",
              "      <td>0</td>\n",
              "      <td>398</td>\n",
              "      <td>427</td>\n",
              "      <td>38</td>\n",
              "      <td>8</td>\n",
              "      <td>None</td>\n",
              "      <td>None</td>\n",
              "      <td>No</td>\n",
              "      <td>No</td>\n",
              "      <td>No</td>\n",
              "      <td>No</td>\n",
              "      <td>No</td>\n",
              "      <td>No</td>\n",
              "      <td>Steady</td>\n",
              "      <td>No</td>\n",
              "      <td>No</td>\n",
              "      <td>No</td>\n",
              "      <td>No</td>\n",
              "      <td>No</td>\n",
              "      <td>No</td>\n",
              "      <td>No</td>\n",
              "      <td>No</td>\n",
              "      <td>No</td>\n",
              "      <td>No</td>\n",
              "      <td>Steady</td>\n",
              "      <td>No</td>\n",
              "      <td>No</td>\n",
              "      <td>No</td>\n",
              "      <td>No</td>\n",
              "      <td>No</td>\n",
              "      <td>Ch</td>\n",
              "      <td>Yes</td>\n",
              "      <td>NO</td>\n",
              "    </tr>\n",
              "    <tr>\n",
              "      <th>9</th>\n",
              "      <td>15738</td>\n",
              "      <td>63555939</td>\n",
              "      <td>Caucasian</td>\n",
              "      <td>Female</td>\n",
              "      <td>[90-100)</td>\n",
              "      <td>?</td>\n",
              "      <td>3</td>\n",
              "      <td>3</td>\n",
              "      <td>4</td>\n",
              "      <td>12</td>\n",
              "      <td>?</td>\n",
              "      <td>InternalMedicine</td>\n",
              "      <td>33</td>\n",
              "      <td>3</td>\n",
              "      <td>18</td>\n",
              "      <td>0</td>\n",
              "      <td>0</td>\n",
              "      <td>0</td>\n",
              "      <td>434</td>\n",
              "      <td>198</td>\n",
              "      <td>486</td>\n",
              "      <td>8</td>\n",
              "      <td>None</td>\n",
              "      <td>None</td>\n",
              "      <td>No</td>\n",
              "      <td>No</td>\n",
              "      <td>No</td>\n",
              "      <td>No</td>\n",
              "      <td>No</td>\n",
              "      <td>No</td>\n",
              "      <td>No</td>\n",
              "      <td>No</td>\n",
              "      <td>No</td>\n",
              "      <td>No</td>\n",
              "      <td>Steady</td>\n",
              "      <td>No</td>\n",
              "      <td>No</td>\n",
              "      <td>No</td>\n",
              "      <td>No</td>\n",
              "      <td>No</td>\n",
              "      <td>No</td>\n",
              "      <td>Steady</td>\n",
              "      <td>No</td>\n",
              "      <td>No</td>\n",
              "      <td>No</td>\n",
              "      <td>No</td>\n",
              "      <td>No</td>\n",
              "      <td>Ch</td>\n",
              "      <td>Yes</td>\n",
              "      <td>NO</td>\n",
              "    </tr>\n",
              "  </tbody>\n",
              "</table>\n",
              "</div>\n",
              "      <button class=\"colab-df-convert\" onclick=\"convertToInteractive('df-04744272-446f-4648-bad3-f4553da7862c')\"\n",
              "              title=\"Convert this dataframe to an interactive table.\"\n",
              "              style=\"display:none;\">\n",
              "        \n",
              "  <svg xmlns=\"http://www.w3.org/2000/svg\" height=\"24px\"viewBox=\"0 0 24 24\"\n",
              "       width=\"24px\">\n",
              "    <path d=\"M0 0h24v24H0V0z\" fill=\"none\"/>\n",
              "    <path d=\"M18.56 5.44l.94 2.06.94-2.06 2.06-.94-2.06-.94-.94-2.06-.94 2.06-2.06.94zm-11 1L8.5 8.5l.94-2.06 2.06-.94-2.06-.94L8.5 2.5l-.94 2.06-2.06.94zm10 10l.94 2.06.94-2.06 2.06-.94-2.06-.94-.94-2.06-.94 2.06-2.06.94z\"/><path d=\"M17.41 7.96l-1.37-1.37c-.4-.4-.92-.59-1.43-.59-.52 0-1.04.2-1.43.59L10.3 9.45l-7.72 7.72c-.78.78-.78 2.05 0 2.83L4 21.41c.39.39.9.59 1.41.59.51 0 1.02-.2 1.41-.59l7.78-7.78 2.81-2.81c.8-.78.8-2.07 0-2.86zM5.41 20L4 18.59l7.72-7.72 1.47 1.35L5.41 20z\"/>\n",
              "  </svg>\n",
              "      </button>\n",
              "      \n",
              "  <style>\n",
              "    .colab-df-container {\n",
              "      display:flex;\n",
              "      flex-wrap:wrap;\n",
              "      gap: 12px;\n",
              "    }\n",
              "\n",
              "    .colab-df-convert {\n",
              "      background-color: #E8F0FE;\n",
              "      border: none;\n",
              "      border-radius: 50%;\n",
              "      cursor: pointer;\n",
              "      display: none;\n",
              "      fill: #1967D2;\n",
              "      height: 32px;\n",
              "      padding: 0 0 0 0;\n",
              "      width: 32px;\n",
              "    }\n",
              "\n",
              "    .colab-df-convert:hover {\n",
              "      background-color: #E2EBFA;\n",
              "      box-shadow: 0px 1px 2px rgba(60, 64, 67, 0.3), 0px 1px 3px 1px rgba(60, 64, 67, 0.15);\n",
              "      fill: #174EA6;\n",
              "    }\n",
              "\n",
              "    [theme=dark] .colab-df-convert {\n",
              "      background-color: #3B4455;\n",
              "      fill: #D2E3FC;\n",
              "    }\n",
              "\n",
              "    [theme=dark] .colab-df-convert:hover {\n",
              "      background-color: #434B5C;\n",
              "      box-shadow: 0px 1px 3px 1px rgba(0, 0, 0, 0.15);\n",
              "      filter: drop-shadow(0px 1px 2px rgba(0, 0, 0, 0.3));\n",
              "      fill: #FFFFFF;\n",
              "    }\n",
              "  </style>\n",
              "\n",
              "      <script>\n",
              "        const buttonEl =\n",
              "          document.querySelector('#df-04744272-446f-4648-bad3-f4553da7862c button.colab-df-convert');\n",
              "        buttonEl.style.display =\n",
              "          google.colab.kernel.accessAllowed ? 'block' : 'none';\n",
              "\n",
              "        async function convertToInteractive(key) {\n",
              "          const element = document.querySelector('#df-04744272-446f-4648-bad3-f4553da7862c');\n",
              "          const dataTable =\n",
              "            await google.colab.kernel.invokeFunction('convertToInteractive',\n",
              "                                                     [key], {});\n",
              "          if (!dataTable) return;\n",
              "\n",
              "          const docLinkHtml = 'Like what you see? Visit the ' +\n",
              "            '<a target=\"_blank\" href=https://colab.research.google.com/notebooks/data_table.ipynb>data table notebook</a>'\n",
              "            + ' to learn more about interactive tables.';\n",
              "          element.innerHTML = '';\n",
              "          dataTable['output_type'] = 'display_data';\n",
              "          await google.colab.output.renderOutput(dataTable, element);\n",
              "          const docLink = document.createElement('div');\n",
              "          docLink.innerHTML = docLinkHtml;\n",
              "          element.appendChild(docLink);\n",
              "        }\n",
              "      </script>\n",
              "    </div>\n",
              "  </div>\n",
              "  "
            ]
          },
          "metadata": {},
          "execution_count": 3
        }
      ]
    },
    {
      "cell_type": "markdown",
      "source": [
        "The shape attribute of a pandas DataFrame returns a tuple with the number of rows and columns in the DataFrame. You can use it to check the size of your DataFrame. To get the shape of df, you can use the following code:"
      ],
      "metadata": {
        "id": "A908_Uqolhy1"
      }
    },
    {
      "cell_type": "code",
      "source": [
        "# Look at the shape of dataset\n",
        "\n",
        "df.shape"
      ],
      "metadata": {
        "execution": {
          "iopub.status.busy": "2023-01-17T15:35:59.020601Z",
          "iopub.execute_input": "2023-01-17T15:35:59.021335Z",
          "iopub.status.idle": "2023-01-17T15:35:59.028066Z",
          "shell.execute_reply.started": "2023-01-17T15:35:59.02129Z",
          "shell.execute_reply": "2023-01-17T15:35:59.026998Z"
        },
        "trusted": true,
        "colab": {
          "base_uri": "https://localhost:8080/"
        },
        "id": "j258sq8SYTxm",
        "outputId": "6aec5547-ea60-4c01-a4fb-5546b8184296"
      },
      "execution_count": 4,
      "outputs": [
        {
          "output_type": "execute_result",
          "data": {
            "text/plain": [
              "(101766, 50)"
            ]
          },
          "metadata": {},
          "execution_count": 4
        }
      ]
    },
    {
      "cell_type": "markdown",
      "source": [
        "The dtypes attribute of a pandas DataFrame returns the data type of each column in the DataFrame. You can use it to check the data types of the columns in df. To get the data types of the columns in df, you can use the following code:"
      ],
      "metadata": {
        "id": "ogOR0m6bltT5"
      }
    },
    {
      "cell_type": "code",
      "source": [
        "# Look at all the data types\n",
        "\n",
        "df.dtypes"
      ],
      "metadata": {
        "execution": {
          "iopub.status.busy": "2023-01-17T15:35:59.032049Z",
          "iopub.execute_input": "2023-01-17T15:35:59.03268Z",
          "iopub.status.idle": "2023-01-17T15:35:59.042865Z",
          "shell.execute_reply.started": "2023-01-17T15:35:59.032618Z",
          "shell.execute_reply": "2023-01-17T15:35:59.041481Z"
        },
        "trusted": true,
        "colab": {
          "base_uri": "https://localhost:8080/"
        },
        "id": "MpsFJ_IPYTxm",
        "outputId": "93eeeab2-f4aa-41b4-a4bd-653098a17abf"
      },
      "execution_count": 5,
      "outputs": [
        {
          "output_type": "execute_result",
          "data": {
            "text/plain": [
              "encounter_id                 int64\n",
              "patient_nbr                  int64\n",
              "race                        object\n",
              "gender                      object\n",
              "age                         object\n",
              "weight                      object\n",
              "admission_type_id            int64\n",
              "discharge_disposition_id     int64\n",
              "admission_source_id          int64\n",
              "time_in_hospital             int64\n",
              "payer_code                  object\n",
              "medical_specialty           object\n",
              "num_lab_procedures           int64\n",
              "num_procedures               int64\n",
              "num_medications              int64\n",
              "number_outpatient            int64\n",
              "number_emergency             int64\n",
              "number_inpatient             int64\n",
              "diag_1                      object\n",
              "diag_2                      object\n",
              "diag_3                      object\n",
              "number_diagnoses             int64\n",
              "max_glu_serum               object\n",
              "A1Cresult                   object\n",
              "metformin                   object\n",
              "repaglinide                 object\n",
              "nateglinide                 object\n",
              "chlorpropamide              object\n",
              "glimepiride                 object\n",
              "acetohexamide               object\n",
              "glipizide                   object\n",
              "glyburide                   object\n",
              "tolbutamide                 object\n",
              "pioglitazone                object\n",
              "rosiglitazone               object\n",
              "acarbose                    object\n",
              "miglitol                    object\n",
              "troglitazone                object\n",
              "tolazamide                  object\n",
              "examide                     object\n",
              "citoglipton                 object\n",
              "insulin                     object\n",
              "glyburide-metformin         object\n",
              "glipizide-metformin         object\n",
              "glimepiride-pioglitazone    object\n",
              "metformin-rosiglitazone     object\n",
              "metformin-pioglitazone      object\n",
              "change                      object\n",
              "diabetesMed                 object\n",
              "readmitted                  object\n",
              "dtype: object"
            ]
          },
          "metadata": {},
          "execution_count": 5
        }
      ]
    },
    {
      "cell_type": "markdown",
      "source": [
        "## 2: Preprocess Data\n",
        "\n",
        "* 2.1: Handling missing information\n",
        "* 2.2: Handling irrelevant information\n",
        "* 2.3: Simplifying categories\n",
        "* 2.4: Reducing number of categories"
      ],
      "metadata": {
        "id": "6E79jK7TYTxm"
      }
    },
    {
      "cell_type": "markdown",
      "source": [
        "The isnull() method of a pandas DataFrame returns a DataFrame of the same shape as the original, with True values where the original DataFrame has null (missing) values and False values elsewhere. You can use the sum() method to count the number of null values in each column. To check for null values in df, you can use the following code:"
      ],
      "metadata": {
        "id": "a_e7ectNmFiB"
      }
    },
    {
      "cell_type": "code",
      "source": [
        "# Check for null values in dataframe\n",
        "\n",
        "print(df.isnull().sum())"
      ],
      "metadata": {
        "execution": {
          "iopub.status.busy": "2023-01-17T15:35:59.04622Z",
          "iopub.execute_input": "2023-01-17T15:35:59.046877Z",
          "iopub.status.idle": "2023-01-17T15:35:59.319044Z",
          "shell.execute_reply.started": "2023-01-17T15:35:59.046833Z",
          "shell.execute_reply": "2023-01-17T15:35:59.317716Z"
        },
        "trusted": true,
        "colab": {
          "base_uri": "https://localhost:8080/"
        },
        "id": "NM1gJCWWYTxm",
        "outputId": "5be0ea75-6636-427d-b0d5-41c16066c58e"
      },
      "execution_count": 6,
      "outputs": [
        {
          "output_type": "stream",
          "name": "stdout",
          "text": [
            "encounter_id                0\n",
            "patient_nbr                 0\n",
            "race                        0\n",
            "gender                      0\n",
            "age                         0\n",
            "weight                      0\n",
            "admission_type_id           0\n",
            "discharge_disposition_id    0\n",
            "admission_source_id         0\n",
            "time_in_hospital            0\n",
            "payer_code                  0\n",
            "medical_specialty           0\n",
            "num_lab_procedures          0\n",
            "num_procedures              0\n",
            "num_medications             0\n",
            "number_outpatient           0\n",
            "number_emergency            0\n",
            "number_inpatient            0\n",
            "diag_1                      0\n",
            "diag_2                      0\n",
            "diag_3                      0\n",
            "number_diagnoses            0\n",
            "max_glu_serum               0\n",
            "A1Cresult                   0\n",
            "metformin                   0\n",
            "repaglinide                 0\n",
            "nateglinide                 0\n",
            "chlorpropamide              0\n",
            "glimepiride                 0\n",
            "acetohexamide               0\n",
            "glipizide                   0\n",
            "glyburide                   0\n",
            "tolbutamide                 0\n",
            "pioglitazone                0\n",
            "rosiglitazone               0\n",
            "acarbose                    0\n",
            "miglitol                    0\n",
            "troglitazone                0\n",
            "tolazamide                  0\n",
            "examide                     0\n",
            "citoglipton                 0\n",
            "insulin                     0\n",
            "glyburide-metformin         0\n",
            "glipizide-metformin         0\n",
            "glimepiride-pioglitazone    0\n",
            "metformin-rosiglitazone     0\n",
            "metformin-pioglitazone      0\n",
            "change                      0\n",
            "diabetesMed                 0\n",
            "readmitted                  0\n",
            "dtype: int64\n"
          ]
        }
      ]
    },
    {
      "cell_type": "markdown",
      "source": [
        "Some datasets may use a question mark character ('?') to indicate missing values, so it's a good idea to check for this as well. To check for question marks in df, you can use a loop to iterate over each column in the DataFrame and count the number of question marks in each column."
      ],
      "metadata": {
        "id": "aYhU1xtmmXEN"
      }
    },
    {
      "cell_type": "markdown",
      "source": [
        "This will print the name of each column in the DataFrame followed by the number of question marks in that column. The output will look something like this:"
      ],
      "metadata": {
        "id": "HJYNa61emjOl"
      }
    },
    {
      "cell_type": "code",
      "source": [
        "# Check for question marks in dataframe\n",
        "\n",
        "for column in df.columns:\n",
        "    print(column, df[column][df[column] == '?'].count())"
      ],
      "metadata": {
        "execution": {
          "iopub.status.busy": "2023-01-17T15:35:59.320776Z",
          "iopub.execute_input": "2023-01-17T15:35:59.321096Z",
          "iopub.status.idle": "2023-01-17T15:35:59.730096Z",
          "shell.execute_reply.started": "2023-01-17T15:35:59.321067Z",
          "shell.execute_reply": "2023-01-17T15:35:59.728839Z"
        },
        "trusted": true,
        "colab": {
          "base_uri": "https://localhost:8080/"
        },
        "id": "t0Ww-iJEYTxm",
        "outputId": "422945b7-aea5-4d91-ea79-5ed303117667"
      },
      "execution_count": 7,
      "outputs": [
        {
          "output_type": "stream",
          "name": "stdout",
          "text": [
            "encounter_id 0\n",
            "patient_nbr 0\n",
            "race 2273\n",
            "gender 0\n",
            "age 0\n",
            "weight 98569\n",
            "admission_type_id 0\n",
            "discharge_disposition_id 0\n",
            "admission_source_id 0\n",
            "time_in_hospital 0\n",
            "payer_code 40256\n",
            "medical_specialty 49949\n",
            "num_lab_procedures 0\n",
            "num_procedures 0\n",
            "num_medications 0\n",
            "number_outpatient 0\n",
            "number_emergency 0\n",
            "number_inpatient 0\n",
            "diag_1 21\n",
            "diag_2 358\n",
            "diag_3 1423\n",
            "number_diagnoses 0\n",
            "max_glu_serum 0\n",
            "A1Cresult 0\n",
            "metformin 0\n",
            "repaglinide 0\n",
            "nateglinide 0\n",
            "chlorpropamide 0\n",
            "glimepiride 0\n",
            "acetohexamide 0\n",
            "glipizide 0\n",
            "glyburide 0\n",
            "tolbutamide 0\n",
            "pioglitazone 0\n",
            "rosiglitazone 0\n",
            "acarbose 0\n",
            "miglitol 0\n",
            "troglitazone 0\n",
            "tolazamide 0\n",
            "examide 0\n",
            "citoglipton 0\n",
            "insulin 0\n",
            "glyburide-metformin 0\n",
            "glipizide-metformin 0\n",
            "glimepiride-pioglitazone 0\n",
            "metformin-rosiglitazone 0\n",
            "metformin-pioglitazone 0\n",
            "change 0\n",
            "diabetesMed 0\n",
            "readmitted 0\n"
          ]
        }
      ]
    },
    {
      "cell_type": "markdown",
      "source": [
        "### 2.1: Handling Missing Information\n",
        "\n",
        "* Regarding the weight, payer_code and medical_specialty columns, we've decided to drop these columns because there is an overwhelming amount of missing information (close to 50% or more).\n",
        "* Regarding the gender column, we removed 3 rows with Unknown/Invalid data."
      ],
      "metadata": {
        "id": "khrWcNQXYTxn"
      }
    },
    {
      "cell_type": "markdown",
      "source": [
        "The drop() method is used to remove a column (or row) from a DataFrame. The first argument to the method is the name of the column to remove, and the second argument (axis=1) tells pandas to remove a column rather than a row. In this case, you are removing three columns ('weight', 'payer_code', 'medical_specialty') that have a large number of missing values."
      ],
      "metadata": {
        "id": "BxGxOxB5m6rw"
      }
    },
    {
      "cell_type": "code",
      "source": [
        "# Remove the columns with an overwhelming number of question marks\n",
        "\n",
        "df = df.drop(['weight', 'payer_code', 'medical_specialty'], axis=1)"
      ],
      "metadata": {
        "execution": {
          "iopub.status.busy": "2023-01-17T15:35:59.732577Z",
          "iopub.execute_input": "2023-01-17T15:35:59.732892Z",
          "iopub.status.idle": "2023-01-17T15:35:59.793188Z",
          "shell.execute_reply.started": "2023-01-17T15:35:59.732865Z",
          "shell.execute_reply": "2023-01-17T15:35:59.791892Z"
        },
        "trusted": true,
        "id": "a1IQ0iWyYTxn"
      },
      "execution_count": 8,
      "outputs": []
    },
    {
      "cell_type": "markdown",
      "source": [
        "The value_counts() method of a pandas Series returns a new Series containing counts of unique values in the original Series. To count the number of male and female patients in the gender column of df, you can use the following code:"
      ],
      "metadata": {
        "id": "K7V4kUf0nGgR"
      }
    },
    {
      "cell_type": "code",
      "source": [
        "# Examine several columns and see what are the unique values\n",
        "\n",
        "df['gender'].value_counts()"
      ],
      "metadata": {
        "execution": {
          "iopub.status.busy": "2023-01-17T15:35:59.794611Z",
          "iopub.execute_input": "2023-01-17T15:35:59.795096Z",
          "iopub.status.idle": "2023-01-17T15:35:59.821031Z",
          "shell.execute_reply.started": "2023-01-17T15:35:59.795049Z",
          "shell.execute_reply": "2023-01-17T15:35:59.819511Z"
        },
        "trusted": true,
        "colab": {
          "base_uri": "https://localhost:8080/"
        },
        "id": "q0Ixl_gLYTxn",
        "outputId": "6b9ea4e3-9939-457f-aeb7-448a28f1a4eb"
      },
      "execution_count": 9,
      "outputs": [
        {
          "output_type": "execute_result",
          "data": {
            "text/plain": [
              "Female             54708\n",
              "Male               47055\n",
              "Unknown/Invalid        3\n",
              "Name: gender, dtype: int64"
            ]
          },
          "metadata": {},
          "execution_count": 9
        }
      ]
    },
    {
      "cell_type": "code",
      "source": [
        "# Remove the rows with Unkown/Invalid in gender\n",
        "\n",
        "df = df[df['gender'] != 'Unknown/Invalid']\n",
        "\n",
        "df['gender'].value_counts()"
      ],
      "metadata": {
        "execution": {
          "iopub.status.busy": "2023-01-17T15:35:59.823075Z",
          "iopub.execute_input": "2023-01-17T15:35:59.823902Z",
          "iopub.status.idle": "2023-01-17T15:35:59.939228Z",
          "shell.execute_reply.started": "2023-01-17T15:35:59.823854Z",
          "shell.execute_reply": "2023-01-17T15:35:59.938289Z"
        },
        "trusted": true,
        "colab": {
          "base_uri": "https://localhost:8080/"
        },
        "id": "U1ocn3HuYTxn",
        "outputId": "28c42c68-44c8-4e4e-ef62-b4606e1a7477"
      },
      "execution_count": 10,
      "outputs": [
        {
          "output_type": "execute_result",
          "data": {
            "text/plain": [
              "Female    54708\n",
              "Male      47055\n",
              "Name: gender, dtype: int64"
            ]
          },
          "metadata": {},
          "execution_count": 10
        }
      ]
    },
    {
      "cell_type": "markdown",
      "source": [
        "### 2.2 Handling Irrelevant Variables\n",
        "\n",
        "* Diag_2 and diag_3 are dropped because we're only considering primary diagnosis.\n",
        "* There are patients that have multiple encounters. In order to reduce the bias, we kept the first patient encounter and removed all the other encounters. Encounter_id and patient_nbr columns were then dropped.\n",
        "* There are 22 columns describing the change in individual medications. We dropped all the columns since there is already one column with regards to medication change on a whole (change)."
      ],
      "metadata": {
        "id": "TKLeDtdIYTxo"
      }
    },
    {
      "cell_type": "markdown",
      "source": [
        "In medical data, it is common to have multiple diagnosis codes for a single patient. However, for many analysis or modeling purposes, it is sufficient to consider only the primary diagnosis code. In the code you provided, you are using the drop() method of the DataFrame to remove two columns ('diag_2', 'diag_3') that contain secondary or additional diagnosis codes."
      ],
      "metadata": {
        "id": "9gdU72Z4nY9L"
      }
    },
    {
      "cell_type": "code",
      "source": [
        "# Remove diag_2 and diag_3 since we only consider primary diagnosis\n",
        "\n",
        "df = df.drop(['diag_2', 'diag_3'], axis = 1)"
      ],
      "metadata": {
        "execution": {
          "iopub.status.busy": "2023-01-17T15:35:59.940785Z",
          "iopub.execute_input": "2023-01-17T15:35:59.941431Z",
          "iopub.status.idle": "2023-01-17T15:36:00.007498Z",
          "shell.execute_reply.started": "2023-01-17T15:35:59.941382Z",
          "shell.execute_reply": "2023-01-17T15:36:00.006378Z"
        },
        "trusted": true,
        "id": "1EwSC0Z8YTxo"
      },
      "execution_count": 11,
      "outputs": []
    },
    {
      "cell_type": "markdown",
      "source": [
        "In some cases, you may have duplicate records in your dataset, which can cause issues when analyzing or modeling the data. In the code you provided, you are using the drop_duplicates() method of the DataFrame to remove duplicate records based on the patient_nbr column."
      ],
      "metadata": {
        "id": "cAowLopcoM8x"
      }
    },
    {
      "cell_type": "code",
      "source": [
        "# Remove patient_nbr with multiple encounters\n",
        "\n",
        "df = df.drop_duplicates(subset= ['patient_nbr'], keep = 'first')"
      ],
      "metadata": {
        "execution": {
          "iopub.status.busy": "2023-01-17T15:36:00.009101Z",
          "iopub.execute_input": "2023-01-17T15:36:00.009586Z",
          "iopub.status.idle": "2023-01-17T15:36:00.080772Z",
          "shell.execute_reply.started": "2023-01-17T15:36:00.009544Z",
          "shell.execute_reply": "2023-01-17T15:36:00.07945Z"
        },
        "trusted": true,
        "id": "Tau34TdCYTxo"
      },
      "execution_count": 12,
      "outputs": []
    },
    {
      "cell_type": "markdown",
      "source": [
        "In the code you provided, you are using the drop() method of the DataFrame to remove two columns ('encounter_id', 'patient_nbr') that are not useful for analysis or modeling.\n",
        "\n"
      ],
      "metadata": {
        "id": "uD6fY-3HoXPf"
      }
    },
    {
      "cell_type": "code",
      "source": [
        "# Remove irrelevant variables \n",
        "\n",
        "df = df.drop(['encounter_id', 'patient_nbr'], axis = 1)"
      ],
      "metadata": {
        "execution": {
          "iopub.status.busy": "2023-01-17T15:36:00.082243Z",
          "iopub.execute_input": "2023-01-17T15:36:00.082909Z",
          "iopub.status.idle": "2023-01-17T15:36:00.115986Z",
          "shell.execute_reply.started": "2023-01-17T15:36:00.082861Z",
          "shell.execute_reply": "2023-01-17T15:36:00.115116Z"
        },
        "trusted": true,
        "id": "QhYPKid0YTxo"
      },
      "execution_count": 13,
      "outputs": []
    },
    {
      "cell_type": "markdown",
      "source": [
        "This may be appropriate if the medication information is not relevant for the analysis or modeling task at hand, or if the dataset is too large or complex to work with including these variables. However, if medication information is important for your task, or if you have reason to believe that it may be useful in a modeling context, you may want to keep these columns in the dataset."
      ],
      "metadata": {
        "id": "Lk3N9irQprLV"
      }
    },
    {
      "cell_type": "markdown",
      "source": [
        "the drop() method of the DataFrame to remove a list of medication columns that are not relevant for the analysis or modeling task at hand."
      ],
      "metadata": {
        "id": "SDrTQRZJpzDT"
      }
    },
    {
      "cell_type": "code",
      "source": [
        "# Remove irrelevant variables\n",
        "\n",
        "meds = ['metformin', 'repaglinide', 'nateglinide', 'chlorpropamide', 'glimepiride', 'glipizide', 'glyburide', \\\n",
        "        'pioglitazone', 'rosiglitazone', 'acarbose', 'miglitol', 'examide', 'citoglipton', 'insulin', 'glyburide-metformin', 'tolazamide', \\\n",
        "        'metformin-pioglitazone','metformin-rosiglitazone', 'glimepiride-pioglitazone', 'glipizide-metformin', \\\n",
        "        'troglitazone', 'tolbutamide', 'acetohexamide']\n",
        "\n",
        "df = df.drop(meds, axis = 1)"
      ],
      "metadata": {
        "execution": {
          "iopub.status.busy": "2023-01-17T15:36:00.121331Z",
          "iopub.execute_input": "2023-01-17T15:36:00.122396Z",
          "iopub.status.idle": "2023-01-17T15:36:00.148583Z",
          "shell.execute_reply.started": "2023-01-17T15:36:00.12235Z",
          "shell.execute_reply": "2023-01-17T15:36:00.147303Z"
        },
        "trusted": true,
        "id": "-0x_Z2HeYTxo"
      },
      "execution_count": 14,
      "outputs": []
    },
    {
      "cell_type": "markdown",
      "source": [
        "### 2.3: Simplifying Categories\n",
        "\n",
        "* Next, we'll encode the age column with the numbers 1 to 10 so that they can still retain their order of ranking."
      ],
      "metadata": {
        "id": "suCNdvqpYTxp"
      }
    },
    {
      "cell_type": "code",
      "source": [
        "# Encode age into 1 for 0-10, 2 for 10-20, so on and so forth\n",
        "\n",
        "age_id = {'[0-10)':1, '[10-20)':2, '[20-30)':3, '[30-40)':4, '[40-50)':5, '[50-60)':6, '[60-70)':7, '[70-80)':8, '[80-90)':9, '[90-100)':10}\n",
        "df['age'] = df['age'].map(age_id)"
      ],
      "metadata": {
        "execution": {
          "iopub.status.busy": "2023-01-17T15:36:00.149709Z",
          "iopub.execute_input": "2023-01-17T15:36:00.151466Z",
          "iopub.status.idle": "2023-01-17T15:36:00.178951Z",
          "shell.execute_reply.started": "2023-01-17T15:36:00.151418Z",
          "shell.execute_reply": "2023-01-17T15:36:00.177659Z"
        },
        "trusted": true,
        "id": "cpgvkBpQYTxp"
      },
      "execution_count": 15,
      "outputs": []
    },
    {
      "cell_type": "markdown",
      "source": [
        "### 2.4: Reducing the Number of Categories\n",
        "\n",
        "* There are 4 columns with too many categories, namely: diag_1, admission_source_id, discharge_disposition_id and admission_source_id.\n",
        "* We need to reduce the number of categories by grouping them together.\n",
        "* For diag_1, we can refer to the icd9 codes to generalize an appropriate description.\n",
        "* For race, we combined 2 categories together: ? and other."
      ],
      "metadata": {
        "id": "6ADVFRWZYTxp"
      }
    },
    {
      "cell_type": "code",
      "source": [
        "# Convert diag_1 into icd9 descriptions\n",
        "\n",
        "# Step 1: Change question mark to zero\n",
        "df['diag_1'] = df['diag_1'].replace('?', 0)\n",
        "\n",
        "# Step 2: Change strings that start with V or E and prepend 10\n",
        "df['diag_1'] = pd.to_numeric(df['diag_1'].str.replace(r'(V)|(E)', '10', regex=True))\n",
        "\n",
        "df['diag_1'].value_counts()"
      ],
      "metadata": {
        "execution": {
          "iopub.status.busy": "2023-01-17T15:36:00.180735Z",
          "iopub.execute_input": "2023-01-17T15:36:00.181461Z",
          "iopub.status.idle": "2023-01-17T15:36:00.336342Z",
          "shell.execute_reply.started": "2023-01-17T15:36:00.181416Z",
          "shell.execute_reply": "2023-01-17T15:36:00.335071Z"
        },
        "trusted": true,
        "colab": {
          "base_uri": "https://localhost:8080/"
        },
        "id": "tzaZ02C1YTxp",
        "outputId": "fd7878c0-52c4-4d90-8c02-f71478d6fd4a"
      },
      "execution_count": 16,
      "outputs": [
        {
          "output_type": "execute_result",
          "data": {
            "text/plain": [
              "414.0     5232\n",
              "428.0     3980\n",
              "786.0     3040\n",
              "410.0     2902\n",
              "486.0     2439\n",
              "          ... \n",
              "653.0        1\n",
              "61.0         1\n",
              "145.0        1\n",
              "148.0        1\n",
              "1051.0       1\n",
              "Name: diag_1, Length: 696, dtype: int64"
            ]
          },
          "metadata": {},
          "execution_count": 16
        }
      ]
    },
    {
      "cell_type": "code",
      "source": [
        "# Step 3: Create a function to convert diag_1_int codes into icd9 descriptions\n",
        "\n",
        "def diagnosis_icd9(df):\n",
        "    if ((df['diag_1'] >= 359.00) & (df['diag_1'] <= 459.00)) or df['diag_1'] == 785.00:\n",
        "        return 'A disease of the circulatory system'\n",
        "    elif (df['diag_1'] >= 250.01) & (df['diag_1'] <= 250.99):\n",
        "        return 'Diabetes'\n",
        "    elif ((df['diag_1'] >= 460.00) & (df['diag_1'] <= 519)) or df['diag_1'] == 786.00:\n",
        "        return 'A disease of the respiratory system'\n",
        "    elif ((df['diag_1'] >= 520.00) & (df['diag_1'] <= 579.00)) or df['diag_1'] == 787.00:\n",
        "        return 'Diseases of the digestive system'\n",
        "    elif (df['diag_1'] >= 800.00) & (df['diag_1'] <= 999.00):\n",
        "        return 'Injury and poisoning'\n",
        "    elif (df['diag_1'] >= 710.00) & (df['diag_1'] <= 739.00):\n",
        "        return 'Diseases of the musculoskeletal system and connective tissue'\n",
        "    elif ((df['diag_1'] >= 580.00) & (df['diag_1'] <= 629.00)) or df['diag_1'] == 788.00:\n",
        "        return 'Diseases of the genitourinary system'\n",
        "    elif (df['diag_1'] >= 140.00) & (df['diag_1'] <= 239.00):\n",
        "        return 'Neoplasms'\n",
        "    else:\n",
        "        return 'Other'\n",
        "\n",
        "df['diag_1'] = df.apply(diagnosis_icd9, axis=1)\n",
        "\n",
        "# Step 4: Convert diag_1_id from object to string\n",
        "df['diag_1'] = df['diag_1'].astype('string')"
      ],
      "metadata": {
        "execution": {
          "iopub.status.busy": "2023-01-17T15:36:00.338038Z",
          "iopub.execute_input": "2023-01-17T15:36:00.338835Z",
          "iopub.status.idle": "2023-01-17T15:36:03.87369Z",
          "shell.execute_reply.started": "2023-01-17T15:36:00.338791Z",
          "shell.execute_reply": "2023-01-17T15:36:03.872733Z"
        },
        "trusted": true,
        "id": "kX2m6P_tYTxp"
      },
      "execution_count": 17,
      "outputs": []
    },
    {
      "cell_type": "markdown",
      "source": [
        "the \"admission_type_id\" column contains a value of 1, the code will replace it with a value of 1. If it contains a value of 2, the code will replace it with a value of 1. If it contains a value of 3, the code will replace it with a value of 2, and so on.\n",
        "\n",
        "The resulting DataFrame will have the \"admission_type_id\" column with the new mapped values."
      ],
      "metadata": {
        "id": "ddisMvJWr0QQ"
      }
    },
    {
      "cell_type": "code",
      "source": [
        "# Encode admission_type_id into 1 for emergency, 2 for elective, 3 for newborn, 4 for unavailable\n",
        "\n",
        "admission_type_id = {1:1, 2:1, 3:2, 4:3, 5:4, 6:4, 7:1, 8:4}\n",
        "df['admission_type_id'] = df['admission_type_id'].map(admission_type_id)"
      ],
      "metadata": {
        "execution": {
          "iopub.status.busy": "2023-01-17T15:36:03.875045Z",
          "iopub.execute_input": "2023-01-17T15:36:03.876109Z",
          "iopub.status.idle": "2023-01-17T15:36:03.884669Z",
          "shell.execute_reply.started": "2023-01-17T15:36:03.87606Z",
          "shell.execute_reply": "2023-01-17T15:36:03.883737Z"
        },
        "trusted": true,
        "id": "3PtUS9QPYTxq"
      },
      "execution_count": 18,
      "outputs": []
    },
    {
      "cell_type": "code",
      "source": [
        "# Encode discharge_disposition_id into 1 for home, 2 for hospital, 3 for Left AMA, 4 for institution, 5 for expired, \n",
        "# 6 for unavailable, 7 for facility, 8 for psychatric \n",
        "\n",
        "discharge_disposition_id = {1:1, 2:2, 3:2, 4:2, 5:2, 6:1, 7:3, 8:1, 9:1, 10:4, 11:5, 12:4, 13:1, 14:2, 15:4, 16:4, \\\n",
        "                          17:4, 18:6, 19:5, 20:5, 22:2, 23:2, 24:2, 25:6, 27:7, 28:8}\n",
        "df['discharge_disposition_id'] = df['discharge_disposition_id'].map(discharge_disposition_id)"
      ],
      "metadata": {
        "execution": {
          "iopub.status.busy": "2023-01-17T15:36:03.886315Z",
          "iopub.execute_input": "2023-01-17T15:36:03.887191Z",
          "iopub.status.idle": "2023-01-17T15:36:03.902849Z",
          "shell.execute_reply.started": "2023-01-17T15:36:03.887148Z",
          "shell.execute_reply": "2023-01-17T15:36:03.90172Z"
        },
        "trusted": true,
        "id": "Fvv1H2zcYTxq"
      },
      "execution_count": 19,
      "outputs": []
    },
    {
      "cell_type": "code",
      "source": [
        "# Encode admission_source_id into 1 for referral, 2 for hospital, 3 for emergency, 4 for law, 5 for unavailable, \n",
        "# 6 for newborn\n",
        "\n",
        "admission_source_id = {1:1, 2:1, 3:1, 4:2, 5:2, 6:2, 7:3, 8:4, 9:5, 10:2, 11:6, 13:6, 14:6, 17:5, 20:5, 22:2, 25:2}\n",
        "df['admission_source_id'] = df['admission_source_id'].map(admission_source_id)"
      ],
      "metadata": {
        "execution": {
          "iopub.status.busy": "2023-01-17T15:36:03.904465Z",
          "iopub.execute_input": "2023-01-17T15:36:03.904908Z",
          "iopub.status.idle": "2023-01-17T15:36:03.916096Z",
          "shell.execute_reply.started": "2023-01-17T15:36:03.904869Z",
          "shell.execute_reply": "2023-01-17T15:36:03.915098Z"
        },
        "trusted": true,
        "id": "MHUTyZHpYTxq"
      },
      "execution_count": 20,
      "outputs": []
    },
    {
      "cell_type": "code",
      "source": [
        "# Encode race into 1 for Caucasian, 2 for AfricanAmerican, 3 for Hispanic, 4 for Asian, 5 for other\n",
        "\n",
        "race_id = {'Caucasian':'Caucasian', 'AfricanAmerican':'AfricanAmerican', 'Hispanic':'Hispanic', 'Asian':'Asian', \\\n",
        "           '?':'Other', 'Other':'Other'}\n",
        "df['race'] = df['race'].map(race_id)"
      ],
      "metadata": {
        "execution": {
          "iopub.status.busy": "2023-01-17T15:36:03.917925Z",
          "iopub.execute_input": "2023-01-17T15:36:03.918536Z",
          "iopub.status.idle": "2023-01-17T15:36:03.934675Z",
          "shell.execute_reply.started": "2023-01-17T15:36:03.918494Z",
          "shell.execute_reply": "2023-01-17T15:36:03.933596Z"
        },
        "trusted": true,
        "id": "2nqWbeVnYTxq"
      },
      "execution_count": 21,
      "outputs": []
    },
    {
      "cell_type": "markdown",
      "source": [
        "## 3. Data Exploration\n",
        "\n",
        "* Since we're only interested in factors leading to early readmission, we will convert readmitted into a binary variable with two classes: \n",
        "    * 1 for readmission in less than 30 days (<30)\n",
        "    * 0 for otherwise which includes no readmission (NO) and readmission in more than 30 days (>30)"
      ],
      "metadata": {
        "id": "3uze2p56YTxq"
      }
    },
    {
      "cell_type": "markdown",
      "source": [
        "This will output the count of unique values in the 'readmitted' column:"
      ],
      "metadata": {
        "id": "zakiCbrktIy2"
      }
    },
    {
      "cell_type": "code",
      "source": [
        "# Look at the target feature\n",
        "\n",
        "df['readmitted'].value_counts()"
      ],
      "metadata": {
        "execution": {
          "iopub.status.busy": "2023-01-17T15:36:03.936092Z",
          "iopub.execute_input": "2023-01-17T15:36:03.936677Z",
          "iopub.status.idle": "2023-01-17T15:36:03.94925Z",
          "shell.execute_reply.started": "2023-01-17T15:36:03.936645Z",
          "shell.execute_reply": "2023-01-17T15:36:03.948263Z"
        },
        "trusted": true,
        "colab": {
          "base_uri": "https://localhost:8080/"
        },
        "id": "Eivu8HsrYTxq",
        "outputId": "bc224b0b-b3f5-422d-8aec-a5c3feaf2e0a"
      },
      "execution_count": 22,
      "outputs": [
        {
          "output_type": "execute_result",
          "data": {
            "text/plain": [
              "NO     42982\n",
              ">30    22240\n",
              "<30     6293\n",
              "Name: readmitted, dtype: int64"
            ]
          },
          "metadata": {},
          "execution_count": 22
        }
      ]
    },
    {
      "cell_type": "markdown",
      "source": [
        "Here, we are converting the readmitted column to binary where 1 means the patient was readmitted within 30 days and 0 means the patient was not readmitted or was readmitted after 30 days. The lambda function is used to replace the values in the readmitted column.\n",
        "\n",
        "For example, if the value is 'NO' or '>30', it will be replaced with 0, and if the value is '<30', it will be replaced with 1.\n",
        "\n",
        "So, any patient who was readmitted within 30 days will have a value of 1 in the readmitted column, and any patient who was not readmitted or was readmitted after 30 days will have a value of 0."
      ],
      "metadata": {
        "id": "n7cDIKdVtU0a"
      }
    },
    {
      "cell_type": "code",
      "source": [
        "# Encode readmitted into 0 for NO and >30 and 1 for <30\n",
        "\n",
        "df['readmitted'] = df.readmitted.apply(lambda x: 0 if x == 'NO' or x == '>30' else 1)"
      ],
      "metadata": {
        "execution": {
          "iopub.status.busy": "2023-01-17T15:36:03.950846Z",
          "iopub.execute_input": "2023-01-17T15:36:03.951483Z",
          "iopub.status.idle": "2023-01-17T15:36:03.99143Z",
          "shell.execute_reply.started": "2023-01-17T15:36:03.951437Z",
          "shell.execute_reply": "2023-01-17T15:36:03.990176Z"
        },
        "trusted": true,
        "id": "i2Mq20asYTxr"
      },
      "execution_count": 23,
      "outputs": []
    },
    {
      "cell_type": "markdown",
      "source": [
        "This code generates a bar chart showing the distribution of readmissions in the dataset"
      ],
      "metadata": {
        "id": "q-WwSZygtlUL"
      }
    },
    {
      "cell_type": "code",
      "source": [
        "# Plot the distribution of readmissions\n",
        "\n",
        "df.groupby('readmitted').age.count().plot(kind='bar', title='Distribution of Readmissions', ylabel='Frequency')"
      ],
      "metadata": {
        "execution": {
          "iopub.status.busy": "2023-01-17T15:36:03.992802Z",
          "iopub.execute_input": "2023-01-17T15:36:03.993258Z",
          "iopub.status.idle": "2023-01-17T15:36:04.189393Z",
          "shell.execute_reply.started": "2023-01-17T15:36:03.993225Z",
          "shell.execute_reply": "2023-01-17T15:36:04.188208Z"
        },
        "trusted": true,
        "colab": {
          "base_uri": "https://localhost:8080/",
          "height": 310
        },
        "id": "P30XYe4YYTxr",
        "outputId": "b8bccb64-1688-4a7d-e772-4732d417ed46"
      },
      "execution_count": 24,
      "outputs": [
        {
          "output_type": "execute_result",
          "data": {
            "text/plain": [
              "<AxesSubplot:title={'center':'Distribution of Readmissions'}, xlabel='readmitted', ylabel='Frequency'>"
            ]
          },
          "metadata": {},
          "execution_count": 24
        },
        {
          "output_type": "display_data",
          "data": {
            "text/plain": [
              "<Figure size 432x288 with 1 Axes>"
            ],
            "image/png": "[encoded data removed]"
          },
          "metadata": {
            "needs_background": "light"
          }
        }
      ]
    },
    {
      "cell_type": "markdown",
      "source": [
        "This code will output descriptive statistics for all numerical columns in the dataset df. The statistics include count, mean, standard deviation, minimum, and maximum values, as well as the quartiles (25%, 50%, and 75%)."
      ],
      "metadata": {
        "id": "QdMhGx4ztsvb"
      }
    },
    {
      "cell_type": "code",
      "source": [
        "# Look at the statistical data\n",
        "\n",
        "df.describe()"
      ],
      "metadata": {
        "execution": {
          "iopub.status.busy": "2023-01-17T15:36:04.191231Z",
          "iopub.execute_input": "2023-01-17T15:36:04.191948Z",
          "iopub.status.idle": "2023-01-17T15:36:04.272304Z",
          "shell.execute_reply.started": "2023-01-17T15:36:04.191902Z",
          "shell.execute_reply": "2023-01-17T15:36:04.270944Z"
        },
        "trusted": true,
        "colab": {
          "base_uri": "https://localhost:8080/",
          "height": 364
        },
        "id": "Rmt_9HnKYTxr",
        "outputId": "391cce71-5a93-4bab-8fae-fc65cf1e932e"
      },
      "execution_count": 25,
      "outputs": [
        {
          "output_type": "execute_result",
          "data": {
            "text/plain": [
              "                age  admission_type_id  discharge_disposition_id  \\\n",
              "count  71515.000000       71515.000000              71515.000000   \n",
              "mean       7.065161           1.532657                  1.502384   \n",
              "std        1.597833           0.961682                  1.188221   \n",
              "min        1.000000           1.000000                  1.000000   \n",
              "25%        6.000000           1.000000                  1.000000   \n",
              "50%        7.000000           1.000000                  1.000000   \n",
              "75%        8.000000           2.000000                  2.000000   \n",
              "max       10.000000           4.000000                  8.000000   \n",
              "\n",
              "       admission_source_id  time_in_hospital  num_lab_procedures  \\\n",
              "count         71515.000000      71515.000000        71515.000000   \n",
              "mean              2.431448          4.289170           43.075858   \n",
              "std               1.152256          2.949188           19.952151   \n",
              "min               1.000000          1.000000            1.000000   \n",
              "25%               1.000000          2.000000           31.000000   \n",
              "50%               3.000000          3.000000           44.000000   \n",
              "75%               3.000000          6.000000           57.000000   \n",
              "max               6.000000         14.000000          132.000000   \n",
              "\n",
              "       num_procedures  num_medications  number_outpatient  number_emergency  \\\n",
              "count    71515.000000     71515.000000       71515.000000      71515.000000   \n",
              "mean         1.430525        15.704999           0.280081          0.103545   \n",
              "std          1.759848         8.311201           1.068978          0.509197   \n",
              "min          0.000000         1.000000           0.000000          0.000000   \n",
              "25%          0.000000        10.000000           0.000000          0.000000   \n",
              "50%          1.000000        14.000000           0.000000          0.000000   \n",
              "75%          2.000000        20.000000           0.000000          0.000000   \n",
              "max          6.000000        81.000000          42.000000         42.000000   \n",
              "\n",
              "       number_inpatient  number_diagnoses    readmitted  \n",
              "count      71515.000000      71515.000000  71515.000000  \n",
              "mean           0.177837          7.245753      0.087996  \n",
              "std            0.603801          1.994651      0.283290  \n",
              "min            0.000000          1.000000      0.000000  \n",
              "25%            0.000000          6.000000      0.000000  \n",
              "50%            0.000000          8.000000      0.000000  \n",
              "75%            0.000000          9.000000      0.000000  \n",
              "max           12.000000         16.000000      1.000000  "
            ],
            "text/html": [
              "\n",
              "  <div id=\"df-b9c826f8-c7f3-447a-af24-57a36b213096\">\n",
              "    <div class=\"colab-df-container\">\n",
              "      <div>\n",
              "<style scoped>\n",
              "    .dataframe tbody tr th:only-of-type {\n",
              "        vertical-align: middle;\n",
              "    }\n",
              "\n",
              "    .dataframe tbody tr th {\n",
              "        vertical-align: top;\n",
              "    }\n",
              "\n",
              "    .dataframe thead th {\n",
              "        text-align: right;\n",
              "    }\n",
              "</style>\n",
              "<table border=\"1\" class=\"dataframe\">\n",
              "  <thead>\n",
              "    <tr style=\"text-align: right;\">\n",
              "      <th></th>\n",
              "      <th>age</th>\n",
              "      <th>admission_type_id</th>\n",
              "      <th>discharge_disposition_id</th>\n",
              "      <th>admission_source_id</th>\n",
              "      <th>time_in_hospital</th>\n",
              "      <th>num_lab_procedures</th>\n",
              "      <th>num_procedures</th>\n",
              "      <th>num_medications</th>\n",
              "      <th>number_outpatient</th>\n",
              "      <th>number_emergency</th>\n",
              "      <th>number_inpatient</th>\n",
              "      <th>number_diagnoses</th>\n",
              "      <th>readmitted</th>\n",
              "    </tr>\n",
              "  </thead>\n",
              "  <tbody>\n",
              "    <tr>\n",
              "      <th>count</th>\n",
              "      <td>71515.000000</td>\n",
              "      <td>71515.000000</td>\n",
              "      <td>71515.000000</td>\n",
              "      <td>71515.000000</td>\n",
              "      <td>71515.000000</td>\n",
              "      <td>71515.000000</td>\n",
              "      <td>71515.000000</td>\n",
              "      <td>71515.000000</td>\n",
              "      <td>71515.000000</td>\n",
              "      <td>71515.000000</td>\n",
              "      <td>71515.000000</td>\n",
              "      <td>71515.000000</td>\n",
              "      <td>71515.000000</td>\n",
              "    </tr>\n",
              "    <tr>\n",
              "      <th>mean</th>\n",
              "      <td>7.065161</td>\n",
              "      <td>1.532657</td>\n",
              "      <td>1.502384</td>\n",
              "      <td>2.431448</td>\n",
              "      <td>4.289170</td>\n",
              "      <td>43.075858</td>\n",
              "      <td>1.430525</td>\n",
              "      <td>15.704999</td>\n",
              "      <td>0.280081</td>\n",
              "      <td>0.103545</td>\n",
              "      <td>0.177837</td>\n",
              "      <td>7.245753</td>\n",
              "      <td>0.087996</td>\n",
              "    </tr>\n",
              "    <tr>\n",
              "      <th>std</th>\n",
              "      <td>1.597833</td>\n",
              "      <td>0.961682</td>\n",
              "      <td>1.188221</td>\n",
              "      <td>1.152256</td>\n",
              "      <td>2.949188</td>\n",
              "      <td>19.952151</td>\n",
              "      <td>1.759848</td>\n",
              "      <td>8.311201</td>\n",
              "      <td>1.068978</td>\n",
              "      <td>0.509197</td>\n",
              "      <td>0.603801</td>\n",
              "      <td>1.994651</td>\n",
              "      <td>0.283290</td>\n",
              "    </tr>\n",
              "    <tr>\n",
              "      <th>min</th>\n",
              "      <td>1.000000</td>\n",
              "      <td>1.000000</td>\n",
              "      <td>1.000000</td>\n",
              "      <td>1.000000</td>\n",
              "      <td>1.000000</td>\n",
              "      <td>1.000000</td>\n",
              "      <td>0.000000</td>\n",
              "      <td>1.000000</td>\n",
              "      <td>0.000000</td>\n",
              "      <td>0.000000</td>\n",
              "      <td>0.000000</td>\n",
              "      <td>1.000000</td>\n",
              "      <td>0.000000</td>\n",
              "    </tr>\n",
              "    <tr>\n",
              "      <th>25%</th>\n",
              "      <td>6.000000</td>\n",
              "      <td>1.000000</td>\n",
              "      <td>1.000000</td>\n",
              "      <td>1.000000</td>\n",
              "      <td>2.000000</td>\n",
              "      <td>31.000000</td>\n",
              "      <td>0.000000</td>\n",
              "      <td>10.000000</td>\n",
              "      <td>0.000000</td>\n",
              "      <td>0.000000</td>\n",
              "      <td>0.000000</td>\n",
              "      <td>6.000000</td>\n",
              "      <td>0.000000</td>\n",
              "    </tr>\n",
              "    <tr>\n",
              "      <th>50%</th>\n",
              "      <td>7.000000</td>\n",
              "      <td>1.000000</td>\n",
              "      <td>1.000000</td>\n",
              "      <td>3.000000</td>\n",
              "      <td>3.000000</td>\n",
              "      <td>44.000000</td>\n",
              "      <td>1.000000</td>\n",
              "      <td>14.000000</td>\n",
              "      <td>0.000000</td>\n",
              "      <td>0.000000</td>\n",
              "      <td>0.000000</td>\n",
              "      <td>8.000000</td>\n",
              "      <td>0.000000</td>\n",
              "    </tr>\n",
              "    <tr>\n",
              "      <th>75%</th>\n",
              "      <td>8.000000</td>\n",
              "      <td>2.000000</td>\n",
              "      <td>2.000000</td>\n",
              "      <td>3.000000</td>\n",
              "      <td>6.000000</td>\n",
              "      <td>57.000000</td>\n",
              "      <td>2.000000</td>\n",
              "      <td>20.000000</td>\n",
              "      <td>0.000000</td>\n",
              "      <td>0.000000</td>\n",
              "      <td>0.000000</td>\n",
              "      <td>9.000000</td>\n",
              "      <td>0.000000</td>\n",
              "    </tr>\n",
              "    <tr>\n",
              "      <th>max</th>\n",
              "      <td>10.000000</td>\n",
              "      <td>4.000000</td>\n",
              "      <td>8.000000</td>\n",
              "      <td>6.000000</td>\n",
              "      <td>14.000000</td>\n",
              "      <td>132.000000</td>\n",
              "      <td>6.000000</td>\n",
              "      <td>81.000000</td>\n",
              "      <td>42.000000</td>\n",
              "      <td>42.000000</td>\n",
              "      <td>12.000000</td>\n",
              "      <td>16.000000</td>\n",
              "      <td>1.000000</td>\n",
              "    </tr>\n",
              "  </tbody>\n",
              "</table>\n",
              "</div>\n",
              "      <button class=\"colab-df-convert\" onclick=\"convertToInteractive('df-b9c826f8-c7f3-447a-af24-57a36b213096')\"\n",
              "              title=\"Convert this dataframe to an interactive table.\"\n",
              "              style=\"display:none;\">\n",
              "        \n",
              "  <svg xmlns=\"http://www.w3.org/2000/svg\" height=\"24px\"viewBox=\"0 0 24 24\"\n",
              "       width=\"24px\">\n",
              "    <path d=\"M0 0h24v24H0V0z\" fill=\"none\"/>\n",
              "    <path d=\"M18.56 5.44l.94 2.06.94-2.06 2.06-.94-2.06-.94-.94-2.06-.94 2.06-2.06.94zm-11 1L8.5 8.5l.94-2.06 2.06-.94-2.06-.94L8.5 2.5l-.94 2.06-2.06.94zm10 10l.94 2.06.94-2.06 2.06-.94-2.06-.94-.94-2.06-.94 2.06-2.06.94z\"/><path d=\"M17.41 7.96l-1.37-1.37c-.4-.4-.92-.59-1.43-.59-.52 0-1.04.2-1.43.59L10.3 9.45l-7.72 7.72c-.78.78-.78 2.05 0 2.83L4 21.41c.39.39.9.59 1.41.59.51 0 1.02-.2 1.41-.59l7.78-7.78 2.81-2.81c.8-.78.8-2.07 0-2.86zM5.41 20L4 18.59l7.72-7.72 1.47 1.35L5.41 20z\"/>\n",
              "  </svg>\n",
              "      </button>\n",
              "      \n",
              "  <style>\n",
              "    .colab-df-container {\n",
              "      display:flex;\n",
              "      flex-wrap:wrap;\n",
              "      gap: 12px;\n",
              "    }\n",
              "\n",
              "    .colab-df-convert {\n",
              "      background-color: #E8F0FE;\n",
              "      border: none;\n",
              "      border-radius: 50%;\n",
              "      cursor: pointer;\n",
              "      display: none;\n",
              "      fill: #1967D2;\n",
              "      height: 32px;\n",
              "      padding: 0 0 0 0;\n",
              "      width: 32px;\n",
              "    }\n",
              "\n",
              "    .colab-df-convert:hover {\n",
              "      background-color: #E2EBFA;\n",
              "      box-shadow: 0px 1px 2px rgba(60, 64, 67, 0.3), 0px 1px 3px 1px rgba(60, 64, 67, 0.15);\n",
              "      fill: #174EA6;\n",
              "    }\n",
              "\n",
              "    [theme=dark] .colab-df-convert {\n",
              "      background-color: #3B4455;\n",
              "      fill: #D2E3FC;\n",
              "    }\n",
              "\n",
              "    [theme=dark] .colab-df-convert:hover {\n",
              "      background-color: #434B5C;\n",
              "      box-shadow: 0px 1px 3px 1px rgba(0, 0, 0, 0.15);\n",
              "      filter: drop-shadow(0px 1px 2px rgba(0, 0, 0, 0.3));\n",
              "      fill: #FFFFFF;\n",
              "    }\n",
              "  </style>\n",
              "\n",
              "      <script>\n",
              "        const buttonEl =\n",
              "          document.querySelector('#df-b9c826f8-c7f3-447a-af24-57a36b213096 button.colab-df-convert');\n",
              "        buttonEl.style.display =\n",
              "          google.colab.kernel.accessAllowed ? 'block' : 'none';\n",
              "\n",
              "        async function convertToInteractive(key) {\n",
              "          const element = document.querySelector('#df-b9c826f8-c7f3-447a-af24-57a36b213096');\n",
              "          const dataTable =\n",
              "            await google.colab.kernel.invokeFunction('convertToInteractive',\n",
              "                                                     [key], {});\n",
              "          if (!dataTable) return;\n",
              "\n",
              "          const docLinkHtml = 'Like what you see? Visit the ' +\n",
              "            '<a target=\"_blank\" href=https://colab.research.google.com/notebooks/data_table.ipynb>data table notebook</a>'\n",
              "            + ' to learn more about interactive tables.';\n",
              "          element.innerHTML = '';\n",
              "          dataTable['output_type'] = 'display_data';\n",
              "          await google.colab.output.renderOutput(dataTable, element);\n",
              "          const docLink = document.createElement('div');\n",
              "          docLink.innerHTML = docLinkHtml;\n",
              "          element.appendChild(docLink);\n",
              "        }\n",
              "      </script>\n",
              "    </div>\n",
              "  </div>\n",
              "  "
            ]
          },
          "metadata": {},
          "execution_count": 25
        }
      ]
    },
    {
      "cell_type": "markdown",
      "source": [
        "## 4. Data Visualization\n",
        "\n",
        "* Next, we will plot the distribution of each feature/column in relation with the frequency of early admissions.\n",
        "* We can identify features that are good predictors of early readmissions if the data is sufficiently varied."
      ],
      "metadata": {
        "id": "p3tmKWI5YTxr"
      }
    },
    {
      "cell_type": "markdown",
      "source": [
        "This code generates a heatmap of the correlation matrix of the dataframe df. The heatmap is visualized using the seaborn library. The size of the figure is set to be 15 by 9 inches. The values of the correlation coefficients are displayed in each cell of the heatmap by setting the annot parameter to True. The color map used for the heatmap is 'coolwarm'."
      ],
      "metadata": {
        "id": "DKVFlZcwt-iC"
      }
    },
    {
      "cell_type": "code",
      "source": [
        "corr = df.corr()\n",
        "plt.figure(figsize=(15, 9))\n",
        "sns.heatmap(corr, annot=True, cmap='coolwarm')"
      ],
      "metadata": {
        "colab": {
          "base_uri": "https://localhost:8080/",
          "height": 671
        },
        "id": "_I3hHdzjiyQh",
        "outputId": "e5b04b46-e232-4e78-99d4-3899708f704a"
      },
      "execution_count": 26,
      "outputs": [
        {
          "output_type": "execute_result",
          "data": {
            "text/plain": [
              "<AxesSubplot:>"
            ]
          },
          "metadata": {},
          "execution_count": 26
        },
        {
          "output_type": "display_data",
          "data": {
            "text/plain": [
              "<Figure size 1080x648 with 2 Axes>"
            ],
            "image/png": "[encoded data removed]"
          },
          "metadata": {
            "needs_background": "light"
          }
        }
      ]
    },
    {
      "cell_type": "markdown",
      "source": [
        "This plot shows the frequency of readmissions for different races in the dataset"
      ],
      "metadata": {
        "id": "Js0wH7ZJuLjQ"
      }
    },
    {
      "cell_type": "code",
      "source": [
        "# Plot the distribution of race along with the frequency of early readmissions\n",
        "\n",
        "pd.crosstab(df.race, df.readmitted).plot(kind='bar')\n",
        "plt.title('Readmission Frequency for Race')"
      ],
      "metadata": {
        "execution": {
          "iopub.status.busy": "2023-01-17T15:36:04.273441Z",
          "iopub.execute_input": "2023-01-17T15:36:04.273753Z",
          "iopub.status.idle": "2023-01-17T15:36:04.547747Z",
          "shell.execute_reply.started": "2023-01-17T15:36:04.273726Z",
          "shell.execute_reply": "2023-01-17T15:36:04.546565Z"
        },
        "trusted": true,
        "colab": {
          "base_uri": "https://localhost:8080/",
          "height": 386
        },
        "id": "zSXmjDJAYTxr",
        "outputId": "ff866042-a636-42cb-81fa-f5f3b027b571"
      },
      "execution_count": 27,
      "outputs": [
        {
          "output_type": "execute_result",
          "data": {
            "text/plain": [
              "Text(0.5, 1.0, 'Readmission Frequency for Race')"
            ]
          },
          "metadata": {},
          "execution_count": 27
        },
        {
          "output_type": "display_data",
          "data": {
            "text/plain": [
              "<Figure size 432x288 with 1 Axes>"
            ],
            "image/png": "[encoded data removed]"
          },
          "metadata": {
            "needs_background": "light"
          }
        }
      ]
    },
    {
      "cell_type": "markdown",
      "source": [
        "This code will create a bar chart that shows the frequency of readmissions for each gender in a given dataset. The pd.crosstab() function is used to create a contingency table that shows the count of occurrences for each combination of the two variables (gender and readmitted). The plot() function is then used to create a bar chart from the contingency table.\n",
        "\n",
        "The kind parameter is set to 'bar' to indicate that a bar chart should be created. The title() function is used to add a title to the chart. The title in this case is \"Readmission Frequency for Gender\"."
      ],
      "metadata": {
        "id": "xtMFfBBf6xXz"
      }
    },
    {
      "cell_type": "code",
      "source": [
        "# Plot the distribution of gender along with the frequency of early readmissions\n",
        "\n",
        "pd.crosstab(df.gender, df.readmitted).plot(kind='bar')\n",
        "plt.title('Readmission Frequency for Gender')"
      ],
      "metadata": {
        "execution": {
          "iopub.status.busy": "2023-01-17T15:36:04.549527Z",
          "iopub.execute_input": "2023-01-17T15:36:04.549943Z",
          "iopub.status.idle": "2023-01-17T15:36:04.81195Z",
          "shell.execute_reply.started": "2023-01-17T15:36:04.549906Z",
          "shell.execute_reply": "2023-01-17T15:36:04.810906Z"
        },
        "trusted": true,
        "colab": {
          "base_uri": "https://localhost:8080/",
          "height": 339
        },
        "id": "WF2PakvLYTxs",
        "outputId": "904aa495-a956-4e38-aad9-26cad1486855"
      },
      "execution_count": 28,
      "outputs": [
        {
          "output_type": "execute_result",
          "data": {
            "text/plain": [
              "Text(0.5, 1.0, 'Readmission Frequency for Gender')"
            ]
          },
          "metadata": {},
          "execution_count": 28
        },
        {
          "output_type": "display_data",
          "data": {
            "text/plain": [
              "<Figure size 432x288 with 1 Axes>"
            ],
            "image/png": "[encoded data removed]"
          },
          "metadata": {
            "needs_background": "light"
          }
        }
      ]
    },
    {
      "cell_type": "markdown",
      "source": [
        " here the two variables (age and readmitted). The plot() function is then used to create a bar chart from the contingency table.\n",
        "\n",
        "The kind parameter is set to 'bar' to indicate that a bar chart should be created. The title() function is used to add a title to the chart. The title in this case is \"Readmission Frequency for Age Groups\"."
      ],
      "metadata": {
        "id": "IklK0Or77LQe"
      }
    },
    {
      "cell_type": "code",
      "source": [
        "# Plot the distribution of age along with the frequency of early readmissions\n",
        "\n",
        "pd.crosstab(df.age, df.readmitted).plot(kind='bar')\n",
        "plt.title('Readmission Frequency for Age Groups')"
      ],
      "metadata": {
        "execution": {
          "iopub.status.busy": "2023-01-17T15:36:04.813323Z",
          "iopub.execute_input": "2023-01-17T15:36:04.814472Z",
          "iopub.status.idle": "2023-01-17T15:36:05.123491Z",
          "shell.execute_reply.started": "2023-01-17T15:36:04.81444Z",
          "shell.execute_reply": "2023-01-17T15:36:05.122279Z"
        },
        "trusted": true,
        "colab": {
          "base_uri": "https://localhost:8080/",
          "height": 316
        },
        "id": "PCdn3kYzYTxs",
        "outputId": "919fa601-5211-4a8a-e7f6-51212d224b3b"
      },
      "execution_count": 29,
      "outputs": [
        {
          "output_type": "execute_result",
          "data": {
            "text/plain": [
              "Text(0.5, 1.0, 'Readmission Frequency for Age Groups')"
            ]
          },
          "metadata": {},
          "execution_count": 29
        },
        {
          "output_type": "display_data",
          "data": {
            "text/plain": [
              "<Figure size 432x288 with 1 Axes>"
            ],
            "image/png": "[encoded data removed]"
          },
          "metadata": {
            "needs_background": "light"
          }
        }
      ]
    },
    {
      "cell_type": "code",
      "source": [
        "# Plot the distribution of admission type id along with the frequency of early readmissions\n",
        "\n",
        "pd.crosstab(df.admission_type_id, df.readmitted).plot(kind='bar')\n",
        "plt.title('Readmission Frequency for Admission Type ID')"
      ],
      "metadata": {
        "execution": {
          "iopub.status.busy": "2023-01-17T15:36:05.124874Z",
          "iopub.execute_input": "2023-01-17T15:36:05.125245Z",
          "iopub.status.idle": "2023-01-17T15:36:05.377334Z",
          "shell.execute_reply.started": "2023-01-17T15:36:05.125214Z",
          "shell.execute_reply": "2023-01-17T15:36:05.376058Z"
        },
        "trusted": true,
        "colab": {
          "base_uri": "https://localhost:8080/",
          "height": 311
        },
        "id": "3Dhtp7ykYTxs",
        "outputId": "d45c97ac-e350-4b3b-c0f2-f8593db8a7c7"
      },
      "execution_count": 30,
      "outputs": [
        {
          "output_type": "execute_result",
          "data": {
            "text/plain": [
              "Text(0.5, 1.0, 'Readmission Frequency for Admission Type ID')"
            ]
          },
          "metadata": {},
          "execution_count": 30
        },
        {
          "output_type": "display_data",
          "data": {
            "text/plain": [
              "<Figure size 432x288 with 1 Axes>"
            ],
            "image/png": "[encoded data removed]"
          },
          "metadata": {
            "needs_background": "light"
          }
        }
      ]
    },
    {
      "cell_type": "code",
      "source": [
        "# Plot the distribution of discharge disposition id along with the frequency of early readmissions\n",
        "\n",
        "pd.crosstab(df.discharge_disposition_id, df.readmitted).plot(kind='bar')\n",
        "plt.title('Readmission Frequency for Discharge Disposition ID')"
      ],
      "metadata": {
        "execution": {
          "iopub.status.busy": "2023-01-17T15:36:05.379166Z",
          "iopub.execute_input": "2023-01-17T15:36:05.379887Z",
          "iopub.status.idle": "2023-01-17T15:36:05.67133Z",
          "shell.execute_reply.started": "2023-01-17T15:36:05.379842Z",
          "shell.execute_reply": "2023-01-17T15:36:05.670172Z"
        },
        "trusted": true,
        "colab": {
          "base_uri": "https://localhost:8080/",
          "height": 311
        },
        "id": "JyYHaXPhYTxs",
        "outputId": "6174758b-d447-4966-cc69-b5b144f74978"
      },
      "execution_count": 31,
      "outputs": [
        {
          "output_type": "execute_result",
          "data": {
            "text/plain": [
              "Text(0.5, 1.0, 'Readmission Frequency for Discharge Disposition ID')"
            ]
          },
          "metadata": {},
          "execution_count": 31
        },
        {
          "output_type": "display_data",
          "data": {
            "text/plain": [
              "<Figure size 432x288 with 1 Axes>"
            ],
            "image/png": "[encoded data removed]"
          },
          "metadata": {
            "needs_background": "light"
          }
        }
      ]
    },
    {
      "cell_type": "code",
      "source": [
        "# Plot the distribution of admission source id along with the frequency of early readmissions\n",
        "\n",
        "pd.crosstab(df.admission_source_id, df.readmitted).plot(kind='bar')\n",
        "plt.title('Readmission Frequency for Admission Source ID')"
      ],
      "metadata": {
        "execution": {
          "iopub.status.busy": "2023-01-17T15:36:05.673318Z",
          "iopub.execute_input": "2023-01-17T15:36:05.67378Z",
          "iopub.status.idle": "2023-01-17T15:36:05.95239Z",
          "shell.execute_reply.started": "2023-01-17T15:36:05.673737Z",
          "shell.execute_reply": "2023-01-17T15:36:05.951177Z"
        },
        "trusted": true,
        "colab": {
          "base_uri": "https://localhost:8080/",
          "height": 311
        },
        "id": "tiK6nz-_YTxs",
        "outputId": "e6d1044c-c3bb-4f96-d1f5-1f42efd598bc"
      },
      "execution_count": 32,
      "outputs": [
        {
          "output_type": "execute_result",
          "data": {
            "text/plain": [
              "Text(0.5, 1.0, 'Readmission Frequency for Admission Source ID')"
            ]
          },
          "metadata": {},
          "execution_count": 32
        },
        {
          "output_type": "display_data",
          "data": {
            "text/plain": [
              "<Figure size 432x288 with 1 Axes>"
            ],
            "image/png": "[encoded data removed]"
          },
          "metadata": {
            "needs_background": "light"
          }
        }
      ]
    },
    {
      "cell_type": "code",
      "source": [
        "# Plot the distribution of time in hospital along with the frequency of early readmissions\n",
        "\n",
        "pd.crosstab(df.time_in_hospital, df.readmitted).plot(kind='bar')\n",
        "plt.title('Readmission Frequency for Time in Hospital')"
      ],
      "metadata": {
        "execution": {
          "iopub.status.busy": "2023-01-17T15:36:05.956016Z",
          "iopub.execute_input": "2023-01-17T15:36:05.956712Z",
          "iopub.status.idle": "2023-01-17T15:36:06.322875Z",
          "shell.execute_reply.started": "2023-01-17T15:36:05.95666Z",
          "shell.execute_reply": "2023-01-17T15:36:06.322054Z"
        },
        "trusted": true,
        "colab": {
          "base_uri": "https://localhost:8080/",
          "height": 317
        },
        "id": "c0Os8FXxYTxs",
        "outputId": "517f23e1-276a-489b-8c0a-89b6b0b83951"
      },
      "execution_count": 33,
      "outputs": [
        {
          "output_type": "execute_result",
          "data": {
            "text/plain": [
              "Text(0.5, 1.0, 'Readmission Frequency for Time in Hospital')"
            ]
          },
          "metadata": {},
          "execution_count": 33
        },
        {
          "output_type": "display_data",
          "data": {
            "text/plain": [
              "<Figure size 432x288 with 1 Axes>"
            ],
            "image/png": "[encoded data removed]"
          },
          "metadata": {
            "needs_background": "light"
          }
        }
      ]
    },
    {
      "cell_type": "code",
      "source": [
        "# Plot the distribution of number of lab procedures along with the frequency of early readmissions\n",
        "\n",
        "pd.crosstab(df.num_lab_procedures, df.readmitted).plot(kind='bar')\n",
        "plt.title('Readmission Frequency for Number of Lab Procedures')"
      ],
      "metadata": {
        "execution": {
          "iopub.status.busy": "2023-01-17T15:36:06.32449Z",
          "iopub.execute_input": "2023-01-17T15:36:06.324822Z",
          "iopub.status.idle": "2023-01-17T15:36:08.252776Z",
          "shell.execute_reply.started": "2023-01-17T15:36:06.324793Z",
          "shell.execute_reply": "2023-01-17T15:36:08.251486Z"
        },
        "trusted": true,
        "colab": {
          "base_uri": "https://localhost:8080/",
          "height": 323
        },
        "id": "uKKR9iwgYTxs",
        "outputId": "53327202-3e65-4cb7-bd8d-4c1d179e143b"
      },
      "execution_count": 34,
      "outputs": [
        {
          "output_type": "execute_result",
          "data": {
            "text/plain": [
              "Text(0.5, 1.0, 'Readmission Frequency for Number of Lab Procedures')"
            ]
          },
          "metadata": {},
          "execution_count": 34
        },
        {
          "output_type": "display_data",
          "data": {
            "text/plain": [
              "<Figure size 432x288 with 1 Axes>"
            ],
            "image/png": "[encoded data removed]"
          },
          "metadata": {
            "needs_background": "light"
          }
        }
      ]
    },
    {
      "cell_type": "code",
      "source": [
        "# Plot the distribution of number of procedures along with the frequency of early readmissions\n",
        "\n",
        "pd.crosstab(df.num_procedures, df.readmitted).plot(kind='bar')\n",
        "plt.title('Readmission Frequency for Number of Procedures')"
      ],
      "metadata": {
        "execution": {
          "iopub.status.busy": "2023-01-17T15:36:08.254319Z",
          "iopub.execute_input": "2023-01-17T15:36:08.254698Z",
          "iopub.status.idle": "2023-01-17T15:36:08.53549Z",
          "shell.execute_reply.started": "2023-01-17T15:36:08.254666Z",
          "shell.execute_reply": "2023-01-17T15:36:08.534464Z"
        },
        "trusted": true,
        "colab": {
          "base_uri": "https://localhost:8080/",
          "height": 311
        },
        "id": "e_JMy33lYTxt",
        "outputId": "a05ceb7d-433c-4fdd-d603-082564b1728e"
      },
      "execution_count": 35,
      "outputs": [
        {
          "output_type": "execute_result",
          "data": {
            "text/plain": [
              "Text(0.5, 1.0, 'Readmission Frequency for Number of Procedures')"
            ]
          },
          "metadata": {},
          "execution_count": 35
        },
        {
          "output_type": "display_data",
          "data": {
            "text/plain": [
              "<Figure size 432x288 with 1 Axes>"
            ],
            "image/png": "[encoded data removed]"
          },
          "metadata": {
            "needs_background": "light"
          }
        }
      ]
    },
    {
      "cell_type": "code",
      "source": [
        "# Plot the distribution of number of medications along with the frequency of early readmissions\n",
        "\n",
        "pd.crosstab(df.num_medications, df.readmitted).plot(kind='bar')\n",
        "plt.title('Readmission Frequency for Number of Medications')"
      ],
      "metadata": {
        "execution": {
          "iopub.status.busy": "2023-01-17T15:36:08.536626Z",
          "iopub.execute_input": "2023-01-17T15:36:08.536919Z",
          "iopub.status.idle": "2023-01-17T15:36:09.768723Z",
          "shell.execute_reply.started": "2023-01-17T15:36:08.536892Z",
          "shell.execute_reply": "2023-01-17T15:36:09.767628Z"
        },
        "trusted": true,
        "colab": {
          "base_uri": "https://localhost:8080/",
          "height": 317
        },
        "id": "93fudmd3YTxt",
        "outputId": "b1cec712-917b-4b95-87c0-3b7d0727c645"
      },
      "execution_count": 36,
      "outputs": [
        {
          "output_type": "execute_result",
          "data": {
            "text/plain": [
              "Text(0.5, 1.0, 'Readmission Frequency for Number of Medications')"
            ]
          },
          "metadata": {},
          "execution_count": 36
        },
        {
          "output_type": "display_data",
          "data": {
            "text/plain": [
              "<Figure size 432x288 with 1 Axes>"
            ],
            "image/png": "[encoded data removed]"
          },
          "metadata": {
            "needs_background": "light"
          }
        }
      ]
    },
    {
      "cell_type": "code",
      "source": [
        "# Plot the distribution of number of outpatient along with the frequency of early readmissions\n",
        "\n",
        "pd.crosstab(df.number_outpatient, df.readmitted).plot(kind='bar')\n",
        "plt.title('Readmission Frequency for Number of Outpatients')"
      ],
      "metadata": {
        "execution": {
          "iopub.status.busy": "2023-01-17T15:36:09.770171Z",
          "iopub.execute_input": "2023-01-17T15:36:09.770634Z",
          "iopub.status.idle": "2023-01-17T15:36:10.279365Z",
          "shell.execute_reply.started": "2023-01-17T15:36:09.770591Z",
          "shell.execute_reply": "2023-01-17T15:36:10.278224Z"
        },
        "trusted": true,
        "colab": {
          "base_uri": "https://localhost:8080/",
          "height": 317
        },
        "id": "PqltJZHTYTxt",
        "outputId": "435e0f76-4d6a-4c77-faca-8181115bebe8"
      },
      "execution_count": 37,
      "outputs": [
        {
          "output_type": "execute_result",
          "data": {
            "text/plain": [
              "Text(0.5, 1.0, 'Readmission Frequency for Number of Outpatients')"
            ]
          },
          "metadata": {},
          "execution_count": 37
        },
        {
          "output_type": "display_data",
          "data": {
            "text/plain": [
              "<Figure size 432x288 with 1 Axes>"
            ],
            "image/png": "[encoded data removed]"
          },
          "metadata": {
            "needs_background": "light"
          }
        }
      ]
    },
    {
      "cell_type": "code",
      "source": [
        "# Plot the distribution of number of emergencies along with the frequency of early readmissions\n",
        "\n",
        "pd.crosstab(df.number_emergency, df.readmitted).plot(kind='bar')\n",
        "plt.title('Readmission Frequency for Number of Emergencies')"
      ],
      "metadata": {
        "execution": {
          "iopub.status.busy": "2023-01-17T15:36:10.280649Z",
          "iopub.execute_input": "2023-01-17T15:36:10.281459Z",
          "iopub.status.idle": "2023-01-17T15:36:10.657213Z",
          "shell.execute_reply.started": "2023-01-17T15:36:10.281423Z",
          "shell.execute_reply": "2023-01-17T15:36:10.656179Z"
        },
        "trusted": true,
        "colab": {
          "base_uri": "https://localhost:8080/",
          "height": 317
        },
        "id": "3rZW8F0fYTxt",
        "outputId": "14661483-135b-4eb6-d3f5-808774e580bd"
      },
      "execution_count": 38,
      "outputs": [
        {
          "output_type": "execute_result",
          "data": {
            "text/plain": [
              "Text(0.5, 1.0, 'Readmission Frequency for Number of Emergencies')"
            ]
          },
          "metadata": {},
          "execution_count": 38
        },
        {
          "output_type": "display_data",
          "data": {
            "text/plain": [
              "<Figure size 432x288 with 1 Axes>"
            ],
            "image/png": "[encoded data removed]"
          },
          "metadata": {
            "needs_background": "light"
          }
        }
      ]
    },
    {
      "cell_type": "code",
      "source": [
        "# Plot the distribution of number of inpatient along with the frequency of early readmissions\n",
        "\n",
        "pd.crosstab(df.number_inpatient, df.readmitted).plot(kind='bar')\n",
        "plt.title('Readmission Frequency for Number of Inpatients')"
      ],
      "metadata": {
        "execution": {
          "iopub.status.busy": "2023-01-17T15:36:10.658644Z",
          "iopub.execute_input": "2023-01-17T15:36:10.658934Z",
          "iopub.status.idle": "2023-01-17T15:36:10.991864Z",
          "shell.execute_reply.started": "2023-01-17T15:36:10.658907Z",
          "shell.execute_reply": "2023-01-17T15:36:10.99097Z"
        },
        "trusted": true,
        "colab": {
          "base_uri": "https://localhost:8080/",
          "height": 317
        },
        "id": "WwoWeoWKYTxt",
        "outputId": "5031e5a4-cf46-4d25-cd5a-e3bf5f96fb7e"
      },
      "execution_count": 39,
      "outputs": [
        {
          "output_type": "execute_result",
          "data": {
            "text/plain": [
              "Text(0.5, 1.0, 'Readmission Frequency for Number of Inpatients')"
            ]
          },
          "metadata": {},
          "execution_count": 39
        },
        {
          "output_type": "display_data",
          "data": {
            "text/plain": [
              "<Figure size 432x288 with 1 Axes>"
            ],
            "image/png": "[encoded data removed]"
          },
          "metadata": {
            "needs_background": "light"
          }
        }
      ]
    },
    {
      "cell_type": "code",
      "source": [
        "# Plot the distribution of primary diagnosis along with the frequency of early readmissions\n",
        "\n",
        "pd.crosstab(df.diag_1, df.readmitted).plot(kind='bar')\n",
        "plt.title('Readmission Frequency for Primary Diagnosis')"
      ],
      "metadata": {
        "execution": {
          "iopub.status.busy": "2023-01-17T15:36:10.993346Z",
          "iopub.execute_input": "2023-01-17T15:36:10.993807Z",
          "iopub.status.idle": "2023-01-17T15:36:11.353211Z",
          "shell.execute_reply.started": "2023-01-17T15:36:10.993762Z",
          "shell.execute_reply": "2023-01-17T15:36:11.350708Z"
        },
        "trusted": true,
        "colab": {
          "base_uri": "https://localhost:8080/",
          "height": 617
        },
        "id": "f0-cHMQmYTxt",
        "outputId": "58996679-2662-4221-a3fb-c1973d429e74"
      },
      "execution_count": 40,
      "outputs": [
        {
          "output_type": "execute_result",
          "data": {
            "text/plain": [
              "Text(0.5, 1.0, 'Readmission Frequency for Primary Diagnosis')"
            ]
          },
          "metadata": {},
          "execution_count": 40
        },
        {
          "output_type": "display_data",
          "data": {
            "text/plain": [
              "<Figure size 432x288 with 1 Axes>"
            ],
            "image/png": "[encoded data removed]"
          },
          "metadata": {
            "needs_background": "light"
          }
        }
      ]
    },
    {
      "cell_type": "code",
      "source": [
        "# Plot the distribution of number of diagnoses along with the frequency of early readmissions\n",
        "\n",
        "pd.crosstab(df.number_diagnoses, df.readmitted).plot(kind='bar')\n",
        "plt.title('Readmission Frequency for Number of Diagnoses')"
      ],
      "metadata": {
        "execution": {
          "iopub.status.busy": "2023-01-17T15:36:11.354789Z",
          "iopub.execute_input": "2023-01-17T15:36:11.355106Z",
          "iopub.status.idle": "2023-01-17T15:36:11.714332Z",
          "shell.execute_reply.started": "2023-01-17T15:36:11.355078Z",
          "shell.execute_reply": "2023-01-17T15:36:11.713454Z"
        },
        "trusted": true,
        "colab": {
          "base_uri": "https://localhost:8080/",
          "height": 317
        },
        "id": "RjnheYscYTxu",
        "outputId": "d6df40fd-290b-4a88-a30d-decac9724e07"
      },
      "execution_count": 41,
      "outputs": [
        {
          "output_type": "execute_result",
          "data": {
            "text/plain": [
              "Text(0.5, 1.0, 'Readmission Frequency for Number of Diagnoses')"
            ]
          },
          "metadata": {},
          "execution_count": 41
        },
        {
          "output_type": "display_data",
          "data": {
            "text/plain": [
              "<Figure size 432x288 with 1 Axes>"
            ],
            "image/png": "[encoded data removed]"
          },
          "metadata": {
            "needs_background": "light"
          }
        }
      ]
    },
    {
      "cell_type": "code",
      "source": [
        "# Plot the distribution of glucose serum test results along with the frequency of early readmissions\n",
        "\n",
        "pd.crosstab(df.max_glu_serum, df.readmitted).plot(kind='bar')\n",
        "plt.title('Readmission Frequency for Glucose Serum Test Results')"
      ],
      "metadata": {
        "execution": {
          "iopub.status.busy": "2023-01-17T15:36:11.72178Z",
          "iopub.execute_input": "2023-01-17T15:36:11.722128Z",
          "iopub.status.idle": "2023-01-17T15:36:11.984618Z",
          "shell.execute_reply.started": "2023-01-17T15:36:11.722098Z",
          "shell.execute_reply": "2023-01-17T15:36:11.983455Z"
        },
        "trusted": true,
        "colab": {
          "base_uri": "https://localhost:8080/",
          "height": 331
        },
        "id": "ZnScs5M5YTxu",
        "outputId": "f86f5ba3-96d7-4745-cc9a-9ffa106f2173"
      },
      "execution_count": 42,
      "outputs": [
        {
          "output_type": "execute_result",
          "data": {
            "text/plain": [
              "Text(0.5, 1.0, 'Readmission Frequency for Glucose Serum Test Results')"
            ]
          },
          "metadata": {},
          "execution_count": 42
        },
        {
          "output_type": "display_data",
          "data": {
            "text/plain": [
              "<Figure size 432x288 with 1 Axes>"
            ],
            "image/png": "[encoded data removed]"
          },
          "metadata": {
            "needs_background": "light"
          }
        }
      ]
    },
    {
      "cell_type": "code",
      "source": [
        "# Plot the distribution of A1C test results along with the frequency of early readmissions\n",
        "\n",
        "pd.crosstab(df.A1Cresult, df.readmitted).plot(kind='bar')\n",
        "plt.title('Readmission Frequency for A1C Test Results')"
      ],
      "metadata": {
        "execution": {
          "iopub.status.busy": "2023-01-17T15:36:11.986107Z",
          "iopub.execute_input": "2023-01-17T15:36:11.986467Z",
          "iopub.status.idle": "2023-01-17T15:36:12.248232Z",
          "shell.execute_reply.started": "2023-01-17T15:36:11.986429Z",
          "shell.execute_reply": "2023-01-17T15:36:12.247218Z"
        },
        "trusted": true,
        "colab": {
          "base_uri": "https://localhost:8080/",
          "height": 330
        },
        "id": "emztXCXDYTxu",
        "outputId": "9579a6b2-f144-4c44-fc25-11b034d533dc"
      },
      "execution_count": 43,
      "outputs": [
        {
          "output_type": "execute_result",
          "data": {
            "text/plain": [
              "Text(0.5, 1.0, 'Readmission Frequency for A1C Test Results')"
            ]
          },
          "metadata": {},
          "execution_count": 43
        },
        {
          "output_type": "display_data",
          "data": {
            "text/plain": [
              "<Figure size 432x288 with 1 Axes>"
            ],
            "image/png": "[encoded data removed]"
          },
          "metadata": {
            "needs_background": "light"
          }
        }
      ]
    },
    {
      "cell_type": "code",
      "source": [
        "# Plot the distribution of change of medications along with the frequency of early readmissions\n",
        "\n",
        "pd.crosstab(df.change, df.readmitted).plot(kind='bar')\n",
        "plt.title('Readmission Frequency for Change of Medications')"
      ],
      "metadata": {
        "execution": {
          "iopub.status.busy": "2023-01-17T15:36:12.249908Z",
          "iopub.execute_input": "2023-01-17T15:36:12.250679Z",
          "iopub.status.idle": "2023-01-17T15:36:12.50343Z",
          "shell.execute_reply.started": "2023-01-17T15:36:12.250634Z",
          "shell.execute_reply": "2023-01-17T15:36:12.502328Z"
        },
        "trusted": true,
        "colab": {
          "base_uri": "https://localhost:8080/",
          "height": 317
        },
        "id": "fLfKEdMTYTxu",
        "outputId": "a41c5617-988f-4b92-a1c1-efc46573f3a1"
      },
      "execution_count": 44,
      "outputs": [
        {
          "output_type": "execute_result",
          "data": {
            "text/plain": [
              "Text(0.5, 1.0, 'Readmission Frequency for Change of Medications')"
            ]
          },
          "metadata": {},
          "execution_count": 44
        },
        {
          "output_type": "display_data",
          "data": {
            "text/plain": [
              "<Figure size 432x288 with 1 Axes>"
            ],
            "image/png": "[encoded data removed]"
          },
          "metadata": {
            "needs_background": "light"
          }
        }
      ]
    },
    {
      "cell_type": "code",
      "source": [
        "# Plot the distribution of diabetes medications along with the frequency of early readmissions\n",
        "\n",
        "pd.crosstab(df.diabetesMed, df.readmitted).plot(kind='bar')\n",
        "plt.title('Readmission Frequency for Diabetes Medications')"
      ],
      "metadata": {
        "execution": {
          "iopub.status.busy": "2023-01-17T15:36:12.505186Z",
          "iopub.execute_input": "2023-01-17T15:36:12.505505Z",
          "iopub.status.idle": "2023-01-17T15:36:12.763993Z",
          "shell.execute_reply.started": "2023-01-17T15:36:12.505468Z",
          "shell.execute_reply": "2023-01-17T15:36:12.762901Z"
        },
        "trusted": true,
        "colab": {
          "base_uri": "https://localhost:8080/",
          "height": 319
        },
        "id": "HZMEMAjYYTxu",
        "outputId": "4878f849-ac11-4fb4-98a2-72dfec55efcf"
      },
      "execution_count": 45,
      "outputs": [
        {
          "output_type": "execute_result",
          "data": {
            "text/plain": [
              "Text(0.5, 1.0, 'Readmission Frequency for Diabetes Medications')"
            ]
          },
          "metadata": {},
          "execution_count": 45
        },
        {
          "output_type": "display_data",
          "data": {
            "text/plain": [
              "<Figure size 432x288 with 1 Axes>"
            ],
            "image/png": "[encoded data removed]"
          },
          "metadata": {
            "needs_background": "light"
          }
        }
      ]
    },
    {
      "cell_type": "markdown",
      "source": [
        "#### Observations\n",
        "\n",
        "* Features that might be good predictors: race, age, admission type ID, discharge disposition ID, admission source ID, time in hospital, number of lab procedures, number of procedures, number of medications, number of outpatients, number of emergencies, number of inpatients, primary diagnosis, number of diagnoses, glucose serum test results, A1C test results, Diabetes medication.\n",
        "* Features that might not be good predictors: gender, change."
      ],
      "metadata": {
        "id": "DZGvOj3zYTxu"
      }
    },
    {
      "cell_type": "markdown",
      "source": [
        "## 5. Feature Engineering\n",
        "\n",
        "* 5.1: Create Dummy Variables\n",
        "* 5.2: SMOTE"
      ],
      "metadata": {
        "id": "sDSIe8bHYTxv"
      }
    },
    {
      "cell_type": "markdown",
      "source": [
        "### 5.1: Create Dummy Variables\n",
        "\n",
        "* When dealing with categorical variables, we need to assign numerical values to different categories within each column. \n",
        "* Dummy variables helps us classify the data into mutually exclusive categories"
      ],
      "metadata": {
        "id": "E11Moa7-YTxv"
      }
    },
    {
      "cell_type": "markdown",
      "source": [
        "This code is using the get_dummies() function from the pandas library to create dummy variables for categorical features in the df dataframe."
      ],
      "metadata": {
        "id": "T8R8vElA8vYr"
      }
    },
    {
      "cell_type": "markdown",
      "source": [
        "\n",
        "The categorical features that are being \n",
        "converted to dummy variables are: \n",
        "\n",
        "race,\n",
        "gender,\n",
        "admission_type_id,\n",
        "discharge_disposition_id,\n",
        "admission_source_id,\n",
        "diag_1,\n",
        "max_glu_serum,\n",
        "A1Cresult,\n",
        "change,\n",
        "diabetesMed,\n",
        "By converting categorical features into binary, variables, it allows for these variables to be used in various statistical analyses and machine learning models."
      ],
      "metadata": {
        "id": "xig0Ow0a7pIo"
      }
    },
    {
      "cell_type": "code",
      "source": [],
      "metadata": {
        "id": "bkg71xqd8mqC"
      },
      "execution_count": null,
      "outputs": []
    },
    {
      "cell_type": "code",
      "source": [
        "# Get dummy variables for categorical variables\n",
        "\n",
        "df = pd.get_dummies(df, columns=['race', 'gender', 'admission_type_id', 'discharge_disposition_id', 'admission_source_id', \\\n",
        "                                    'diag_1', 'max_glu_serum','A1Cresult','change','diabetesMed'])"
      ],
      "metadata": {
        "execution": {
          "iopub.status.busy": "2023-01-17T15:36:12.765318Z",
          "iopub.execute_input": "2023-01-17T15:36:12.765614Z",
          "iopub.status.idle": "2023-01-17T15:36:12.854964Z",
          "shell.execute_reply.started": "2023-01-17T15:36:12.765587Z",
          "shell.execute_reply": "2023-01-17T15:36:12.853904Z"
        },
        "trusted": true,
        "id": "NIgoxk8AYTxv"
      },
      "execution_count": 46,
      "outputs": []
    },
    {
      "cell_type": "markdown",
      "source": [
        "This code will return a list of column names in the df dataframe. "
      ],
      "metadata": {
        "id": "znSC1frQ9PUQ"
      }
    },
    {
      "cell_type": "code",
      "source": [
        "# Check all the columns within the dataframe\n",
        "\n",
        "df.columns"
      ],
      "metadata": {
        "execution": {
          "iopub.status.busy": "2023-01-17T15:36:12.856182Z",
          "iopub.execute_input": "2023-01-17T15:36:12.856555Z",
          "iopub.status.idle": "2023-01-17T15:36:12.864524Z",
          "shell.execute_reply.started": "2023-01-17T15:36:12.856523Z",
          "shell.execute_reply": "2023-01-17T15:36:12.863357Z"
        },
        "trusted": true,
        "colab": {
          "base_uri": "https://localhost:8080/"
        },
        "id": "roR7wTf2YTxv",
        "outputId": "8f8e731c-0433-4441-f97c-0ea044efcbae"
      },
      "execution_count": 47,
      "outputs": [
        {
          "output_type": "execute_result",
          "data": {
            "text/plain": [
              "Index(['age', 'time_in_hospital', 'num_lab_procedures', 'num_procedures',\n",
              "       'num_medications', 'number_outpatient', 'number_emergency',\n",
              "       'number_inpatient', 'number_diagnoses', 'readmitted',\n",
              "       'race_AfricanAmerican', 'race_Asian', 'race_Caucasian', 'race_Hispanic',\n",
              "       'race_Other', 'gender_Female', 'gender_Male', 'admission_type_id_1',\n",
              "       'admission_type_id_2', 'admission_type_id_3', 'admission_type_id_4',\n",
              "       'discharge_disposition_id_1', 'discharge_disposition_id_2',\n",
              "       'discharge_disposition_id_3', 'discharge_disposition_id_4',\n",
              "       'discharge_disposition_id_5', 'discharge_disposition_id_6',\n",
              "       'discharge_disposition_id_7', 'discharge_disposition_id_8',\n",
              "       'admission_source_id_1', 'admission_source_id_2',\n",
              "       'admission_source_id_3', 'admission_source_id_4',\n",
              "       'admission_source_id_5', 'admission_source_id_6',\n",
              "       'diag_1_A disease of the circulatory system',\n",
              "       'diag_1_A disease of the respiratory system', 'diag_1_Diabetes',\n",
              "       'diag_1_Diseases of the digestive system',\n",
              "       'diag_1_Diseases of the genitourinary system',\n",
              "       'diag_1_Diseases of the musculoskeletal system and connective tissue',\n",
              "       'diag_1_Injury and poisoning', 'diag_1_Neoplasms', 'diag_1_Other',\n",
              "       'max_glu_serum_>200', 'max_glu_serum_>300', 'max_glu_serum_None',\n",
              "       'max_glu_serum_Norm', 'A1Cresult_>7', 'A1Cresult_>8', 'A1Cresult_None',\n",
              "       'A1Cresult_Norm', 'change_Ch', 'change_No', 'diabetesMed_No',\n",
              "       'diabetesMed_Yes'],\n",
              "      dtype='object')"
            ]
          },
          "metadata": {},
          "execution_count": 47
        }
      ]
    },
    {
      "cell_type": "markdown",
      "source": [
        "This code defines a list of feature names called feature_set. These features are a subset of the columns in the original dataframe df,"
      ],
      "metadata": {
        "id": "DlhLDACl9oSC"
      }
    },
    {
      "cell_type": "markdown",
      "source": [
        "The features included in this list are a mix of continuous and categorical variables. Some of the categorical variables have already been converted into dummy variables using the get_dummies() function (e.g., race, gender, admission_type_id, etc.), while others appear to still be in their original form (e.g., number_outpatient, number_inpatient, etc.)."
      ],
      "metadata": {
        "id": "3nxa1J4T9f_E"
      }
    },
    {
      "cell_type": "code",
      "source": [
        "# Look at the feature set\n",
        "\n",
        "feature_set = ['age', 'time_in_hospital', 'num_lab_procedures', 'num_procedures', 'num_medications', 'number_outpatient', \\\n",
        "                'number_emergency', 'number_inpatient', 'number_diagnoses', 'race_AfricanAmerican', \\\n",
        "                'race_Asian', 'race_Caucasian', 'race_Hispanic', 'race_Other', 'gender_Female', 'gender_Male', \\\n",
        "                'admission_type_id_1', 'admission_type_id_2', 'admission_type_id_3', 'admission_type_id_4', \\\n",
        "                'discharge_disposition_id_1', 'discharge_disposition_id_2', 'discharge_disposition_id_3', \\\n",
        "                'discharge_disposition_id_4', 'discharge_disposition_id_5', 'discharge_disposition_id_6', \\\n",
        "                'discharge_disposition_id_7', 'discharge_disposition_id_8', 'admission_source_id_1', 'admission_source_id_2', \\\n",
        "                'admission_source_id_3', 'admission_source_id_4', 'admission_source_id_5', 'admission_source_id_6', \\\n",
        "                'diag_1_A disease of the circulatory system', 'diag_1_A disease of the respiratory system', 'diag_1_Diabetes', \\\n",
        "                'diag_1_Diseases of the digestive system', 'diag_1_Diseases of the genitourinary system', \\\n",
        "                'diag_1_Diseases of the musculoskeletal system and connective tissue', 'diag_1_Injury and poisoning', \\\n",
        "                'diag_1_Neoplasms', 'diag_1_Other', 'max_glu_serum_>200', 'max_glu_serum_>300', 'max_glu_serum_None', \\\n",
        "                'max_glu_serum_Norm', 'A1Cresult_>7', 'A1Cresult_>8', 'A1Cresult_None', 'A1Cresult_Norm', 'change_Ch', \\\n",
        "                'change_No', 'diabetesMed_No', 'diabetesMed_Yes']"
      ],
      "metadata": {
        "execution": {
          "iopub.status.busy": "2023-01-17T15:36:12.866192Z",
          "iopub.execute_input": "2023-01-17T15:36:12.866653Z",
          "iopub.status.idle": "2023-01-17T15:36:12.876717Z",
          "shell.execute_reply.started": "2023-01-17T15:36:12.866609Z",
          "shell.execute_reply": "2023-01-17T15:36:12.875783Z"
        },
        "trusted": true,
        "id": "1OaywqobYTxv"
      },
      "execution_count": 48,
      "outputs": []
    },
    {
      "cell_type": "markdown",
      "source": [
        "This code is assigning the feature_set list to a variable called x and the readmitted column of the df dataframe to a variable called y."
      ],
      "metadata": {
        "id": "ppsZQcny92xn"
      }
    },
    {
      "cell_type": "markdown",
      "source": [
        " here x is a dataframe that contains only the columns (features) listed in feature_set, while y is a series that contains only the readmitted column of df"
      ],
      "metadata": {
        "id": "4z7lTsKf98Cu"
      }
    },
    {
      "cell_type": "code",
      "source": [
        "# Set the x and y variables\n",
        "\n",
        "x = df[feature_set]\n",
        "y = df['readmitted']"
      ],
      "metadata": {
        "execution": {
          "iopub.status.busy": "2023-01-17T15:36:12.877837Z",
          "iopub.execute_input": "2023-01-17T15:36:12.878178Z",
          "iopub.status.idle": "2023-01-17T15:36:12.893536Z",
          "shell.execute_reply.started": "2023-01-17T15:36:12.878122Z",
          "shell.execute_reply": "2023-01-17T15:36:12.892214Z"
        },
        "trusted": true,
        "id": "T9YpM_EDYTxv"
      },
      "execution_count": 49,
      "outputs": []
    },
    {
      "cell_type": "markdown",
      "source": [
        "This code is shuffling the X and y dataframes (which were defined earlier in the code) and splitting the data into a training set and a testing set.\n",
        "\n",
        "The code first creates a list of tuples using the zip() function, where each tuple contains the features for a single patient (from the X dataframe) and their corresponding outcome (from the y series).\n",
        "\n",
        "It then shuffles this list of tuples using np.random.shuffle().\n",
        "\n",
        "Next, it defines a variable split as 80% of the length of the shuffled list, which will be used to split the data into a training set and a testing set.\n",
        "\n",
        "Finally, it creates separate lists for the features and outcomes of the training and testing sets using list comprehension. Specifically, x_train and y_train are created using the first split tuples in data, while x_test and y_test are created using the remaining tuples in data."
      ],
      "metadata": {
        "id": "2CEcicryFndm"
      }
    },
    {
      "cell_type": "code",
      "source": [
        "# shuffle and split the data\n",
        "data = list(zip(X.values, y))\n",
        "np.random.shuffle(data)\n",
        "\n",
        "split = int(0.8 * len(data))\n",
        "train_data = data[:split]\n",
        "test_data = data[split:]\n",
        "\n",
        "x_train = [d[0] for d in train_data]\n",
        "y_train = [d[1] for d in train_data]\n",
        "x_test = [d[0] for d in test_data]\n",
        "y_test = [d[1] for d in test_data]"
      ],
      "metadata": {
        "id": "p_GSAEFJyb5s"
      },
      "execution_count": null,
      "outputs": []
    },
    {
      "cell_type": "markdown",
      "source": [
        "This code converts x_train and y_train lists into numpy arrays, reshapes x_train into a 2D array with the second dimension being equal to the number of features in the data, and reshapes y_train into a 1D array."
      ],
      "metadata": {
        "id": "oF6EFSCyF2ut"
      }
    },
    {
      "cell_type": "code",
      "source": [
        "x_train = np.array(x_train)\n",
        "y_train = np.array(y_train)\n",
        "n = x_train.shape[1]\n",
        "x_train = x_train.reshape(-1, n)\n",
        "y_train = y_train.reshape(-1,)"
      ],
      "metadata": {
        "id": "WztU8WG1JLRP"
      },
      "execution_count": 52,
      "outputs": []
    },
    {
      "cell_type": "markdown",
      "source": [
        "This code defines a class called MultinomialNB which implements a basic version of the Naive Bayes algorithm for text classification tasks. The fit method trains the model by calculating the prior and conditional probabilities of the classes and features, respectively. The predict method predicts the class label for a given input instance by calculating the posterior probabilities of each class and returning the class with the highest probability. The algorithm assumes that the features are independent given the class label, hence the name \"Naive\" Bayes.\n",
        "\n",
        "The algorithm uses Laplace smoothing to avoid the issue of zero probabilities. Laplace smoothing adds a small constant value (usually 1) to the numerator and denominator of the conditional probability estimate, effectively \"smoothing\" out the probability distribution and avoiding zero probabilities.\n",
        "\n",
        "This particular implementation uses the natural logarithm of probabilities to avoid underflow errors that can occur when multiplying small probabilities together."
      ],
      "metadata": {
        "id": "Kj3jmRamFSS2"
      }
    },
    {
      "cell_type": "code",
      "execution_count": 53,
      "metadata": {
        "id": "251e667e"
      },
      "outputs": [],
      "source": [
        "import math\n",
        "class MultinomialNB:\n",
        "    def __init__(self):\n",
        "        self.class_probs = None\n",
        "        self.feature_probs = None\n",
        "\n",
        "    def fit(self, X, y):\n",
        "        self.classes = list(set(y))\n",
        "        num_classes = len(self.classes)\n",
        "        num_features = len(X[0])\n",
        "\n",
        "        # Calculate prior probabilities for each class\n",
        "        class_counts = [0] * num_classes\n",
        "        for i in range(len(y)):\n",
        "            class_counts[y[i]] += 1\n",
        "        self.class_probs = [count / len(y) for count in class_counts]\n",
        "\n",
        "        # Calculate conditional probabilities for each feature given each class\n",
        "        self.feature_probs = []\n",
        "        for i in range(num_classes):\n",
        "            class_indices = [j for j in range(len(y)) if y[j] == i]\n",
        "            class_features = [X[j] for j in class_indices]\n",
        "            feature_counts = [sum(feature[i] for feature in class_features) for i in range(num_features)]\n",
        "            total_count = sum(feature_counts)\n",
        "            feature_probs = [math.log((count + 1) / (total_count + num_features)) for count in feature_counts]\n",
        "            self.feature_probs.append(feature_probs)\n",
        "\n",
        "    def predict(self, X):\n",
        "        y_pred = []\n",
        "        for instance in X:\n",
        "            posterior_probs = [math.log(class_prob) for class_prob in self.class_probs]\n",
        "            for i in range(len(instance)):\n",
        "                for j in range(len(self.classes)):\n",
        "                    posterior_probs[j] += self.feature_probs[j][i] * instance[i]\n",
        "            predicted_class = posterior_probs.index(max(posterior_probs))\n",
        "            y_pred.append(predicted_class)\n",
        "        return y_pred\n"
      ]
    },
    {
      "cell_type": "markdown",
      "source": [
        "The code above is training a Multinomial Naive Bayes model on a toy dataset with three features and two classes (0 and 1). The model is then used to predict the class of two test instances. The predicted classes are not shown in the code snippet, so it is impossible to evaluate the performance of the model.\n",
        "\n",
        "However, it is worth noting that this implementation of Multinomial Naive Bayes assumes that the input features are counts or frequencies of discrete events. In the case of the toy dataset, the features are continuous variables (2.0, 4.0, 6.0), which makes the assumptions of the model invalid. Additionally, the implementation uses Laplace smoothing to avoid zero probabilities, which is not always necessary or desirable depending on the data and problem at hand."
      ],
      "metadata": {
        "id": "-E3u3f0oFM2p"
      }
    },
    {
      "cell_type": "code",
      "execution_count": 54,
      "metadata": {
        "id": "8411f875"
      },
      "outputs": [],
      "source": [
        "nb = MultinomialNB()\n",
        "train_data = [[2.0, 4.0, 0], [4.0, 6.0, 0], [4.0, 2.0, 1], [6.0, 4.0, 1]]\n",
        "train_X = [row[:-1] for row in train_data]\n",
        "train_y = [row[-1] for row in train_data]\n",
        "nb.fit(train_X, train_y)\n",
        "test_data = [[6.0, 6.0], [1.0, 2.0]]\n",
        "test_X = [row for row in test_data]\n",
        "y_pred = nb.predict(test_X)\n"
      ]
    },
    {
      "cell_type": "markdown",
      "source": [
        "# Accuracy"
      ],
      "metadata": {
        "id": "mKM7S66v_d4w"
      }
    },
    {
      "cell_type": "markdown",
      "source": [
        "This function calculates the accuracy of the predictions by comparing the predicted values to the actual values and counting the number of correct predictions. It then returns the percentage of correct predictions."
      ],
      "metadata": {
        "id": "JEVLTIIT_bkI"
      }
    },
    {
      "cell_type": "code",
      "execution_count": 55,
      "metadata": {
        "id": "ec4908a7"
      },
      "outputs": [],
      "source": [
        "def accuracy(actual, predicted):\n",
        "    correct_predictions = 0\n",
        "    for i in range(len(actual)):\n",
        "        if actual[i] == predicted[i]:\n",
        "            correct_predictions += 1\n",
        "    return correct_predictions / float(len(actual)) * 100.0\n"
      ]
    },
    {
      "cell_type": "markdown",
      "source": [
        "This precision function calculates the precision score for a binary classification problem given the actual and predicted labels. Precision is the ratio of true positives to the total number of positive predictions.\n",
        "\n",
        "Here's an overview of the code:\n",
        "\n",
        "Initialize true positives and false positives to 0.\n",
        "\n",
        "Loop through each example in the dataset.\n",
        "\n",
        "If the predicted label is 1 and matches the actual label, increment the true positives.\n",
        "\n",
        "If the predicted label is 1 and does not match the actual label, increment the false positives.\n",
        "\n",
        "Calculate the precision as true positives divided by the sum of true positives and false positives, multiplied by 100.0 to convert to a percentage.\n",
        "\n",
        "Return the precision score.\n",
        "\n",
        "Note that if there are no positive predictions (i.e., false positives == 0), the function returns 0.0 to avoid a division by zero error."
      ],
      "metadata": {
        "id": "bmMhZ-PIETOz"
      }
    },
    {
      "cell_type": "code",
      "execution_count": 56,
      "metadata": {
        "id": "d06b3d26"
      },
      "outputs": [],
      "source": [
        "def precision(actual, predicted):\n",
        "    true_positives = 0\n",
        "    false_positives = 0\n",
        "    for i in range(len(actual)):\n",
        "        if predicted[i] == 1:\n",
        "            if actual[i] == predicted[i]:\n",
        "                true_positives += 1\n",
        "            else:\n",
        "                false_positives += 1\n",
        "    if true_positives + false_positives == 0:\n",
        "        return 0.0\n",
        "    else:\n",
        "        return true_positives / float(true_positives + false_positives) * 100.0"
      ]
    },
    {
      "cell_type": "markdown",
      "source": [
        "In the function recall(actual, predicted), actual is a list of true class labels, and predicted is a list of predicted class labels."
      ],
      "metadata": {
        "id": "BZR14eDoDPZ2"
      }
    },
    {
      "cell_type": "markdown",
      "source": [
        "The function iterates over each element of actual and compares it with the corresponding element in predicted. If the actual label is 1 and the predicted label is also 1, then the count of true positives is incremented. If the actual label is 1 and the predicted label is 0, then the count of false negatives is incremented.\n",
        "\n",
        "The function then returns the recall as the ratio of true positives to the sum of true positives and false negatives, multiplied by 100 to convert the result to a percentage. If there are no true positives or false negatives, the function returns 0.0 to avoid a division by zero error.\n",
        "\n",
        "\n",
        "\n"
      ],
      "metadata": {
        "id": "vtNahw3aDKrs"
      }
    },
    {
      "cell_type": "code",
      "execution_count": 57,
      "metadata": {
        "id": "bd1487cb"
      },
      "outputs": [],
      "source": [
        "def recall(actual, predicted):\n",
        "    true_positives = 0\n",
        "    false_negatives = 0\n",
        "    for i in range(len(actual)):\n",
        "        if actual[i] == 1:\n",
        "            if actual[i] == predicted[i]:\n",
        "                true_positives += 1\n",
        "            else:\n",
        "                false_negatives += 1\n",
        "    if true_positives + false_negatives == 0:\n",
        "        return 0.0\n",
        "    else:\n",
        "        return true_positives / float(true_positives + false_negatives) * 100.0"
      ]
    },
    {
      "cell_type": "markdown",
      "source": [
        "The f1_score function is a way to evaluate the performance of a binary classification model based on both precision and recall. It combines both measures into a single metric by calculating the harmonic mean of precision and recall.\n",
        "\n",
        "The function starts by counting the number of true positives (tp), false positives (fp), and false negatives (fn) in the actual and predicted labels.\n",
        "\n",
        "Then, if there are no true positives, the function returns 0, since it is not possible to calculate the precision and recall without any true positive examples.\n",
        "\n",
        "Otherwise, the precision is calculated as the ratio of true positives to the total number of positive predictions (tp + fp). The recall is calculated as the ratio of true positives to the total number of actual positive examples (tp + fn).\n",
        "\n",
        "Finally, the f1 score is calculated as the harmonic mean of precision and recall, given by the formula:\n",
        "\n",
        "f1 = 2 * precision * recall / (precision + recall)\n",
        "\n",
        "The f1 score is a measure that combines both precision and recall, giving equal weight to both measures. This can be useful when the positive class is rare, as it can help to prevent the model from simply predicting the negative class all the time to maximize accuracy."
      ],
      "metadata": {
        "id": "6QfHDUAADiVS"
      }
    },
    {
      "cell_type": "code",
      "execution_count": 58,
      "metadata": {
        "id": "056ac866"
      },
      "outputs": [],
      "source": [
        "def f1_score(actual, predicted):\n",
        "    tp = 0\n",
        "    fp = 0\n",
        "    fn = 0\n",
        "    for i in range(len(actual)):\n",
        "        if actual[i] == 1 and predicted[i] == 1:\n",
        "            tp += 1\n",
        "        elif actual[i] == 0 and predicted[i] == 1:\n",
        "            fp += 1\n",
        "        elif actual[i] == 1 and predicted[i] == 0:\n",
        "            fn += 1\n",
        "    if tp == 0:\n",
        "        return 0\n",
        "    precision = tp / (tp + fp)\n",
        "    recall = tp / (tp + fn)\n",
        "    f1 = 2 * precision * recall / (precision + recall)\n",
        "    return f1"
      ]
    },
    {
      "cell_type": "markdown",
      "source": [
        "assuming y_pred contains valid predictions, the output will show the following evaluation metrics for the predictions:\n",
        "\n",
        "Accuracy: the percentage of correct predictions out of all predictions made.\n",
        "Precision: the percentage of correct positive predictions out of all positive predictions made.\n",
        "Recall: the percentage of correct positive predictions out of all actual positive instances.\n",
        "F1_score: the harmonic mean of precision and recall, which takes both into account and is useful when there is an uneven class distribution."
      ],
      "metadata": {
        "id": "c2qBkYRgD1e3"
      }
    },
    {
      "cell_type": "code",
      "execution_count": 59,
      "metadata": {
        "colab": {
          "base_uri": "https://localhost:8080/"
        },
        "id": "4a491d79",
        "outputId": "489c814b-648d-4538-a6a6-d4965b25ea8c"
      },
      "outputs": [
        {
          "output_type": "stream",
          "name": "stdout",
          "text": [
            "Accuracy: 50.0%\n",
            "Precision: 0.0%\n",
            "Recall: 0.0%\n",
            "F1_Score: 0%\n"
          ]
        }
      ],
      "source": [
        "test_y = [0, 1] # true labels for the test data\n",
        "print(f'Accuracy: {accuracy(test_y, y_pred)}%') ## Accuracy\n",
        "print(f'Precision: {precision(test_y, y_pred)}%') ## Precision\n",
        "print(f'Recall: {recall(test_y, y_pred)}%') ## Recall\n",
        "print(f'F1_Score: {f1_score(test_y, y_pred)}%') ## F1_Score"
      ]
    },
    {
      "cell_type": "code",
      "source": [],
      "metadata": {
        "id": "-W6N0EOzcvkd"
      },
      "execution_count": 59,
      "outputs": []
    },
    {
      "cell_type": "code",
      "source": [],
      "metadata": {
        "id": "sa5JNkjYcvhC"
      },
      "execution_count": 59,
      "outputs": []
    },
    {
      "cell_type": "code",
      "source": [],
      "metadata": {
        "id": "oZab8jz2cvdV"
      },
      "execution_count": 59,
      "outputs": []
    },
    {
      "cell_type": "code",
      "source": [
        "# Split into 70% training data and 30% testing data\n",
        "\n",
        "from sklearn.model_selection import train_test_split\n",
        "\n",
        "x_train, x_test, y_train, y_test = train_test_split(x, y, test_size = 0.3, random_state = 0)"
      ],
      "metadata": {
        "execution": {
          "iopub.status.busy": "2023-01-17T15:36:12.895088Z",
          "iopub.execute_input": "2023-01-17T15:36:12.895817Z",
          "iopub.status.idle": "2023-01-17T15:36:13.048683Z",
          "shell.execute_reply.started": "2023-01-17T15:36:12.89577Z",
          "shell.execute_reply": "2023-01-17T15:36:13.04747Z"
        },
        "trusted": true,
        "id": "2qoI5KnMYTxv"
      },
      "execution_count": 60,
      "outputs": []
    },
    {
      "cell_type": "markdown",
      "source": [
        "### 5.2: SMOTE\n",
        "\n",
        "* Since the two readmission classes are heavily imbalanced, we need to use an oversampling method to balance the class distributions.\n",
        "* We will use Synthetic Minority Oversampling Technique (SMOTE), which randomly replicates minority instances in order to balance class distributions."
      ],
      "metadata": {
        "id": "Pm6TKTAcYTxw"
      }
    },
    {
      "cell_type": "code",
      "source": [
        "# Use SMOTE only on the training set\n",
        "\n",
        "from imblearn.over_sampling import SMOTE\n",
        "from collections import Counter\n",
        "\n",
        "sm = SMOTE(random_state = 20)\n",
        "\n",
        "x_train_sm, y_train  = sm.fit_resample(x_train, y_train)"
      ],
      "metadata": {
        "execution": {
          "iopub.status.busy": "2023-01-17T15:36:13.050096Z",
          "iopub.execute_input": "2023-01-17T15:36:13.050497Z",
          "iopub.status.idle": "2023-01-17T15:36:14.223923Z",
          "shell.execute_reply.started": "2023-01-17T15:36:13.050458Z",
          "shell.execute_reply": "2023-01-17T15:36:14.222703Z"
        },
        "trusted": true,
        "id": "3xwXZdSyYTxw"
      },
      "execution_count": 61,
      "outputs": []
    },
    {
      "cell_type": "code",
      "source": [
        "# Compare the dataset shape\n",
        "\n",
        "print('Original dataset shape {}'.format(Counter(y)))\n",
        "\n",
        "print('New dataset shape {}'.format(Counter(y_train)))"
      ],
      "metadata": {
        "execution": {
          "iopub.status.busy": "2023-01-17T15:36:14.225309Z",
          "iopub.execute_input": "2023-01-17T15:36:14.225653Z",
          "iopub.status.idle": "2023-01-17T15:36:14.255209Z",
          "shell.execute_reply.started": "2023-01-17T15:36:14.225622Z",
          "shell.execute_reply": "2023-01-17T15:36:14.25382Z"
        },
        "trusted": true,
        "colab": {
          "base_uri": "https://localhost:8080/"
        },
        "id": "yZO6nFnoYTxw",
        "outputId": "2d97473d-a1f8-447f-cbb1-a091c33443ad"
      },
      "execution_count": 62,
      "outputs": [
        {
          "output_type": "stream",
          "name": "stdout",
          "text": [
            "Original dataset shape Counter({0: 65222, 1: 6293})\n",
            "New dataset shape Counter({1: 45632, 0: 45632})\n"
          ]
        }
      ]
    },
    {
      "cell_type": "markdown",
      "source": [
        "## 8: Naive Bayes"
      ],
      "metadata": {
        "id": "6wF3jGCcYTxy"
      }
    },
    {
      "cell_type": "code",
      "source": [],
      "metadata": {
        "id": "uqjgBUmOKWPc"
      },
      "execution_count": 62,
      "outputs": []
    },
    {
      "cell_type": "code",
      "source": [
        "# Import and initiate naive bayes\n",
        "from sklearn.metrics import accuracy_score, precision_score, recall_score, f1_score\n",
        "from sklearn.naive_bayes import MultinomialNB\n",
        "nb = MultinomialNB()"
      ],
      "metadata": {
        "id": "XlPjEc-EKWMG"
      },
      "execution_count": 63,
      "outputs": []
    },
    {
      "cell_type": "code",
      "source": [
        "# Train the naive bayes\n",
        "\n",
        "nb.fit(x_train_sm, y_train)"
      ],
      "metadata": {
        "execution": {
          "iopub.status.busy": "2023-01-17T15:36:14.414296Z",
          "iopub.status.idle": "2023-01-17T15:36:14.414661Z",
          "shell.execute_reply.started": "2023-01-17T15:36:14.414476Z",
          "shell.execute_reply": "2023-01-17T15:36:14.414498Z"
        },
        "trusted": true,
        "colab": {
          "base_uri": "https://localhost:8080/",
          "height": 74
        },
        "id": "AcZ49NRKYTxy",
        "outputId": "7eec911b-ab23-4a7e-d5c1-c728dabf39bf"
      },
      "execution_count": 64,
      "outputs": [
        {
          "output_type": "execute_result",
          "data": {
            "text/plain": [
              "MultinomialNB()"
            ],
            "text/html": [
              "<style>#sk-container-id-1 {color: black;background-color: white;}#sk-container-id-1 pre{padding: 0;}#sk-container-id-1 div.sk-toggleable {background-color: white;}#sk-container-id-1 label.sk-toggleable__label {cursor: pointer;display: block;width: 100%;margin-bottom: 0;padding: 0.3em;box-sizing: border-box;text-align: center;}#sk-container-id-1 label.sk-toggleable__label-arrow:before {content: \"▸\";float: left;margin-right: 0.25em;color: #696969;}#sk-container-id-1 label.sk-toggleable__label-arrow:hover:before {color: black;}#sk-container-id-1 div.sk-estimator:hover label.sk-toggleable__label-arrow:before {color: black;}#sk-container-id-1 div.sk-toggleable__content {max-height: 0;max-width: 0;overflow: hidden;text-align: left;background-color: #f0f8ff;}#sk-container-id-1 div.sk-toggleable__content pre {margin: 0.2em;color: black;border-radius: 0.25em;background-color: #f0f8ff;}#sk-container-id-1 input.sk-toggleable__control:checked~div.sk-toggleable__content {max-height: 200px;max-width: 100%;overflow: auto;}#sk-container-id-1 input.sk-toggleable__control:checked~label.sk-toggleable__label-arrow:before {content: \"▾\";}#sk-container-id-1 div.sk-estimator input.sk-toggleable__control:checked~label.sk-toggleable__label {background-color: #d4ebff;}#sk-container-id-1 div.sk-label input.sk-toggleable__control:checked~label.sk-toggleable__label {background-color: #d4ebff;}#sk-container-id-1 input.sk-hidden--visually {border: 0;clip: rect(1px 1px 1px 1px);clip: rect(1px, 1px, 1px, 1px);height: 1px;margin: -1px;overflow: hidden;padding: 0;position: absolute;width: 1px;}#sk-container-id-1 div.sk-estimator {font-family: monospace;background-color: #f0f8ff;border: 1px dotted black;border-radius: 0.25em;box-sizing: border-box;margin-bottom: 0.5em;}#sk-container-id-1 div.sk-estimator:hover {background-color: #d4ebff;}#sk-container-id-1 div.sk-parallel-item::after {content: \"\";width: 100%;border-bottom: 1px solid gray;flex-grow: 1;}#sk-container-id-1 div.sk-label:hover label.sk-toggleable__label {background-color: #d4ebff;}#sk-container-id-1 div.sk-serial::before {content: \"\";position: absolute;border-left: 1px solid gray;box-sizing: border-box;top: 0;bottom: 0;left: 50%;z-index: 0;}#sk-container-id-1 div.sk-serial {display: flex;flex-direction: column;align-items: center;background-color: white;padding-right: 0.2em;padding-left: 0.2em;position: relative;}#sk-container-id-1 div.sk-item {position: relative;z-index: 1;}#sk-container-id-1 div.sk-parallel {display: flex;align-items: stretch;justify-content: center;background-color: white;position: relative;}#sk-container-id-1 div.sk-item::before, #sk-container-id-1 div.sk-parallel-item::before {content: \"\";position: absolute;border-left: 1px solid gray;box-sizing: border-box;top: 0;bottom: 0;left: 50%;z-index: -1;}#sk-container-id-1 div.sk-parallel-item {display: flex;flex-direction: column;z-index: 1;position: relative;background-color: white;}#sk-container-id-1 div.sk-parallel-item:first-child::after {align-self: flex-end;width: 50%;}#sk-container-id-1 div.sk-parallel-item:last-child::after {align-self: flex-start;width: 50%;}#sk-container-id-1 div.sk-parallel-item:only-child::after {width: 0;}#sk-container-id-1 div.sk-dashed-wrapped {border: 1px dashed gray;margin: 0 0.4em 0.5em 0.4em;box-sizing: border-box;padding-bottom: 0.4em;background-color: white;}#sk-container-id-1 div.sk-label label {font-family: monospace;font-weight: bold;display: inline-block;line-height: 1.2em;}#sk-container-id-1 div.sk-label-container {text-align: center;}#sk-container-id-1 div.sk-container {/* jupyter's `normalize.less` sets `[hidden] { display: none; }` but bootstrap.min.css set `[hidden] { display: none !important; }` so we also need the `!important` here to be able to override the default hidden behavior on the sphinx rendered scikit-learn.org. See: https://github.com/scikit-learn/scikit-learn/issues/21755 */display: inline-block !important;position: relative;}#sk-container-id-1 div.sk-text-repr-fallback {display: none;}</style><div id=\"sk-container-id-1\" class=\"sk-top-container\"><div class=\"sk-text-repr-fallback\"><pre>MultinomialNB()</pre><b>In a Jupyter environment, please rerun this cell to show the HTML representation or trust the notebook. <br />On GitHub, the HTML representation is unable to render, please try loading this page with nbviewer.org.</b></div><div class=\"sk-container\" hidden><div class=\"sk-item\"><div class=\"sk-estimator sk-toggleable\"><input class=\"sk-toggleable__control sk-hidden--visually\" id=\"sk-estimator-id-1\" type=\"checkbox\" checked><label for=\"sk-estimator-id-1\" class=\"sk-toggleable__label sk-toggleable__label-arrow\">MultinomialNB</label><div class=\"sk-toggleable__content\"><pre>MultinomialNB()</pre></div></div></div></div></div>"
            ]
          },
          "metadata": {},
          "execution_count": 64
        }
      ]
    },
    {
      "cell_type": "code",
      "source": [
        "# Print out the confusion matrix\n",
        "\n",
        "from sklearn.metrics import confusion_matrix\n",
        "\n",
        "threshold = 0.5\n",
        "y_pred = (nb.predict_proba(x_test)[:, 1] > threshold).astype('float')\n",
        "\n",
        "print('Confusion Matrix: ')\n",
        "confusion_matrix(y_test, y_pred)"
      ],
      "metadata": {
        "execution": {
          "iopub.status.busy": "2023-01-17T15:36:14.416244Z",
          "iopub.status.idle": "2023-01-17T15:36:14.416777Z",
          "shell.execute_reply.started": "2023-01-17T15:36:14.416502Z",
          "shell.execute_reply": "2023-01-17T15:36:14.416527Z"
        },
        "trusted": true,
        "colab": {
          "base_uri": "https://localhost:8080/"
        },
        "id": "MiIU9d3lYTxy",
        "outputId": "dd2d336a-401e-4708-916d-711d30c140ab"
      },
      "execution_count": 65,
      "outputs": [
        {
          "output_type": "stream",
          "name": "stdout",
          "text": [
            "Confusion Matrix: \n"
          ]
        },
        {
          "output_type": "execute_result",
          "data": {
            "text/plain": [
              "array([[15657,  3933],\n",
              "       [ 1346,   519]])"
            ]
          },
          "metadata": {},
          "execution_count": 65
        }
      ]
    },
    {
      "cell_type": "code",
      "source": [
        "# Print accuracy, precision, recall and F1 score\n",
        "\n",
        "nb_acc = accuracy_score(y_test, y_pred)\n",
        "nb_pre = precision_score(y_test, y_pred)\n",
        "nb_rec = recall_score(y_test, y_pred)\n",
        "nb_fsc = f1_score(y_test, y_pred)\n",
        "\n",
        "print(\"Accuracy is {0:.2f}\".format(nb_acc))\n",
        "print(\"Precision is {0:.2f}\".format(nb_pre))\n",
        "print(\"Recall is {0:.2f}\".format(nb_rec))\n",
        "print(\"F1 Score is {0:.2f}\".format(nb_fsc))"
      ],
      "metadata": {
        "execution": {
          "iopub.status.busy": "2023-01-17T15:36:14.418027Z",
          "iopub.status.idle": "2023-01-17T15:36:14.418594Z",
          "shell.execute_reply.started": "2023-01-17T15:36:14.418309Z",
          "shell.execute_reply": "2023-01-17T15:36:14.418336Z"
        },
        "trusted": true,
        "colab": {
          "base_uri": "https://localhost:8080/"
        },
        "id": "szz_QV0DYTxy",
        "outputId": "49fd3604-e1a2-4044-cc27-61097f0d5686"
      },
      "execution_count": 66,
      "outputs": [
        {
          "output_type": "stream",
          "name": "stdout",
          "text": [
            "Accuracy is 0.75\n",
            "Precision is 0.12\n",
            "Recall is 0.28\n",
            "F1 Score is 0.16\n"
          ]
        }
      ]
    }
  ]
}